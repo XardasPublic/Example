{
 "cells": [
  {
   "cell_type": "markdown",
   "metadata": {
    "toc": true
   },
   "source": [
    "<h1>Содержание<span class=\"tocSkip\"></span></h1>\n",
    "<div class=\"toc\"><ul class=\"toc-item\"><li><ul class=\"toc-item\"><li><span><a href=\"#Установка/обновление-библиотек\" data-toc-modified-id=\"Установка/обновление-библиотек-0.1\"><span class=\"toc-item-num\">0.1&nbsp;&nbsp;</span>Установка/обновление библиотек</a></span></li><li><span><a href=\"#Импорт-библиотек\" data-toc-modified-id=\"Импорт-библиотек-0.2\"><span class=\"toc-item-num\">0.2&nbsp;&nbsp;</span>Импорт библиотек</a></span></li></ul></li><li><span><a href=\"#Подготовка\" data-toc-modified-id=\"Подготовка-1\"><span class=\"toc-item-num\">1&nbsp;&nbsp;</span>Подготовка</a></span><ul class=\"toc-item\"><li><span><a href=\"#Загрузка-данных\" data-toc-modified-id=\"Загрузка-данных-1.1\"><span class=\"toc-item-num\">1.1&nbsp;&nbsp;</span>Загрузка данных</a></span></li><li><span><a href=\"#Предобработка-данных\" data-toc-modified-id=\"Предобработка-данных-1.2\"><span class=\"toc-item-num\">1.2&nbsp;&nbsp;</span>Предобработка данных</a></span><ul class=\"toc-item\"><li><span><a href=\"#Лемматизация\" data-toc-modified-id=\"Лемматизация-1.2.1\"><span class=\"toc-item-num\">1.2.1&nbsp;&nbsp;</span>Лемматизация</a></span></li></ul></li><li><span><a href=\"#Соотношения-данных\" data-toc-modified-id=\"Соотношения-данных-1.3\"><span class=\"toc-item-num\">1.3&nbsp;&nbsp;</span>Соотношения данных</a></span></li><li><span><a href=\"#Проверка-малых-и-пропущенных-значений\" data-toc-modified-id=\"Проверка-малых-и-пропущенных-значений-1.4\"><span class=\"toc-item-num\">1.4&nbsp;&nbsp;</span>Проверка малых и пропущенных значений</a></span></li><li><span><a href=\"#Разделение-и-векторизация-данных-для-обучения\" data-toc-modified-id=\"Разделение-и-векторизация-данных-для-обучения-1.5\"><span class=\"toc-item-num\">1.5&nbsp;&nbsp;</span>Разделение и векторизация данных для обучения</a></span><ul class=\"toc-item\"><li><span><a href=\"#Деление\" data-toc-modified-id=\"Деление-1.5.1\"><span class=\"toc-item-num\">1.5.1&nbsp;&nbsp;</span>Деление</a></span></li><li><span><a href=\"#Векторизация\" data-toc-modified-id=\"Векторизация-1.5.2\"><span class=\"toc-item-num\">1.5.2&nbsp;&nbsp;</span>Векторизация</a></span></li></ul></li><li><span><a href=\"#Вывод\" data-toc-modified-id=\"Вывод-1.6\"><span class=\"toc-item-num\">1.6&nbsp;&nbsp;</span>Вывод</a></span></li></ul></li><li><span><a href=\"#Обучение\" data-toc-modified-id=\"Обучение-2\"><span class=\"toc-item-num\">2&nbsp;&nbsp;</span>Обучение</a></span><ul class=\"toc-item\"><li><span><a href=\"#Тестовое-обучение\" data-toc-modified-id=\"Тестовое-обучение-2.1\"><span class=\"toc-item-num\">2.1&nbsp;&nbsp;</span>Тестовое обучение</a></span><ul class=\"toc-item\"><li><span><a href=\"#Проверка-модели-на-существующих-данных-без-надстроек\" data-toc-modified-id=\"Проверка-модели-на-существующих-данных-без-надстроек-2.1.1\"><span class=\"toc-item-num\">2.1.1&nbsp;&nbsp;</span>Проверка модели на существующих данных без надстроек</a></span></li><li><span><a href=\"#Балансировка-классов\" data-toc-modified-id=\"Балансировка-классов-2.1.2\"><span class=\"toc-item-num\">2.1.2&nbsp;&nbsp;</span>Балансировка классов</a></span></li><li><span><a href=\"#Анализ-результатов-теста-с-балансировкой-классов\" data-toc-modified-id=\"Анализ-результатов-теста-с-балансировкой-классов-2.1.3\"><span class=\"toc-item-num\">2.1.3&nbsp;&nbsp;</span>Анализ результатов теста с балансировкой классов</a></span></li></ul></li><li><span><a href=\"#Обучение-и-отбор-моделей\" data-toc-modified-id=\"Обучение-и-отбор-моделей-2.2\"><span class=\"toc-item-num\">2.2&nbsp;&nbsp;</span>Обучение и отбор моделей</a></span><ul class=\"toc-item\"><li><span><a href=\"#Линейная-модель\" data-toc-modified-id=\"Линейная-модель-2.2.1\"><span class=\"toc-item-num\">2.2.1&nbsp;&nbsp;</span>Линейная модель</a></span></li><li><span><a href=\"#Решающее-дерево\" data-toc-modified-id=\"Решающее-дерево-2.2.2\"><span class=\"toc-item-num\">2.2.2&nbsp;&nbsp;</span>Решающее дерево</a></span></li><li><span><a href=\"#RandomForest\" data-toc-modified-id=\"RandomForest-2.2.3\"><span class=\"toc-item-num\">2.2.3&nbsp;&nbsp;</span>RandomForest</a></span></li><li><span><a href=\"#CatBoost\" data-toc-modified-id=\"CatBoost-2.2.4\"><span class=\"toc-item-num\">2.2.4&nbsp;&nbsp;</span>CatBoost</a></span></li></ul></li><li><span><a href=\"#Анализ-моделей\" data-toc-modified-id=\"Анализ-моделей-2.3\"><span class=\"toc-item-num\">2.3&nbsp;&nbsp;</span>Анализ моделей</a></span></li><li><span><a href=\"#Проверка-логистической-регрессии-на-тестовых-данных\" data-toc-modified-id=\"Проверка-логистической-регрессии-на-тестовых-данных-2.4\"><span class=\"toc-item-num\">2.4&nbsp;&nbsp;</span>Проверка логистической регрессии на тестовых данных</a></span></li><li><span><a href=\"#Вывод\" data-toc-modified-id=\"Вывод-2.5\"><span class=\"toc-item-num\">2.5&nbsp;&nbsp;</span>Вывод</a></span></li></ul></li><li><span><a href=\"#Выводы\" data-toc-modified-id=\"Выводы-3\"><span class=\"toc-item-num\">3&nbsp;&nbsp;</span>Выводы</a></span></li><li><span><a href=\"#Чек-лист-проверки\" data-toc-modified-id=\"Чек-лист-проверки-4\"><span class=\"toc-item-num\">4&nbsp;&nbsp;</span>Чек-лист проверки</a></span></li></ul></div>"
   ]
  },
  {
   "cell_type": "markdown",
   "metadata": {},
   "source": [
    "# Проект для «Викишоп»"
   ]
  },
  {
   "cell_type": "markdown",
   "metadata": {},
   "source": [
    "Интернет-магазин «Викишоп» запускает новый сервис. Теперь пользователи могут редактировать и дополнять описания товаров, как в вики-сообществах. То есть клиенты предлагают свои правки и комментируют изменения других. Магазину нужен инструмент, который будет искать токсичные комментарии и отправлять их на модерацию. \n",
    "\n",
    "Обучите модель классифицировать комментарии на позитивные и негативные. В вашем распоряжении набор данных с разметкой о токсичности правок.\n",
    "\n",
    "Постройте модель со значением метрики качества *F1* не меньше 0.75. \n",
    "\n",
    "**Инструкция по выполнению проекта**\n",
    "\n",
    "1. Загрузите и подготовьте данные.\n",
    "2. Обучите разные модели. \n",
    "3. Сделайте выводы.\n",
    "\n",
    "Для выполнения проекта применять *BERT* необязательно, но вы можете попробовать.\n",
    "\n",
    "**Описание данных**\n",
    "\n",
    "Данные находятся в файле `toxic_comments.csv`. Столбец *text* в нём содержит текст комментария, а *toxic* — целевой признак."
   ]
  },
  {
   "cell_type": "markdown",
   "metadata": {},
   "source": [
    "### Установка/обновление библиотек"
   ]
  },
  {
   "cell_type": "code",
   "execution_count": 1,
   "metadata": {},
   "outputs": [
    {
     "name": "stdout",
     "output_type": "stream",
     "text": [
      "Requirement already satisfied: matplotlib==3.8.4 in /opt/conda/lib/python3.9/site-packages (3.8.4)\n",
      "Requirement already satisfied: cycler>=0.10 in /opt/conda/lib/python3.9/site-packages (from matplotlib==3.8.4) (0.11.0)\n",
      "Requirement already satisfied: pillow>=8 in /opt/conda/lib/python3.9/site-packages (from matplotlib==3.8.4) (8.4.0)\n",
      "Requirement already satisfied: numpy>=1.21 in /opt/conda/lib/python3.9/site-packages (from matplotlib==3.8.4) (1.22.4)\n",
      "Requirement already satisfied: contourpy>=1.0.1 in /opt/conda/lib/python3.9/site-packages (from matplotlib==3.8.4) (1.3.0)\n",
      "Requirement already satisfied: kiwisolver>=1.3.1 in /opt/conda/lib/python3.9/site-packages (from matplotlib==3.8.4) (1.4.4)\n",
      "Requirement already satisfied: fonttools>=4.22.0 in /opt/conda/lib/python3.9/site-packages (from matplotlib==3.8.4) (4.53.1)\n",
      "Requirement already satisfied: importlib-resources>=3.2.0 in /opt/conda/lib/python3.9/site-packages (from matplotlib==3.8.4) (6.4.4)\n",
      "Requirement already satisfied: pyparsing>=2.3.1 in /opt/conda/lib/python3.9/site-packages (from matplotlib==3.8.4) (2.4.7)\n",
      "Requirement already satisfied: python-dateutil>=2.7 in /opt/conda/lib/python3.9/site-packages (from matplotlib==3.8.4) (2.8.1)\n",
      "Requirement already satisfied: packaging>=20.0 in /opt/conda/lib/python3.9/site-packages (from matplotlib==3.8.4) (21.3)\n",
      "Collecting numpy>=1.21\n",
      "  Using cached numpy-2.0.2-cp39-cp39-manylinux_2_17_x86_64.manylinux2014_x86_64.whl (19.5 MB)\n",
      "Requirement already satisfied: zipp>=3.1.0 in /opt/conda/lib/python3.9/site-packages (from importlib-resources>=3.2.0->matplotlib==3.8.4) (3.5.0)\n",
      "Requirement already satisfied: six>=1.5 in /opt/conda/lib/python3.9/site-packages (from python-dateutil>=2.7->matplotlib==3.8.4) (1.16.0)\n",
      "Installing collected packages: numpy\n",
      "  Attempting uninstall: numpy\n",
      "    Found existing installation: numpy 1.22.4\n",
      "    Uninstalling numpy-1.22.4:\n",
      "      Successfully uninstalled numpy-1.22.4\n",
      "\u001b[31mERROR: pip's dependency resolver does not currently take into account all the packages that are installed. This behaviour is the source of the following dependency conflicts.\n",
      "scipy 1.9.1 requires numpy<1.25.0,>=1.18.5, but you have numpy 2.0.2 which is incompatible.\n",
      "scikit-learn 1.4.0 requires numpy<2.0,>=1.19.5, but you have numpy 2.0.2 which is incompatible.\n",
      "numba 0.56.0 requires numpy<1.23,>=1.18, but you have numpy 2.0.2 which is incompatible.\u001b[0m\n",
      "Successfully installed numpy-2.0.2\n",
      "Requirement already satisfied: seaborn==0.13.2 in /opt/conda/lib/python3.9/site-packages (0.13.2)\n",
      "Requirement already satisfied: numpy!=1.24.0,>=1.20 in /opt/conda/lib/python3.9/site-packages (from seaborn==0.13.2) (2.0.2)\n",
      "Requirement already satisfied: matplotlib!=3.6.1,>=3.4 in /opt/conda/lib/python3.9/site-packages (from seaborn==0.13.2) (3.8.4)\n",
      "Requirement already satisfied: pandas>=1.2 in /opt/conda/lib/python3.9/site-packages (from seaborn==0.13.2) (1.2.4)\n",
      "Requirement already satisfied: python-dateutil>=2.7 in /opt/conda/lib/python3.9/site-packages (from matplotlib!=3.6.1,>=3.4->seaborn==0.13.2) (2.8.1)\n",
      "Requirement already satisfied: fonttools>=4.22.0 in /opt/conda/lib/python3.9/site-packages (from matplotlib!=3.6.1,>=3.4->seaborn==0.13.2) (4.53.1)\n",
      "Requirement already satisfied: contourpy>=1.0.1 in /opt/conda/lib/python3.9/site-packages (from matplotlib!=3.6.1,>=3.4->seaborn==0.13.2) (1.3.0)\n",
      "Requirement already satisfied: cycler>=0.10 in /opt/conda/lib/python3.9/site-packages (from matplotlib!=3.6.1,>=3.4->seaborn==0.13.2) (0.11.0)\n",
      "Requirement already satisfied: packaging>=20.0 in /opt/conda/lib/python3.9/site-packages (from matplotlib!=3.6.1,>=3.4->seaborn==0.13.2) (21.3)\n",
      "Requirement already satisfied: pillow>=8 in /opt/conda/lib/python3.9/site-packages (from matplotlib!=3.6.1,>=3.4->seaborn==0.13.2) (8.4.0)\n",
      "Requirement already satisfied: pyparsing>=2.3.1 in /opt/conda/lib/python3.9/site-packages (from matplotlib!=3.6.1,>=3.4->seaborn==0.13.2) (2.4.7)\n",
      "Requirement already satisfied: importlib-resources>=3.2.0 in /opt/conda/lib/python3.9/site-packages (from matplotlib!=3.6.1,>=3.4->seaborn==0.13.2) (6.4.4)\n",
      "Requirement already satisfied: kiwisolver>=1.3.1 in /opt/conda/lib/python3.9/site-packages (from matplotlib!=3.6.1,>=3.4->seaborn==0.13.2) (1.4.4)\n",
      "Requirement already satisfied: zipp>=3.1.0 in /opt/conda/lib/python3.9/site-packages (from importlib-resources>=3.2.0->matplotlib!=3.6.1,>=3.4->seaborn==0.13.2) (3.5.0)\n",
      "Requirement already satisfied: pytz>=2017.3 in /opt/conda/lib/python3.9/site-packages (from pandas>=1.2->seaborn==0.13.2) (2021.1)\n",
      "Requirement already satisfied: six>=1.5 in /opt/conda/lib/python3.9/site-packages (from python-dateutil>=2.7->matplotlib!=3.6.1,>=3.4->seaborn==0.13.2) (1.16.0)\n",
      "Requirement already satisfied: scikit-learn==1.4.0 in /opt/conda/lib/python3.9/site-packages (1.4.0)\n",
      "Requirement already satisfied: scipy>=1.6.0 in /opt/conda/lib/python3.9/site-packages (from scikit-learn==1.4.0) (1.9.1)\n",
      "Collecting numpy<2.0,>=1.19.5\n",
      "  Downloading numpy-1.26.4-cp39-cp39-manylinux_2_17_x86_64.manylinux2014_x86_64.whl (18.2 MB)\n",
      "\u001b[K     |████████████████████████████████| 18.2 MB 1.1 MB/s eta 0:00:01    |████▌                           | 2.6 MB 1.1 MB/s eta 0:00:14\n",
      "\u001b[?25hRequirement already satisfied: threadpoolctl>=2.0.0 in /opt/conda/lib/python3.9/site-packages (from scikit-learn==1.4.0) (3.1.0)\n",
      "Requirement already satisfied: joblib>=1.2.0 in /opt/conda/lib/python3.9/site-packages (from scikit-learn==1.4.0) (1.4.2)\n",
      "  Using cached numpy-1.24.4-cp39-cp39-manylinux_2_17_x86_64.manylinux2014_x86_64.whl (17.3 MB)\n",
      "Installing collected packages: numpy\n",
      "  Attempting uninstall: numpy\n",
      "    Found existing installation: numpy 2.0.2\n",
      "    Uninstalling numpy-2.0.2:\n",
      "      Successfully uninstalled numpy-2.0.2\n",
      "\u001b[31mERROR: pip's dependency resolver does not currently take into account all the packages that are installed. This behaviour is the source of the following dependency conflicts.\n",
      "numba 0.56.0 requires numpy<1.23,>=1.18, but you have numpy 1.24.4 which is incompatible.\u001b[0m\n",
      "Successfully installed numpy-1.24.4\n"
     ]
    }
   ],
   "source": [
    "!pip install matplotlib==3.8.4\n",
    "!pip install seaborn==0.13.2\n",
    "\n",
    "!pip install scikit-learn==1.4.0"
   ]
  },
  {
   "cell_type": "markdown",
   "metadata": {},
   "source": [
    "### Импорт библиотек"
   ]
  },
  {
   "cell_type": "markdown",
   "metadata": {},
   "source": [
    "<i>Работа с данными, визуализация<i>"
   ]
  },
  {
   "cell_type": "code",
   "execution_count": 2,
   "metadata": {},
   "outputs": [],
   "source": [
    "import time\n",
    "\n",
    "import pandas as pd\n",
    "import numpy as np\n",
    "import matplotlib.pyplot as plt\n",
    "import seaborn as sns"
   ]
  },
  {
   "cell_type": "markdown",
   "metadata": {},
   "source": [
    "<i>Библиотека sklearn<i>"
   ]
  },
  {
   "cell_type": "code",
   "execution_count": 3,
   "metadata": {},
   "outputs": [],
   "source": [
    "import sklearn\n",
    "from sklearn.model_selection import train_test_split, GridSearchCV\n",
    "\n",
    "# загружаем класс pipeline\n",
    "from sklearn.pipeline import Pipeline\n",
    "\n",
    "from sklearn.compose import ColumnTransformer\n",
    "\n",
    "# загружаем функцию для работы с метриками\n",
    "from sklearn.metrics import f1_score\n",
    "\n",
    "# импортируем класс RandomizedSearchCV\n",
    "from sklearn.model_selection import GridSearchCV\n",
    "from sklearn.model_selection import RandomizedSearchCV\n",
    "from sklearn.model_selection import cross_val_score\n",
    "\n",
    "\n",
    "# загружаем нужные модели\n",
    "from sklearn.linear_model import LogisticRegression\n",
    "from sklearn.tree import DecisionTreeClassifier\n",
    "from sklearn.ensemble import RandomForestClassifier"
   ]
  },
  {
   "cell_type": "markdown",
   "metadata": {},
   "source": [
    "<i>Модели вне \"sklearn\"<i>"
   ]
  },
  {
   "cell_type": "code",
   "execution_count": 4,
   "metadata": {},
   "outputs": [],
   "source": [
    "from lightgbm import LGBMClassifier\n",
    "from catboost import CatBoostClassifier\n",
    "from xgboost import XGBClassifier"
   ]
  },
  {
   "cell_type": "markdown",
   "metadata": {},
   "source": [
    "<i>Обработка текста<i>"
   ]
  },
  {
   "cell_type": "code",
   "execution_count": 5,
   "metadata": {},
   "outputs": [],
   "source": [
    "import re\n",
    "from sklearn.feature_extraction.text import TfidfVectorizer \n",
    "import spacy\n",
    "nlp = spacy.load(\"en_core_web_sm\")"
   ]
  },
  {
   "cell_type": "markdown",
   "metadata": {},
   "source": [
    "<i>Остальные библиотеки<i>"
   ]
  },
  {
   "cell_type": "code",
   "execution_count": 6,
   "metadata": {},
   "outputs": [],
   "source": [
    "from tqdm import notebook\n",
    "from tqdm.notebook import tqdm\n",
    "tqdm.pandas()"
   ]
  },
  {
   "cell_type": "markdown",
   "metadata": {},
   "source": [
    "<i>Настройка pandas<i>"
   ]
  },
  {
   "cell_type": "code",
   "execution_count": 7,
   "metadata": {},
   "outputs": [],
   "source": [
    "pd.set_option('max_columns', None)"
   ]
  },
  {
   "cell_type": "markdown",
   "metadata": {},
   "source": [
    "## Подготовка"
   ]
  },
  {
   "cell_type": "code",
   "execution_count": 8,
   "metadata": {},
   "outputs": [],
   "source": [
    "test_check = False"
   ]
  },
  {
   "cell_type": "markdown",
   "metadata": {},
   "source": [
    "### Загрузка данных"
   ]
  },
  {
   "cell_type": "code",
   "execution_count": 9,
   "metadata": {},
   "outputs": [
    {
     "data": {
      "text/html": [
       "<div>\n",
       "<style scoped>\n",
       "    .dataframe tbody tr th:only-of-type {\n",
       "        vertical-align: middle;\n",
       "    }\n",
       "\n",
       "    .dataframe tbody tr th {\n",
       "        vertical-align: top;\n",
       "    }\n",
       "\n",
       "    .dataframe thead th {\n",
       "        text-align: right;\n",
       "    }\n",
       "</style>\n",
       "<table border=\"1\" class=\"dataframe\">\n",
       "  <thead>\n",
       "    <tr style=\"text-align: right;\">\n",
       "      <th></th>\n",
       "      <th>text</th>\n",
       "      <th>toxic</th>\n",
       "    </tr>\n",
       "  </thead>\n",
       "  <tbody>\n",
       "    <tr>\n",
       "      <th>0</th>\n",
       "      <td>Explanation\\nWhy the edits made under my usern...</td>\n",
       "      <td>0</td>\n",
       "    </tr>\n",
       "    <tr>\n",
       "      <th>1</th>\n",
       "      <td>D'aww! He matches this background colour I'm s...</td>\n",
       "      <td>0</td>\n",
       "    </tr>\n",
       "    <tr>\n",
       "      <th>2</th>\n",
       "      <td>Hey man, I'm really not trying to edit war. It...</td>\n",
       "      <td>0</td>\n",
       "    </tr>\n",
       "    <tr>\n",
       "      <th>3</th>\n",
       "      <td>\"\\nMore\\nI can't make any real suggestions on ...</td>\n",
       "      <td>0</td>\n",
       "    </tr>\n",
       "    <tr>\n",
       "      <th>4</th>\n",
       "      <td>You, sir, are my hero. Any chance you remember...</td>\n",
       "      <td>0</td>\n",
       "    </tr>\n",
       "  </tbody>\n",
       "</table>\n",
       "</div>"
      ],
      "text/plain": [
       "                                                text  toxic\n",
       "0  Explanation\\nWhy the edits made under my usern...      0\n",
       "1  D'aww! He matches this background colour I'm s...      0\n",
       "2  Hey man, I'm really not trying to edit war. It...      0\n",
       "3  \"\\nMore\\nI can't make any real suggestions on ...      0\n",
       "4  You, sir, are my hero. Any chance you remember...      0"
      ]
     },
     "execution_count": 9,
     "metadata": {},
     "output_type": "execute_result"
    }
   ],
   "source": [
    "data = pd.read_csv('/datasets/toxic_comments.csv', index_col=0)\n",
    "if test_check:\n",
    "    data = data.iloc[:5000]\n",
    "data.head()"
   ]
  },
  {
   "cell_type": "markdown",
   "metadata": {},
   "source": [
    "Данные соответствуют заявленным и требуют предварительной обработки."
   ]
  },
  {
   "cell_type": "markdown",
   "metadata": {},
   "source": [
    "### Предобработка данных"
   ]
  },
  {
   "cell_type": "markdown",
   "metadata": {},
   "source": [
    "Для начала проведем лемматизацию для стандартизации текста"
   ]
  },
  {
   "cell_type": "markdown",
   "metadata": {},
   "source": [
    "#### Лемматизация"
   ]
  },
  {
   "cell_type": "code",
   "execution_count": 10,
   "metadata": {},
   "outputs": [],
   "source": [
    "def clean_text(text):\n",
    "    text = text.lower()\n",
    "    text = nlp(text)\n",
    "    lemm_text = \" \".join([i.lemma_ for i in text])\n",
    "    cleared_text = re.sub(r\"[^a-z']\", \" \", lemm_text)\n",
    "    return \" \".join(cleared_text.split())"
   ]
  },
  {
   "cell_type": "code",
   "execution_count": 11,
   "metadata": {},
   "outputs": [
    {
     "data": {
      "application/vnd.jupyter.widget-view+json": {
       "model_id": "62b0ec2b4a5c4b1caa8f40d9d0d5b590",
       "version_major": 2,
       "version_minor": 0
      },
      "text/plain": [
       "  0%|          | 0/159292 [00:00<?, ?it/s]"
      ]
     },
     "metadata": {},
     "output_type": "display_data"
    }
   ],
   "source": [
    "data['lemmatized'] = data['text'].progress_apply(clean_text)"
   ]
  },
  {
   "cell_type": "code",
   "execution_count": 12,
   "metadata": {},
   "outputs": [
    {
     "data": {
      "text/html": [
       "<div>\n",
       "<style scoped>\n",
       "    .dataframe tbody tr th:only-of-type {\n",
       "        vertical-align: middle;\n",
       "    }\n",
       "\n",
       "    .dataframe tbody tr th {\n",
       "        vertical-align: top;\n",
       "    }\n",
       "\n",
       "    .dataframe thead th {\n",
       "        text-align: right;\n",
       "    }\n",
       "</style>\n",
       "<table border=\"1\" class=\"dataframe\">\n",
       "  <thead>\n",
       "    <tr style=\"text-align: right;\">\n",
       "      <th></th>\n",
       "      <th>text</th>\n",
       "      <th>toxic</th>\n",
       "      <th>lemmatized</th>\n",
       "    </tr>\n",
       "  </thead>\n",
       "  <tbody>\n",
       "    <tr>\n",
       "      <th>3</th>\n",
       "      <td>\"\\nMore\\nI can't make any real suggestions on ...</td>\n",
       "      <td>0</td>\n",
       "      <td>more can not make any real suggestion on impro...</td>\n",
       "    </tr>\n",
       "    <tr>\n",
       "      <th>4</th>\n",
       "      <td>You, sir, are my hero. Any chance you remember...</td>\n",
       "      <td>0</td>\n",
       "      <td>you sir be my hero any chance you remember wha...</td>\n",
       "    </tr>\n",
       "  </tbody>\n",
       "</table>\n",
       "</div>"
      ],
      "text/plain": [
       "                                                text  toxic  \\\n",
       "3  \"\\nMore\\nI can't make any real suggestions on ...      0   \n",
       "4  You, sir, are my hero. Any chance you remember...      0   \n",
       "\n",
       "                                          lemmatized  \n",
       "3  more can not make any real suggestion on impro...  \n",
       "4  you sir be my hero any chance you remember wha...  "
      ]
     },
     "execution_count": 12,
     "metadata": {},
     "output_type": "execute_result"
    }
   ],
   "source": [
    "data.iloc[3:5]"
   ]
  },
  {
   "cell_type": "code",
   "execution_count": 13,
   "metadata": {},
   "outputs": [
    {
     "data": {
      "text/plain": [
       "'more can not make any real suggestion on improvement wonder if the section statistic should be later on or a subsection of type of accident i think the reference may need tidy so that they be all in the exact same format ie date format etc can do that later on if no one else do first if you have any preference for format style on reference or want to do it yourself please let know there appear to be a backlog on article for review so guess there may be a delay until a reviewer turn up it be list in the relevant form eg wikipedia good article nominations transport'"
      ]
     },
     "execution_count": 13,
     "metadata": {},
     "output_type": "execute_result"
    }
   ],
   "source": [
    "data.iloc[3]['lemmatized']"
   ]
  },
  {
   "cell_type": "markdown",
   "metadata": {},
   "source": [
    "Далее следует рассмотреть соотношение данных для моделей"
   ]
  },
  {
   "cell_type": "markdown",
   "metadata": {},
   "source": [
    "### Соотношения данных"
   ]
  },
  {
   "cell_type": "code",
   "execution_count": 14,
   "metadata": {},
   "outputs": [
    {
     "data": {
      "text/html": [
       "<div>\n",
       "<style scoped>\n",
       "    .dataframe tbody tr th:only-of-type {\n",
       "        vertical-align: middle;\n",
       "    }\n",
       "\n",
       "    .dataframe tbody tr th {\n",
       "        vertical-align: top;\n",
       "    }\n",
       "\n",
       "    .dataframe thead th {\n",
       "        text-align: right;\n",
       "    }\n",
       "</style>\n",
       "<table border=\"1\" class=\"dataframe\">\n",
       "  <thead>\n",
       "    <tr style=\"text-align: right;\">\n",
       "      <th></th>\n",
       "      <th>text</th>\n",
       "      <th>toxic</th>\n",
       "      <th>lemmatized</th>\n",
       "      <th>text_toxic</th>\n",
       "    </tr>\n",
       "  </thead>\n",
       "  <tbody>\n",
       "    <tr>\n",
       "      <th>6</th>\n",
       "      <td>COCKSUCKER BEFORE YOU PISS AROUND ON MY WORK</td>\n",
       "      <td>1</td>\n",
       "      <td>cocksucker before you piss around on my work</td>\n",
       "      <td>negative</td>\n",
       "    </tr>\n",
       "    <tr>\n",
       "      <th>12</th>\n",
       "      <td>Hey... what is it..\\n@ | talk .\\nWhat is it......</td>\n",
       "      <td>1</td>\n",
       "      <td>hey what be it talk what be it an exclusive gr...</td>\n",
       "      <td>negative</td>\n",
       "    </tr>\n",
       "    <tr>\n",
       "      <th>16</th>\n",
       "      <td>Bye! \\n\\nDon't look, come or think of comming ...</td>\n",
       "      <td>1</td>\n",
       "      <td>bye do not look come or think of comme back to...</td>\n",
       "      <td>negative</td>\n",
       "    </tr>\n",
       "    <tr>\n",
       "      <th>42</th>\n",
       "      <td>You are gay or antisemmitian? \\n\\nArchangel WH...</td>\n",
       "      <td>1</td>\n",
       "      <td>you be gay or antisemmitian archangel white ti...</td>\n",
       "      <td>negative</td>\n",
       "    </tr>\n",
       "    <tr>\n",
       "      <th>43</th>\n",
       "      <td>FUCK YOUR FILTHY MOTHER IN THE ASS, DRY!</td>\n",
       "      <td>1</td>\n",
       "      <td>fuck your filthy mother in the ass dry</td>\n",
       "      <td>negative</td>\n",
       "    </tr>\n",
       "  </tbody>\n",
       "</table>\n",
       "</div>"
      ],
      "text/plain": [
       "                                                 text  toxic  \\\n",
       "6        COCKSUCKER BEFORE YOU PISS AROUND ON MY WORK      1   \n",
       "12  Hey... what is it..\\n@ | talk .\\nWhat is it......      1   \n",
       "16  Bye! \\n\\nDon't look, come or think of comming ...      1   \n",
       "42  You are gay or antisemmitian? \\n\\nArchangel WH...      1   \n",
       "43           FUCK YOUR FILTHY MOTHER IN THE ASS, DRY!      1   \n",
       "\n",
       "                                           lemmatized text_toxic  \n",
       "6        cocksucker before you piss around on my work   negative  \n",
       "12  hey what be it talk what be it an exclusive gr...   negative  \n",
       "16  bye do not look come or think of comme back to...   negative  \n",
       "42  you be gay or antisemmitian archangel white ti...   negative  \n",
       "43             fuck your filthy mother in the ass dry   negative  "
      ]
     },
     "execution_count": 14,
     "metadata": {},
     "output_type": "execute_result"
    }
   ],
   "source": [
    "text_toxic_col = 'text_toxic'\n",
    "\n",
    "pie_data = data  # ['toxic']\n",
    "pie_data[text_toxic_col] = pie_data['toxic'].apply(\n",
    "    lambda x: 'negative' if x==1 else 'positive'\n",
    ")\n",
    "data.loc[data[text_toxic_col]=='negative'].head()"
   ]
  },
  {
   "cell_type": "code",
   "execution_count": 15,
   "metadata": {},
   "outputs": [
    {
     "data": {
      "text/html": [
       "<div>\n",
       "<style scoped>\n",
       "    .dataframe tbody tr th:only-of-type {\n",
       "        vertical-align: middle;\n",
       "    }\n",
       "\n",
       "    .dataframe tbody tr th {\n",
       "        vertical-align: top;\n",
       "    }\n",
       "\n",
       "    .dataframe thead th {\n",
       "        text-align: right;\n",
       "    }\n",
       "</style>\n",
       "<table border=\"1\" class=\"dataframe\">\n",
       "  <thead>\n",
       "    <tr style=\"text-align: right;\">\n",
       "      <th></th>\n",
       "      <th>count</th>\n",
       "    </tr>\n",
       "    <tr>\n",
       "      <th>text_toxic</th>\n",
       "      <th></th>\n",
       "    </tr>\n",
       "  </thead>\n",
       "  <tbody>\n",
       "    <tr>\n",
       "      <th>negative</th>\n",
       "      <td>16186</td>\n",
       "    </tr>\n",
       "    <tr>\n",
       "      <th>positive</th>\n",
       "      <td>143106</td>\n",
       "    </tr>\n",
       "  </tbody>\n",
       "</table>\n",
       "</div>"
      ],
      "text/plain": [
       "             count\n",
       "text_toxic        \n",
       "negative     16186\n",
       "positive    143106"
      ]
     },
     "execution_count": 15,
     "metadata": {},
     "output_type": "execute_result"
    }
   ],
   "source": [
    "pie_data = pie_data.pivot_table(\n",
    "    index=text_toxic_col,\n",
    "    values='toxic',\n",
    "    aggfunc=['count']\n",
    ")\n",
    "\n",
    "pie_data.columns = ['count']\n",
    "pie_data.head()"
   ]
  },
  {
   "cell_type": "code",
   "execution_count": 16,
   "metadata": {},
   "outputs": [
    {
     "data": {
      "image/png": "[encoded data removed]",
      "text/plain": [
       "<Figure size 288x288 with 1 Axes>"
      ]
     },
     "metadata": {},
     "output_type": "display_data"
    }
   ],
   "source": [
    "sns.set_style(\"whitegrid\")\n",
    "plt.figure(figsize=(4, 4))\n",
    "plt.pie(\n",
    "    pie_data['count'],\n",
    "    labels=list(pie_data.index),\n",
    "    autopct='%1.1f%%'\n",
    ")\n",
    "plt.title('Распределение тональности текста')\n",
    "plt.show()"
   ]
  },
  {
   "cell_type": "markdown",
   "metadata": {},
   "source": [
    "Обнаружен явный дисбаланс по данным (1:9). Следует это учесть для построения моделей."
   ]
  },
  {
   "cell_type": "code",
   "execution_count": 17,
   "metadata": {},
   "outputs": [],
   "source": [
    "del pie_data"
   ]
  },
  {
   "cell_type": "code",
   "execution_count": 18,
   "metadata": {},
   "outputs": [
    {
     "data": {
      "text/html": [
       "<div>\n",
       "<style scoped>\n",
       "    .dataframe tbody tr th:only-of-type {\n",
       "        vertical-align: middle;\n",
       "    }\n",
       "\n",
       "    .dataframe tbody tr th {\n",
       "        vertical-align: top;\n",
       "    }\n",
       "\n",
       "    .dataframe thead th {\n",
       "        text-align: right;\n",
       "    }\n",
       "</style>\n",
       "<table border=\"1\" class=\"dataframe\">\n",
       "  <thead>\n",
       "    <tr style=\"text-align: right;\">\n",
       "      <th></th>\n",
       "      <th>toxic</th>\n",
       "      <th>lemmatized</th>\n",
       "    </tr>\n",
       "  </thead>\n",
       "  <tbody>\n",
       "    <tr>\n",
       "      <th>0</th>\n",
       "      <td>0</td>\n",
       "      <td>explanation why the edit make under my usernam...</td>\n",
       "    </tr>\n",
       "    <tr>\n",
       "      <th>1</th>\n",
       "      <td>0</td>\n",
       "      <td>d'aww he match this background colour be seemi...</td>\n",
       "    </tr>\n",
       "    <tr>\n",
       "      <th>2</th>\n",
       "      <td>0</td>\n",
       "      <td>hey man be really not try to edit war it be ju...</td>\n",
       "    </tr>\n",
       "    <tr>\n",
       "      <th>3</th>\n",
       "      <td>0</td>\n",
       "      <td>more can not make any real suggestion on impro...</td>\n",
       "    </tr>\n",
       "    <tr>\n",
       "      <th>4</th>\n",
       "      <td>0</td>\n",
       "      <td>you sir be my hero any chance you remember wha...</td>\n",
       "    </tr>\n",
       "  </tbody>\n",
       "</table>\n",
       "</div>"
      ],
      "text/plain": [
       "   toxic                                         lemmatized\n",
       "0      0  explanation why the edit make under my usernam...\n",
       "1      0  d'aww he match this background colour be seemi...\n",
       "2      0  hey man be really not try to edit war it be ju...\n",
       "3      0  more can not make any real suggestion on impro...\n",
       "4      0  you sir be my hero any chance you remember wha..."
      ]
     },
     "execution_count": 18,
     "metadata": {},
     "output_type": "execute_result"
    }
   ],
   "source": [
    "data_work = data[['toxic', 'lemmatized']]\n",
    "data_work.head()"
   ]
  },
  {
   "cell_type": "markdown",
   "metadata": {},
   "source": [
    "Далее необходимо проверить записи на пустые значения."
   ]
  },
  {
   "cell_type": "markdown",
   "metadata": {},
   "source": [
    "### Проверка малых и пропущенных значений"
   ]
  },
  {
   "cell_type": "code",
   "execution_count": 19,
   "metadata": {},
   "outputs": [],
   "source": [
    "def len_text(text: str)->int:\n",
    "    cnt_words = len(text.split())\n",
    "    return cnt_words"
   ]
  },
  {
   "cell_type": "code",
   "execution_count": 20,
   "metadata": {},
   "outputs": [
    {
     "name": "stderr",
     "output_type": "stream",
     "text": [
      "/tmp/ipykernel_375/710609535.py:1: SettingWithCopyWarning: \n",
      "A value is trying to be set on a copy of a slice from a DataFrame.\n",
      "Try using .loc[row_indexer,col_indexer] = value instead\n",
      "\n",
      "See the caveats in the documentation: https://pandas.pydata.org/pandas-docs/stable/user_guide/indexing.html#returning-a-view-versus-a-copy\n",
      "  data_work['cnt_lemm_words'] = data_work['lemmatized'].apply(len_text)\n"
     ]
    },
    {
     "data": {
      "text/html": [
       "<div>\n",
       "<style scoped>\n",
       "    .dataframe tbody tr th:only-of-type {\n",
       "        vertical-align: middle;\n",
       "    }\n",
       "\n",
       "    .dataframe tbody tr th {\n",
       "        vertical-align: top;\n",
       "    }\n",
       "\n",
       "    .dataframe thead th {\n",
       "        text-align: right;\n",
       "    }\n",
       "</style>\n",
       "<table border=\"1\" class=\"dataframe\">\n",
       "  <thead>\n",
       "    <tr style=\"text-align: right;\">\n",
       "      <th></th>\n",
       "      <th>toxic</th>\n",
       "      <th>lemmatized</th>\n",
       "      <th>cnt_lemm_words</th>\n",
       "    </tr>\n",
       "  </thead>\n",
       "  <tbody>\n",
       "    <tr>\n",
       "      <th>147694</th>\n",
       "      <td>1</td>\n",
       "      <td>just to let you know you have no life hate you...</td>\n",
       "      <td>1355</td>\n",
       "    </tr>\n",
       "    <tr>\n",
       "      <th>81236</th>\n",
       "      <td>1</td>\n",
       "      <td>take that in the ass in the ass in the ass in ...</td>\n",
       "      <td>1354</td>\n",
       "    </tr>\n",
       "    <tr>\n",
       "      <th>27124</th>\n",
       "      <td>1</td>\n",
       "      <td>damn you u cunt damn you u cunt damn you u cun...</td>\n",
       "      <td>1250</td>\n",
       "    </tr>\n",
       "    <tr>\n",
       "      <th>32114</th>\n",
       "      <td>1</td>\n",
       "      <td>pig pig pig pig pig pig pig pig pig pig pig pi...</td>\n",
       "      <td>1250</td>\n",
       "    </tr>\n",
       "    <tr>\n",
       "      <th>136429</th>\n",
       "      <td>1</td>\n",
       "      <td>suck my cock d suck my cock d suck my cock d s...</td>\n",
       "      <td>1250</td>\n",
       "    </tr>\n",
       "  </tbody>\n",
       "</table>\n",
       "</div>"
      ],
      "text/plain": [
       "        toxic                                         lemmatized  \\\n",
       "147694      1  just to let you know you have no life hate you...   \n",
       "81236       1  take that in the ass in the ass in the ass in ...   \n",
       "27124       1  damn you u cunt damn you u cunt damn you u cun...   \n",
       "32114       1  pig pig pig pig pig pig pig pig pig pig pig pi...   \n",
       "136429      1  suck my cock d suck my cock d suck my cock d s...   \n",
       "\n",
       "        cnt_lemm_words  \n",
       "147694            1355  \n",
       "81236             1354  \n",
       "27124             1250  \n",
       "32114             1250  \n",
       "136429            1250  "
      ]
     },
     "execution_count": 20,
     "metadata": {},
     "output_type": "execute_result"
    }
   ],
   "source": [
    "data_work['cnt_lemm_words'] = data_work['lemmatized'].apply(len_text)\n",
    "\n",
    "data_work.sort_values(\n",
    "    by='cnt_lemm_words', ascending=False\n",
    ").head()"
   ]
  },
  {
   "cell_type": "code",
   "execution_count": 21,
   "metadata": {},
   "outputs": [],
   "source": [
    "filter_cnt_words = 0"
   ]
  },
  {
   "cell_type": "code",
   "execution_count": 22,
   "metadata": {},
   "outputs": [
    {
     "data": {
      "text/html": [
       "<div>\n",
       "<style scoped>\n",
       "    .dataframe tbody tr th:only-of-type {\n",
       "        vertical-align: middle;\n",
       "    }\n",
       "\n",
       "    .dataframe tbody tr th {\n",
       "        vertical-align: top;\n",
       "    }\n",
       "\n",
       "    .dataframe thead th {\n",
       "        text-align: right;\n",
       "    }\n",
       "</style>\n",
       "<table border=\"1\" class=\"dataframe\">\n",
       "  <thead>\n",
       "    <tr style=\"text-align: right;\">\n",
       "      <th></th>\n",
       "      <th>toxic</th>\n",
       "      <th>lemmatized</th>\n",
       "      <th>cnt_lemm_words</th>\n",
       "    </tr>\n",
       "  </thead>\n",
       "  <tbody>\n",
       "    <tr>\n",
       "      <th>4475</th>\n",
       "      <td>0</td>\n",
       "      <td></td>\n",
       "      <td>0</td>\n",
       "    </tr>\n",
       "    <tr>\n",
       "      <th>6293</th>\n",
       "      <td>0</td>\n",
       "      <td></td>\n",
       "      <td>0</td>\n",
       "    </tr>\n",
       "    <tr>\n",
       "      <th>10206</th>\n",
       "      <td>0</td>\n",
       "      <td></td>\n",
       "      <td>0</td>\n",
       "    </tr>\n",
       "    <tr>\n",
       "      <th>17297</th>\n",
       "      <td>0</td>\n",
       "      <td></td>\n",
       "      <td>0</td>\n",
       "    </tr>\n",
       "    <tr>\n",
       "      <th>38792</th>\n",
       "      <td>0</td>\n",
       "      <td></td>\n",
       "      <td>0</td>\n",
       "    </tr>\n",
       "  </tbody>\n",
       "</table>\n",
       "</div>"
      ],
      "text/plain": [
       "       toxic lemmatized  cnt_lemm_words\n",
       "4475       0                          0\n",
       "6293       0                          0\n",
       "10206      0                          0\n",
       "17297      0                          0\n",
       "38792      0                          0"
      ]
     },
     "execution_count": 22,
     "metadata": {},
     "output_type": "execute_result"
    }
   ],
   "source": [
    "data_work[data_work['cnt_lemm_words'] <= filter_cnt_words].head()"
   ]
  },
  {
   "cell_type": "code",
   "execution_count": 23,
   "metadata": {},
   "outputs": [
    {
     "data": {
      "text/html": [
       "<div>\n",
       "<style scoped>\n",
       "    .dataframe tbody tr th:only-of-type {\n",
       "        vertical-align: middle;\n",
       "    }\n",
       "\n",
       "    .dataframe tbody tr th {\n",
       "        vertical-align: top;\n",
       "    }\n",
       "\n",
       "    .dataframe thead th {\n",
       "        text-align: right;\n",
       "    }\n",
       "</style>\n",
       "<table border=\"1\" class=\"dataframe\">\n",
       "  <thead>\n",
       "    <tr style=\"text-align: right;\">\n",
       "      <th></th>\n",
       "      <th>toxic</th>\n",
       "      <th>lemmatized</th>\n",
       "      <th>cnt_lemm_words</th>\n",
       "    </tr>\n",
       "  </thead>\n",
       "  <tbody>\n",
       "  </tbody>\n",
       "</table>\n",
       "</div>"
      ],
      "text/plain": [
       "Empty DataFrame\n",
       "Columns: [toxic, lemmatized, cnt_lemm_words]\n",
       "Index: []"
      ]
     },
     "execution_count": 23,
     "metadata": {},
     "output_type": "execute_result"
    }
   ],
   "source": [
    "data_work = data_work[data_work['cnt_lemm_words'] > filter_cnt_words]\n",
    "data_work[data_work['cnt_lemm_words'] <= filter_cnt_words].head()"
   ]
  },
  {
   "cell_type": "code",
   "execution_count": 24,
   "metadata": {},
   "outputs": [
    {
     "data": {
      "text/html": [
       "<div>\n",
       "<style scoped>\n",
       "    .dataframe tbody tr th:only-of-type {\n",
       "        vertical-align: middle;\n",
       "    }\n",
       "\n",
       "    .dataframe tbody tr th {\n",
       "        vertical-align: top;\n",
       "    }\n",
       "\n",
       "    .dataframe thead th {\n",
       "        text-align: right;\n",
       "    }\n",
       "</style>\n",
       "<table border=\"1\" class=\"dataframe\">\n",
       "  <thead>\n",
       "    <tr style=\"text-align: right;\">\n",
       "      <th></th>\n",
       "      <th>toxic</th>\n",
       "      <th>lemmatized</th>\n",
       "      <th>cnt_lemm_words</th>\n",
       "    </tr>\n",
       "  </thead>\n",
       "  <tbody>\n",
       "    <tr>\n",
       "      <th>0</th>\n",
       "      <td>0</td>\n",
       "      <td>explanation why the edit make under my usernam...</td>\n",
       "      <td>44</td>\n",
       "    </tr>\n",
       "    <tr>\n",
       "      <th>1</th>\n",
       "      <td>0</td>\n",
       "      <td>d'aww he match this background colour be seemi...</td>\n",
       "      <td>14</td>\n",
       "    </tr>\n",
       "    <tr>\n",
       "      <th>2</th>\n",
       "      <td>0</td>\n",
       "      <td>hey man be really not try to edit war it be ju...</td>\n",
       "      <td>42</td>\n",
       "    </tr>\n",
       "    <tr>\n",
       "      <th>3</th>\n",
       "      <td>0</td>\n",
       "      <td>more can not make any real suggestion on impro...</td>\n",
       "      <td>111</td>\n",
       "    </tr>\n",
       "    <tr>\n",
       "      <th>4</th>\n",
       "      <td>0</td>\n",
       "      <td>you sir be my hero any chance you remember wha...</td>\n",
       "      <td>14</td>\n",
       "    </tr>\n",
       "  </tbody>\n",
       "</table>\n",
       "</div>"
      ],
      "text/plain": [
       "   toxic                                         lemmatized  cnt_lemm_words\n",
       "0      0  explanation why the edit make under my usernam...              44\n",
       "1      0  d'aww he match this background colour be seemi...              14\n",
       "2      0  hey man be really not try to edit war it be ju...              42\n",
       "3      0  more can not make any real suggestion on impro...             111\n",
       "4      0  you sir be my hero any chance you remember wha...              14"
      ]
     },
     "execution_count": 24,
     "metadata": {},
     "output_type": "execute_result"
    }
   ],
   "source": [
    "data_work = data_work.reset_index(drop=True)\n",
    "data_work.head()"
   ]
  },
  {
   "cell_type": "code",
   "execution_count": 25,
   "metadata": {},
   "outputs": [],
   "source": [
    "len_data = len(data)\n",
    "len_data_work = len(data_work)"
   ]
  },
  {
   "cell_type": "code",
   "execution_count": 26,
   "metadata": {},
   "outputs": [
    {
     "name": "stdout",
     "output_type": "stream",
     "text": [
      "Длина data: 159292\n",
      "Длина len_data_work: 159282\n",
      "Процент потерь: 0.0%\n"
     ]
    }
   ],
   "source": [
    "print(f\"Длина data: {len_data}\")\n",
    "print(f\"Длина len_data_work: {len_data_work}\")\n",
    "print(\"Процент потерь: {:.1%}\".format((len_data - len_data_work) / len_data))"
   ]
  },
  {
   "cell_type": "markdown",
   "metadata": {},
   "source": [
    "Процент потерь составил менее 0.1%, что практически не влияет на общий датасет"
   ]
  },
  {
   "cell_type": "markdown",
   "metadata": {},
   "source": [
    "Далее подготовим данные к моделей"
   ]
  },
  {
   "cell_type": "markdown",
   "metadata": {},
   "source": [
    "### Разделение и векторизация данных для обучения"
   ]
  },
  {
   "cell_type": "markdown",
   "metadata": {},
   "source": [
    "Для начала разделим данные на тренировочную и тестовую выборки. Проверку F1 будем проводить с помощью кросс-валидации."
   ]
  },
  {
   "cell_type": "markdown",
   "metadata": {},
   "source": [
    "#### Деление"
   ]
  },
  {
   "cell_type": "code",
   "execution_count": 27,
   "metadata": {},
   "outputs": [],
   "source": [
    "RANDOM_STATE = 42\n",
    "target_column = 'toxic'\n",
    "drop_columns = 'cnt_lemm_words'\n",
    "TEST_SIZE = 0.1"
   ]
  },
  {
   "cell_type": "code",
   "execution_count": 28,
   "metadata": {},
   "outputs": [],
   "source": [
    "X = data_work.drop([target_column, drop_columns], axis=1)\n",
    "y = data_work[target_column]"
   ]
  },
  {
   "cell_type": "code",
   "execution_count": 29,
   "metadata": {},
   "outputs": [
    {
     "data": {
      "text/html": [
       "<div>\n",
       "<style scoped>\n",
       "    .dataframe tbody tr th:only-of-type {\n",
       "        vertical-align: middle;\n",
       "    }\n",
       "\n",
       "    .dataframe tbody tr th {\n",
       "        vertical-align: top;\n",
       "    }\n",
       "\n",
       "    .dataframe thead th {\n",
       "        text-align: right;\n",
       "    }\n",
       "</style>\n",
       "<table border=\"1\" class=\"dataframe\">\n",
       "  <thead>\n",
       "    <tr style=\"text-align: right;\">\n",
       "      <th></th>\n",
       "      <th>lemmatized</th>\n",
       "    </tr>\n",
       "  </thead>\n",
       "  <tbody>\n",
       "    <tr>\n",
       "      <th>0</th>\n",
       "      <td>explanation why the edit make under my usernam...</td>\n",
       "    </tr>\n",
       "    <tr>\n",
       "      <th>1</th>\n",
       "      <td>d'aww he match this background colour be seemi...</td>\n",
       "    </tr>\n",
       "    <tr>\n",
       "      <th>2</th>\n",
       "      <td>hey man be really not try to edit war it be ju...</td>\n",
       "    </tr>\n",
       "    <tr>\n",
       "      <th>3</th>\n",
       "      <td>more can not make any real suggestion on impro...</td>\n",
       "    </tr>\n",
       "    <tr>\n",
       "      <th>4</th>\n",
       "      <td>you sir be my hero any chance you remember wha...</td>\n",
       "    </tr>\n",
       "  </tbody>\n",
       "</table>\n",
       "</div>"
      ],
      "text/plain": [
       "                                          lemmatized\n",
       "0  explanation why the edit make under my usernam...\n",
       "1  d'aww he match this background colour be seemi...\n",
       "2  hey man be really not try to edit war it be ju...\n",
       "3  more can not make any real suggestion on impro...\n",
       "4  you sir be my hero any chance you remember wha..."
      ]
     },
     "execution_count": 29,
     "metadata": {},
     "output_type": "execute_result"
    }
   ],
   "source": [
    "X.head()"
   ]
  },
  {
   "cell_type": "code",
   "execution_count": 30,
   "metadata": {},
   "outputs": [],
   "source": [
    "target = data_work[target_column]\n",
    "features = data_work.drop([target_column], axis=1)\n",
    "\n",
    "features_train, features_test, target_train, target_test = train_test_split(\n",
    "    features, \n",
    "    target, \n",
    "    test_size=TEST_SIZE,\n",
    "    random_state=RANDOM_STATE\n",
    ")"
   ]
  },
  {
   "cell_type": "code",
   "execution_count": 31,
   "metadata": {},
   "outputs": [
    {
     "data": {
      "text/html": [
       "<div>\n",
       "<style scoped>\n",
       "    .dataframe tbody tr th:only-of-type {\n",
       "        vertical-align: middle;\n",
       "    }\n",
       "\n",
       "    .dataframe tbody tr th {\n",
       "        vertical-align: top;\n",
       "    }\n",
       "\n",
       "    .dataframe thead th {\n",
       "        text-align: right;\n",
       "    }\n",
       "</style>\n",
       "<table border=\"1\" class=\"dataframe\">\n",
       "  <thead>\n",
       "    <tr style=\"text-align: right;\">\n",
       "      <th></th>\n",
       "      <th>lemmatized</th>\n",
       "      <th>cnt_lemm_words</th>\n",
       "    </tr>\n",
       "  </thead>\n",
       "  <tbody>\n",
       "    <tr>\n",
       "      <th>131790</th>\n",
       "      <td>unfortunately think it be not go to be so easy...</td>\n",
       "      <td>73</td>\n",
       "    </tr>\n",
       "  </tbody>\n",
       "</table>\n",
       "</div>"
      ],
      "text/plain": [
       "                                               lemmatized  cnt_lemm_words\n",
       "131790  unfortunately think it be not go to be so easy...              73"
      ]
     },
     "execution_count": 31,
     "metadata": {},
     "output_type": "execute_result"
    }
   ],
   "source": [
    "features_train.head(1)"
   ]
  },
  {
   "cell_type": "markdown",
   "metadata": {},
   "source": [
    "Следующий этап - векторизация данных с учетом стоп-слов"
   ]
  },
  {
   "cell_type": "markdown",
   "metadata": {},
   "source": [
    "#### Векторизация"
   ]
  },
  {
   "cell_type": "code",
   "execution_count": 32,
   "metadata": {},
   "outputs": [],
   "source": [
    "count_tf_idf = TfidfVectorizer(\n",
    "    max_features=50000\n",
    ")"
   ]
  },
  {
   "cell_type": "markdown",
   "metadata": {},
   "source": [
    "### Вывод"
   ]
  },
  {
   "cell_type": "markdown",
   "metadata": {},
   "source": [
    "- Данные проверены на соответствие заявленным;\n",
    "- Наблюдается дисбаланс классов (1:9);\n",
    "- Данные очищены от неинформативных записей. Процент потерь составил 0.1%;\n",
    "- Проведены Лемматизация и векторизация текста;\n",
    "- Данные разделены на обучающую и тестовую выборки."
   ]
  },
  {
   "cell_type": "markdown",
   "metadata": {},
   "source": [
    "## Обучение"
   ]
  },
  {
   "cell_type": "markdown",
   "metadata": {},
   "source": [
    "Целевое значение показателя"
   ]
  },
  {
   "cell_type": "code",
   "execution_count": 33,
   "metadata": {},
   "outputs": [],
   "source": [
    "F1_target = 0.75"
   ]
  },
  {
   "cell_type": "code",
   "execution_count": 34,
   "metadata": {},
   "outputs": [],
   "source": [
    "text_column = 'lemmatized'"
   ]
  },
  {
   "cell_type": "markdown",
   "metadata": {},
   "source": [
    "Поскольку была обнаружена несбалансированность данных, для начала следует найти лучший вариант работы с ними. Проверять будем на линейной модели, поскольку она быстро обучается. Для итогового принятия решения модели будем проверять на кросс-валидации и принимать решение с учетом тестовой выборки."
   ]
  },
  {
   "cell_type": "markdown",
   "metadata": {},
   "source": [
    "### Тестовое обучение"
   ]
  },
  {
   "cell_type": "markdown",
   "metadata": {},
   "source": [
    "Для начала разделим данные для тестирования на тренировочную и валидационную выборку"
   ]
  },
  {
   "cell_type": "code",
   "execution_count": 35,
   "metadata": {},
   "outputs": [],
   "source": [
    "test_X_train, test_X_valid, test_y_train, test_y_valid = train_test_split(\n",
    "    features_train, \n",
    "    target_train, \n",
    "    test_size=TEST_SIZE,\n",
    "    random_state=RANDOM_STATE\n",
    ")"
   ]
  },
  {
   "cell_type": "code",
   "execution_count": 36,
   "metadata": {},
   "outputs": [
    {
     "name": "stdout",
     "output_type": "stream",
     "text": [
      "(129017, 50000)\n",
      "(14336, 50000)\n"
     ]
    }
   ],
   "source": [
    "test_X_train = count_tf_idf.fit_transform(\n",
    "    test_X_train[text_column]\n",
    ")\n",
    "test_X_valid = count_tf_idf.transform(\n",
    "    test_X_valid[text_column]\n",
    ")\n",
    "\n",
    "print(test_X_train.shape)\n",
    "print(test_X_valid.shape)"
   ]
  },
  {
   "cell_type": "markdown",
   "metadata": {},
   "source": [
    "Далее проверим F1 на кросс-валидации без балансировки классов"
   ]
  },
  {
   "cell_type": "markdown",
   "metadata": {},
   "source": [
    "#### Проверка модели на существующих данных без надстроек"
   ]
  },
  {
   "cell_type": "code",
   "execution_count": 37,
   "metadata": {},
   "outputs": [],
   "source": [
    "def check_model(X_train=test_X_train,\n",
    "                y_train=test_y_train,\n",
    "                X_valid=test_X_valid,\n",
    "                y_valid=test_y_valid,\n",
    "                cv_in=5,\n",
    "                class_weight_in=None):\n",
    "    \n",
    "    model_check = LogisticRegression(\n",
    "        class_weight=class_weight_in\n",
    "    )\n",
    "    model_check.fit(X_train, y_train)\n",
    "    train_predict = model_check.predict(X_train)\n",
    "    valid_predict = model_check.predict(X_valid)\n",
    "    \n",
    "    f1_train = f1_score(train_predict, y_train)\n",
    "    f1_train = round(f1_train, 3)\n",
    "    \n",
    "    f1_valid = f1_score(valid_predict, y_valid)\n",
    "    f1_valid = round(f1_valid, 3)\n",
    "\n",
    "    print('F1 на тренировочной выборке:\\n', f1_train)\n",
    "    print('F1 на валидационной выборкей:\\n', f1_valid)\n",
    "\n",
    "    return model_check, f1_train, f1_valid"
   ]
  },
  {
   "cell_type": "code",
   "execution_count": 38,
   "metadata": {
    "scrolled": true
   },
   "outputs": [
    {
     "name": "stdout",
     "output_type": "stream",
     "text": [
      "Модель без балансировки веса\n",
      "F1 на тренировочной выборке:\n",
      " 0.773\n",
      "F1 на валидационной выборкей:\n",
      " 0.756\n"
     ]
    }
   ],
   "source": [
    "print('Модель без балансировки веса')\n",
    "model_lr_clear, f1_score_clear_train, f1_score_clear_valid = check_model(class_weight_in=None)"
   ]
  },
  {
   "cell_type": "markdown",
   "metadata": {},
   "source": [
    "Далее проверим модель с балансировкой классов"
   ]
  },
  {
   "cell_type": "markdown",
   "metadata": {},
   "source": [
    "#### Балансировка классов"
   ]
  },
  {
   "cell_type": "code",
   "execution_count": 39,
   "metadata": {},
   "outputs": [],
   "source": [
    "train_data = data_work.iloc[target_train.index]\n",
    "len_data_work = len(train_data)\n",
    "\n",
    "ratio_classes_1 = train_data[train_data['toxic']==1].count()['toxic'] / len_data_work\n",
    "ratio_classes_0 = 1 - ratio_classes_1"
   ]
  },
  {
   "cell_type": "code",
   "execution_count": 40,
   "metadata": {},
   "outputs": [],
   "source": [
    "del data_work, data"
   ]
  },
  {
   "cell_type": "code",
   "execution_count": 41,
   "metadata": {},
   "outputs": [
    {
     "name": "stdout",
     "output_type": "stream",
     "text": [
      "Модель с балансировкой веса\n",
      "F1 на тренировочной выборке:\n",
      " 0.803\n",
      "F1 на валидационной выборкей:\n",
      " 0.758\n"
     ]
    }
   ],
   "source": [
    "print('Модель с балансировкой веса')\n",
    "model_lr_balance, f1_score_balance_train, f1_score_balance_valid = check_model(\n",
    "    class_weight_in='balanced'\n",
    ")"
   ]
  },
  {
   "cell_type": "markdown",
   "metadata": {},
   "source": [
    "#### Анализ результатов теста с балансировкой классов"
   ]
  },
  {
   "cell_type": "code",
   "execution_count": 42,
   "metadata": {},
   "outputs": [],
   "source": [
    "type_data = [\n",
    "    'Чистые данные',\n",
    "    'Балансировка веса'\n",
    "    ]\n",
    "\n",
    "result_f1_score = {\n",
    "    'F1 на train':[\n",
    "        f1_score_clear_train,\n",
    "        f1_score_balance_train\n",
    "        ],\n",
    "    'F1 на valid':[\n",
    "        f1_score_clear_valid,\n",
    "        f1_score_balance_valid\n",
    "        ]\n",
    "}"
   ]
  },
  {
   "cell_type": "code",
   "execution_count": 43,
   "metadata": {},
   "outputs": [
    {
     "data": {
      "text/html": [
       "<div>\n",
       "<style scoped>\n",
       "    .dataframe tbody tr th:only-of-type {\n",
       "        vertical-align: middle;\n",
       "    }\n",
       "\n",
       "    .dataframe tbody tr th {\n",
       "        vertical-align: top;\n",
       "    }\n",
       "\n",
       "    .dataframe thead th {\n",
       "        text-align: right;\n",
       "    }\n",
       "</style>\n",
       "<table border=\"1\" class=\"dataframe\">\n",
       "  <thead>\n",
       "    <tr style=\"text-align: right;\">\n",
       "      <th></th>\n",
       "      <th>F1 на train</th>\n",
       "      <th>F1 на valid</th>\n",
       "    </tr>\n",
       "  </thead>\n",
       "  <tbody>\n",
       "    <tr>\n",
       "      <th>Чистые данные</th>\n",
       "      <td>0.773</td>\n",
       "      <td>0.756</td>\n",
       "    </tr>\n",
       "    <tr>\n",
       "      <th>Балансировка веса</th>\n",
       "      <td>0.803</td>\n",
       "      <td>0.758</td>\n",
       "    </tr>\n",
       "  </tbody>\n",
       "</table>\n",
       "</div>"
      ],
      "text/plain": [
       "                   F1 на train  F1 на valid\n",
       "Чистые данные            0.773        0.756\n",
       "Балансировка веса        0.803        0.758"
      ]
     },
     "execution_count": 43,
     "metadata": {},
     "output_type": "execute_result"
    }
   ],
   "source": [
    "df_check_f1_linear = pd.DataFrame(data=result_f1_score, index=type_data)\n",
    "df_check_f1_linear"
   ]
  },
  {
   "cell_type": "markdown",
   "metadata": {},
   "source": [
    "По таблице видно, что бансировка классов является наиболее подходящей, поскольку она показывает лучший результат на тренировочной выборке и на тестовой выше случайной вероятности."
   ]
  },
  {
   "cell_type": "code",
   "execution_count": 44,
   "metadata": {},
   "outputs": [],
   "source": [
    "del df_check_f1_linear"
   ]
  },
  {
   "cell_type": "markdown",
   "metadata": {},
   "source": [
    "Из имеющихся вариантов для учета несбалансированности классов отбираем балансировку весов, поскольку она показала лучший результат на тестовой выборке по сравнению с остальными с учетом F1 на кросс-валидации."
   ]
  },
  {
   "cell_type": "markdown",
   "metadata": {},
   "source": [
    "Далее обучим модели и сравним их результаты. Для тестирования выбраны:<br>\n",
    "- LogisticRegression;\n",
    "- DecisionTreeClassifier;\n",
    "- RandomForestClassifier."
   ]
  },
  {
   "cell_type": "markdown",
   "metadata": {},
   "source": [
    "Локально также была протестирована модель CatBoostClassifier"
   ]
  },
  {
   "cell_type": "markdown",
   "metadata": {},
   "source": [
    "### Обучение и отбор моделей"
   ]
  },
  {
   "cell_type": "markdown",
   "metadata": {},
   "source": [
    "Константы/переменные для обучаемых моделей"
   ]
  },
  {
   "cell_type": "code",
   "execution_count": 45,
   "metadata": {},
   "outputs": [],
   "source": [
    "X_train_used, y_train_used = features_train[text_column], target_train\n",
    "class_weight_used = {1: ratio_classes_0, 0: ratio_classes_1}"
   ]
  },
  {
   "cell_type": "code",
   "execution_count": 46,
   "metadata": {},
   "outputs": [
    {
     "data": {
      "text/plain": [
       "((143353,),\n",
       " (143353,),\n",
       " 131790    unfortunately think it be not go to be so easy...\n",
       " 97024     todo speedy deletion candidate do not think th...\n",
       " 52306     please do not vandalize page as you do with th...\n",
       " 84659     andareed above be talk about the main article ...\n",
       " 50282     first off thank for the close on that second g...\n",
       " Name: lemmatized, dtype: object)"
      ]
     },
     "execution_count": 46,
     "metadata": {},
     "output_type": "execute_result"
    }
   ],
   "source": [
    "X_train_used.shape, y_train_used.shape, X_train_used.head()"
   ]
  },
  {
   "cell_type": "code",
   "execution_count": 47,
   "metadata": {},
   "outputs": [],
   "source": [
    "def check_F1(predicted, y_check, F1=False, print_text=True):\n",
    "    if F1:\n",
    "        to_div_target = predicted\n",
    "    else:\n",
    "        to_div_target = f1_score(np.array(predicted), y_check)\n",
    "        \n",
    "    percent_f1 = (F1_target - to_div_target) /  F1_target * 100\n",
    "    \n",
    "    if print_text:\n",
    "        print(f'Метрика F1 на CV: {to_div_target}')\n",
    "        print(f\"Отличие от F1 целевого: {round(percent_f1, 2)} %\")\n",
    "    \n",
    "    return to_div_target, percent_f1"
   ]
  },
  {
   "cell_type": "code",
   "execution_count": 48,
   "metadata": {},
   "outputs": [],
   "source": [
    "vectorize_pipe = Pipeline(\n",
    "    [('vectorize_model', TfidfVectorizer(max_features=50000))]\n",
    ")"
   ]
  },
  {
   "cell_type": "code",
   "execution_count": 50,
   "metadata": {},
   "outputs": [],
   "source": [
    "pipe_final = Pipeline([\n",
    "    ('preprocessor', vectorize_pipe),\n",
    "    ('models', DecisionTreeClassifier(random_state=RANDOM_STATE))\n",
    "])"
   ]
  },
  {
   "cell_type": "markdown",
   "metadata": {},
   "source": [
    "#### Линейная модель"
   ]
  },
  {
   "cell_type": "code",
   "execution_count": 51,
   "metadata": {},
   "outputs": [],
   "source": [
    "param_grid_linear = [\n",
    "    # словарь для модели LogisticRegression()\n",
    "    {\n",
    "        'models': [LogisticRegression(random_state=RANDOM_STATE)],\n",
    "        'models__solver': ['newton-cg'],\n",
    "        'models__C': [0.1, 0.5, 1, 5, 10],\n",
    "        'models__class_weight': ['balanced']\n",
    "    }\n",
    "]"
   ]
  },
  {
   "cell_type": "code",
   "execution_count": 52,
   "metadata": {},
   "outputs": [],
   "source": [
    "randomized_search_linear = RandomizedSearchCV(\n",
    "    pipe_final, \n",
    "    param_grid_linear, \n",
    "    cv=5,\n",
    "    scoring='f1',\n",
    "    n_jobs=-1,\n",
    "    random_state=RANDOM_STATE\n",
    ")"
   ]
  },
  {
   "cell_type": "code",
   "execution_count": 54,
   "metadata": {},
   "outputs": [],
   "source": [
    "best_linear = randomized_search_linear.best_estimator_"
   ]
  },
  {
   "cell_type": "code",
   "execution_count": 53,
   "metadata": {},
   "outputs": [
    {
     "name": "stderr",
     "output_type": "stream",
     "text": [
      "/opt/conda/lib/python3.9/site-packages/sklearn/model_selection/_search.py:318: UserWarning: The total space of parameters 5 is smaller than n_iter=10. Running 5 iterations. For exhaustive searches, use GridSearchCV.\n",
      "  warnings.warn(\n"
     ]
    },
    {
     "data": {
      "text/html": [
       "<style>#sk-container-id-1 {\n",
       "  /* Definition of color scheme common for light and dark mode */\n",
       "  --sklearn-color-text: black;\n",
       "  --sklearn-color-line: gray;\n",
       "  /* Definition of color scheme for unfitted estimators */\n",
       "  --sklearn-color-unfitted-level-0: #fff5e6;\n",
       "  --sklearn-color-unfitted-level-1: #f6e4d2;\n",
       "  --sklearn-color-unfitted-level-2: #ffe0b3;\n",
       "  --sklearn-color-unfitted-level-3: chocolate;\n",
       "  /* Definition of color scheme for fitted estimators */\n",
       "  --sklearn-color-fitted-level-0: #f0f8ff;\n",
       "  --sklearn-color-fitted-level-1: #d4ebff;\n",
       "  --sklearn-color-fitted-level-2: #b3dbfd;\n",
       "  --sklearn-color-fitted-level-3: cornflowerblue;\n",
       "\n",
       "  /* Specific color for light theme */\n",
       "  --sklearn-color-text-on-default-background: var(--sg-text-color, var(--theme-code-foreground, var(--jp-content-font-color1, black)));\n",
       "  --sklearn-color-background: var(--sg-background-color, var(--theme-background, var(--jp-layout-color0, white)));\n",
       "  --sklearn-color-border-box: var(--sg-text-color, var(--theme-code-foreground, var(--jp-content-font-color1, black)));\n",
       "  --sklearn-color-icon: #696969;\n",
       "\n",
       "  @media (prefers-color-scheme: dark) {\n",
       "    /* Redefinition of color scheme for dark theme */\n",
       "    --sklearn-color-text-on-default-background: var(--sg-text-color, var(--theme-code-foreground, var(--jp-content-font-color1, white)));\n",
       "    --sklearn-color-background: var(--sg-background-color, var(--theme-background, var(--jp-layout-color0, #111)));\n",
       "    --sklearn-color-border-box: var(--sg-text-color, var(--theme-code-foreground, var(--jp-content-font-color1, white)));\n",
       "    --sklearn-color-icon: #878787;\n",
       "  }\n",
       "}\n",
       "\n",
       "#sk-container-id-1 {\n",
       "  color: var(--sklearn-color-text);\n",
       "}\n",
       "\n",
       "#sk-container-id-1 pre {\n",
       "  padding: 0;\n",
       "}\n",
       "\n",
       "#sk-container-id-1 input.sk-hidden--visually {\n",
       "  border: 0;\n",
       "  clip: rect(1px 1px 1px 1px);\n",
       "  clip: rect(1px, 1px, 1px, 1px);\n",
       "  height: 1px;\n",
       "  margin: -1px;\n",
       "  overflow: hidden;\n",
       "  padding: 0;\n",
       "  position: absolute;\n",
       "  width: 1px;\n",
       "}\n",
       "\n",
       "#sk-container-id-1 div.sk-dashed-wrapped {\n",
       "  border: 1px dashed var(--sklearn-color-line);\n",
       "  margin: 0 0.4em 0.5em 0.4em;\n",
       "  box-sizing: border-box;\n",
       "  padding-bottom: 0.4em;\n",
       "  background-color: var(--sklearn-color-background);\n",
       "}\n",
       "\n",
       "#sk-container-id-1 div.sk-container {\n",
       "  /* jupyter's `normalize.less` sets `[hidden] { display: none; }`\n",
       "     but bootstrap.min.css set `[hidden] { display: none !important; }`\n",
       "     so we also need the `!important` here to be able to override the\n",
       "     default hidden behavior on the sphinx rendered scikit-learn.org.\n",
       "     See: https://github.com/scikit-learn/scikit-learn/issues/21755 */\n",
       "  display: inline-block !important;\n",
       "  position: relative;\n",
       "}\n",
       "\n",
       "#sk-container-id-1 div.sk-text-repr-fallback {\n",
       "  display: none;\n",
       "}\n",
       "\n",
       "div.sk-parallel-item,\n",
       "div.sk-serial,\n",
       "div.sk-item {\n",
       "  /* draw centered vertical line to link estimators */\n",
       "  background-image: linear-gradient(var(--sklearn-color-text-on-default-background), var(--sklearn-color-text-on-default-background));\n",
       "  background-size: 2px 100%;\n",
       "  background-repeat: no-repeat;\n",
       "  background-position: center center;\n",
       "}\n",
       "\n",
       "/* Parallel-specific style estimator block */\n",
       "\n",
       "#sk-container-id-1 div.sk-parallel-item::after {\n",
       "  content: \"\";\n",
       "  width: 100%;\n",
       "  border-bottom: 2px solid var(--sklearn-color-text-on-default-background);\n",
       "  flex-grow: 1;\n",
       "}\n",
       "\n",
       "#sk-container-id-1 div.sk-parallel {\n",
       "  display: flex;\n",
       "  align-items: stretch;\n",
       "  justify-content: center;\n",
       "  background-color: var(--sklearn-color-background);\n",
       "  position: relative;\n",
       "}\n",
       "\n",
       "#sk-container-id-1 div.sk-parallel-item {\n",
       "  display: flex;\n",
       "  flex-direction: column;\n",
       "}\n",
       "\n",
       "#sk-container-id-1 div.sk-parallel-item:first-child::after {\n",
       "  align-self: flex-end;\n",
       "  width: 50%;\n",
       "}\n",
       "\n",
       "#sk-container-id-1 div.sk-parallel-item:last-child::after {\n",
       "  align-self: flex-start;\n",
       "  width: 50%;\n",
       "}\n",
       "\n",
       "#sk-container-id-1 div.sk-parallel-item:only-child::after {\n",
       "  width: 0;\n",
       "}\n",
       "\n",
       "/* Serial-specific style estimator block */\n",
       "\n",
       "#sk-container-id-1 div.sk-serial {\n",
       "  display: flex;\n",
       "  flex-direction: column;\n",
       "  align-items: center;\n",
       "  background-color: var(--sklearn-color-background);\n",
       "  padding-right: 1em;\n",
       "  padding-left: 1em;\n",
       "}\n",
       "\n",
       "\n",
       "/* Toggleable style: style used for estimator/Pipeline/ColumnTransformer box that is\n",
       "clickable and can be expanded/collapsed.\n",
       "- Pipeline and ColumnTransformer use this feature and define the default style\n",
       "- Estimators will overwrite some part of the style using the `sk-estimator` class\n",
       "*/\n",
       "\n",
       "/* Pipeline and ColumnTransformer style (default) */\n",
       "\n",
       "#sk-container-id-1 div.sk-toggleable {\n",
       "  /* Default theme specific background. It is overwritten whether we have a\n",
       "  specific estimator or a Pipeline/ColumnTransformer */\n",
       "  background-color: var(--sklearn-color-background);\n",
       "}\n",
       "\n",
       "/* Toggleable label */\n",
       "#sk-container-id-1 label.sk-toggleable__label {\n",
       "  cursor: pointer;\n",
       "  display: block;\n",
       "  width: 100%;\n",
       "  margin-bottom: 0;\n",
       "  padding: 0.5em;\n",
       "  box-sizing: border-box;\n",
       "  text-align: center;\n",
       "}\n",
       "\n",
       "#sk-container-id-1 label.sk-toggleable__label-arrow:before {\n",
       "  /* Arrow on the left of the label */\n",
       "  content: \"▸\";\n",
       "  float: left;\n",
       "  margin-right: 0.25em;\n",
       "  color: var(--sklearn-color-icon);\n",
       "}\n",
       "\n",
       "#sk-container-id-1 label.sk-toggleable__label-arrow:hover:before {\n",
       "  color: var(--sklearn-color-text);\n",
       "}\n",
       "\n",
       "/* Toggleable content - dropdown */\n",
       "\n",
       "#sk-container-id-1 div.sk-toggleable__content {\n",
       "  max-height: 0;\n",
       "  max-width: 0;\n",
       "  overflow: hidden;\n",
       "  text-align: left;\n",
       "  /* unfitted */\n",
       "  background-color: var(--sklearn-color-unfitted-level-0);\n",
       "}\n",
       "\n",
       "#sk-container-id-1 div.sk-toggleable__content.fitted {\n",
       "  /* fitted */\n",
       "  background-color: var(--sklearn-color-fitted-level-0);\n",
       "}\n",
       "\n",
       "#sk-container-id-1 div.sk-toggleable__content pre {\n",
       "  margin: 0.2em;\n",
       "  border-radius: 0.25em;\n",
       "  color: var(--sklearn-color-text);\n",
       "  /* unfitted */\n",
       "  background-color: var(--sklearn-color-unfitted-level-0);\n",
       "}\n",
       "\n",
       "#sk-container-id-1 div.sk-toggleable__content.fitted pre {\n",
       "  /* unfitted */\n",
       "  background-color: var(--sklearn-color-fitted-level-0);\n",
       "}\n",
       "\n",
       "#sk-container-id-1 input.sk-toggleable__control:checked~div.sk-toggleable__content {\n",
       "  /* Expand drop-down */\n",
       "  max-height: 200px;\n",
       "  max-width: 100%;\n",
       "  overflow: auto;\n",
       "}\n",
       "\n",
       "#sk-container-id-1 input.sk-toggleable__control:checked~label.sk-toggleable__label-arrow:before {\n",
       "  content: \"▾\";\n",
       "}\n",
       "\n",
       "/* Pipeline/ColumnTransformer-specific style */\n",
       "\n",
       "#sk-container-id-1 div.sk-label input.sk-toggleable__control:checked~label.sk-toggleable__label {\n",
       "  color: var(--sklearn-color-text);\n",
       "  background-color: var(--sklearn-color-unfitted-level-2);\n",
       "}\n",
       "\n",
       "#sk-container-id-1 div.sk-label.fitted input.sk-toggleable__control:checked~label.sk-toggleable__label {\n",
       "  background-color: var(--sklearn-color-fitted-level-2);\n",
       "}\n",
       "\n",
       "/* Estimator-specific style */\n",
       "\n",
       "/* Colorize estimator box */\n",
       "#sk-container-id-1 div.sk-estimator input.sk-toggleable__control:checked~label.sk-toggleable__label {\n",
       "  /* unfitted */\n",
       "  background-color: var(--sklearn-color-unfitted-level-2);\n",
       "}\n",
       "\n",
       "#sk-container-id-1 div.sk-estimator.fitted input.sk-toggleable__control:checked~label.sk-toggleable__label {\n",
       "  /* fitted */\n",
       "  background-color: var(--sklearn-color-fitted-level-2);\n",
       "}\n",
       "\n",
       "#sk-container-id-1 div.sk-label label.sk-toggleable__label,\n",
       "#sk-container-id-1 div.sk-label label {\n",
       "  /* The background is the default theme color */\n",
       "  color: var(--sklearn-color-text-on-default-background);\n",
       "}\n",
       "\n",
       "/* On hover, darken the color of the background */\n",
       "#sk-container-id-1 div.sk-label:hover label.sk-toggleable__label {\n",
       "  color: var(--sklearn-color-text);\n",
       "  background-color: var(--sklearn-color-unfitted-level-2);\n",
       "}\n",
       "\n",
       "/* Label box, darken color on hover, fitted */\n",
       "#sk-container-id-1 div.sk-label.fitted:hover label.sk-toggleable__label.fitted {\n",
       "  color: var(--sklearn-color-text);\n",
       "  background-color: var(--sklearn-color-fitted-level-2);\n",
       "}\n",
       "\n",
       "/* Estimator label */\n",
       "\n",
       "#sk-container-id-1 div.sk-label label {\n",
       "  font-family: monospace;\n",
       "  font-weight: bold;\n",
       "  display: inline-block;\n",
       "  line-height: 1.2em;\n",
       "}\n",
       "\n",
       "#sk-container-id-1 div.sk-label-container {\n",
       "  text-align: center;\n",
       "}\n",
       "\n",
       "/* Estimator-specific */\n",
       "#sk-container-id-1 div.sk-estimator {\n",
       "  font-family: monospace;\n",
       "  border: 1px dotted var(--sklearn-color-border-box);\n",
       "  border-radius: 0.25em;\n",
       "  box-sizing: border-box;\n",
       "  margin-bottom: 0.5em;\n",
       "  /* unfitted */\n",
       "  background-color: var(--sklearn-color-unfitted-level-0);\n",
       "}\n",
       "\n",
       "#sk-container-id-1 div.sk-estimator.fitted {\n",
       "  /* fitted */\n",
       "  background-color: var(--sklearn-color-fitted-level-0);\n",
       "}\n",
       "\n",
       "/* on hover */\n",
       "#sk-container-id-1 div.sk-estimator:hover {\n",
       "  /* unfitted */\n",
       "  background-color: var(--sklearn-color-unfitted-level-2);\n",
       "}\n",
       "\n",
       "#sk-container-id-1 div.sk-estimator.fitted:hover {\n",
       "  /* fitted */\n",
       "  background-color: var(--sklearn-color-fitted-level-2);\n",
       "}\n",
       "\n",
       "/* Specification for estimator info (e.g. \"i\" and \"?\") */\n",
       "\n",
       "/* Common style for \"i\" and \"?\" */\n",
       "\n",
       ".sk-estimator-doc-link,\n",
       "a:link.sk-estimator-doc-link,\n",
       "a:visited.sk-estimator-doc-link {\n",
       "  float: right;\n",
       "  font-size: smaller;\n",
       "  line-height: 1em;\n",
       "  font-family: monospace;\n",
       "  background-color: var(--sklearn-color-background);\n",
       "  border-radius: 1em;\n",
       "  height: 1em;\n",
       "  width: 1em;\n",
       "  text-decoration: none !important;\n",
       "  margin-left: 1ex;\n",
       "  /* unfitted */\n",
       "  border: var(--sklearn-color-unfitted-level-1) 1pt solid;\n",
       "  color: var(--sklearn-color-unfitted-level-1);\n",
       "}\n",
       "\n",
       ".sk-estimator-doc-link.fitted,\n",
       "a:link.sk-estimator-doc-link.fitted,\n",
       "a:visited.sk-estimator-doc-link.fitted {\n",
       "  /* fitted */\n",
       "  border: var(--sklearn-color-fitted-level-1) 1pt solid;\n",
       "  color: var(--sklearn-color-fitted-level-1);\n",
       "}\n",
       "\n",
       "/* On hover */\n",
       "div.sk-estimator:hover .sk-estimator-doc-link:hover,\n",
       ".sk-estimator-doc-link:hover,\n",
       "div.sk-label-container:hover .sk-estimator-doc-link:hover,\n",
       ".sk-estimator-doc-link:hover {\n",
       "  /* unfitted */\n",
       "  background-color: var(--sklearn-color-unfitted-level-3);\n",
       "  color: var(--sklearn-color-background);\n",
       "  text-decoration: none;\n",
       "}\n",
       "\n",
       "div.sk-estimator.fitted:hover .sk-estimator-doc-link.fitted:hover,\n",
       ".sk-estimator-doc-link.fitted:hover,\n",
       "div.sk-label-container:hover .sk-estimator-doc-link.fitted:hover,\n",
       ".sk-estimator-doc-link.fitted:hover {\n",
       "  /* fitted */\n",
       "  background-color: var(--sklearn-color-fitted-level-3);\n",
       "  color: var(--sklearn-color-background);\n",
       "  text-decoration: none;\n",
       "}\n",
       "\n",
       "/* Span, style for the box shown on hovering the info icon */\n",
       ".sk-estimator-doc-link span {\n",
       "  display: none;\n",
       "  z-index: 9999;\n",
       "  position: relative;\n",
       "  font-weight: normal;\n",
       "  right: .2ex;\n",
       "  padding: .5ex;\n",
       "  margin: .5ex;\n",
       "  width: min-content;\n",
       "  min-width: 20ex;\n",
       "  max-width: 50ex;\n",
       "  color: var(--sklearn-color-text);\n",
       "  box-shadow: 2pt 2pt 4pt #999;\n",
       "  /* unfitted */\n",
       "  background: var(--sklearn-color-unfitted-level-0);\n",
       "  border: .5pt solid var(--sklearn-color-unfitted-level-3);\n",
       "}\n",
       "\n",
       ".sk-estimator-doc-link.fitted span {\n",
       "  /* fitted */\n",
       "  background: var(--sklearn-color-fitted-level-0);\n",
       "  border: var(--sklearn-color-fitted-level-3);\n",
       "}\n",
       "\n",
       ".sk-estimator-doc-link:hover span {\n",
       "  display: block;\n",
       "}\n",
       "\n",
       "/* \"?\"-specific style due to the `<a>` HTML tag */\n",
       "\n",
       "#sk-container-id-1 a.estimator_doc_link {\n",
       "  float: right;\n",
       "  font-size: 1rem;\n",
       "  line-height: 1em;\n",
       "  font-family: monospace;\n",
       "  background-color: var(--sklearn-color-background);\n",
       "  border-radius: 1rem;\n",
       "  height: 1rem;\n",
       "  width: 1rem;\n",
       "  text-decoration: none;\n",
       "  /* unfitted */\n",
       "  color: var(--sklearn-color-unfitted-level-1);\n",
       "  border: var(--sklearn-color-unfitted-level-1) 1pt solid;\n",
       "}\n",
       "\n",
       "#sk-container-id-1 a.estimator_doc_link.fitted {\n",
       "  /* fitted */\n",
       "  border: var(--sklearn-color-fitted-level-1) 1pt solid;\n",
       "  color: var(--sklearn-color-fitted-level-1);\n",
       "}\n",
       "\n",
       "/* On hover */\n",
       "#sk-container-id-1 a.estimator_doc_link:hover {\n",
       "  /* unfitted */\n",
       "  background-color: var(--sklearn-color-unfitted-level-3);\n",
       "  color: var(--sklearn-color-background);\n",
       "  text-decoration: none;\n",
       "}\n",
       "\n",
       "#sk-container-id-1 a.estimator_doc_link.fitted:hover {\n",
       "  /* fitted */\n",
       "  background-color: var(--sklearn-color-fitted-level-3);\n",
       "}\n",
       "</style><div id=\"sk-container-id-1\" class=\"sk-top-container\"><div class=\"sk-text-repr-fallback\"><pre>RandomizedSearchCV(cv=5,\n",
       "                   estimator=Pipeline(steps=[(&#x27;preprocessor&#x27;,\n",
       "                                              Pipeline(steps=[(&#x27;vectorize_model&#x27;,\n",
       "                                                               TfidfVectorizer(max_features=50000))])),\n",
       "                                             (&#x27;models&#x27;,\n",
       "                                              DecisionTreeClassifier(random_state=42))]),\n",
       "                   n_jobs=-1,\n",
       "                   param_distributions=[{&#x27;models&#x27;: [LogisticRegression(random_state=42)],\n",
       "                                         &#x27;models__C&#x27;: [0.1, 0.5, 1, 5, 10],\n",
       "                                         &#x27;models__class_weight&#x27;: [&#x27;balanced&#x27;],\n",
       "                                         &#x27;models__solver&#x27;: [&#x27;newton-cg&#x27;]}],\n",
       "                   random_state=42, scoring=&#x27;f1&#x27;)</pre><b>In a Jupyter environment, please rerun this cell to show the HTML representation or trust the notebook. <br />On GitHub, the HTML representation is unable to render, please try loading this page with nbviewer.org.</b></div><div class=\"sk-container\" hidden><div class=\"sk-item sk-dashed-wrapped\"><div class=\"sk-label-container\"><div class=\"sk-label fitted sk-toggleable\"><input class=\"sk-toggleable__control sk-hidden--visually\" id=\"sk-estimator-id-1\" type=\"checkbox\" ><label for=\"sk-estimator-id-1\" class=\"sk-toggleable__label fitted sk-toggleable__label-arrow fitted\">&nbsp;&nbsp;RandomizedSearchCV<a class=\"sk-estimator-doc-link fitted\" rel=\"noreferrer\" target=\"_blank\" href=\"https://scikit-learn.org/1.4/modules/generated/sklearn.model_selection.RandomizedSearchCV.html\">?<span>Documentation for RandomizedSearchCV</span></a><span class=\"sk-estimator-doc-link fitted\">i<span>Fitted</span></span></label><div class=\"sk-toggleable__content fitted\"><pre>RandomizedSearchCV(cv=5,\n",
       "                   estimator=Pipeline(steps=[(&#x27;preprocessor&#x27;,\n",
       "                                              Pipeline(steps=[(&#x27;vectorize_model&#x27;,\n",
       "                                                               TfidfVectorizer(max_features=50000))])),\n",
       "                                             (&#x27;models&#x27;,\n",
       "                                              DecisionTreeClassifier(random_state=42))]),\n",
       "                   n_jobs=-1,\n",
       "                   param_distributions=[{&#x27;models&#x27;: [LogisticRegression(random_state=42)],\n",
       "                                         &#x27;models__C&#x27;: [0.1, 0.5, 1, 5, 10],\n",
       "                                         &#x27;models__class_weight&#x27;: [&#x27;balanced&#x27;],\n",
       "                                         &#x27;models__solver&#x27;: [&#x27;newton-cg&#x27;]}],\n",
       "                   random_state=42, scoring=&#x27;f1&#x27;)</pre></div> </div></div><div class=\"sk-parallel\"><div class=\"sk-parallel-item\"><div class=\"sk-item\"><div class=\"sk-label-container\"><div class=\"sk-label fitted sk-toggleable\"><input class=\"sk-toggleable__control sk-hidden--visually\" id=\"sk-estimator-id-2\" type=\"checkbox\" ><label for=\"sk-estimator-id-2\" class=\"sk-toggleable__label fitted sk-toggleable__label-arrow fitted\">estimator: Pipeline</label><div class=\"sk-toggleable__content fitted\"><pre>Pipeline(steps=[(&#x27;preprocessor&#x27;,\n",
       "                 Pipeline(steps=[(&#x27;vectorize_model&#x27;,\n",
       "                                  TfidfVectorizer(max_features=50000))])),\n",
       "                (&#x27;models&#x27;, DecisionTreeClassifier(random_state=42))])</pre></div> </div></div><div class=\"sk-serial\"><div class=\"sk-item\"><div class=\"sk-serial\"><div class=\"sk-item\"><div class=\"sk-label-container\"><div class=\"sk-label fitted sk-toggleable\"><input class=\"sk-toggleable__control sk-hidden--visually\" id=\"sk-estimator-id-3\" type=\"checkbox\" ><label for=\"sk-estimator-id-3\" class=\"sk-toggleable__label fitted sk-toggleable__label-arrow fitted\">&nbsp;preprocessor: Pipeline<a class=\"sk-estimator-doc-link fitted\" rel=\"noreferrer\" target=\"_blank\" href=\"https://scikit-learn.org/1.4/modules/generated/sklearn.pipeline.Pipeline.html\">?<span>Documentation for preprocessor: Pipeline</span></a></label><div class=\"sk-toggleable__content fitted\"><pre>Pipeline(steps=[(&#x27;vectorize_model&#x27;, TfidfVectorizer(max_features=50000))])</pre></div> </div></div><div class=\"sk-serial\"><div class=\"sk-item\"><div class=\"sk-estimator fitted sk-toggleable\"><input class=\"sk-toggleable__control sk-hidden--visually\" id=\"sk-estimator-id-4\" type=\"checkbox\" ><label for=\"sk-estimator-id-4\" class=\"sk-toggleable__label fitted sk-toggleable__label-arrow fitted\">&nbsp;TfidfVectorizer<a class=\"sk-estimator-doc-link fitted\" rel=\"noreferrer\" target=\"_blank\" href=\"https://scikit-learn.org/1.4/modules/generated/sklearn.feature_extraction.text.TfidfVectorizer.html\">?<span>Documentation for TfidfVectorizer</span></a></label><div class=\"sk-toggleable__content fitted\"><pre>TfidfVectorizer(max_features=50000)</pre></div> </div></div></div></div><div class=\"sk-item\"><div class=\"sk-estimator fitted sk-toggleable\"><input class=\"sk-toggleable__control sk-hidden--visually\" id=\"sk-estimator-id-5\" type=\"checkbox\" ><label for=\"sk-estimator-id-5\" class=\"sk-toggleable__label fitted sk-toggleable__label-arrow fitted\">&nbsp;DecisionTreeClassifier<a class=\"sk-estimator-doc-link fitted\" rel=\"noreferrer\" target=\"_blank\" href=\"https://scikit-learn.org/1.4/modules/generated/sklearn.tree.DecisionTreeClassifier.html\">?<span>Documentation for DecisionTreeClassifier</span></a></label><div class=\"sk-toggleable__content fitted\"><pre>DecisionTreeClassifier(random_state=42)</pre></div> </div></div></div></div></div></div></div></div></div></div></div>"
      ],
      "text/plain": [
       "RandomizedSearchCV(cv=5,\n",
       "                   estimator=Pipeline(steps=[('preprocessor',\n",
       "                                              Pipeline(steps=[('vectorize_model',\n",
       "                                                               TfidfVectorizer(max_features=50000))])),\n",
       "                                             ('models',\n",
       "                                              DecisionTreeClassifier(random_state=42))]),\n",
       "                   n_jobs=-1,\n",
       "                   param_distributions=[{'models': [LogisticRegression(random_state=42)],\n",
       "                                         'models__C': [0.1, 0.5, 1, 5, 10],\n",
       "                                         'models__class_weight': ['balanced'],\n",
       "                                         'models__solver': ['newton-cg']}],\n",
       "                   random_state=42, scoring='f1')"
      ]
     },
     "execution_count": 53,
     "metadata": {},
     "output_type": "execute_result"
    }
   ],
   "source": [
    "randomized_search_linear.fit(\n",
    "    X_train_used, y_train_used\n",
    ")"
   ]
  },
  {
   "cell_type": "code",
   "execution_count": 55,
   "metadata": {},
   "outputs": [
    {
     "data": {
      "text/plain": [
       "0.7651546225270793"
      ]
     },
     "execution_count": 55,
     "metadata": {},
     "output_type": "execute_result"
    }
   ],
   "source": [
    "best_F1_linear = randomized_search_linear.best_score_\n",
    "best_F1_linear"
   ]
  },
  {
   "cell_type": "code",
   "execution_count": 56,
   "metadata": {},
   "outputs": [],
   "source": [
    "params_best_linear = pd.DataFrame(\n",
    "    randomized_search_linear.cv_results_\n",
    ").sort_values(by='rank_test_score')"
   ]
  },
  {
   "cell_type": "markdown",
   "metadata": {},
   "source": [
    "Модель линейной регресии при кросс-валидации имеет F1 примелемый по условиям задания"
   ]
  },
  {
   "cell_type": "markdown",
   "metadata": {},
   "source": [
    "#### Решающее дерево"
   ]
  },
  {
   "cell_type": "code",
   "execution_count": 57,
   "metadata": {},
   "outputs": [],
   "source": [
    "param_grid_tree = [\n",
    "    # словарь для модели DecisionTreeRegressor()\n",
    "    {\n",
    "        'models': [DecisionTreeClassifier(random_state=RANDOM_STATE)],\n",
    "        'models__class_weight': ['balanced'],\n",
    "        'models__max_depth': range(10, 25),\n",
    "        'models__max_features': range(10, 100),\n",
    "        'models__min_samples_split': range(2, 50),\n",
    "        'models__min_samples_leaf': range(2, 10)  \n",
    "    }\n",
    "]"
   ]
  },
  {
   "cell_type": "code",
   "execution_count": 58,
   "metadata": {},
   "outputs": [],
   "source": [
    "randomized_search_tree = RandomizedSearchCV(\n",
    "    pipe_final, \n",
    "    param_grid_tree, \n",
    "    cv=5,\n",
    "    scoring='f1',\n",
    "    n_jobs=-1,\n",
    "    random_state=RANDOM_STATE\n",
    ")"
   ]
  },
  {
   "cell_type": "code",
   "execution_count": 59,
   "metadata": {},
   "outputs": [
    {
     "data": {
      "text/html": [
       "<style>#sk-container-id-2 {\n",
       "  /* Definition of color scheme common for light and dark mode */\n",
       "  --sklearn-color-text: black;\n",
       "  --sklearn-color-line: gray;\n",
       "  /* Definition of color scheme for unfitted estimators */\n",
       "  --sklearn-color-unfitted-level-0: #fff5e6;\n",
       "  --sklearn-color-unfitted-level-1: #f6e4d2;\n",
       "  --sklearn-color-unfitted-level-2: #ffe0b3;\n",
       "  --sklearn-color-unfitted-level-3: chocolate;\n",
       "  /* Definition of color scheme for fitted estimators */\n",
       "  --sklearn-color-fitted-level-0: #f0f8ff;\n",
       "  --sklearn-color-fitted-level-1: #d4ebff;\n",
       "  --sklearn-color-fitted-level-2: #b3dbfd;\n",
       "  --sklearn-color-fitted-level-3: cornflowerblue;\n",
       "\n",
       "  /* Specific color for light theme */\n",
       "  --sklearn-color-text-on-default-background: var(--sg-text-color, var(--theme-code-foreground, var(--jp-content-font-color1, black)));\n",
       "  --sklearn-color-background: var(--sg-background-color, var(--theme-background, var(--jp-layout-color0, white)));\n",
       "  --sklearn-color-border-box: var(--sg-text-color, var(--theme-code-foreground, var(--jp-content-font-color1, black)));\n",
       "  --sklearn-color-icon: #696969;\n",
       "\n",
       "  @media (prefers-color-scheme: dark) {\n",
       "    /* Redefinition of color scheme for dark theme */\n",
       "    --sklearn-color-text-on-default-background: var(--sg-text-color, var(--theme-code-foreground, var(--jp-content-font-color1, white)));\n",
       "    --sklearn-color-background: var(--sg-background-color, var(--theme-background, var(--jp-layout-color0, #111)));\n",
       "    --sklearn-color-border-box: var(--sg-text-color, var(--theme-code-foreground, var(--jp-content-font-color1, white)));\n",
       "    --sklearn-color-icon: #878787;\n",
       "  }\n",
       "}\n",
       "\n",
       "#sk-container-id-2 {\n",
       "  color: var(--sklearn-color-text);\n",
       "}\n",
       "\n",
       "#sk-container-id-2 pre {\n",
       "  padding: 0;\n",
       "}\n",
       "\n",
       "#sk-container-id-2 input.sk-hidden--visually {\n",
       "  border: 0;\n",
       "  clip: rect(1px 1px 1px 1px);\n",
       "  clip: rect(1px, 1px, 1px, 1px);\n",
       "  height: 1px;\n",
       "  margin: -1px;\n",
       "  overflow: hidden;\n",
       "  padding: 0;\n",
       "  position: absolute;\n",
       "  width: 1px;\n",
       "}\n",
       "\n",
       "#sk-container-id-2 div.sk-dashed-wrapped {\n",
       "  border: 1px dashed var(--sklearn-color-line);\n",
       "  margin: 0 0.4em 0.5em 0.4em;\n",
       "  box-sizing: border-box;\n",
       "  padding-bottom: 0.4em;\n",
       "  background-color: var(--sklearn-color-background);\n",
       "}\n",
       "\n",
       "#sk-container-id-2 div.sk-container {\n",
       "  /* jupyter's `normalize.less` sets `[hidden] { display: none; }`\n",
       "     but bootstrap.min.css set `[hidden] { display: none !important; }`\n",
       "     so we also need the `!important` here to be able to override the\n",
       "     default hidden behavior on the sphinx rendered scikit-learn.org.\n",
       "     See: https://github.com/scikit-learn/scikit-learn/issues/21755 */\n",
       "  display: inline-block !important;\n",
       "  position: relative;\n",
       "}\n",
       "\n",
       "#sk-container-id-2 div.sk-text-repr-fallback {\n",
       "  display: none;\n",
       "}\n",
       "\n",
       "div.sk-parallel-item,\n",
       "div.sk-serial,\n",
       "div.sk-item {\n",
       "  /* draw centered vertical line to link estimators */\n",
       "  background-image: linear-gradient(var(--sklearn-color-text-on-default-background), var(--sklearn-color-text-on-default-background));\n",
       "  background-size: 2px 100%;\n",
       "  background-repeat: no-repeat;\n",
       "  background-position: center center;\n",
       "}\n",
       "\n",
       "/* Parallel-specific style estimator block */\n",
       "\n",
       "#sk-container-id-2 div.sk-parallel-item::after {\n",
       "  content: \"\";\n",
       "  width: 100%;\n",
       "  border-bottom: 2px solid var(--sklearn-color-text-on-default-background);\n",
       "  flex-grow: 1;\n",
       "}\n",
       "\n",
       "#sk-container-id-2 div.sk-parallel {\n",
       "  display: flex;\n",
       "  align-items: stretch;\n",
       "  justify-content: center;\n",
       "  background-color: var(--sklearn-color-background);\n",
       "  position: relative;\n",
       "}\n",
       "\n",
       "#sk-container-id-2 div.sk-parallel-item {\n",
       "  display: flex;\n",
       "  flex-direction: column;\n",
       "}\n",
       "\n",
       "#sk-container-id-2 div.sk-parallel-item:first-child::after {\n",
       "  align-self: flex-end;\n",
       "  width: 50%;\n",
       "}\n",
       "\n",
       "#sk-container-id-2 div.sk-parallel-item:last-child::after {\n",
       "  align-self: flex-start;\n",
       "  width: 50%;\n",
       "}\n",
       "\n",
       "#sk-container-id-2 div.sk-parallel-item:only-child::after {\n",
       "  width: 0;\n",
       "}\n",
       "\n",
       "/* Serial-specific style estimator block */\n",
       "\n",
       "#sk-container-id-2 div.sk-serial {\n",
       "  display: flex;\n",
       "  flex-direction: column;\n",
       "  align-items: center;\n",
       "  background-color: var(--sklearn-color-background);\n",
       "  padding-right: 1em;\n",
       "  padding-left: 1em;\n",
       "}\n",
       "\n",
       "\n",
       "/* Toggleable style: style used for estimator/Pipeline/ColumnTransformer box that is\n",
       "clickable and can be expanded/collapsed.\n",
       "- Pipeline and ColumnTransformer use this feature and define the default style\n",
       "- Estimators will overwrite some part of the style using the `sk-estimator` class\n",
       "*/\n",
       "\n",
       "/* Pipeline and ColumnTransformer style (default) */\n",
       "\n",
       "#sk-container-id-2 div.sk-toggleable {\n",
       "  /* Default theme specific background. It is overwritten whether we have a\n",
       "  specific estimator or a Pipeline/ColumnTransformer */\n",
       "  background-color: var(--sklearn-color-background);\n",
       "}\n",
       "\n",
       "/* Toggleable label */\n",
       "#sk-container-id-2 label.sk-toggleable__label {\n",
       "  cursor: pointer;\n",
       "  display: block;\n",
       "  width: 100%;\n",
       "  margin-bottom: 0;\n",
       "  padding: 0.5em;\n",
       "  box-sizing: border-box;\n",
       "  text-align: center;\n",
       "}\n",
       "\n",
       "#sk-container-id-2 label.sk-toggleable__label-arrow:before {\n",
       "  /* Arrow on the left of the label */\n",
       "  content: \"▸\";\n",
       "  float: left;\n",
       "  margin-right: 0.25em;\n",
       "  color: var(--sklearn-color-icon);\n",
       "}\n",
       "\n",
       "#sk-container-id-2 label.sk-toggleable__label-arrow:hover:before {\n",
       "  color: var(--sklearn-color-text);\n",
       "}\n",
       "\n",
       "/* Toggleable content - dropdown */\n",
       "\n",
       "#sk-container-id-2 div.sk-toggleable__content {\n",
       "  max-height: 0;\n",
       "  max-width: 0;\n",
       "  overflow: hidden;\n",
       "  text-align: left;\n",
       "  /* unfitted */\n",
       "  background-color: var(--sklearn-color-unfitted-level-0);\n",
       "}\n",
       "\n",
       "#sk-container-id-2 div.sk-toggleable__content.fitted {\n",
       "  /* fitted */\n",
       "  background-color: var(--sklearn-color-fitted-level-0);\n",
       "}\n",
       "\n",
       "#sk-container-id-2 div.sk-toggleable__content pre {\n",
       "  margin: 0.2em;\n",
       "  border-radius: 0.25em;\n",
       "  color: var(--sklearn-color-text);\n",
       "  /* unfitted */\n",
       "  background-color: var(--sklearn-color-unfitted-level-0);\n",
       "}\n",
       "\n",
       "#sk-container-id-2 div.sk-toggleable__content.fitted pre {\n",
       "  /* unfitted */\n",
       "  background-color: var(--sklearn-color-fitted-level-0);\n",
       "}\n",
       "\n",
       "#sk-container-id-2 input.sk-toggleable__control:checked~div.sk-toggleable__content {\n",
       "  /* Expand drop-down */\n",
       "  max-height: 200px;\n",
       "  max-width: 100%;\n",
       "  overflow: auto;\n",
       "}\n",
       "\n",
       "#sk-container-id-2 input.sk-toggleable__control:checked~label.sk-toggleable__label-arrow:before {\n",
       "  content: \"▾\";\n",
       "}\n",
       "\n",
       "/* Pipeline/ColumnTransformer-specific style */\n",
       "\n",
       "#sk-container-id-2 div.sk-label input.sk-toggleable__control:checked~label.sk-toggleable__label {\n",
       "  color: var(--sklearn-color-text);\n",
       "  background-color: var(--sklearn-color-unfitted-level-2);\n",
       "}\n",
       "\n",
       "#sk-container-id-2 div.sk-label.fitted input.sk-toggleable__control:checked~label.sk-toggleable__label {\n",
       "  background-color: var(--sklearn-color-fitted-level-2);\n",
       "}\n",
       "\n",
       "/* Estimator-specific style */\n",
       "\n",
       "/* Colorize estimator box */\n",
       "#sk-container-id-2 div.sk-estimator input.sk-toggleable__control:checked~label.sk-toggleable__label {\n",
       "  /* unfitted */\n",
       "  background-color: var(--sklearn-color-unfitted-level-2);\n",
       "}\n",
       "\n",
       "#sk-container-id-2 div.sk-estimator.fitted input.sk-toggleable__control:checked~label.sk-toggleable__label {\n",
       "  /* fitted */\n",
       "  background-color: var(--sklearn-color-fitted-level-2);\n",
       "}\n",
       "\n",
       "#sk-container-id-2 div.sk-label label.sk-toggleable__label,\n",
       "#sk-container-id-2 div.sk-label label {\n",
       "  /* The background is the default theme color */\n",
       "  color: var(--sklearn-color-text-on-default-background);\n",
       "}\n",
       "\n",
       "/* On hover, darken the color of the background */\n",
       "#sk-container-id-2 div.sk-label:hover label.sk-toggleable__label {\n",
       "  color: var(--sklearn-color-text);\n",
       "  background-color: var(--sklearn-color-unfitted-level-2);\n",
       "}\n",
       "\n",
       "/* Label box, darken color on hover, fitted */\n",
       "#sk-container-id-2 div.sk-label.fitted:hover label.sk-toggleable__label.fitted {\n",
       "  color: var(--sklearn-color-text);\n",
       "  background-color: var(--sklearn-color-fitted-level-2);\n",
       "}\n",
       "\n",
       "/* Estimator label */\n",
       "\n",
       "#sk-container-id-2 div.sk-label label {\n",
       "  font-family: monospace;\n",
       "  font-weight: bold;\n",
       "  display: inline-block;\n",
       "  line-height: 1.2em;\n",
       "}\n",
       "\n",
       "#sk-container-id-2 div.sk-label-container {\n",
       "  text-align: center;\n",
       "}\n",
       "\n",
       "/* Estimator-specific */\n",
       "#sk-container-id-2 div.sk-estimator {\n",
       "  font-family: monospace;\n",
       "  border: 1px dotted var(--sklearn-color-border-box);\n",
       "  border-radius: 0.25em;\n",
       "  box-sizing: border-box;\n",
       "  margin-bottom: 0.5em;\n",
       "  /* unfitted */\n",
       "  background-color: var(--sklearn-color-unfitted-level-0);\n",
       "}\n",
       "\n",
       "#sk-container-id-2 div.sk-estimator.fitted {\n",
       "  /* fitted */\n",
       "  background-color: var(--sklearn-color-fitted-level-0);\n",
       "}\n",
       "\n",
       "/* on hover */\n",
       "#sk-container-id-2 div.sk-estimator:hover {\n",
       "  /* unfitted */\n",
       "  background-color: var(--sklearn-color-unfitted-level-2);\n",
       "}\n",
       "\n",
       "#sk-container-id-2 div.sk-estimator.fitted:hover {\n",
       "  /* fitted */\n",
       "  background-color: var(--sklearn-color-fitted-level-2);\n",
       "}\n",
       "\n",
       "/* Specification for estimator info (e.g. \"i\" and \"?\") */\n",
       "\n",
       "/* Common style for \"i\" and \"?\" */\n",
       "\n",
       ".sk-estimator-doc-link,\n",
       "a:link.sk-estimator-doc-link,\n",
       "a:visited.sk-estimator-doc-link {\n",
       "  float: right;\n",
       "  font-size: smaller;\n",
       "  line-height: 1em;\n",
       "  font-family: monospace;\n",
       "  background-color: var(--sklearn-color-background);\n",
       "  border-radius: 1em;\n",
       "  height: 1em;\n",
       "  width: 1em;\n",
       "  text-decoration: none !important;\n",
       "  margin-left: 1ex;\n",
       "  /* unfitted */\n",
       "  border: var(--sklearn-color-unfitted-level-1) 1pt solid;\n",
       "  color: var(--sklearn-color-unfitted-level-1);\n",
       "}\n",
       "\n",
       ".sk-estimator-doc-link.fitted,\n",
       "a:link.sk-estimator-doc-link.fitted,\n",
       "a:visited.sk-estimator-doc-link.fitted {\n",
       "  /* fitted */\n",
       "  border: var(--sklearn-color-fitted-level-1) 1pt solid;\n",
       "  color: var(--sklearn-color-fitted-level-1);\n",
       "}\n",
       "\n",
       "/* On hover */\n",
       "div.sk-estimator:hover .sk-estimator-doc-link:hover,\n",
       ".sk-estimator-doc-link:hover,\n",
       "div.sk-label-container:hover .sk-estimator-doc-link:hover,\n",
       ".sk-estimator-doc-link:hover {\n",
       "  /* unfitted */\n",
       "  background-color: var(--sklearn-color-unfitted-level-3);\n",
       "  color: var(--sklearn-color-background);\n",
       "  text-decoration: none;\n",
       "}\n",
       "\n",
       "div.sk-estimator.fitted:hover .sk-estimator-doc-link.fitted:hover,\n",
       ".sk-estimator-doc-link.fitted:hover,\n",
       "div.sk-label-container:hover .sk-estimator-doc-link.fitted:hover,\n",
       ".sk-estimator-doc-link.fitted:hover {\n",
       "  /* fitted */\n",
       "  background-color: var(--sklearn-color-fitted-level-3);\n",
       "  color: var(--sklearn-color-background);\n",
       "  text-decoration: none;\n",
       "}\n",
       "\n",
       "/* Span, style for the box shown on hovering the info icon */\n",
       ".sk-estimator-doc-link span {\n",
       "  display: none;\n",
       "  z-index: 9999;\n",
       "  position: relative;\n",
       "  font-weight: normal;\n",
       "  right: .2ex;\n",
       "  padding: .5ex;\n",
       "  margin: .5ex;\n",
       "  width: min-content;\n",
       "  min-width: 20ex;\n",
       "  max-width: 50ex;\n",
       "  color: var(--sklearn-color-text);\n",
       "  box-shadow: 2pt 2pt 4pt #999;\n",
       "  /* unfitted */\n",
       "  background: var(--sklearn-color-unfitted-level-0);\n",
       "  border: .5pt solid var(--sklearn-color-unfitted-level-3);\n",
       "}\n",
       "\n",
       ".sk-estimator-doc-link.fitted span {\n",
       "  /* fitted */\n",
       "  background: var(--sklearn-color-fitted-level-0);\n",
       "  border: var(--sklearn-color-fitted-level-3);\n",
       "}\n",
       "\n",
       ".sk-estimator-doc-link:hover span {\n",
       "  display: block;\n",
       "}\n",
       "\n",
       "/* \"?\"-specific style due to the `<a>` HTML tag */\n",
       "\n",
       "#sk-container-id-2 a.estimator_doc_link {\n",
       "  float: right;\n",
       "  font-size: 1rem;\n",
       "  line-height: 1em;\n",
       "  font-family: monospace;\n",
       "  background-color: var(--sklearn-color-background);\n",
       "  border-radius: 1rem;\n",
       "  height: 1rem;\n",
       "  width: 1rem;\n",
       "  text-decoration: none;\n",
       "  /* unfitted */\n",
       "  color: var(--sklearn-color-unfitted-level-1);\n",
       "  border: var(--sklearn-color-unfitted-level-1) 1pt solid;\n",
       "}\n",
       "\n",
       "#sk-container-id-2 a.estimator_doc_link.fitted {\n",
       "  /* fitted */\n",
       "  border: var(--sklearn-color-fitted-level-1) 1pt solid;\n",
       "  color: var(--sklearn-color-fitted-level-1);\n",
       "}\n",
       "\n",
       "/* On hover */\n",
       "#sk-container-id-2 a.estimator_doc_link:hover {\n",
       "  /* unfitted */\n",
       "  background-color: var(--sklearn-color-unfitted-level-3);\n",
       "  color: var(--sklearn-color-background);\n",
       "  text-decoration: none;\n",
       "}\n",
       "\n",
       "#sk-container-id-2 a.estimator_doc_link.fitted:hover {\n",
       "  /* fitted */\n",
       "  background-color: var(--sklearn-color-fitted-level-3);\n",
       "}\n",
       "</style><div id=\"sk-container-id-2\" class=\"sk-top-container\"><div class=\"sk-text-repr-fallback\"><pre>RandomizedSearchCV(cv=5,\n",
       "                   estimator=Pipeline(steps=[(&#x27;preprocessor&#x27;,\n",
       "                                              Pipeline(steps=[(&#x27;vectorize_model&#x27;,\n",
       "                                                               TfidfVectorizer(max_features=50000))])),\n",
       "                                             (&#x27;models&#x27;,\n",
       "                                              DecisionTreeClassifier(random_state=42))]),\n",
       "                   n_jobs=-1,\n",
       "                   param_distributions=[{&#x27;models&#x27;: [DecisionTreeClassifier(random_state=42)],\n",
       "                                         &#x27;models__class_weight&#x27;: [&#x27;balanced&#x27;],\n",
       "                                         &#x27;models__max_depth&#x27;: range(10, 25),\n",
       "                                         &#x27;models__max_features&#x27;: range(10, 100),\n",
       "                                         &#x27;models__min_samples_leaf&#x27;: range(2, 10),\n",
       "                                         &#x27;models__min_samples_split&#x27;: range(2, 50)}],\n",
       "                   random_state=42, scoring=&#x27;f1&#x27;)</pre><b>In a Jupyter environment, please rerun this cell to show the HTML representation or trust the notebook. <br />On GitHub, the HTML representation is unable to render, please try loading this page with nbviewer.org.</b></div><div class=\"sk-container\" hidden><div class=\"sk-item sk-dashed-wrapped\"><div class=\"sk-label-container\"><div class=\"sk-label fitted sk-toggleable\"><input class=\"sk-toggleable__control sk-hidden--visually\" id=\"sk-estimator-id-6\" type=\"checkbox\" ><label for=\"sk-estimator-id-6\" class=\"sk-toggleable__label fitted sk-toggleable__label-arrow fitted\">&nbsp;&nbsp;RandomizedSearchCV<a class=\"sk-estimator-doc-link fitted\" rel=\"noreferrer\" target=\"_blank\" href=\"https://scikit-learn.org/1.4/modules/generated/sklearn.model_selection.RandomizedSearchCV.html\">?<span>Documentation for RandomizedSearchCV</span></a><span class=\"sk-estimator-doc-link fitted\">i<span>Fitted</span></span></label><div class=\"sk-toggleable__content fitted\"><pre>RandomizedSearchCV(cv=5,\n",
       "                   estimator=Pipeline(steps=[(&#x27;preprocessor&#x27;,\n",
       "                                              Pipeline(steps=[(&#x27;vectorize_model&#x27;,\n",
       "                                                               TfidfVectorizer(max_features=50000))])),\n",
       "                                             (&#x27;models&#x27;,\n",
       "                                              DecisionTreeClassifier(random_state=42))]),\n",
       "                   n_jobs=-1,\n",
       "                   param_distributions=[{&#x27;models&#x27;: [DecisionTreeClassifier(random_state=42)],\n",
       "                                         &#x27;models__class_weight&#x27;: [&#x27;balanced&#x27;],\n",
       "                                         &#x27;models__max_depth&#x27;: range(10, 25),\n",
       "                                         &#x27;models__max_features&#x27;: range(10, 100),\n",
       "                                         &#x27;models__min_samples_leaf&#x27;: range(2, 10),\n",
       "                                         &#x27;models__min_samples_split&#x27;: range(2, 50)}],\n",
       "                   random_state=42, scoring=&#x27;f1&#x27;)</pre></div> </div></div><div class=\"sk-parallel\"><div class=\"sk-parallel-item\"><div class=\"sk-item\"><div class=\"sk-label-container\"><div class=\"sk-label fitted sk-toggleable\"><input class=\"sk-toggleable__control sk-hidden--visually\" id=\"sk-estimator-id-7\" type=\"checkbox\" ><label for=\"sk-estimator-id-7\" class=\"sk-toggleable__label fitted sk-toggleable__label-arrow fitted\">estimator: Pipeline</label><div class=\"sk-toggleable__content fitted\"><pre>Pipeline(steps=[(&#x27;preprocessor&#x27;,\n",
       "                 Pipeline(steps=[(&#x27;vectorize_model&#x27;,\n",
       "                                  TfidfVectorizer(max_features=50000))])),\n",
       "                (&#x27;models&#x27;, DecisionTreeClassifier(random_state=42))])</pre></div> </div></div><div class=\"sk-serial\"><div class=\"sk-item\"><div class=\"sk-serial\"><div class=\"sk-item\"><div class=\"sk-label-container\"><div class=\"sk-label fitted sk-toggleable\"><input class=\"sk-toggleable__control sk-hidden--visually\" id=\"sk-estimator-id-8\" type=\"checkbox\" ><label for=\"sk-estimator-id-8\" class=\"sk-toggleable__label fitted sk-toggleable__label-arrow fitted\">&nbsp;preprocessor: Pipeline<a class=\"sk-estimator-doc-link fitted\" rel=\"noreferrer\" target=\"_blank\" href=\"https://scikit-learn.org/1.4/modules/generated/sklearn.pipeline.Pipeline.html\">?<span>Documentation for preprocessor: Pipeline</span></a></label><div class=\"sk-toggleable__content fitted\"><pre>Pipeline(steps=[(&#x27;vectorize_model&#x27;, TfidfVectorizer(max_features=50000))])</pre></div> </div></div><div class=\"sk-serial\"><div class=\"sk-item\"><div class=\"sk-estimator fitted sk-toggleable\"><input class=\"sk-toggleable__control sk-hidden--visually\" id=\"sk-estimator-id-9\" type=\"checkbox\" ><label for=\"sk-estimator-id-9\" class=\"sk-toggleable__label fitted sk-toggleable__label-arrow fitted\">&nbsp;TfidfVectorizer<a class=\"sk-estimator-doc-link fitted\" rel=\"noreferrer\" target=\"_blank\" href=\"https://scikit-learn.org/1.4/modules/generated/sklearn.feature_extraction.text.TfidfVectorizer.html\">?<span>Documentation for TfidfVectorizer</span></a></label><div class=\"sk-toggleable__content fitted\"><pre>TfidfVectorizer(max_features=50000)</pre></div> </div></div></div></div><div class=\"sk-item\"><div class=\"sk-estimator fitted sk-toggleable\"><input class=\"sk-toggleable__control sk-hidden--visually\" id=\"sk-estimator-id-10\" type=\"checkbox\" ><label for=\"sk-estimator-id-10\" class=\"sk-toggleable__label fitted sk-toggleable__label-arrow fitted\">&nbsp;DecisionTreeClassifier<a class=\"sk-estimator-doc-link fitted\" rel=\"noreferrer\" target=\"_blank\" href=\"https://scikit-learn.org/1.4/modules/generated/sklearn.tree.DecisionTreeClassifier.html\">?<span>Documentation for DecisionTreeClassifier</span></a></label><div class=\"sk-toggleable__content fitted\"><pre>DecisionTreeClassifier(random_state=42)</pre></div> </div></div></div></div></div></div></div></div></div></div></div>"
      ],
      "text/plain": [
       "RandomizedSearchCV(cv=5,\n",
       "                   estimator=Pipeline(steps=[('preprocessor',\n",
       "                                              Pipeline(steps=[('vectorize_model',\n",
       "                                                               TfidfVectorizer(max_features=50000))])),\n",
       "                                             ('models',\n",
       "                                              DecisionTreeClassifier(random_state=42))]),\n",
       "                   n_jobs=-1,\n",
       "                   param_distributions=[{'models': [DecisionTreeClassifier(random_state=42)],\n",
       "                                         'models__class_weight': ['balanced'],\n",
       "                                         'models__max_depth': range(10, 25),\n",
       "                                         'models__max_features': range(10, 100),\n",
       "                                         'models__min_samples_leaf': range(2, 10),\n",
       "                                         'models__min_samples_split': range(2, 50)}],\n",
       "                   random_state=42, scoring='f1')"
      ]
     },
     "execution_count": 59,
     "metadata": {},
     "output_type": "execute_result"
    }
   ],
   "source": [
    "randomized_search_tree.fit(\n",
    "    X_train_used, y_train_used\n",
    ")"
   ]
  },
  {
   "cell_type": "code",
   "execution_count": 60,
   "metadata": {},
   "outputs": [],
   "source": [
    "best_tree = randomized_search_tree.best_estimator_"
   ]
  },
  {
   "cell_type": "code",
   "execution_count": 61,
   "metadata": {},
   "outputs": [
    {
     "data": {
      "text/plain": [
       "0.22732467554526176"
      ]
     },
     "execution_count": 61,
     "metadata": {},
     "output_type": "execute_result"
    }
   ],
   "source": [
    "best_F1_tree = randomized_search_tree.best_score_\n",
    "best_F1_tree"
   ]
  },
  {
   "cell_type": "code",
   "execution_count": 62,
   "metadata": {},
   "outputs": [],
   "source": [
    "params_best_tree = pd.DataFrame(\n",
    "    randomized_search_tree.cv_results_\n",
    ").sort_values(by='rank_test_score')"
   ]
  },
  {
   "cell_type": "markdown",
   "metadata": {},
   "source": [
    "Модель решающего дерева имеет низкий F1 на кросс-валидации, что сразу исключает ее из подходящих моделей."
   ]
  },
  {
   "cell_type": "markdown",
   "metadata": {},
   "source": [
    "#### RandomForest"
   ]
  },
  {
   "cell_type": "code",
   "execution_count": 63,
   "metadata": {},
   "outputs": [],
   "source": [
    "param_grid_forest = [\n",
    "    # словарь для модели DecisionTreeRegressor()\n",
    "    {\n",
    "        'models': [RandomForestClassifier(random_state=RANDOM_STATE)],\n",
    "        'models__class_weight': ['balanced'],\n",
    "        'models__max_depth': range(10, 25),\n",
    "        'models__max_features': range(10, 100),\n",
    "        'models__min_samples_split': range(2, 50),\n",
    "        'models__min_samples_leaf': range(2, 10)  \n",
    "    }\n",
    "]"
   ]
  },
  {
   "cell_type": "code",
   "execution_count": 64,
   "metadata": {},
   "outputs": [],
   "source": [
    "randomized_search_forest = RandomizedSearchCV(\n",
    "    pipe_final, \n",
    "    param_grid_forest, \n",
    "    cv=5,\n",
    "    scoring='f1',\n",
    "    n_jobs=-1,\n",
    "    random_state=RANDOM_STATE,\n",
    "    verbose=1\n",
    ")"
   ]
  },
  {
   "cell_type": "code",
   "execution_count": 65,
   "metadata": {},
   "outputs": [
    {
     "name": "stdout",
     "output_type": "stream",
     "text": [
      "Fitting 5 folds for each of 10 candidates, totalling 50 fits\n"
     ]
    },
    {
     "data": {
      "text/html": [
       "<style>#sk-container-id-3 {\n",
       "  /* Definition of color scheme common for light and dark mode */\n",
       "  --sklearn-color-text: black;\n",
       "  --sklearn-color-line: gray;\n",
       "  /* Definition of color scheme for unfitted estimators */\n",
       "  --sklearn-color-unfitted-level-0: #fff5e6;\n",
       "  --sklearn-color-unfitted-level-1: #f6e4d2;\n",
       "  --sklearn-color-unfitted-level-2: #ffe0b3;\n",
       "  --sklearn-color-unfitted-level-3: chocolate;\n",
       "  /* Definition of color scheme for fitted estimators */\n",
       "  --sklearn-color-fitted-level-0: #f0f8ff;\n",
       "  --sklearn-color-fitted-level-1: #d4ebff;\n",
       "  --sklearn-color-fitted-level-2: #b3dbfd;\n",
       "  --sklearn-color-fitted-level-3: cornflowerblue;\n",
       "\n",
       "  /* Specific color for light theme */\n",
       "  --sklearn-color-text-on-default-background: var(--sg-text-color, var(--theme-code-foreground, var(--jp-content-font-color1, black)));\n",
       "  --sklearn-color-background: var(--sg-background-color, var(--theme-background, var(--jp-layout-color0, white)));\n",
       "  --sklearn-color-border-box: var(--sg-text-color, var(--theme-code-foreground, var(--jp-content-font-color1, black)));\n",
       "  --sklearn-color-icon: #696969;\n",
       "\n",
       "  @media (prefers-color-scheme: dark) {\n",
       "    /* Redefinition of color scheme for dark theme */\n",
       "    --sklearn-color-text-on-default-background: var(--sg-text-color, var(--theme-code-foreground, var(--jp-content-font-color1, white)));\n",
       "    --sklearn-color-background: var(--sg-background-color, var(--theme-background, var(--jp-layout-color0, #111)));\n",
       "    --sklearn-color-border-box: var(--sg-text-color, var(--theme-code-foreground, var(--jp-content-font-color1, white)));\n",
       "    --sklearn-color-icon: #878787;\n",
       "  }\n",
       "}\n",
       "\n",
       "#sk-container-id-3 {\n",
       "  color: var(--sklearn-color-text);\n",
       "}\n",
       "\n",
       "#sk-container-id-3 pre {\n",
       "  padding: 0;\n",
       "}\n",
       "\n",
       "#sk-container-id-3 input.sk-hidden--visually {\n",
       "  border: 0;\n",
       "  clip: rect(1px 1px 1px 1px);\n",
       "  clip: rect(1px, 1px, 1px, 1px);\n",
       "  height: 1px;\n",
       "  margin: -1px;\n",
       "  overflow: hidden;\n",
       "  padding: 0;\n",
       "  position: absolute;\n",
       "  width: 1px;\n",
       "}\n",
       "\n",
       "#sk-container-id-3 div.sk-dashed-wrapped {\n",
       "  border: 1px dashed var(--sklearn-color-line);\n",
       "  margin: 0 0.4em 0.5em 0.4em;\n",
       "  box-sizing: border-box;\n",
       "  padding-bottom: 0.4em;\n",
       "  background-color: var(--sklearn-color-background);\n",
       "}\n",
       "\n",
       "#sk-container-id-3 div.sk-container {\n",
       "  /* jupyter's `normalize.less` sets `[hidden] { display: none; }`\n",
       "     but bootstrap.min.css set `[hidden] { display: none !important; }`\n",
       "     so we also need the `!important` here to be able to override the\n",
       "     default hidden behavior on the sphinx rendered scikit-learn.org.\n",
       "     See: https://github.com/scikit-learn/scikit-learn/issues/21755 */\n",
       "  display: inline-block !important;\n",
       "  position: relative;\n",
       "}\n",
       "\n",
       "#sk-container-id-3 div.sk-text-repr-fallback {\n",
       "  display: none;\n",
       "}\n",
       "\n",
       "div.sk-parallel-item,\n",
       "div.sk-serial,\n",
       "div.sk-item {\n",
       "  /* draw centered vertical line to link estimators */\n",
       "  background-image: linear-gradient(var(--sklearn-color-text-on-default-background), var(--sklearn-color-text-on-default-background));\n",
       "  background-size: 2px 100%;\n",
       "  background-repeat: no-repeat;\n",
       "  background-position: center center;\n",
       "}\n",
       "\n",
       "/* Parallel-specific style estimator block */\n",
       "\n",
       "#sk-container-id-3 div.sk-parallel-item::after {\n",
       "  content: \"\";\n",
       "  width: 100%;\n",
       "  border-bottom: 2px solid var(--sklearn-color-text-on-default-background);\n",
       "  flex-grow: 1;\n",
       "}\n",
       "\n",
       "#sk-container-id-3 div.sk-parallel {\n",
       "  display: flex;\n",
       "  align-items: stretch;\n",
       "  justify-content: center;\n",
       "  background-color: var(--sklearn-color-background);\n",
       "  position: relative;\n",
       "}\n",
       "\n",
       "#sk-container-id-3 div.sk-parallel-item {\n",
       "  display: flex;\n",
       "  flex-direction: column;\n",
       "}\n",
       "\n",
       "#sk-container-id-3 div.sk-parallel-item:first-child::after {\n",
       "  align-self: flex-end;\n",
       "  width: 50%;\n",
       "}\n",
       "\n",
       "#sk-container-id-3 div.sk-parallel-item:last-child::after {\n",
       "  align-self: flex-start;\n",
       "  width: 50%;\n",
       "}\n",
       "\n",
       "#sk-container-id-3 div.sk-parallel-item:only-child::after {\n",
       "  width: 0;\n",
       "}\n",
       "\n",
       "/* Serial-specific style estimator block */\n",
       "\n",
       "#sk-container-id-3 div.sk-serial {\n",
       "  display: flex;\n",
       "  flex-direction: column;\n",
       "  align-items: center;\n",
       "  background-color: var(--sklearn-color-background);\n",
       "  padding-right: 1em;\n",
       "  padding-left: 1em;\n",
       "}\n",
       "\n",
       "\n",
       "/* Toggleable style: style used for estimator/Pipeline/ColumnTransformer box that is\n",
       "clickable and can be expanded/collapsed.\n",
       "- Pipeline and ColumnTransformer use this feature and define the default style\n",
       "- Estimators will overwrite some part of the style using the `sk-estimator` class\n",
       "*/\n",
       "\n",
       "/* Pipeline and ColumnTransformer style (default) */\n",
       "\n",
       "#sk-container-id-3 div.sk-toggleable {\n",
       "  /* Default theme specific background. It is overwritten whether we have a\n",
       "  specific estimator or a Pipeline/ColumnTransformer */\n",
       "  background-color: var(--sklearn-color-background);\n",
       "}\n",
       "\n",
       "/* Toggleable label */\n",
       "#sk-container-id-3 label.sk-toggleable__label {\n",
       "  cursor: pointer;\n",
       "  display: block;\n",
       "  width: 100%;\n",
       "  margin-bottom: 0;\n",
       "  padding: 0.5em;\n",
       "  box-sizing: border-box;\n",
       "  text-align: center;\n",
       "}\n",
       "\n",
       "#sk-container-id-3 label.sk-toggleable__label-arrow:before {\n",
       "  /* Arrow on the left of the label */\n",
       "  content: \"▸\";\n",
       "  float: left;\n",
       "  margin-right: 0.25em;\n",
       "  color: var(--sklearn-color-icon);\n",
       "}\n",
       "\n",
       "#sk-container-id-3 label.sk-toggleable__label-arrow:hover:before {\n",
       "  color: var(--sklearn-color-text);\n",
       "}\n",
       "\n",
       "/* Toggleable content - dropdown */\n",
       "\n",
       "#sk-container-id-3 div.sk-toggleable__content {\n",
       "  max-height: 0;\n",
       "  max-width: 0;\n",
       "  overflow: hidden;\n",
       "  text-align: left;\n",
       "  /* unfitted */\n",
       "  background-color: var(--sklearn-color-unfitted-level-0);\n",
       "}\n",
       "\n",
       "#sk-container-id-3 div.sk-toggleable__content.fitted {\n",
       "  /* fitted */\n",
       "  background-color: var(--sklearn-color-fitted-level-0);\n",
       "}\n",
       "\n",
       "#sk-container-id-3 div.sk-toggleable__content pre {\n",
       "  margin: 0.2em;\n",
       "  border-radius: 0.25em;\n",
       "  color: var(--sklearn-color-text);\n",
       "  /* unfitted */\n",
       "  background-color: var(--sklearn-color-unfitted-level-0);\n",
       "}\n",
       "\n",
       "#sk-container-id-3 div.sk-toggleable__content.fitted pre {\n",
       "  /* unfitted */\n",
       "  background-color: var(--sklearn-color-fitted-level-0);\n",
       "}\n",
       "\n",
       "#sk-container-id-3 input.sk-toggleable__control:checked~div.sk-toggleable__content {\n",
       "  /* Expand drop-down */\n",
       "  max-height: 200px;\n",
       "  max-width: 100%;\n",
       "  overflow: auto;\n",
       "}\n",
       "\n",
       "#sk-container-id-3 input.sk-toggleable__control:checked~label.sk-toggleable__label-arrow:before {\n",
       "  content: \"▾\";\n",
       "}\n",
       "\n",
       "/* Pipeline/ColumnTransformer-specific style */\n",
       "\n",
       "#sk-container-id-3 div.sk-label input.sk-toggleable__control:checked~label.sk-toggleable__label {\n",
       "  color: var(--sklearn-color-text);\n",
       "  background-color: var(--sklearn-color-unfitted-level-2);\n",
       "}\n",
       "\n",
       "#sk-container-id-3 div.sk-label.fitted input.sk-toggleable__control:checked~label.sk-toggleable__label {\n",
       "  background-color: var(--sklearn-color-fitted-level-2);\n",
       "}\n",
       "\n",
       "/* Estimator-specific style */\n",
       "\n",
       "/* Colorize estimator box */\n",
       "#sk-container-id-3 div.sk-estimator input.sk-toggleable__control:checked~label.sk-toggleable__label {\n",
       "  /* unfitted */\n",
       "  background-color: var(--sklearn-color-unfitted-level-2);\n",
       "}\n",
       "\n",
       "#sk-container-id-3 div.sk-estimator.fitted input.sk-toggleable__control:checked~label.sk-toggleable__label {\n",
       "  /* fitted */\n",
       "  background-color: var(--sklearn-color-fitted-level-2);\n",
       "}\n",
       "\n",
       "#sk-container-id-3 div.sk-label label.sk-toggleable__label,\n",
       "#sk-container-id-3 div.sk-label label {\n",
       "  /* The background is the default theme color */\n",
       "  color: var(--sklearn-color-text-on-default-background);\n",
       "}\n",
       "\n",
       "/* On hover, darken the color of the background */\n",
       "#sk-container-id-3 div.sk-label:hover label.sk-toggleable__label {\n",
       "  color: var(--sklearn-color-text);\n",
       "  background-color: var(--sklearn-color-unfitted-level-2);\n",
       "}\n",
       "\n",
       "/* Label box, darken color on hover, fitted */\n",
       "#sk-container-id-3 div.sk-label.fitted:hover label.sk-toggleable__label.fitted {\n",
       "  color: var(--sklearn-color-text);\n",
       "  background-color: var(--sklearn-color-fitted-level-2);\n",
       "}\n",
       "\n",
       "/* Estimator label */\n",
       "\n",
       "#sk-container-id-3 div.sk-label label {\n",
       "  font-family: monospace;\n",
       "  font-weight: bold;\n",
       "  display: inline-block;\n",
       "  line-height: 1.2em;\n",
       "}\n",
       "\n",
       "#sk-container-id-3 div.sk-label-container {\n",
       "  text-align: center;\n",
       "}\n",
       "\n",
       "/* Estimator-specific */\n",
       "#sk-container-id-3 div.sk-estimator {\n",
       "  font-family: monospace;\n",
       "  border: 1px dotted var(--sklearn-color-border-box);\n",
       "  border-radius: 0.25em;\n",
       "  box-sizing: border-box;\n",
       "  margin-bottom: 0.5em;\n",
       "  /* unfitted */\n",
       "  background-color: var(--sklearn-color-unfitted-level-0);\n",
       "}\n",
       "\n",
       "#sk-container-id-3 div.sk-estimator.fitted {\n",
       "  /* fitted */\n",
       "  background-color: var(--sklearn-color-fitted-level-0);\n",
       "}\n",
       "\n",
       "/* on hover */\n",
       "#sk-container-id-3 div.sk-estimator:hover {\n",
       "  /* unfitted */\n",
       "  background-color: var(--sklearn-color-unfitted-level-2);\n",
       "}\n",
       "\n",
       "#sk-container-id-3 div.sk-estimator.fitted:hover {\n",
       "  /* fitted */\n",
       "  background-color: var(--sklearn-color-fitted-level-2);\n",
       "}\n",
       "\n",
       "/* Specification for estimator info (e.g. \"i\" and \"?\") */\n",
       "\n",
       "/* Common style for \"i\" and \"?\" */\n",
       "\n",
       ".sk-estimator-doc-link,\n",
       "a:link.sk-estimator-doc-link,\n",
       "a:visited.sk-estimator-doc-link {\n",
       "  float: right;\n",
       "  font-size: smaller;\n",
       "  line-height: 1em;\n",
       "  font-family: monospace;\n",
       "  background-color: var(--sklearn-color-background);\n",
       "  border-radius: 1em;\n",
       "  height: 1em;\n",
       "  width: 1em;\n",
       "  text-decoration: none !important;\n",
       "  margin-left: 1ex;\n",
       "  /* unfitted */\n",
       "  border: var(--sklearn-color-unfitted-level-1) 1pt solid;\n",
       "  color: var(--sklearn-color-unfitted-level-1);\n",
       "}\n",
       "\n",
       ".sk-estimator-doc-link.fitted,\n",
       "a:link.sk-estimator-doc-link.fitted,\n",
       "a:visited.sk-estimator-doc-link.fitted {\n",
       "  /* fitted */\n",
       "  border: var(--sklearn-color-fitted-level-1) 1pt solid;\n",
       "  color: var(--sklearn-color-fitted-level-1);\n",
       "}\n",
       "\n",
       "/* On hover */\n",
       "div.sk-estimator:hover .sk-estimator-doc-link:hover,\n",
       ".sk-estimator-doc-link:hover,\n",
       "div.sk-label-container:hover .sk-estimator-doc-link:hover,\n",
       ".sk-estimator-doc-link:hover {\n",
       "  /* unfitted */\n",
       "  background-color: var(--sklearn-color-unfitted-level-3);\n",
       "  color: var(--sklearn-color-background);\n",
       "  text-decoration: none;\n",
       "}\n",
       "\n",
       "div.sk-estimator.fitted:hover .sk-estimator-doc-link.fitted:hover,\n",
       ".sk-estimator-doc-link.fitted:hover,\n",
       "div.sk-label-container:hover .sk-estimator-doc-link.fitted:hover,\n",
       ".sk-estimator-doc-link.fitted:hover {\n",
       "  /* fitted */\n",
       "  background-color: var(--sklearn-color-fitted-level-3);\n",
       "  color: var(--sklearn-color-background);\n",
       "  text-decoration: none;\n",
       "}\n",
       "\n",
       "/* Span, style for the box shown on hovering the info icon */\n",
       ".sk-estimator-doc-link span {\n",
       "  display: none;\n",
       "  z-index: 9999;\n",
       "  position: relative;\n",
       "  font-weight: normal;\n",
       "  right: .2ex;\n",
       "  padding: .5ex;\n",
       "  margin: .5ex;\n",
       "  width: min-content;\n",
       "  min-width: 20ex;\n",
       "  max-width: 50ex;\n",
       "  color: var(--sklearn-color-text);\n",
       "  box-shadow: 2pt 2pt 4pt #999;\n",
       "  /* unfitted */\n",
       "  background: var(--sklearn-color-unfitted-level-0);\n",
       "  border: .5pt solid var(--sklearn-color-unfitted-level-3);\n",
       "}\n",
       "\n",
       ".sk-estimator-doc-link.fitted span {\n",
       "  /* fitted */\n",
       "  background: var(--sklearn-color-fitted-level-0);\n",
       "  border: var(--sklearn-color-fitted-level-3);\n",
       "}\n",
       "\n",
       ".sk-estimator-doc-link:hover span {\n",
       "  display: block;\n",
       "}\n",
       "\n",
       "/* \"?\"-specific style due to the `<a>` HTML tag */\n",
       "\n",
       "#sk-container-id-3 a.estimator_doc_link {\n",
       "  float: right;\n",
       "  font-size: 1rem;\n",
       "  line-height: 1em;\n",
       "  font-family: monospace;\n",
       "  background-color: var(--sklearn-color-background);\n",
       "  border-radius: 1rem;\n",
       "  height: 1rem;\n",
       "  width: 1rem;\n",
       "  text-decoration: none;\n",
       "  /* unfitted */\n",
       "  color: var(--sklearn-color-unfitted-level-1);\n",
       "  border: var(--sklearn-color-unfitted-level-1) 1pt solid;\n",
       "}\n",
       "\n",
       "#sk-container-id-3 a.estimator_doc_link.fitted {\n",
       "  /* fitted */\n",
       "  border: var(--sklearn-color-fitted-level-1) 1pt solid;\n",
       "  color: var(--sklearn-color-fitted-level-1);\n",
       "}\n",
       "\n",
       "/* On hover */\n",
       "#sk-container-id-3 a.estimator_doc_link:hover {\n",
       "  /* unfitted */\n",
       "  background-color: var(--sklearn-color-unfitted-level-3);\n",
       "  color: var(--sklearn-color-background);\n",
       "  text-decoration: none;\n",
       "}\n",
       "\n",
       "#sk-container-id-3 a.estimator_doc_link.fitted:hover {\n",
       "  /* fitted */\n",
       "  background-color: var(--sklearn-color-fitted-level-3);\n",
       "}\n",
       "</style><div id=\"sk-container-id-3\" class=\"sk-top-container\"><div class=\"sk-text-repr-fallback\"><pre>RandomizedSearchCV(cv=5,\n",
       "                   estimator=Pipeline(steps=[(&#x27;preprocessor&#x27;,\n",
       "                                              Pipeline(steps=[(&#x27;vectorize_model&#x27;,\n",
       "                                                               TfidfVectorizer(max_features=50000))])),\n",
       "                                             (&#x27;models&#x27;,\n",
       "                                              DecisionTreeClassifier(random_state=42))]),\n",
       "                   n_jobs=-1,\n",
       "                   param_distributions=[{&#x27;models&#x27;: [RandomForestClassifier(random_state=42)],\n",
       "                                         &#x27;models__class_weight&#x27;: [&#x27;balanced&#x27;],\n",
       "                                         &#x27;models__max_depth&#x27;: range(10, 25),\n",
       "                                         &#x27;models__max_features&#x27;: range(10, 100),\n",
       "                                         &#x27;models__min_samples_leaf&#x27;: range(2, 10),\n",
       "                                         &#x27;models__min_samples_split&#x27;: range(2, 50)}],\n",
       "                   random_state=42, scoring=&#x27;f1&#x27;, verbose=1)</pre><b>In a Jupyter environment, please rerun this cell to show the HTML representation or trust the notebook. <br />On GitHub, the HTML representation is unable to render, please try loading this page with nbviewer.org.</b></div><div class=\"sk-container\" hidden><div class=\"sk-item sk-dashed-wrapped\"><div class=\"sk-label-container\"><div class=\"sk-label fitted sk-toggleable\"><input class=\"sk-toggleable__control sk-hidden--visually\" id=\"sk-estimator-id-11\" type=\"checkbox\" ><label for=\"sk-estimator-id-11\" class=\"sk-toggleable__label fitted sk-toggleable__label-arrow fitted\">&nbsp;&nbsp;RandomizedSearchCV<a class=\"sk-estimator-doc-link fitted\" rel=\"noreferrer\" target=\"_blank\" href=\"https://scikit-learn.org/1.4/modules/generated/sklearn.model_selection.RandomizedSearchCV.html\">?<span>Documentation for RandomizedSearchCV</span></a><span class=\"sk-estimator-doc-link fitted\">i<span>Fitted</span></span></label><div class=\"sk-toggleable__content fitted\"><pre>RandomizedSearchCV(cv=5,\n",
       "                   estimator=Pipeline(steps=[(&#x27;preprocessor&#x27;,\n",
       "                                              Pipeline(steps=[(&#x27;vectorize_model&#x27;,\n",
       "                                                               TfidfVectorizer(max_features=50000))])),\n",
       "                                             (&#x27;models&#x27;,\n",
       "                                              DecisionTreeClassifier(random_state=42))]),\n",
       "                   n_jobs=-1,\n",
       "                   param_distributions=[{&#x27;models&#x27;: [RandomForestClassifier(random_state=42)],\n",
       "                                         &#x27;models__class_weight&#x27;: [&#x27;balanced&#x27;],\n",
       "                                         &#x27;models__max_depth&#x27;: range(10, 25),\n",
       "                                         &#x27;models__max_features&#x27;: range(10, 100),\n",
       "                                         &#x27;models__min_samples_leaf&#x27;: range(2, 10),\n",
       "                                         &#x27;models__min_samples_split&#x27;: range(2, 50)}],\n",
       "                   random_state=42, scoring=&#x27;f1&#x27;, verbose=1)</pre></div> </div></div><div class=\"sk-parallel\"><div class=\"sk-parallel-item\"><div class=\"sk-item\"><div class=\"sk-label-container\"><div class=\"sk-label fitted sk-toggleable\"><input class=\"sk-toggleable__control sk-hidden--visually\" id=\"sk-estimator-id-12\" type=\"checkbox\" ><label for=\"sk-estimator-id-12\" class=\"sk-toggleable__label fitted sk-toggleable__label-arrow fitted\">estimator: Pipeline</label><div class=\"sk-toggleable__content fitted\"><pre>Pipeline(steps=[(&#x27;preprocessor&#x27;,\n",
       "                 Pipeline(steps=[(&#x27;vectorize_model&#x27;,\n",
       "                                  TfidfVectorizer(max_features=50000))])),\n",
       "                (&#x27;models&#x27;, DecisionTreeClassifier(random_state=42))])</pre></div> </div></div><div class=\"sk-serial\"><div class=\"sk-item\"><div class=\"sk-serial\"><div class=\"sk-item\"><div class=\"sk-label-container\"><div class=\"sk-label fitted sk-toggleable\"><input class=\"sk-toggleable__control sk-hidden--visually\" id=\"sk-estimator-id-13\" type=\"checkbox\" ><label for=\"sk-estimator-id-13\" class=\"sk-toggleable__label fitted sk-toggleable__label-arrow fitted\">&nbsp;preprocessor: Pipeline<a class=\"sk-estimator-doc-link fitted\" rel=\"noreferrer\" target=\"_blank\" href=\"https://scikit-learn.org/1.4/modules/generated/sklearn.pipeline.Pipeline.html\">?<span>Documentation for preprocessor: Pipeline</span></a></label><div class=\"sk-toggleable__content fitted\"><pre>Pipeline(steps=[(&#x27;vectorize_model&#x27;, TfidfVectorizer(max_features=50000))])</pre></div> </div></div><div class=\"sk-serial\"><div class=\"sk-item\"><div class=\"sk-estimator fitted sk-toggleable\"><input class=\"sk-toggleable__control sk-hidden--visually\" id=\"sk-estimator-id-14\" type=\"checkbox\" ><label for=\"sk-estimator-id-14\" class=\"sk-toggleable__label fitted sk-toggleable__label-arrow fitted\">&nbsp;TfidfVectorizer<a class=\"sk-estimator-doc-link fitted\" rel=\"noreferrer\" target=\"_blank\" href=\"https://scikit-learn.org/1.4/modules/generated/sklearn.feature_extraction.text.TfidfVectorizer.html\">?<span>Documentation for TfidfVectorizer</span></a></label><div class=\"sk-toggleable__content fitted\"><pre>TfidfVectorizer(max_features=50000)</pre></div> </div></div></div></div><div class=\"sk-item\"><div class=\"sk-estimator fitted sk-toggleable\"><input class=\"sk-toggleable__control sk-hidden--visually\" id=\"sk-estimator-id-15\" type=\"checkbox\" ><label for=\"sk-estimator-id-15\" class=\"sk-toggleable__label fitted sk-toggleable__label-arrow fitted\">&nbsp;DecisionTreeClassifier<a class=\"sk-estimator-doc-link fitted\" rel=\"noreferrer\" target=\"_blank\" href=\"https://scikit-learn.org/1.4/modules/generated/sklearn.tree.DecisionTreeClassifier.html\">?<span>Documentation for DecisionTreeClassifier</span></a></label><div class=\"sk-toggleable__content fitted\"><pre>DecisionTreeClassifier(random_state=42)</pre></div> </div></div></div></div></div></div></div></div></div></div></div>"
      ],
      "text/plain": [
       "RandomizedSearchCV(cv=5,\n",
       "                   estimator=Pipeline(steps=[('preprocessor',\n",
       "                                              Pipeline(steps=[('vectorize_model',\n",
       "                                                               TfidfVectorizer(max_features=50000))])),\n",
       "                                             ('models',\n",
       "                                              DecisionTreeClassifier(random_state=42))]),\n",
       "                   n_jobs=-1,\n",
       "                   param_distributions=[{'models': [RandomForestClassifier(random_state=42)],\n",
       "                                         'models__class_weight': ['balanced'],\n",
       "                                         'models__max_depth': range(10, 25),\n",
       "                                         'models__max_features': range(10, 100),\n",
       "                                         'models__min_samples_leaf': range(2, 10),\n",
       "                                         'models__min_samples_split': range(2, 50)}],\n",
       "                   random_state=42, scoring='f1', verbose=1)"
      ]
     },
     "execution_count": 65,
     "metadata": {},
     "output_type": "execute_result"
    }
   ],
   "source": [
    "randomized_search_forest.fit(\n",
    "    X_train_used, y_train_used\n",
    ")"
   ]
  },
  {
   "cell_type": "code",
   "execution_count": 66,
   "metadata": {},
   "outputs": [],
   "source": [
    "best_forest = randomized_search_forest.best_estimator_"
   ]
  },
  {
   "cell_type": "code",
   "execution_count": 67,
   "metadata": {},
   "outputs": [
    {
     "data": {
      "text/plain": [
       "0.33558369775828767"
      ]
     },
     "execution_count": 67,
     "metadata": {},
     "output_type": "execute_result"
    }
   ],
   "source": [
    "best_F1_forest = randomized_search_forest.best_score_\n",
    "best_F1_forest"
   ]
  },
  {
   "cell_type": "code",
   "execution_count": 68,
   "metadata": {},
   "outputs": [],
   "source": [
    "params_best_forest = pd.DataFrame(\n",
    "    randomized_search_forest.cv_results_\n",
    ").sort_values(by='rank_test_score')"
   ]
  },
  {
   "cell_type": "markdown",
   "metadata": {},
   "source": [
    "Модель рандомного леста имеет больший F1 по сравнению с решающим деревом, но низкий F1 на кросс-валидации, что сразу исключает ее из подходящих моделей."
   ]
  },
  {
   "cell_type": "markdown",
   "metadata": {},
   "source": [
    "Далее проверим модели на тестовых данных"
   ]
  },
  {
   "cell_type": "markdown",
   "metadata": {},
   "source": [
    "### Анализ моделей"
   ]
  },
  {
   "cell_type": "code",
   "execution_count": 70,
   "metadata": {},
   "outputs": [
    {
     "name": "stdout",
     "output_type": "stream",
     "text": [
      "Метрика F1 на CV: 0.7651546225270793\n",
      "Отличие от F1 целевого: -2.02 %\n"
     ]
    }
   ],
   "source": [
    "div_linear, percent_linear = check_F1(\n",
    "    best_F1_linear, target_test, F1=1\n",
    ")"
   ]
  },
  {
   "cell_type": "code",
   "execution_count": 71,
   "metadata": {},
   "outputs": [
    {
     "name": "stdout",
     "output_type": "stream",
     "text": [
      "Метрика F1 на CV: 0.22732467554526176\n",
      "Отличие от F1 целевого: 69.69 %\n"
     ]
    }
   ],
   "source": [
    "div_tree, percent_tree = check_F1(best_F1_tree, target_test, F1=1)"
   ]
  },
  {
   "cell_type": "code",
   "execution_count": 72,
   "metadata": {},
   "outputs": [
    {
     "name": "stdout",
     "output_type": "stream",
     "text": [
      "Метрика F1 на CV: 0.33558369775828767\n",
      "Отличие от F1 целевого: 55.26 %\n"
     ]
    }
   ],
   "source": [
    "div_forest, percent_forest = check_F1(\n",
    "    best_F1_forest, target_test, F1=1\n",
    ")"
   ]
  },
  {
   "cell_type": "code",
   "execution_count": 75,
   "metadata": {},
   "outputs": [],
   "source": [
    "df_result_models = pd.DataFrame(\n",
    "    data=result_fit, index=index_in\n",
    ")"
   ]
  },
  {
   "cell_type": "code",
   "execution_count": 76,
   "metadata": {},
   "outputs": [
    {
     "data": {
      "text/html": [
       "<div>\n",
       "<style scoped>\n",
       "    .dataframe tbody tr th:only-of-type {\n",
       "        vertical-align: middle;\n",
       "    }\n",
       "\n",
       "    .dataframe tbody tr th {\n",
       "        vertical-align: top;\n",
       "    }\n",
       "\n",
       "    .dataframe thead th {\n",
       "        text-align: right;\n",
       "    }\n",
       "</style>\n",
       "<table border=\"1\" class=\"dataframe\">\n",
       "  <thead>\n",
       "    <tr style=\"text-align: right;\">\n",
       "      <th></th>\n",
       "      <th>F1_on_CV</th>\n",
       "      <th>F1_target</th>\n",
       "      <th>div_percent</th>\n",
       "      <th>best_parameters</th>\n",
       "    </tr>\n",
       "  </thead>\n",
       "  <tbody>\n",
       "    <tr>\n",
       "      <th>LinearRegression</th>\n",
       "      <td>0.765155</td>\n",
       "      <td>0.75</td>\n",
       "      <td>-2.020616</td>\n",
       "      <td>{'models__solver': 'newton-cg', 'models__class...</td>\n",
       "    </tr>\n",
       "    <tr>\n",
       "      <th>DecisionTreeClassifer</th>\n",
       "      <td>0.227325</td>\n",
       "      <td>0.75</td>\n",
       "      <td>69.690043</td>\n",
       "      <td>{max_features=57, max_depth=13, min_samples_sp...</td>\n",
       "    </tr>\n",
       "    <tr>\n",
       "      <th>RandomForestClassifier</th>\n",
       "      <td>0.335584</td>\n",
       "      <td>0.75</td>\n",
       "      <td>55.255507</td>\n",
       "      <td>{max_features=57, max_depth=13, min_samples_sp...</td>\n",
       "    </tr>\n",
       "  </tbody>\n",
       "</table>\n",
       "</div>"
      ],
      "text/plain": [
       "                        F1_on_CV  F1_target  div_percent  \\\n",
       "LinearRegression        0.765155       0.75    -2.020616   \n",
       "DecisionTreeClassifer   0.227325       0.75    69.690043   \n",
       "RandomForestClassifier  0.335584       0.75    55.255507   \n",
       "\n",
       "                                                          best_parameters  \n",
       "LinearRegression        {'models__solver': 'newton-cg', 'models__class...  \n",
       "DecisionTreeClassifer   {max_features=57, max_depth=13, min_samples_sp...  \n",
       "RandomForestClassifier  {max_features=57, max_depth=13, min_samples_sp...  "
      ]
     },
     "execution_count": 76,
     "metadata": {},
     "output_type": "execute_result"
    }
   ],
   "source": [
    "df_result_models"
   ]
  },
  {
   "cell_type": "code",
   "execution_count": 77,
   "metadata": {},
   "outputs": [],
   "source": [
    "def visual_result(column, data=df_result_models, asc=True):\n",
    "    vis_data = data.sort_values(by=column, ascending=asc)\n",
    "    sns.barplot(\n",
    "        data=vis_data,\n",
    "        x=column,\n",
    "        y=list(vis_data.index)\n",
    "    )"
   ]
  },
  {
   "cell_type": "code",
   "execution_count": 78,
   "metadata": {},
   "outputs": [
    {
     "data": {
      "image/png": "[encoded data removed]",
      "text/plain": [
       "<Figure size 576x216 with 1 Axes>"
      ]
     },
     "metadata": {
      "needs_background": "light"
     },
     "output_type": "display_data"
    },
    {
     "data": {
      "image/png": "[encoded data removed]",
      "text/plain": [
       "<Figure size 576x216 with 1 Axes>"
      ]
     },
     "metadata": {
      "needs_background": "light"
     },
     "output_type": "display_data"
    }
   ],
   "source": [
    "plt.figure(figsize=(8,3))\n",
    "\n",
    "plt.subplot(1,2,1)\n",
    "\n",
    "visual_result('F1_on_CV', asc=False)\n",
    "plt.title('сравнение F1 моделей\\n на CV')\n",
    "\n",
    "\n",
    "plt.figure(figsize=(8,3))\n",
    "\n",
    "plt.subplot(1,2,2)\n",
    "\n",
    "visual_result('div_percent')\n",
    "plt.title('Отклонение от\\nцелевого F1 в %');"
   ]
  },
  {
   "cell_type": "markdown",
   "metadata": {},
   "source": [
    "- Из графиков видно, что единственной подходящей моделью из данного проекта является линейная регрессия;\n",
    "- F1 линейной регресии на на кросс-валидации 0.765, что выше целевого на ~2%;\n",
    "- Хотя рандомный лес показал результат на 50% выше, чем решающее дерево, он все равно не справляется с задачей."
   ]
  },
  {
   "cell_type": "markdown",
   "metadata": {},
   "source": [
    "### Проверка логистической регрессии на тестовых данных"
   ]
  },
  {
   "cell_type": "code",
   "execution_count": 79,
   "metadata": {},
   "outputs": [],
   "source": [
    "predict_linear = best_linear.predict(features_test[text_column])"
   ]
  },
  {
   "cell_type": "code",
   "execution_count": 80,
   "metadata": {},
   "outputs": [],
   "source": [
    "F1_linear_test, percent_linear_test = check_F1(predict_linear, target_test, print_text=False)"
   ]
  },
  {
   "cell_type": "code",
   "execution_count": 81,
   "metadata": {},
   "outputs": [
    {
     "name": "stdout",
     "output_type": "stream",
     "text": [
      "Метрика F1 на тестовой выборке: 0.7703160270880361\n",
      "Отличие от F1 целевого: -2.71 %\n"
     ]
    }
   ],
   "source": [
    "print(f'Метрика F1 на тестовой выборке: {F1_linear_test}')\n",
    "print(f\"Отличие от F1 целевого: {round(percent_linear_test, 2)} %\")"
   ]
  },
  {
   "cell_type": "markdown",
   "metadata": {},
   "source": [
    "###  Вывод"
   ]
  },
  {
   "cell_type": "markdown",
   "metadata": {},
   "source": [
    "- Проведен подбор подходящего варианта датасета для обучения (балансировка);\n",
    "- Обучены модели для классификации текста;\n",
    "- Рассчитаны F1 на кросс-валидации для обученных моделей;\n",
    "- Выбрана модель. Ею является логистическая регрессия;\n",
    "- F1 на тестовой выборке больше целевого ~2.71% и составляет 0.770."
   ]
  },
  {
   "cell_type": "markdown",
   "metadata": {},
   "source": [
    "## Выводы"
   ]
  },
  {
   "cell_type": "markdown",
   "metadata": {},
   "source": [
    "- Проведен анализ исходного датасета;\n",
    "- Данные преобразованы в вид, подходящий для обучения моделей;\n",
    "- Выбран вариант баланса данных для обучения моделей;\n",
    "- Обучены модели классификации тональности текста и отобрана подходящая модель;\n",
    "- Лучшей моделью оказалась линейная регрессия с F1 на тестовой выборке равным 0.770, что выше целевого на ~2.71%."
   ]
  },
  {
   "cell_type": "markdown",
   "metadata": {},
   "source": []
  }
 ],
 "metadata": {
  "ExecuteTimeLog": [
   {
    "duration": 28335,
    "start_time": "2024-08-22T14:09:00.469Z"
   },
   {
    "duration": 1501,
    "start_time": "2024-08-22T14:09:28.807Z"
   },
   {
    "duration": 71,
    "start_time": "2024-08-22T14:09:30.310Z"
   },
   {
    "duration": 0,
    "start_time": "2024-08-22T14:09:30.383Z"
   },
   {
    "duration": 0,
    "start_time": "2024-08-22T14:09:30.384Z"
   },
   {
    "duration": 169,
    "start_time": "2024-08-22T14:18:53.433Z"
   },
   {
    "duration": 5,
    "start_time": "2024-08-22T14:18:54.013Z"
   },
   {
    "duration": 3,
    "start_time": "2024-08-22T14:18:55.067Z"
   },
   {
    "duration": 166,
    "start_time": "2024-08-22T14:19:34.455Z"
   },
   {
    "duration": 1368,
    "start_time": "2024-08-22T14:20:12.933Z"
   },
   {
    "duration": 13,
    "start_time": "2024-08-22T14:21:03.427Z"
   },
   {
    "duration": 11,
    "start_time": "2024-08-22T14:21:07.633Z"
   },
   {
    "duration": 923,
    "start_time": "2024-08-22T14:21:54.048Z"
   },
   {
    "duration": 10,
    "start_time": "2024-08-22T14:22:02.028Z"
   },
   {
    "duration": 10,
    "start_time": "2024-08-22T14:22:05.758Z"
   },
   {
    "duration": 933,
    "start_time": "2024-08-22T14:22:21.999Z"
   },
   {
    "duration": 3931,
    "start_time": "2024-08-22T14:24:27.671Z"
   },
   {
    "duration": 903,
    "start_time": "2024-08-22T14:24:44.495Z"
   },
   {
    "duration": 3,
    "start_time": "2024-08-22T14:28:48.383Z"
   },
   {
    "duration": 17,
    "start_time": "2024-08-22T14:31:27.411Z"
   },
   {
    "duration": 13,
    "start_time": "2024-08-22T14:31:49.415Z"
   },
   {
    "duration": 13,
    "start_time": "2024-08-22T14:31:57.801Z"
   },
   {
    "duration": 10,
    "start_time": "2024-08-22T14:32:16.018Z"
   },
   {
    "duration": 11,
    "start_time": "2024-08-22T14:33:10.007Z"
   },
   {
    "duration": 11,
    "start_time": "2024-08-22T14:33:26.636Z"
   },
   {
    "duration": 12,
    "start_time": "2024-08-22T14:34:14.756Z"
   },
   {
    "duration": 26012,
    "start_time": "2024-08-23T09:59:16.108Z"
   },
   {
    "duration": 1485,
    "start_time": "2024-08-23T09:59:42.123Z"
   },
   {
    "duration": 168,
    "start_time": "2024-08-23T09:59:43.610Z"
   },
   {
    "duration": 4,
    "start_time": "2024-08-23T09:59:43.780Z"
   },
   {
    "duration": 84,
    "start_time": "2024-08-23T09:59:43.786Z"
   },
   {
    "duration": 1369,
    "start_time": "2024-08-23T09:59:43.872Z"
   },
   {
    "duration": 764,
    "start_time": "2024-08-23T09:59:45.243Z"
   },
   {
    "duration": 126,
    "start_time": "2024-08-23T09:59:46.010Z"
   },
   {
    "duration": 9,
    "start_time": "2024-08-23T10:05:10.684Z"
   },
   {
    "duration": 728,
    "start_time": "2024-08-23T10:16:53.292Z"
   },
   {
    "duration": 733,
    "start_time": "2024-08-23T10:17:51.735Z"
   },
   {
    "duration": 697,
    "start_time": "2024-08-23T10:17:56.110Z"
   },
   {
    "duration": 39,
    "start_time": "2024-08-23T10:18:25.540Z"
   },
   {
    "duration": 10,
    "start_time": "2024-08-23T10:18:43.265Z"
   },
   {
    "duration": 183,
    "start_time": "2024-08-23T10:18:47.382Z"
   },
   {
    "duration": 26,
    "start_time": "2024-08-23T10:18:53.133Z"
   },
   {
    "duration": 14332,
    "start_time": "2024-08-23T11:34:45.092Z"
   },
   {
    "duration": 3,
    "start_time": "2024-08-23T11:34:59.428Z"
   },
   {
    "duration": 195,
    "start_time": "2024-08-23T11:34:59.433Z"
   },
   {
    "duration": 397,
    "start_time": "2024-08-23T11:34:59.631Z"
   },
   {
    "duration": 500,
    "start_time": "2024-08-23T11:35:00.032Z"
   },
   {
    "duration": 5007,
    "start_time": "2024-08-23T11:35:00.534Z"
   },
   {
    "duration": 3,
    "start_time": "2024-08-23T11:35:05.543Z"
   },
   {
    "duration": 1049,
    "start_time": "2024-08-23T11:35:05.548Z"
   },
   {
    "duration": 5,
    "start_time": "2024-08-23T11:35:06.598Z"
   },
   {
    "duration": 894,
    "start_time": "2024-08-23T11:35:06.605Z"
   },
   {
    "duration": 1178,
    "start_time": "2024-08-23T11:35:40.505Z"
   },
   {
    "duration": 849,
    "start_time": "2024-08-23T11:35:57.056Z"
   },
   {
    "duration": 827,
    "start_time": "2024-08-23T11:36:09.053Z"
   },
   {
    "duration": 41,
    "start_time": "2024-08-23T12:05:26.349Z"
   },
   {
    "duration": 4,
    "start_time": "2024-08-23T12:05:29.312Z"
   },
   {
    "duration": 53772,
    "start_time": "2024-08-23T12:05:29.641Z"
   },
   {
    "duration": 51,
    "start_time": "2024-08-23T12:06:35.558Z"
   },
   {
    "duration": 785,
    "start_time": "2024-08-23T12:06:48.864Z"
   },
   {
    "duration": 4,
    "start_time": "2024-08-23T12:06:49.651Z"
   },
   {
    "duration": 89071,
    "start_time": "2024-08-23T12:06:50.688Z"
   },
   {
    "duration": 8,
    "start_time": "2024-08-23T12:08:32.887Z"
   },
   {
    "duration": 13,
    "start_time": "2024-08-23T12:09:45.425Z"
   },
   {
    "duration": 3,
    "start_time": "2024-08-23T12:10:20.789Z"
   },
   {
    "duration": 11,
    "start_time": "2024-08-23T12:11:44.993Z"
   },
   {
    "duration": 33,
    "start_time": "2024-08-23T12:12:29.949Z"
   },
   {
    "duration": 87644,
    "start_time": "2024-08-23T12:12:38.337Z"
   },
   {
    "duration": 13122,
    "start_time": "2024-08-23T14:32:42.943Z"
   },
   {
    "duration": 1419,
    "start_time": "2024-08-23T14:32:56.068Z"
   },
   {
    "duration": 153,
    "start_time": "2024-08-23T14:32:57.489Z"
   },
   {
    "duration": 325,
    "start_time": "2024-08-23T14:32:57.644Z"
   },
   {
    "duration": 677,
    "start_time": "2024-08-23T14:32:57.971Z"
   },
   {
    "duration": 4645,
    "start_time": "2024-08-23T14:32:58.650Z"
   },
   {
    "duration": 3,
    "start_time": "2024-08-23T14:33:03.297Z"
   },
   {
    "duration": 992,
    "start_time": "2024-08-23T14:33:03.301Z"
   },
   {
    "duration": 7,
    "start_time": "2024-08-23T14:33:04.295Z"
   },
   {
    "duration": 15,
    "start_time": "2024-08-23T14:33:04.304Z"
   },
   {
    "duration": 7,
    "start_time": "2024-08-23T14:33:04.320Z"
   },
   {
    "duration": 92630,
    "start_time": "2024-08-23T14:33:04.329Z"
   },
   {
    "duration": 12,
    "start_time": "2024-08-23T14:34:36.962Z"
   },
   {
    "duration": 28,
    "start_time": "2024-08-23T14:34:36.977Z"
   },
   {
    "duration": 78,
    "start_time": "2024-08-23T16:43:07.321Z"
   },
   {
    "duration": 45,
    "start_time": "2024-08-23T16:43:15.034Z"
   },
   {
    "duration": 12989,
    "start_time": "2024-08-23T16:43:25.761Z"
   },
   {
    "duration": 1695,
    "start_time": "2024-08-23T16:43:38.752Z"
   },
   {
    "duration": 1041,
    "start_time": "2024-08-23T16:43:40.450Z"
   },
   {
    "duration": 287,
    "start_time": "2024-08-23T16:43:41.494Z"
   },
   {
    "duration": 577,
    "start_time": "2024-08-23T16:43:41.783Z"
   },
   {
    "duration": 3819,
    "start_time": "2024-08-23T16:43:42.362Z"
   },
   {
    "duration": 3,
    "start_time": "2024-08-23T16:43:46.183Z"
   },
   {
    "duration": 1256,
    "start_time": "2024-08-23T16:43:46.188Z"
   },
   {
    "duration": 8,
    "start_time": "2024-08-23T16:43:47.446Z"
   },
   {
    "duration": 3,
    "start_time": "2024-08-23T16:43:47.457Z"
   },
   {
    "duration": 12,
    "start_time": "2024-08-23T16:43:47.461Z"
   },
   {
    "duration": 89528,
    "start_time": "2024-08-23T16:43:47.474Z"
   },
   {
    "duration": 9,
    "start_time": "2024-08-23T16:45:17.003Z"
   },
   {
    "duration": 416,
    "start_time": "2024-08-23T16:45:17.014Z"
   },
   {
    "duration": 0,
    "start_time": "2024-08-23T16:45:17.432Z"
   },
   {
    "duration": 49,
    "start_time": "2024-08-23T16:47:04.345Z"
   },
   {
    "duration": 24,
    "start_time": "2024-08-23T16:47:09.240Z"
   },
   {
    "duration": 12,
    "start_time": "2024-08-23T16:47:52.821Z"
   },
   {
    "duration": 13,
    "start_time": "2024-08-23T16:47:59.010Z"
   },
   {
    "duration": 84711,
    "start_time": "2024-08-23T16:48:23.177Z"
   },
   {
    "duration": 0,
    "start_time": "2024-08-23T16:49:47.891Z"
   },
   {
    "duration": 0,
    "start_time": "2024-08-23T16:49:47.892Z"
   },
   {
    "duration": 16777,
    "start_time": "2024-08-23T16:49:55.196Z"
   },
   {
    "duration": 17318,
    "start_time": "2024-08-23T16:50:17.284Z"
   },
   {
    "duration": 1329,
    "start_time": "2024-08-23T16:50:34.604Z"
   },
   {
    "duration": 150,
    "start_time": "2024-08-23T16:50:35.934Z"
   },
   {
    "duration": 289,
    "start_time": "2024-08-23T16:50:36.086Z"
   },
   {
    "duration": 407,
    "start_time": "2024-08-23T16:50:36.377Z"
   },
   {
    "duration": 3601,
    "start_time": "2024-08-23T16:50:36.786Z"
   },
   {
    "duration": 3,
    "start_time": "2024-08-23T16:50:40.388Z"
   },
   {
    "duration": 986,
    "start_time": "2024-08-23T16:50:40.393Z"
   },
   {
    "duration": 4,
    "start_time": "2024-08-23T16:50:41.381Z"
   },
   {
    "duration": 3,
    "start_time": "2024-08-23T16:50:41.388Z"
   },
   {
    "duration": 3,
    "start_time": "2024-08-23T16:50:41.393Z"
   },
   {
    "duration": 20523,
    "start_time": "2024-08-23T16:50:41.398Z"
   },
   {
    "duration": 0,
    "start_time": "2024-08-23T16:51:01.922Z"
   },
   {
    "duration": 0,
    "start_time": "2024-08-23T16:51:01.923Z"
   },
   {
    "duration": 0,
    "start_time": "2024-08-23T16:51:01.925Z"
   },
   {
    "duration": 12929,
    "start_time": "2024-08-23T16:51:07.116Z"
   },
   {
    "duration": 1334,
    "start_time": "2024-08-23T16:51:20.047Z"
   },
   {
    "duration": 144,
    "start_time": "2024-08-23T16:51:21.382Z"
   },
   {
    "duration": 349,
    "start_time": "2024-08-23T16:51:21.528Z"
   },
   {
    "duration": 503,
    "start_time": "2024-08-23T16:51:21.880Z"
   },
   {
    "duration": 3574,
    "start_time": "2024-08-23T16:51:22.386Z"
   },
   {
    "duration": 5,
    "start_time": "2024-08-23T16:51:25.961Z"
   },
   {
    "duration": 907,
    "start_time": "2024-08-23T16:51:25.968Z"
   },
   {
    "duration": 5,
    "start_time": "2024-08-23T16:51:26.877Z"
   },
   {
    "duration": 9,
    "start_time": "2024-08-23T16:51:26.883Z"
   },
   {
    "duration": 5,
    "start_time": "2024-08-23T16:51:26.893Z"
   },
   {
    "duration": 89201,
    "start_time": "2024-08-23T16:51:26.900Z"
   },
   {
    "duration": 7,
    "start_time": "2024-08-23T16:52:56.103Z"
   },
   {
    "duration": 1395,
    "start_time": "2024-08-23T16:52:56.113Z"
   },
   {
    "duration": 0,
    "start_time": "2024-08-23T16:52:57.509Z"
   },
   {
    "duration": 34,
    "start_time": "2024-08-23T16:53:25.407Z"
   },
   {
    "duration": 358,
    "start_time": "2024-08-23T16:53:28.161Z"
   },
   {
    "duration": 377,
    "start_time": "2024-08-23T16:53:40.721Z"
   },
   {
    "duration": 87764,
    "start_time": "2024-08-23T16:53:55.499Z"
   },
   {
    "duration": 14,
    "start_time": "2024-08-23T16:55:56.189Z"
   },
   {
    "duration": 349,
    "start_time": "2024-08-23T16:55:57.093Z"
   },
   {
    "duration": 301,
    "start_time": "2024-08-23T16:56:06.462Z"
   },
   {
    "duration": 22,
    "start_time": "2024-08-23T16:56:46.233Z"
   },
   {
    "duration": 24,
    "start_time": "2024-08-23T16:56:53.346Z"
   },
   {
    "duration": 297,
    "start_time": "2024-08-23T16:57:14.441Z"
   },
   {
    "duration": 362,
    "start_time": "2024-08-23T16:57:28.227Z"
   },
   {
    "duration": 137,
    "start_time": "2024-08-23T16:57:38.847Z"
   },
   {
    "duration": 1339,
    "start_time": "2024-08-23T16:58:04.438Z"
   },
   {
    "duration": 104,
    "start_time": "2024-08-23T16:58:18.181Z"
   },
   {
    "duration": 557,
    "start_time": "2024-08-23T17:02:12.589Z"
   },
   {
    "duration": 486,
    "start_time": "2024-08-23T17:02:22.095Z"
   },
   {
    "duration": 131,
    "start_time": "2024-08-23T17:02:36.655Z"
   },
   {
    "duration": 137,
    "start_time": "2024-08-23T17:02:46.953Z"
   },
   {
    "duration": 855,
    "start_time": "2024-08-23T17:06:22.602Z"
   },
   {
    "duration": 20265,
    "start_time": "2024-08-23T17:06:56.759Z"
   },
   {
    "duration": 0,
    "start_time": "2024-08-23T17:07:17.026Z"
   },
   {
    "duration": 12994,
    "start_time": "2024-08-23T17:07:21.721Z"
   },
   {
    "duration": 1303,
    "start_time": "2024-08-23T17:07:34.717Z"
   },
   {
    "duration": 161,
    "start_time": "2024-08-23T17:07:36.022Z"
   },
   {
    "duration": 271,
    "start_time": "2024-08-23T17:07:36.184Z"
   },
   {
    "duration": 394,
    "start_time": "2024-08-23T17:07:36.458Z"
   },
   {
    "duration": 1059,
    "start_time": "2024-08-23T17:07:36.854Z"
   },
   {
    "duration": 0,
    "start_time": "2024-08-23T17:07:37.915Z"
   },
   {
    "duration": 0,
    "start_time": "2024-08-23T17:07:37.916Z"
   },
   {
    "duration": 0,
    "start_time": "2024-08-23T17:07:37.917Z"
   },
   {
    "duration": 0,
    "start_time": "2024-08-23T17:07:37.918Z"
   },
   {
    "duration": 0,
    "start_time": "2024-08-23T17:07:37.919Z"
   },
   {
    "duration": 0,
    "start_time": "2024-08-23T17:07:37.920Z"
   },
   {
    "duration": 0,
    "start_time": "2024-08-23T17:07:37.922Z"
   },
   {
    "duration": 0,
    "start_time": "2024-08-23T17:07:37.923Z"
   },
   {
    "duration": 0,
    "start_time": "2024-08-23T17:07:37.924Z"
   },
   {
    "duration": 0,
    "start_time": "2024-08-23T17:07:37.925Z"
   },
   {
    "duration": 11713,
    "start_time": "2024-08-23T17:07:43.662Z"
   },
   {
    "duration": 1313,
    "start_time": "2024-08-23T17:07:55.377Z"
   },
   {
    "duration": 194,
    "start_time": "2024-08-23T17:07:56.692Z"
   },
   {
    "duration": 0,
    "start_time": "2024-08-23T17:07:56.889Z"
   },
   {
    "duration": 0,
    "start_time": "2024-08-23T17:07:56.890Z"
   },
   {
    "duration": 0,
    "start_time": "2024-08-23T17:07:56.891Z"
   },
   {
    "duration": 0,
    "start_time": "2024-08-23T17:07:56.893Z"
   },
   {
    "duration": 0,
    "start_time": "2024-08-23T17:07:56.894Z"
   },
   {
    "duration": 0,
    "start_time": "2024-08-23T17:07:56.895Z"
   },
   {
    "duration": 0,
    "start_time": "2024-08-23T17:07:56.896Z"
   },
   {
    "duration": 0,
    "start_time": "2024-08-23T17:07:56.897Z"
   },
   {
    "duration": 0,
    "start_time": "2024-08-23T17:07:56.898Z"
   },
   {
    "duration": 0,
    "start_time": "2024-08-23T17:07:56.900Z"
   },
   {
    "duration": 0,
    "start_time": "2024-08-23T17:07:56.901Z"
   },
   {
    "duration": 0,
    "start_time": "2024-08-23T17:07:56.902Z"
   },
   {
    "duration": 0,
    "start_time": "2024-08-23T17:07:56.903Z"
   },
   {
    "duration": 13191,
    "start_time": "2024-08-23T17:08:04.754Z"
   },
   {
    "duration": 1379,
    "start_time": "2024-08-23T17:08:17.947Z"
   },
   {
    "duration": 148,
    "start_time": "2024-08-23T17:08:19.327Z"
   },
   {
    "duration": 314,
    "start_time": "2024-08-23T17:08:19.477Z"
   },
   {
    "duration": 425,
    "start_time": "2024-08-23T17:08:19.794Z"
   },
   {
    "duration": 3637,
    "start_time": "2024-08-23T17:08:20.221Z"
   },
   {
    "duration": 4,
    "start_time": "2024-08-23T17:08:23.859Z"
   },
   {
    "duration": 943,
    "start_time": "2024-08-23T17:08:23.864Z"
   },
   {
    "duration": 4,
    "start_time": "2024-08-23T17:08:24.808Z"
   },
   {
    "duration": 3,
    "start_time": "2024-08-23T17:08:24.814Z"
   },
   {
    "duration": 4,
    "start_time": "2024-08-23T17:08:24.818Z"
   },
   {
    "duration": 90010,
    "start_time": "2024-08-23T17:08:24.823Z"
   },
   {
    "duration": 1183,
    "start_time": "2024-08-23T17:09:54.835Z"
   },
   {
    "duration": 0,
    "start_time": "2024-08-23T17:09:56.019Z"
   },
   {
    "duration": 0,
    "start_time": "2024-08-23T17:09:56.021Z"
   },
   {
    "duration": 0,
    "start_time": "2024-08-23T17:09:56.022Z"
   },
   {
    "duration": 25520,
    "start_time": "2024-08-26T17:04:51.842Z"
   },
   {
    "duration": 1557,
    "start_time": "2024-08-26T17:05:17.364Z"
   },
   {
    "duration": 148,
    "start_time": "2024-08-26T17:05:18.922Z"
   },
   {
    "duration": 309,
    "start_time": "2024-08-26T17:05:19.072Z"
   },
   {
    "duration": 423,
    "start_time": "2024-08-26T17:05:19.383Z"
   },
   {
    "duration": 3618,
    "start_time": "2024-08-26T17:05:19.808Z"
   },
   {
    "duration": 3,
    "start_time": "2024-08-26T17:05:23.428Z"
   },
   {
    "duration": 3645,
    "start_time": "2024-08-26T17:05:23.432Z"
   },
   {
    "duration": 4,
    "start_time": "2024-08-26T17:05:27.079Z"
   },
   {
    "duration": 14,
    "start_time": "2024-08-26T17:05:27.084Z"
   },
   {
    "duration": 25,
    "start_time": "2024-08-26T17:05:27.100Z"
   },
   {
    "duration": 84970,
    "start_time": "2024-08-26T17:05:27.126Z"
   },
   {
    "duration": 1078,
    "start_time": "2024-08-26T17:06:52.099Z"
   },
   {
    "duration": 0,
    "start_time": "2024-08-26T17:06:53.179Z"
   },
   {
    "duration": 0,
    "start_time": "2024-08-26T17:06:53.180Z"
   },
   {
    "duration": 0,
    "start_time": "2024-08-26T17:06:53.182Z"
   },
   {
    "duration": 734,
    "start_time": "2024-08-26T23:52:21.103Z"
   },
   {
    "duration": 68,
    "start_time": "2024-08-26T23:52:37.788Z"
   },
   {
    "duration": 25,
    "start_time": "2024-08-26T23:52:42.157Z"
   },
   {
    "duration": 266,
    "start_time": "2024-08-26T23:52:42.831Z"
   },
   {
    "duration": 15,
    "start_time": "2024-08-26T23:53:20.380Z"
   },
   {
    "duration": 12,
    "start_time": "2024-08-26T23:54:58.527Z"
   },
   {
    "duration": 3,
    "start_time": "2024-08-27T00:04:51.621Z"
   },
   {
    "duration": 17,
    "start_time": "2024-08-27T00:05:16.256Z"
   },
   {
    "duration": 3,
    "start_time": "2024-08-27T00:13:39.704Z"
   },
   {
    "duration": 3,
    "start_time": "2024-08-27T00:16:44.996Z"
   },
   {
    "duration": 1127,
    "start_time": "2024-08-27T00:16:45.260Z"
   },
   {
    "duration": 11608,
    "start_time": "2024-08-27T00:16:55.637Z"
   },
   {
    "duration": 1136,
    "start_time": "2024-08-27T00:17:07.247Z"
   },
   {
    "duration": 129,
    "start_time": "2024-08-27T00:17:08.384Z"
   },
   {
    "duration": 280,
    "start_time": "2024-08-27T00:17:08.514Z"
   },
   {
    "duration": 446,
    "start_time": "2024-08-27T00:17:08.796Z"
   },
   {
    "duration": 3294,
    "start_time": "2024-08-27T00:17:09.243Z"
   },
   {
    "duration": 3,
    "start_time": "2024-08-27T00:17:12.538Z"
   },
   {
    "duration": 847,
    "start_time": "2024-08-27T00:17:12.542Z"
   },
   {
    "duration": 3,
    "start_time": "2024-08-27T00:17:13.391Z"
   },
   {
    "duration": 12,
    "start_time": "2024-08-27T00:17:13.395Z"
   },
   {
    "duration": 77215,
    "start_time": "2024-08-27T00:17:13.409Z"
   },
   {
    "duration": 72,
    "start_time": "2024-08-27T00:18:30.626Z"
   },
   {
    "duration": 25,
    "start_time": "2024-08-27T00:18:30.700Z"
   },
   {
    "duration": 99,
    "start_time": "2024-08-27T00:18:30.728Z"
   },
   {
    "duration": 12,
    "start_time": "2024-08-27T00:18:30.889Z"
   },
   {
    "duration": 4,
    "start_time": "2024-08-27T00:18:30.902Z"
   },
   {
    "duration": 4,
    "start_time": "2024-08-27T00:18:30.908Z"
   },
   {
    "duration": 181,
    "start_time": "2024-08-27T00:18:30.914Z"
   },
   {
    "duration": 126,
    "start_time": "2024-08-27T00:19:20.076Z"
   },
   {
    "duration": 309,
    "start_time": "2024-08-27T00:21:59.367Z"
   },
   {
    "duration": 122,
    "start_time": "2024-08-27T00:22:03.775Z"
   },
   {
    "duration": 108,
    "start_time": "2024-08-27T00:22:24.504Z"
   },
   {
    "duration": 117,
    "start_time": "2024-08-27T00:22:28.896Z"
   },
   {
    "duration": 3,
    "start_time": "2024-08-27T00:23:00.857Z"
   },
   {
    "duration": 2,
    "start_time": "2024-08-27T00:23:11.789Z"
   },
   {
    "duration": 553,
    "start_time": "2024-08-27T00:23:13.678Z"
   },
   {
    "duration": 1018,
    "start_time": "2024-08-27T00:24:08.864Z"
   },
   {
    "duration": 8,
    "start_time": "2024-08-27T00:24:20.845Z"
   },
   {
    "duration": 12,
    "start_time": "2024-08-27T00:24:55.418Z"
   },
   {
    "duration": 20,
    "start_time": "2024-08-27T00:25:01.074Z"
   },
   {
    "duration": 16,
    "start_time": "2024-08-27T00:26:27.891Z"
   },
   {
    "duration": 3,
    "start_time": "2024-08-27T00:26:30.339Z"
   },
   {
    "duration": 16,
    "start_time": "2024-08-27T00:26:30.540Z"
   },
   {
    "duration": 19,
    "start_time": "2024-08-27T00:26:30.728Z"
   },
   {
    "duration": 17,
    "start_time": "2024-08-27T00:26:35.307Z"
   },
   {
    "duration": 17,
    "start_time": "2024-08-27T00:26:35.824Z"
   },
   {
    "duration": 25,
    "start_time": "2024-08-27T00:26:57.033Z"
   },
   {
    "duration": 2,
    "start_time": "2024-08-27T00:26:58.922Z"
   },
   {
    "duration": 16,
    "start_time": "2024-08-27T00:26:59.104Z"
   },
   {
    "duration": 8,
    "start_time": "2024-08-27T00:27:17.189Z"
   },
   {
    "duration": 19,
    "start_time": "2024-08-27T00:27:17.515Z"
   },
   {
    "duration": 11362,
    "start_time": "2024-08-27T00:27:30.305Z"
   },
   {
    "duration": 1210,
    "start_time": "2024-08-27T00:27:41.669Z"
   },
   {
    "duration": 126,
    "start_time": "2024-08-27T00:27:42.880Z"
   },
   {
    "duration": 272,
    "start_time": "2024-08-27T00:27:43.007Z"
   },
   {
    "duration": 451,
    "start_time": "2024-08-27T00:27:43.282Z"
   },
   {
    "duration": 3255,
    "start_time": "2024-08-27T00:27:43.734Z"
   },
   {
    "duration": 3,
    "start_time": "2024-08-27T00:27:46.991Z"
   },
   {
    "duration": 853,
    "start_time": "2024-08-27T00:27:46.995Z"
   },
   {
    "duration": 3,
    "start_time": "2024-08-27T00:27:47.850Z"
   },
   {
    "duration": 15,
    "start_time": "2024-08-27T00:27:47.854Z"
   },
   {
    "duration": 77220,
    "start_time": "2024-08-27T00:27:47.870Z"
   },
   {
    "duration": 61,
    "start_time": "2024-08-27T00:29:05.092Z"
   },
   {
    "duration": 37,
    "start_time": "2024-08-27T00:29:05.154Z"
   },
   {
    "duration": 108,
    "start_time": "2024-08-27T00:29:05.193Z"
   },
   {
    "duration": 11,
    "start_time": "2024-08-27T00:29:05.302Z"
   },
   {
    "duration": 76,
    "start_time": "2024-08-27T00:29:05.315Z"
   },
   {
    "duration": 32,
    "start_time": "2024-08-27T00:29:05.393Z"
   },
   {
    "duration": 543,
    "start_time": "2024-08-27T00:29:05.426Z"
   },
   {
    "duration": 2,
    "start_time": "2024-08-27T00:29:05.971Z"
   },
   {
    "duration": 22,
    "start_time": "2024-08-27T00:29:05.974Z"
   },
   {
    "duration": 30,
    "start_time": "2024-08-27T00:29:05.997Z"
   },
   {
    "duration": 11,
    "start_time": "2024-08-27T00:32:07.220Z"
   },
   {
    "duration": 85507,
    "start_time": "2024-08-27T11:58:29.441Z"
   },
   {
    "duration": 1850,
    "start_time": "2024-08-27T11:59:54.950Z"
   },
   {
    "duration": 147,
    "start_time": "2024-08-27T11:59:56.801Z"
   },
   {
    "duration": 810,
    "start_time": "2024-08-27T11:59:56.950Z"
   },
   {
    "duration": 451,
    "start_time": "2024-08-27T11:59:57.762Z"
   },
   {
    "duration": 4094,
    "start_time": "2024-08-27T11:59:58.215Z"
   },
   {
    "duration": 3,
    "start_time": "2024-08-27T12:00:02.310Z"
   },
   {
    "duration": 3722,
    "start_time": "2024-08-27T12:00:02.314Z"
   },
   {
    "duration": 4,
    "start_time": "2024-08-27T12:00:06.037Z"
   },
   {
    "duration": 19,
    "start_time": "2024-08-27T12:00:06.042Z"
   },
   {
    "duration": 82347,
    "start_time": "2024-08-27T12:00:06.062Z"
   },
   {
    "duration": 60,
    "start_time": "2024-08-27T12:01:28.410Z"
   },
   {
    "duration": 34,
    "start_time": "2024-08-27T12:01:28.472Z"
   },
   {
    "duration": 288,
    "start_time": "2024-08-27T12:01:28.509Z"
   },
   {
    "duration": 12,
    "start_time": "2024-08-27T12:01:28.799Z"
   },
   {
    "duration": 5,
    "start_time": "2024-08-27T12:01:28.812Z"
   },
   {
    "duration": 20,
    "start_time": "2024-08-27T12:01:28.819Z"
   },
   {
    "duration": 582,
    "start_time": "2024-08-27T12:01:28.840Z"
   },
   {
    "duration": 2,
    "start_time": "2024-08-27T12:01:29.424Z"
   },
   {
    "duration": 11,
    "start_time": "2024-08-27T12:01:29.427Z"
   },
   {
    "duration": 16,
    "start_time": "2024-08-27T12:01:29.439Z"
   },
   {
    "duration": 9,
    "start_time": "2024-08-27T12:01:29.457Z"
   },
   {
    "duration": 2,
    "start_time": "2024-08-27T12:01:29.490Z"
   },
   {
    "duration": 4,
    "start_time": "2024-08-27T12:33:02.124Z"
   },
   {
    "duration": 3,
    "start_time": "2024-08-27T12:33:02.374Z"
   },
   {
    "duration": 333,
    "start_time": "2024-08-27T12:34:45.805Z"
   },
   {
    "duration": 10,
    "start_time": "2024-08-27T12:34:53.339Z"
   },
   {
    "duration": 3,
    "start_time": "2024-08-27T12:34:58.059Z"
   },
   {
    "duration": 3,
    "start_time": "2024-08-27T12:35:36.926Z"
   },
   {
    "duration": 4,
    "start_time": "2024-08-27T12:37:32.678Z"
   },
   {
    "duration": 3,
    "start_time": "2024-08-27T12:37:43.522Z"
   },
   {
    "duration": 5,
    "start_time": "2024-08-27T12:37:50.352Z"
   },
   {
    "duration": 4,
    "start_time": "2024-08-27T12:37:54.434Z"
   },
   {
    "duration": 64,
    "start_time": "2024-08-27T12:38:44.870Z"
   },
   {
    "duration": 4,
    "start_time": "2024-08-27T12:39:50.086Z"
   },
   {
    "duration": 73,
    "start_time": "2024-08-27T12:40:31.883Z"
   },
   {
    "duration": 4,
    "start_time": "2024-08-27T12:40:40.838Z"
   },
   {
    "duration": 4,
    "start_time": "2024-08-27T12:40:54.598Z"
   },
   {
    "duration": 26,
    "start_time": "2024-08-27T12:42:17.157Z"
   },
   {
    "duration": 34,
    "start_time": "2024-08-27T12:42:33.123Z"
   },
   {
    "duration": 13469,
    "start_time": "2024-08-27T12:42:42.335Z"
   },
   {
    "duration": 1430,
    "start_time": "2024-08-27T12:42:55.807Z"
   },
   {
    "duration": 163,
    "start_time": "2024-08-27T12:42:57.239Z"
   },
   {
    "duration": 502,
    "start_time": "2024-08-27T12:42:57.405Z"
   },
   {
    "duration": 464,
    "start_time": "2024-08-27T12:42:57.910Z"
   },
   {
    "duration": 4094,
    "start_time": "2024-08-27T12:42:58.375Z"
   },
   {
    "duration": 4,
    "start_time": "2024-08-27T12:43:02.470Z"
   },
   {
    "duration": 993,
    "start_time": "2024-08-27T12:43:02.476Z"
   },
   {
    "duration": 4,
    "start_time": "2024-08-27T12:43:03.471Z"
   },
   {
    "duration": 84118,
    "start_time": "2024-08-27T12:43:03.477Z"
   },
   {
    "duration": 66,
    "start_time": "2024-08-27T12:44:27.596Z"
   },
   {
    "duration": 40,
    "start_time": "2024-08-27T12:44:27.663Z"
   },
   {
    "duration": 108,
    "start_time": "2024-08-27T12:44:27.705Z"
   },
   {
    "duration": 81,
    "start_time": "2024-08-27T12:44:27.816Z"
   },
   {
    "duration": 19,
    "start_time": "2024-08-27T12:44:27.899Z"
   },
   {
    "duration": 38,
    "start_time": "2024-08-27T12:44:27.920Z"
   },
   {
    "duration": 644,
    "start_time": "2024-08-27T12:44:27.960Z"
   },
   {
    "duration": 2,
    "start_time": "2024-08-27T12:44:28.606Z"
   },
   {
    "duration": 24,
    "start_time": "2024-08-27T12:44:28.610Z"
   },
   {
    "duration": 18,
    "start_time": "2024-08-27T12:44:28.635Z"
   },
   {
    "duration": 12,
    "start_time": "2024-08-27T12:44:28.654Z"
   },
   {
    "duration": 3,
    "start_time": "2024-08-27T12:44:28.668Z"
   },
   {
    "duration": 7,
    "start_time": "2024-08-27T12:44:28.689Z"
   },
   {
    "duration": 14,
    "start_time": "2024-08-27T12:44:28.698Z"
   },
   {
    "duration": 3,
    "start_time": "2024-08-27T12:44:28.713Z"
   },
   {
    "duration": 327,
    "start_time": "2024-08-27T12:44:28.717Z"
   },
   {
    "duration": 0,
    "start_time": "2024-08-27T12:44:29.046Z"
   },
   {
    "duration": 24,
    "start_time": "2024-08-27T13:27:02.151Z"
   },
   {
    "duration": 17,
    "start_time": "2024-08-27T13:27:06.027Z"
   },
   {
    "duration": 2,
    "start_time": "2024-08-27T13:27:06.242Z"
   },
   {
    "duration": 25,
    "start_time": "2024-08-27T13:27:06.409Z"
   },
   {
    "duration": 11385,
    "start_time": "2024-08-27T13:27:20.000Z"
   },
   {
    "duration": 1319,
    "start_time": "2024-08-27T13:27:31.388Z"
   },
   {
    "duration": 147,
    "start_time": "2024-08-27T13:27:32.708Z"
   },
   {
    "duration": 285,
    "start_time": "2024-08-27T13:27:32.858Z"
   },
   {
    "duration": 495,
    "start_time": "2024-08-27T13:27:33.144Z"
   },
   {
    "duration": 12479,
    "start_time": "2024-08-27T13:27:38.050Z"
   },
   {
    "duration": 1283,
    "start_time": "2024-08-27T13:27:50.531Z"
   },
   {
    "duration": 155,
    "start_time": "2024-08-27T13:27:51.816Z"
   },
   {
    "duration": 293,
    "start_time": "2024-08-27T13:27:51.973Z"
   },
   {
    "duration": 397,
    "start_time": "2024-08-27T13:27:52.268Z"
   },
   {
    "duration": 3443,
    "start_time": "2024-08-27T13:27:52.667Z"
   },
   {
    "duration": 3,
    "start_time": "2024-08-27T13:27:56.112Z"
   },
   {
    "duration": 884,
    "start_time": "2024-08-27T13:27:56.116Z"
   },
   {
    "duration": 4,
    "start_time": "2024-08-27T13:27:57.001Z"
   },
   {
    "duration": 89250,
    "start_time": "2024-08-27T13:27:57.006Z"
   },
   {
    "duration": 77,
    "start_time": "2024-08-27T13:29:26.258Z"
   },
   {
    "duration": 27,
    "start_time": "2024-08-27T13:29:26.336Z"
   },
   {
    "duration": 148,
    "start_time": "2024-08-27T13:29:26.365Z"
   },
   {
    "duration": 87,
    "start_time": "2024-08-27T13:29:26.517Z"
   },
   {
    "duration": 3,
    "start_time": "2024-08-27T13:29:26.606Z"
   },
   {
    "duration": 16,
    "start_time": "2024-08-27T13:29:26.611Z"
   },
   {
    "duration": 651,
    "start_time": "2024-08-27T13:29:26.629Z"
   },
   {
    "duration": 16,
    "start_time": "2024-08-27T13:29:27.281Z"
   },
   {
    "duration": 10,
    "start_time": "2024-08-27T13:29:27.302Z"
   },
   {
    "duration": 21,
    "start_time": "2024-08-27T13:29:27.313Z"
   },
   {
    "duration": 10,
    "start_time": "2024-08-27T13:29:27.335Z"
   },
   {
    "duration": 4,
    "start_time": "2024-08-27T13:29:27.347Z"
   },
   {
    "duration": 6,
    "start_time": "2024-08-27T13:29:27.352Z"
   },
   {
    "duration": 7,
    "start_time": "2024-08-27T13:29:27.359Z"
   },
   {
    "duration": 34,
    "start_time": "2024-08-27T13:29:27.368Z"
   },
   {
    "duration": 3,
    "start_time": "2024-08-27T13:29:27.403Z"
   },
   {
    "duration": 351,
    "start_time": "2024-08-27T13:29:27.408Z"
   },
   {
    "duration": 0,
    "start_time": "2024-08-27T13:29:27.761Z"
   },
   {
    "duration": 3,
    "start_time": "2024-08-27T13:35:17.783Z"
   },
   {
    "duration": 2,
    "start_time": "2024-08-27T13:35:17.973Z"
   },
   {
    "duration": 7259,
    "start_time": "2024-08-27T13:35:18.360Z"
   },
   {
    "duration": 4,
    "start_time": "2024-08-27T13:35:33.903Z"
   },
   {
    "duration": 3,
    "start_time": "2024-08-27T16:31:39.797Z"
   },
   {
    "duration": 17,
    "start_time": "2024-08-27T16:31:40.105Z"
   },
   {
    "duration": 66,
    "start_time": "2024-08-27T16:32:00.118Z"
   },
   {
    "duration": 12514,
    "start_time": "2024-08-27T20:52:57.938Z"
   },
   {
    "duration": 1239,
    "start_time": "2024-08-27T20:53:10.454Z"
   },
   {
    "duration": 159,
    "start_time": "2024-08-27T20:53:11.695Z"
   },
   {
    "duration": 286,
    "start_time": "2024-08-27T20:53:11.856Z"
   },
   {
    "duration": 479,
    "start_time": "2024-08-27T20:53:12.144Z"
   },
   {
    "duration": 3523,
    "start_time": "2024-08-27T20:53:12.625Z"
   },
   {
    "duration": 3,
    "start_time": "2024-08-27T20:53:16.150Z"
   },
   {
    "duration": 1017,
    "start_time": "2024-08-27T20:53:16.154Z"
   },
   {
    "duration": 3,
    "start_time": "2024-08-27T20:53:17.172Z"
   },
   {
    "duration": 80628,
    "start_time": "2024-08-27T20:53:17.177Z"
   },
   {
    "duration": 67,
    "start_time": "2024-08-27T20:54:37.806Z"
   },
   {
    "duration": 34,
    "start_time": "2024-08-27T20:54:37.874Z"
   },
   {
    "duration": 186,
    "start_time": "2024-08-27T20:54:37.910Z"
   },
   {
    "duration": 16,
    "start_time": "2024-08-27T20:54:38.098Z"
   },
   {
    "duration": 102,
    "start_time": "2024-08-27T20:54:38.116Z"
   },
   {
    "duration": 7,
    "start_time": "2024-08-27T20:54:38.220Z"
   },
   {
    "duration": 568,
    "start_time": "2024-08-27T20:54:38.229Z"
   },
   {
    "duration": 3,
    "start_time": "2024-08-27T20:54:38.798Z"
   },
   {
    "duration": 16,
    "start_time": "2024-08-27T20:54:38.802Z"
   },
   {
    "duration": 17,
    "start_time": "2024-08-27T20:54:38.820Z"
   },
   {
    "duration": 10,
    "start_time": "2024-08-27T20:54:38.839Z"
   },
   {
    "duration": 3,
    "start_time": "2024-08-27T20:54:38.851Z"
   },
   {
    "duration": 5,
    "start_time": "2024-08-27T20:54:38.855Z"
   },
   {
    "duration": 29,
    "start_time": "2024-08-27T20:54:38.861Z"
   },
   {
    "duration": 24,
    "start_time": "2024-08-27T20:54:38.892Z"
   },
   {
    "duration": 315,
    "start_time": "2024-08-27T20:54:38.918Z"
   },
   {
    "duration": 0,
    "start_time": "2024-08-27T20:54:39.235Z"
   },
   {
    "duration": 0,
    "start_time": "2024-08-27T20:54:39.236Z"
   },
   {
    "duration": 0,
    "start_time": "2024-08-27T20:54:39.238Z"
   },
   {
    "duration": 0,
    "start_time": "2024-08-27T20:54:39.239Z"
   },
   {
    "duration": 0,
    "start_time": "2024-08-27T20:54:39.241Z"
   },
   {
    "duration": 0,
    "start_time": "2024-08-27T20:54:39.242Z"
   },
   {
    "duration": 45615,
    "start_time": "2024-08-29T22:13:01.355Z"
   },
   {
    "duration": 1574,
    "start_time": "2024-08-29T22:13:46.972Z"
   },
   {
    "duration": 158,
    "start_time": "2024-08-29T22:13:48.548Z"
   },
   {
    "duration": 284,
    "start_time": "2024-08-29T22:13:48.708Z"
   },
   {
    "duration": 464,
    "start_time": "2024-08-29T22:13:48.993Z"
   },
   {
    "duration": 4452,
    "start_time": "2024-08-29T22:13:49.458Z"
   },
   {
    "duration": 4,
    "start_time": "2024-08-29T22:13:53.912Z"
   },
   {
    "duration": 1280,
    "start_time": "2024-08-29T22:13:53.918Z"
   },
   {
    "duration": 4,
    "start_time": "2024-08-29T22:13:55.200Z"
   },
   {
    "duration": 89368,
    "start_time": "2024-08-29T22:13:55.208Z"
   },
   {
    "duration": 79,
    "start_time": "2024-08-29T22:15:24.577Z"
   },
   {
    "duration": 32,
    "start_time": "2024-08-29T22:15:24.658Z"
   },
   {
    "duration": 241,
    "start_time": "2024-08-29T22:15:24.691Z"
   },
   {
    "duration": 14,
    "start_time": "2024-08-29T22:15:25.005Z"
   },
   {
    "duration": 6,
    "start_time": "2024-08-29T22:15:25.020Z"
   },
   {
    "duration": 5,
    "start_time": "2024-08-29T22:15:25.027Z"
   },
   {
    "duration": 649,
    "start_time": "2024-08-29T22:15:25.033Z"
   },
   {
    "duration": 3,
    "start_time": "2024-08-29T22:15:25.683Z"
   },
   {
    "duration": 56,
    "start_time": "2024-08-29T22:15:25.687Z"
   },
   {
    "duration": 28,
    "start_time": "2024-08-29T22:15:25.745Z"
   },
   {
    "duration": 13,
    "start_time": "2024-08-29T22:15:25.775Z"
   },
   {
    "duration": 3,
    "start_time": "2024-08-29T22:15:25.789Z"
   },
   {
    "duration": 19,
    "start_time": "2024-08-29T22:15:25.794Z"
   },
   {
    "duration": 11,
    "start_time": "2024-08-29T22:15:25.815Z"
   },
   {
    "duration": 13,
    "start_time": "2024-08-29T22:15:25.828Z"
   },
   {
    "duration": 373,
    "start_time": "2024-08-29T22:15:25.843Z"
   },
   {
    "duration": 0,
    "start_time": "2024-08-29T22:15:26.218Z"
   },
   {
    "duration": 0,
    "start_time": "2024-08-29T22:15:26.219Z"
   },
   {
    "duration": 0,
    "start_time": "2024-08-29T22:15:26.220Z"
   },
   {
    "duration": 0,
    "start_time": "2024-08-29T22:15:26.221Z"
   },
   {
    "duration": 0,
    "start_time": "2024-08-29T22:15:26.222Z"
   },
   {
    "duration": 0,
    "start_time": "2024-08-29T22:15:26.224Z"
   },
   {
    "duration": 21,
    "start_time": "2024-08-29T22:18:44.637Z"
   },
   {
    "duration": 3,
    "start_time": "2024-08-29T22:18:49.799Z"
   },
   {
    "duration": 12,
    "start_time": "2024-08-29T22:18:50.020Z"
   },
   {
    "duration": 29,
    "start_time": "2024-08-29T22:18:50.232Z"
   },
   {
    "duration": 2,
    "start_time": "2024-08-29T22:18:52.075Z"
   },
   {
    "duration": 4,
    "start_time": "2024-08-29T22:18:52.273Z"
   },
   {
    "duration": 2,
    "start_time": "2024-08-29T22:18:52.472Z"
   },
   {
    "duration": 7131,
    "start_time": "2024-08-29T22:18:53.200Z"
   },
   {
    "duration": 4,
    "start_time": "2024-08-29T22:37:59.602Z"
   },
   {
    "duration": 7363,
    "start_time": "2024-08-29T22:43:47.767Z"
   },
   {
    "duration": 8,
    "start_time": "2024-08-29T22:43:55.131Z"
   },
   {
    "duration": 27,
    "start_time": "2024-08-29T22:43:59.917Z"
   },
   {
    "duration": 3,
    "start_time": "2024-08-29T22:44:14.135Z"
   },
   {
    "duration": 3,
    "start_time": "2024-08-29T22:44:14.425Z"
   },
   {
    "duration": 29,
    "start_time": "2024-08-29T22:44:15.036Z"
   },
   {
    "duration": 5,
    "start_time": "2024-08-29T22:44:51.518Z"
   },
   {
    "duration": 738,
    "start_time": "2024-08-29T22:44:59.604Z"
   },
   {
    "duration": 26,
    "start_time": "2024-08-29T22:45:15.423Z"
   },
   {
    "duration": 21,
    "start_time": "2024-08-29T22:48:59.154Z"
   },
   {
    "duration": 24,
    "start_time": "2024-08-29T23:00:50.364Z"
   },
   {
    "duration": 3,
    "start_time": "2024-08-29T23:02:47.068Z"
   },
   {
    "duration": 20,
    "start_time": "2024-08-29T23:02:47.652Z"
   },
   {
    "duration": 6,
    "start_time": "2024-08-29T23:03:04.587Z"
   },
   {
    "duration": 24,
    "start_time": "2024-08-29T23:03:12.148Z"
   },
   {
    "duration": 4,
    "start_time": "2024-08-29T23:03:19.475Z"
   },
   {
    "duration": 17,
    "start_time": "2024-08-29T23:03:21.107Z"
   },
   {
    "duration": 39908,
    "start_time": "2024-08-30T13:27:50.100Z"
   },
   {
    "duration": 1487,
    "start_time": "2024-08-30T13:28:30.010Z"
   },
   {
    "duration": 158,
    "start_time": "2024-08-30T13:28:31.498Z"
   },
   {
    "duration": 298,
    "start_time": "2024-08-30T13:28:31.658Z"
   },
   {
    "duration": 476,
    "start_time": "2024-08-30T13:28:31.958Z"
   },
   {
    "duration": 3695,
    "start_time": "2024-08-30T13:28:32.436Z"
   },
   {
    "duration": 4,
    "start_time": "2024-08-30T13:28:36.133Z"
   },
   {
    "duration": 3691,
    "start_time": "2024-08-30T13:28:36.152Z"
   },
   {
    "duration": 3,
    "start_time": "2024-08-30T13:28:39.845Z"
   },
   {
    "duration": 89666,
    "start_time": "2024-08-30T13:28:39.851Z"
   },
   {
    "duration": 74,
    "start_time": "2024-08-30T13:30:09.519Z"
   },
   {
    "duration": 31,
    "start_time": "2024-08-30T13:30:09.595Z"
   },
   {
    "duration": 236,
    "start_time": "2024-08-30T13:30:09.628Z"
   },
   {
    "duration": 13,
    "start_time": "2024-08-30T13:30:09.866Z"
   },
   {
    "duration": 77,
    "start_time": "2024-08-30T13:30:09.880Z"
   },
   {
    "duration": 7,
    "start_time": "2024-08-30T13:30:09.959Z"
   },
   {
    "duration": 652,
    "start_time": "2024-08-30T13:30:09.968Z"
   },
   {
    "duration": 2,
    "start_time": "2024-08-30T13:30:10.622Z"
   },
   {
    "duration": 16,
    "start_time": "2024-08-30T13:30:10.626Z"
   },
   {
    "duration": 18,
    "start_time": "2024-08-30T13:30:10.651Z"
   },
   {
    "duration": 11,
    "start_time": "2024-08-30T13:30:10.671Z"
   },
   {
    "duration": 3,
    "start_time": "2024-08-30T13:30:10.683Z"
   },
   {
    "duration": 38,
    "start_time": "2024-08-30T13:30:10.688Z"
   },
   {
    "duration": 15,
    "start_time": "2024-08-30T13:30:10.728Z"
   },
   {
    "duration": 10,
    "start_time": "2024-08-30T13:30:10.745Z"
   },
   {
    "duration": 33,
    "start_time": "2024-08-30T13:30:10.756Z"
   },
   {
    "duration": 3,
    "start_time": "2024-08-30T13:30:10.791Z"
   },
   {
    "duration": 12,
    "start_time": "2024-08-30T13:30:10.797Z"
   },
   {
    "duration": 3,
    "start_time": "2024-08-30T13:30:10.810Z"
   },
   {
    "duration": 7282,
    "start_time": "2024-08-30T13:30:10.814Z"
   },
   {
    "duration": 7,
    "start_time": "2024-08-30T13:30:18.098Z"
   },
   {
    "duration": 4,
    "start_time": "2024-08-30T13:30:18.107Z"
   },
   {
    "duration": 4,
    "start_time": "2024-08-30T13:30:18.113Z"
   },
   {
    "duration": 366,
    "start_time": "2024-08-30T13:30:18.118Z"
   },
   {
    "duration": 0,
    "start_time": "2024-08-30T13:30:18.486Z"
   },
   {
    "duration": 0,
    "start_time": "2024-08-30T13:30:18.487Z"
   },
   {
    "duration": 0,
    "start_time": "2024-08-30T13:30:18.488Z"
   },
   {
    "duration": 0,
    "start_time": "2024-08-30T13:30:18.489Z"
   },
   {
    "duration": 0,
    "start_time": "2024-08-30T13:30:18.490Z"
   },
   {
    "duration": 0,
    "start_time": "2024-08-30T13:30:18.492Z"
   },
   {
    "duration": 0,
    "start_time": "2024-08-30T13:30:18.493Z"
   },
   {
    "duration": 0,
    "start_time": "2024-08-30T13:30:18.494Z"
   },
   {
    "duration": 6,
    "start_time": "2024-08-30T14:06:40.964Z"
   },
   {
    "duration": 3,
    "start_time": "2024-08-30T14:07:06.890Z"
   },
   {
    "duration": 31,
    "start_time": "2024-08-30T14:07:12.140Z"
   },
   {
    "duration": 14,
    "start_time": "2024-08-30T14:12:51.424Z"
   },
   {
    "duration": 28612,
    "start_time": "2024-08-30T14:12:52.526Z"
   },
   {
    "duration": 61,
    "start_time": "2024-08-30T14:13:21.140Z"
   },
   {
    "duration": 4,
    "start_time": "2024-08-30T14:13:24.245Z"
   },
   {
    "duration": 2,
    "start_time": "2024-08-30T14:13:26.320Z"
   },
   {
    "duration": 20,
    "start_time": "2024-08-30T14:13:27.268Z"
   },
   {
    "duration": 3,
    "start_time": "2024-08-30T14:13:28.025Z"
   },
   {
    "duration": 4,
    "start_time": "2024-08-30T14:13:28.215Z"
   },
   {
    "duration": 24,
    "start_time": "2024-08-30T14:13:28.591Z"
   },
   {
    "duration": 17,
    "start_time": "2024-08-30T14:13:28.790Z"
   },
   {
    "duration": 3,
    "start_time": "2024-08-30T14:13:29.234Z"
   },
   {
    "duration": 23,
    "start_time": "2024-08-30T14:13:29.424Z"
   },
   {
    "duration": 3,
    "start_time": "2024-08-30T14:13:29.600Z"
   },
   {
    "duration": 3,
    "start_time": "2024-08-30T14:13:50.220Z"
   },
   {
    "duration": 308,
    "start_time": "2024-08-30T14:13:50.707Z"
   },
   {
    "duration": 29668,
    "start_time": "2024-08-30T14:13:51.117Z"
   },
   {
    "duration": 52,
    "start_time": "2024-08-30T14:14:20.787Z"
   },
   {
    "duration": 12,
    "start_time": "2024-08-30T14:14:20.841Z"
   },
   {
    "duration": 4,
    "start_time": "2024-08-30T14:14:20.857Z"
   },
   {
    "duration": 4,
    "start_time": "2024-08-30T14:14:44.874Z"
   },
   {
    "duration": 24,
    "start_time": "2024-08-30T14:14:46.091Z"
   },
   {
    "duration": 3,
    "start_time": "2024-08-30T14:23:08.781Z"
   },
   {
    "duration": 3,
    "start_time": "2024-08-30T14:23:08.996Z"
   },
   {
    "duration": 279,
    "start_time": "2024-08-30T14:23:09.173Z"
   },
   {
    "duration": 7941,
    "start_time": "2024-08-30T14:23:09.515Z"
   },
   {
    "duration": 10,
    "start_time": "2024-08-30T14:23:17.458Z"
   },
   {
    "duration": 6,
    "start_time": "2024-08-30T14:23:17.470Z"
   },
   {
    "duration": 26,
    "start_time": "2024-08-30T14:23:17.478Z"
   },
   {
    "duration": 11,
    "start_time": "2024-08-30T14:38:00.300Z"
   },
   {
    "duration": 19,
    "start_time": "2024-08-30T14:38:21.450Z"
   },
   {
    "duration": 25,
    "start_time": "2024-08-30T14:38:41.190Z"
   },
   {
    "duration": 25,
    "start_time": "2024-08-30T14:38:56.978Z"
   },
   {
    "duration": 6,
    "start_time": "2024-08-30T14:39:42.110Z"
   },
   {
    "duration": 3,
    "start_time": "2024-08-30T14:39:45.879Z"
   },
   {
    "duration": 4,
    "start_time": "2024-08-30T14:39:46.109Z"
   },
   {
    "duration": 3,
    "start_time": "2024-08-30T14:39:46.710Z"
   },
   {
    "duration": 16,
    "start_time": "2024-08-30T14:39:47.447Z"
   },
   {
    "duration": 28,
    "start_time": "2024-08-30T14:39:50.163Z"
   },
   {
    "duration": 9,
    "start_time": "2024-08-30T14:39:51.324Z"
   },
   {
    "duration": 966,
    "start_time": "2024-08-30T14:40:11.328Z"
   },
   {
    "duration": 1036,
    "start_time": "2024-08-30T14:40:17.769Z"
   },
   {
    "duration": 982,
    "start_time": "2024-08-30T14:40:26.673Z"
   },
   {
    "duration": 9,
    "start_time": "2024-08-30T14:40:33.575Z"
   },
   {
    "duration": 8,
    "start_time": "2024-08-30T14:40:52.211Z"
   },
   {
    "duration": 4,
    "start_time": "2024-08-30T14:40:52.491Z"
   },
   {
    "duration": 4,
    "start_time": "2024-08-30T14:40:52.924Z"
   },
   {
    "duration": 3,
    "start_time": "2024-08-30T14:40:53.540Z"
   },
   {
    "duration": 13,
    "start_time": "2024-08-30T14:40:53.695Z"
   },
   {
    "duration": 42,
    "start_time": "2024-08-30T14:40:53.877Z"
   },
   {
    "duration": 7,
    "start_time": "2024-08-30T14:40:54.419Z"
   },
   {
    "duration": 25743,
    "start_time": "2024-08-30T14:41:02.535Z"
   },
   {
    "duration": 1302,
    "start_time": "2024-08-30T14:41:28.281Z"
   },
   {
    "duration": 163,
    "start_time": "2024-08-30T14:41:29.585Z"
   },
   {
    "duration": 362,
    "start_time": "2024-08-30T14:41:29.751Z"
   },
   {
    "duration": 420,
    "start_time": "2024-08-30T14:41:30.115Z"
   },
   {
    "duration": 3975,
    "start_time": "2024-08-30T14:41:30.537Z"
   },
   {
    "duration": 3,
    "start_time": "2024-08-30T14:41:34.513Z"
   },
   {
    "duration": 962,
    "start_time": "2024-08-30T14:41:34.518Z"
   },
   {
    "duration": 5,
    "start_time": "2024-08-30T14:41:35.482Z"
   },
   {
    "duration": 100940,
    "start_time": "2024-08-30T14:41:35.492Z"
   },
   {
    "duration": 76,
    "start_time": "2024-08-30T14:43:16.434Z"
   },
   {
    "duration": 40,
    "start_time": "2024-08-30T14:43:16.512Z"
   },
   {
    "duration": 212,
    "start_time": "2024-08-30T14:43:16.554Z"
   },
   {
    "duration": 88,
    "start_time": "2024-08-30T14:43:16.769Z"
   },
   {
    "duration": 4,
    "start_time": "2024-08-30T14:43:16.859Z"
   },
   {
    "duration": 4,
    "start_time": "2024-08-30T14:43:16.865Z"
   },
   {
    "duration": 727,
    "start_time": "2024-08-30T14:43:16.871Z"
   },
   {
    "duration": 3,
    "start_time": "2024-08-30T14:43:17.599Z"
   },
   {
    "duration": 13,
    "start_time": "2024-08-30T14:43:17.604Z"
   },
   {
    "duration": 49,
    "start_time": "2024-08-30T14:43:17.618Z"
   },
   {
    "duration": 16,
    "start_time": "2024-08-30T14:43:17.670Z"
   },
   {
    "duration": 15,
    "start_time": "2024-08-30T14:43:17.688Z"
   },
   {
    "duration": 4,
    "start_time": "2024-08-30T14:43:17.705Z"
   },
   {
    "duration": 20,
    "start_time": "2024-08-30T14:43:17.712Z"
   },
   {
    "duration": 12,
    "start_time": "2024-08-30T14:43:17.734Z"
   },
   {
    "duration": 30,
    "start_time": "2024-08-30T14:43:17.747Z"
   },
   {
    "duration": 36,
    "start_time": "2024-08-30T14:43:17.779Z"
   },
   {
    "duration": 7,
    "start_time": "2024-08-30T14:43:17.819Z"
   },
   {
    "duration": 8,
    "start_time": "2024-08-30T14:43:17.828Z"
   },
   {
    "duration": 9,
    "start_time": "2024-08-30T14:43:17.838Z"
   },
   {
    "duration": 15,
    "start_time": "2024-08-30T14:43:17.849Z"
   },
   {
    "duration": 8163,
    "start_time": "2024-08-30T14:43:17.866Z"
   },
   {
    "duration": 7,
    "start_time": "2024-08-30T14:43:26.031Z"
   },
   {
    "duration": 26,
    "start_time": "2024-08-30T14:43:26.039Z"
   },
   {
    "duration": 370,
    "start_time": "2024-08-30T14:43:26.071Z"
   },
   {
    "duration": 0,
    "start_time": "2024-08-30T14:43:26.442Z"
   },
   {
    "duration": 0,
    "start_time": "2024-08-30T14:43:26.443Z"
   },
   {
    "duration": 0,
    "start_time": "2024-08-30T14:43:26.444Z"
   },
   {
    "duration": 0,
    "start_time": "2024-08-30T14:43:26.445Z"
   },
   {
    "duration": 0,
    "start_time": "2024-08-30T14:43:26.447Z"
   },
   {
    "duration": 0,
    "start_time": "2024-08-30T14:43:26.451Z"
   },
   {
    "duration": 0,
    "start_time": "2024-08-30T14:43:26.452Z"
   },
   {
    "duration": 0,
    "start_time": "2024-08-30T14:43:26.453Z"
   },
   {
    "duration": 0,
    "start_time": "2024-08-30T14:43:26.454Z"
   },
   {
    "duration": 9,
    "start_time": "2024-08-30T14:56:42.520Z"
   },
   {
    "duration": 7,
    "start_time": "2024-08-30T14:57:07.986Z"
   },
   {
    "duration": 2,
    "start_time": "2024-08-30T14:57:09.840Z"
   },
   {
    "duration": 3,
    "start_time": "2024-08-30T14:57:10.401Z"
   },
   {
    "duration": 18,
    "start_time": "2024-08-30T14:57:11.426Z"
   },
   {
    "duration": 7150,
    "start_time": "2024-08-30T14:57:11.888Z"
   },
   {
    "duration": 12,
    "start_time": "2024-08-30T14:57:19.040Z"
   },
   {
    "duration": 4,
    "start_time": "2024-08-30T14:57:19.053Z"
   },
   {
    "duration": 21,
    "start_time": "2024-08-30T14:57:23.997Z"
   },
   {
    "duration": 49,
    "start_time": "2024-08-30T14:57:47.524Z"
   },
   {
    "duration": 67,
    "start_time": "2024-08-30T14:57:54.762Z"
   },
   {
    "duration": 46,
    "start_time": "2024-08-30T14:58:08.247Z"
   },
   {
    "duration": 27,
    "start_time": "2024-08-30T14:58:12.776Z"
   },
   {
    "duration": 24783,
    "start_time": "2024-08-30T17:11:43.066Z"
   },
   {
    "duration": 1373,
    "start_time": "2024-08-30T17:12:07.851Z"
   },
   {
    "duration": 174,
    "start_time": "2024-08-30T17:12:09.225Z"
   },
   {
    "duration": 304,
    "start_time": "2024-08-30T17:12:09.401Z"
   },
   {
    "duration": 418,
    "start_time": "2024-08-30T17:12:09.707Z"
   },
   {
    "duration": 3787,
    "start_time": "2024-08-30T17:12:10.126Z"
   },
   {
    "duration": 4,
    "start_time": "2024-08-30T17:12:13.915Z"
   },
   {
    "duration": 1007,
    "start_time": "2024-08-30T17:12:13.921Z"
   },
   {
    "duration": 4,
    "start_time": "2024-08-30T17:12:14.929Z"
   },
   {
    "duration": 92245,
    "start_time": "2024-08-30T17:12:14.934Z"
   },
   {
    "duration": 78,
    "start_time": "2024-08-30T17:13:47.181Z"
   },
   {
    "duration": 29,
    "start_time": "2024-08-30T17:13:47.260Z"
   },
   {
    "duration": 184,
    "start_time": "2024-08-30T17:13:47.290Z"
   },
   {
    "duration": 86,
    "start_time": "2024-08-30T17:13:47.479Z"
   },
   {
    "duration": 5,
    "start_time": "2024-08-30T17:13:47.567Z"
   },
   {
    "duration": 4,
    "start_time": "2024-08-30T17:13:47.573Z"
   },
   {
    "duration": 682,
    "start_time": "2024-08-30T17:13:47.579Z"
   },
   {
    "duration": 2,
    "start_time": "2024-08-30T17:13:48.263Z"
   },
   {
    "duration": 26,
    "start_time": "2024-08-30T17:13:48.267Z"
   },
   {
    "duration": 20,
    "start_time": "2024-08-30T17:13:48.296Z"
   },
   {
    "duration": 13,
    "start_time": "2024-08-30T17:13:48.317Z"
   },
   {
    "duration": 26,
    "start_time": "2024-08-30T17:13:48.331Z"
   },
   {
    "duration": 8,
    "start_time": "2024-08-30T17:13:48.359Z"
   },
   {
    "duration": 3,
    "start_time": "2024-08-30T17:13:48.369Z"
   },
   {
    "duration": 5,
    "start_time": "2024-08-30T17:13:48.373Z"
   },
   {
    "duration": 4,
    "start_time": "2024-08-30T17:13:48.380Z"
   },
   {
    "duration": 15,
    "start_time": "2024-08-30T17:13:48.386Z"
   },
   {
    "duration": 67,
    "start_time": "2024-08-30T17:13:48.402Z"
   },
   {
    "duration": 8,
    "start_time": "2024-08-30T17:13:48.472Z"
   },
   {
    "duration": 3,
    "start_time": "2024-08-30T17:13:48.482Z"
   },
   {
    "duration": 4,
    "start_time": "2024-08-30T17:13:48.487Z"
   },
   {
    "duration": 4,
    "start_time": "2024-08-30T17:13:48.493Z"
   },
   {
    "duration": 7708,
    "start_time": "2024-08-30T17:13:48.498Z"
   },
   {
    "duration": 7,
    "start_time": "2024-08-30T17:13:56.208Z"
   },
   {
    "duration": 5,
    "start_time": "2024-08-30T17:13:56.217Z"
   },
   {
    "duration": 4,
    "start_time": "2024-08-30T17:13:56.223Z"
   },
   {
    "duration": 370,
    "start_time": "2024-08-30T17:13:56.228Z"
   },
   {
    "duration": 1,
    "start_time": "2024-08-30T17:13:56.600Z"
   },
   {
    "duration": 0,
    "start_time": "2024-08-30T17:13:56.602Z"
   },
   {
    "duration": 0,
    "start_time": "2024-08-30T17:13:56.603Z"
   },
   {
    "duration": 0,
    "start_time": "2024-08-30T17:13:56.604Z"
   },
   {
    "duration": 0,
    "start_time": "2024-08-30T17:13:56.605Z"
   },
   {
    "duration": 0,
    "start_time": "2024-08-30T17:13:56.606Z"
   },
   {
    "duration": 0,
    "start_time": "2024-08-30T17:13:56.607Z"
   },
   {
    "duration": 0,
    "start_time": "2024-08-30T17:13:56.608Z"
   },
   {
    "duration": 7313,
    "start_time": "2024-08-30T19:43:53.701Z"
   },
   {
    "duration": 7,
    "start_time": "2024-08-30T19:44:03.088Z"
   },
   {
    "duration": 23,
    "start_time": "2024-08-30T19:44:03.875Z"
   },
   {
    "duration": 3,
    "start_time": "2024-08-30T19:44:12.200Z"
   },
   {
    "duration": 7255,
    "start_time": "2024-08-30T19:44:27.830Z"
   },
   {
    "duration": 8,
    "start_time": "2024-08-30T19:44:35.087Z"
   },
   {
    "duration": 4,
    "start_time": "2024-08-30T19:44:35.096Z"
   },
   {
    "duration": 8,
    "start_time": "2024-08-30T19:44:35.102Z"
   },
   {
    "duration": 41,
    "start_time": "2024-08-30T19:44:35.112Z"
   },
   {
    "duration": 21,
    "start_time": "2024-08-30T19:47:18.314Z"
   },
   {
    "duration": 22,
    "start_time": "2024-08-30T19:47:55.000Z"
   },
   {
    "duration": 85,
    "start_time": "2024-08-30T19:49:14.082Z"
   },
   {
    "duration": 18,
    "start_time": "2024-08-30T19:49:23.589Z"
   },
   {
    "duration": 3,
    "start_time": "2024-08-30T19:49:37.840Z"
   },
   {
    "duration": 5,
    "start_time": "2024-08-30T19:49:38.609Z"
   },
   {
    "duration": 5,
    "start_time": "2024-08-30T19:49:40.232Z"
   },
   {
    "duration": 4,
    "start_time": "2024-08-30T19:49:41.548Z"
   },
   {
    "duration": 2,
    "start_time": "2024-08-30T19:49:46.134Z"
   },
   {
    "duration": 20,
    "start_time": "2024-08-30T19:49:46.419Z"
   },
   {
    "duration": 25,
    "start_time": "2024-08-30T19:49:47.047Z"
   },
   {
    "duration": 20,
    "start_time": "2024-08-30T19:50:01.896Z"
   },
   {
    "duration": 17,
    "start_time": "2024-08-30T19:50:14.381Z"
   },
   {
    "duration": 64,
    "start_time": "2024-08-30T19:50:26.237Z"
   },
   {
    "duration": 4,
    "start_time": "2024-08-30T19:50:30.865Z"
   },
   {
    "duration": 17,
    "start_time": "2024-08-30T19:50:55.073Z"
   },
   {
    "duration": 3,
    "start_time": "2024-08-30T19:50:58.982Z"
   },
   {
    "duration": 23,
    "start_time": "2024-08-30T19:51:07.229Z"
   },
   {
    "duration": 24,
    "start_time": "2024-08-30T19:51:16.159Z"
   },
   {
    "duration": 7,
    "start_time": "2024-08-30T19:52:04.613Z"
   },
   {
    "duration": 6,
    "start_time": "2024-08-30T19:52:15.342Z"
   },
   {
    "duration": 5,
    "start_time": "2024-08-30T19:52:32.942Z"
   },
   {
    "duration": 4,
    "start_time": "2024-08-30T19:52:44.319Z"
   },
   {
    "duration": 6,
    "start_time": "2024-08-30T19:53:00.511Z"
   },
   {
    "duration": 4,
    "start_time": "2024-08-30T19:53:07.415Z"
   },
   {
    "duration": 5,
    "start_time": "2024-08-30T19:53:28.475Z"
   },
   {
    "duration": 6,
    "start_time": "2024-08-30T19:53:32.386Z"
   },
   {
    "duration": 6,
    "start_time": "2024-08-30T19:53:36.072Z"
   },
   {
    "duration": 18,
    "start_time": "2024-08-30T19:53:40.232Z"
   },
   {
    "duration": 3,
    "start_time": "2024-08-30T19:54:21.097Z"
   },
   {
    "duration": 12,
    "start_time": "2024-08-30T19:54:21.316Z"
   },
   {
    "duration": 26,
    "start_time": "2024-08-30T19:54:21.485Z"
   },
   {
    "duration": 4,
    "start_time": "2024-08-30T19:54:21.800Z"
   },
   {
    "duration": 2,
    "start_time": "2024-08-30T19:54:23.192Z"
   },
   {
    "duration": 3,
    "start_time": "2024-08-30T19:54:23.477Z"
   },
   {
    "duration": 3,
    "start_time": "2024-08-30T19:54:23.815Z"
   },
   {
    "duration": 7,
    "start_time": "2024-08-30T19:54:24.354Z"
   },
   {
    "duration": 5,
    "start_time": "2024-08-30T19:54:24.677Z"
   },
   {
    "duration": 4,
    "start_time": "2024-08-30T19:54:24.923Z"
   },
   {
    "duration": 4,
    "start_time": "2024-08-30T19:54:25.294Z"
   },
   {
    "duration": 3,
    "start_time": "2024-08-30T19:54:26.224Z"
   },
   {
    "duration": 20,
    "start_time": "2024-08-30T19:54:26.827Z"
   },
   {
    "duration": 27,
    "start_time": "2024-08-30T19:54:33.158Z"
   },
   {
    "duration": 25,
    "start_time": "2024-08-30T19:54:45.940Z"
   },
   {
    "duration": 22,
    "start_time": "2024-08-30T19:54:57.758Z"
   },
   {
    "duration": 3,
    "start_time": "2024-08-30T20:15:09.356Z"
   },
   {
    "duration": 947,
    "start_time": "2024-08-30T20:15:09.727Z"
   },
   {
    "duration": 931,
    "start_time": "2024-08-30T20:15:33.802Z"
   },
   {
    "duration": 3,
    "start_time": "2024-08-30T20:15:35.457Z"
   },
   {
    "duration": 0,
    "start_time": "2024-08-30T20:16:25.227Z"
   },
   {
    "duration": 0,
    "start_time": "2024-08-30T20:16:25.228Z"
   },
   {
    "duration": 0,
    "start_time": "2024-08-30T20:16:25.229Z"
   },
   {
    "duration": 0,
    "start_time": "2024-08-30T20:16:25.230Z"
   },
   {
    "duration": 0,
    "start_time": "2024-08-30T20:16:25.231Z"
   },
   {
    "duration": 0,
    "start_time": "2024-08-30T20:16:25.233Z"
   },
   {
    "duration": 0,
    "start_time": "2024-08-30T20:16:25.234Z"
   },
   {
    "duration": 0,
    "start_time": "2024-08-30T20:16:25.235Z"
   },
   {
    "duration": 0,
    "start_time": "2024-08-30T20:16:25.237Z"
   },
   {
    "duration": 3,
    "start_time": "2024-08-30T20:16:27.376Z"
   },
   {
    "duration": 6386,
    "start_time": "2024-08-30T20:16:27.908Z"
   },
   {
    "duration": 1366,
    "start_time": "2024-08-30T20:16:34.948Z"
   },
   {
    "duration": 1316,
    "start_time": "2024-08-30T20:18:26.776Z"
   },
   {
    "duration": 24064,
    "start_time": "2024-08-30T20:39:31.221Z"
   },
   {
    "duration": 1698,
    "start_time": "2024-08-30T20:39:55.287Z"
   },
   {
    "duration": 769,
    "start_time": "2024-08-30T20:39:56.986Z"
   },
   {
    "duration": 298,
    "start_time": "2024-08-30T20:39:57.757Z"
   },
   {
    "duration": 440,
    "start_time": "2024-08-30T20:39:58.057Z"
   },
   {
    "duration": 3721,
    "start_time": "2024-08-30T20:39:58.499Z"
   },
   {
    "duration": 4,
    "start_time": "2024-08-30T20:40:02.222Z"
   },
   {
    "duration": 3791,
    "start_time": "2024-08-30T20:40:02.227Z"
   },
   {
    "duration": 346,
    "start_time": "2024-08-30T20:40:06.020Z"
   },
   {
    "duration": 0,
    "start_time": "2024-08-30T20:40:06.369Z"
   },
   {
    "duration": 0,
    "start_time": "2024-08-30T20:40:06.370Z"
   },
   {
    "duration": 3,
    "start_time": "2024-08-30T20:40:12.877Z"
   },
   {
    "duration": 7796,
    "start_time": "2024-08-30T20:40:13.138Z"
   },
   {
    "duration": 12152,
    "start_time": "2024-08-30T20:40:20.936Z"
   },
   {
    "duration": 32575,
    "start_time": "2024-08-30T20:40:33.090Z"
   },
   {
    "duration": 23353,
    "start_time": "2024-08-30T20:41:44.659Z"
   },
   {
    "duration": 1250,
    "start_time": "2024-08-30T20:42:08.014Z"
   },
   {
    "duration": 139,
    "start_time": "2024-08-30T20:42:09.266Z"
   },
   {
    "duration": 289,
    "start_time": "2024-08-30T20:42:09.407Z"
   },
   {
    "duration": 487,
    "start_time": "2024-08-30T20:42:09.697Z"
   },
   {
    "duration": 3468,
    "start_time": "2024-08-30T20:42:10.186Z"
   },
   {
    "duration": 3,
    "start_time": "2024-08-30T20:42:13.656Z"
   },
   {
    "duration": 973,
    "start_time": "2024-08-30T20:42:13.660Z"
   },
   {
    "duration": 3,
    "start_time": "2024-08-30T20:42:14.635Z"
   },
   {
    "duration": 87303,
    "start_time": "2024-08-30T20:42:14.641Z"
   },
   {
    "duration": 70,
    "start_time": "2024-08-30T20:43:41.946Z"
   },
   {
    "duration": 40,
    "start_time": "2024-08-30T20:43:42.017Z"
   },
   {
    "duration": 194,
    "start_time": "2024-08-30T20:43:42.058Z"
   },
   {
    "duration": 14,
    "start_time": "2024-08-30T20:43:42.254Z"
   },
   {
    "duration": 4,
    "start_time": "2024-08-30T20:43:42.270Z"
   },
   {
    "duration": 77,
    "start_time": "2024-08-30T20:43:42.276Z"
   },
   {
    "duration": 628,
    "start_time": "2024-08-30T20:43:42.355Z"
   },
   {
    "duration": 2,
    "start_time": "2024-08-30T20:43:42.984Z"
   },
   {
    "duration": 8,
    "start_time": "2024-08-30T20:43:42.988Z"
   },
   {
    "duration": 17,
    "start_time": "2024-08-30T20:43:42.998Z"
   },
   {
    "duration": 36,
    "start_time": "2024-08-30T20:43:43.017Z"
   },
   {
    "duration": 10,
    "start_time": "2024-08-30T20:43:43.054Z"
   },
   {
    "duration": 8,
    "start_time": "2024-08-30T20:43:43.065Z"
   },
   {
    "duration": 3,
    "start_time": "2024-08-30T20:43:43.074Z"
   },
   {
    "duration": 4,
    "start_time": "2024-08-30T20:43:43.078Z"
   },
   {
    "duration": 4,
    "start_time": "2024-08-30T20:43:43.083Z"
   },
   {
    "duration": 11,
    "start_time": "2024-08-30T20:43:43.089Z"
   },
   {
    "duration": 55,
    "start_time": "2024-08-30T20:43:43.103Z"
   },
   {
    "duration": 4,
    "start_time": "2024-08-30T20:43:43.160Z"
   },
   {
    "duration": 3,
    "start_time": "2024-08-30T20:43:43.166Z"
   },
   {
    "duration": 4,
    "start_time": "2024-08-30T20:43:43.170Z"
   },
   {
    "duration": 6,
    "start_time": "2024-08-30T20:43:43.176Z"
   },
   {
    "duration": 2614,
    "start_time": "2024-08-30T20:43:43.184Z"
   },
   {
    "duration": 0,
    "start_time": "2024-08-30T20:43:45.799Z"
   },
   {
    "duration": 0,
    "start_time": "2024-08-30T20:43:45.800Z"
   },
   {
    "duration": 0,
    "start_time": "2024-08-30T20:43:45.802Z"
   },
   {
    "duration": 0,
    "start_time": "2024-08-30T20:43:45.803Z"
   },
   {
    "duration": 0,
    "start_time": "2024-08-30T20:43:45.804Z"
   },
   {
    "duration": 0,
    "start_time": "2024-08-30T20:43:45.806Z"
   },
   {
    "duration": 0,
    "start_time": "2024-08-30T20:43:45.807Z"
   },
   {
    "duration": 0,
    "start_time": "2024-08-30T20:43:45.809Z"
   },
   {
    "duration": 0,
    "start_time": "2024-08-30T20:43:45.810Z"
   },
   {
    "duration": 0,
    "start_time": "2024-08-30T20:43:45.812Z"
   },
   {
    "duration": 0,
    "start_time": "2024-08-30T20:43:45.813Z"
   },
   {
    "duration": 0,
    "start_time": "2024-08-30T20:43:45.815Z"
   },
   {
    "duration": 0,
    "start_time": "2024-08-30T20:43:45.816Z"
   },
   {
    "duration": 0,
    "start_time": "2024-08-30T20:43:45.818Z"
   },
   {
    "duration": 0,
    "start_time": "2024-08-30T20:43:45.819Z"
   },
   {
    "duration": 0,
    "start_time": "2024-08-30T20:43:45.821Z"
   },
   {
    "duration": 0,
    "start_time": "2024-08-30T20:43:45.851Z"
   },
   {
    "duration": 0,
    "start_time": "2024-08-30T20:43:45.853Z"
   },
   {
    "duration": 0,
    "start_time": "2024-08-30T20:43:45.855Z"
   },
   {
    "duration": 23424,
    "start_time": "2024-08-30T20:45:27.627Z"
   },
   {
    "duration": 1751,
    "start_time": "2024-08-30T20:45:51.053Z"
   },
   {
    "duration": 687,
    "start_time": "2024-08-30T20:45:52.806Z"
   },
   {
    "duration": 296,
    "start_time": "2024-08-30T20:45:53.495Z"
   },
   {
    "duration": 536,
    "start_time": "2024-08-30T20:45:53.793Z"
   },
   {
    "duration": 3659,
    "start_time": "2024-08-30T20:45:54.331Z"
   },
   {
    "duration": 3,
    "start_time": "2024-08-30T20:45:57.992Z"
   },
   {
    "duration": 3753,
    "start_time": "2024-08-30T20:45:57.997Z"
   },
   {
    "duration": 3,
    "start_time": "2024-08-30T20:46:01.751Z"
   },
   {
    "duration": 87564,
    "start_time": "2024-08-30T20:46:01.757Z"
   },
   {
    "duration": 74,
    "start_time": "2024-08-30T20:47:29.323Z"
   },
   {
    "duration": 28,
    "start_time": "2024-08-30T20:47:29.399Z"
   },
   {
    "duration": 225,
    "start_time": "2024-08-30T20:47:29.429Z"
   },
   {
    "duration": 14,
    "start_time": "2024-08-30T20:47:29.656Z"
   },
   {
    "duration": 6,
    "start_time": "2024-08-30T20:47:29.672Z"
   },
   {
    "duration": 4,
    "start_time": "2024-08-30T20:47:29.679Z"
   },
   {
    "duration": 691,
    "start_time": "2024-08-30T20:47:29.685Z"
   },
   {
    "duration": 2,
    "start_time": "2024-08-30T20:47:30.378Z"
   },
   {
    "duration": 18,
    "start_time": "2024-08-30T20:47:30.382Z"
   },
   {
    "duration": 22,
    "start_time": "2024-08-30T20:47:30.401Z"
   },
   {
    "duration": 12,
    "start_time": "2024-08-30T20:47:30.424Z"
   },
   {
    "duration": 22,
    "start_time": "2024-08-30T20:47:30.438Z"
   },
   {
    "duration": 7,
    "start_time": "2024-08-30T20:47:30.462Z"
   },
   {
    "duration": 5,
    "start_time": "2024-08-30T20:47:30.470Z"
   },
   {
    "duration": 19,
    "start_time": "2024-08-30T20:47:30.476Z"
   },
   {
    "duration": 10,
    "start_time": "2024-08-30T20:47:30.496Z"
   },
   {
    "duration": 15,
    "start_time": "2024-08-30T20:47:30.508Z"
   },
   {
    "duration": 34,
    "start_time": "2024-08-30T20:47:30.527Z"
   },
   {
    "duration": 6,
    "start_time": "2024-08-30T20:47:30.563Z"
   },
   {
    "duration": 5,
    "start_time": "2024-08-30T20:47:30.570Z"
   },
   {
    "duration": 8,
    "start_time": "2024-08-30T20:47:30.577Z"
   },
   {
    "duration": 3,
    "start_time": "2024-08-30T20:47:30.586Z"
   },
   {
    "duration": 2210,
    "start_time": "2024-08-30T20:47:30.591Z"
   },
   {
    "duration": 0,
    "start_time": "2024-08-30T20:47:32.802Z"
   },
   {
    "duration": 0,
    "start_time": "2024-08-30T20:47:32.803Z"
   },
   {
    "duration": 1,
    "start_time": "2024-08-30T20:47:32.804Z"
   },
   {
    "duration": 0,
    "start_time": "2024-08-30T20:47:32.805Z"
   },
   {
    "duration": 0,
    "start_time": "2024-08-30T20:47:32.807Z"
   },
   {
    "duration": 0,
    "start_time": "2024-08-30T20:47:32.808Z"
   },
   {
    "duration": 0,
    "start_time": "2024-08-30T20:47:32.809Z"
   },
   {
    "duration": 0,
    "start_time": "2024-08-30T20:47:32.810Z"
   },
   {
    "duration": 0,
    "start_time": "2024-08-30T20:47:32.811Z"
   },
   {
    "duration": 0,
    "start_time": "2024-08-30T20:47:32.812Z"
   },
   {
    "duration": 0,
    "start_time": "2024-08-30T20:47:32.812Z"
   },
   {
    "duration": 0,
    "start_time": "2024-08-30T20:47:32.813Z"
   },
   {
    "duration": 0,
    "start_time": "2024-08-30T20:47:32.815Z"
   },
   {
    "duration": 0,
    "start_time": "2024-08-30T20:47:32.816Z"
   },
   {
    "duration": 0,
    "start_time": "2024-08-30T20:47:32.817Z"
   },
   {
    "duration": 0,
    "start_time": "2024-08-30T20:47:32.818Z"
   },
   {
    "duration": 0,
    "start_time": "2024-08-30T20:47:32.819Z"
   },
   {
    "duration": 0,
    "start_time": "2024-08-30T20:47:32.820Z"
   },
   {
    "duration": 0,
    "start_time": "2024-08-30T20:47:32.821Z"
   },
   {
    "duration": 7,
    "start_time": "2024-08-30T20:48:11.767Z"
   },
   {
    "duration": 23567,
    "start_time": "2024-08-30T20:48:36.110Z"
   },
   {
    "duration": 1746,
    "start_time": "2024-08-30T20:48:59.679Z"
   },
   {
    "duration": 814,
    "start_time": "2024-08-30T20:49:01.427Z"
   },
   {
    "duration": 301,
    "start_time": "2024-08-30T20:49:02.243Z"
   },
   {
    "duration": 490,
    "start_time": "2024-08-30T20:49:02.547Z"
   },
   {
    "duration": 3754,
    "start_time": "2024-08-30T20:49:03.038Z"
   },
   {
    "duration": 4,
    "start_time": "2024-08-30T20:49:06.794Z"
   },
   {
    "duration": 3750,
    "start_time": "2024-08-30T20:49:06.799Z"
   },
   {
    "duration": 5,
    "start_time": "2024-08-30T20:49:10.551Z"
   },
   {
    "duration": 88385,
    "start_time": "2024-08-30T20:49:10.557Z"
   },
   {
    "duration": 73,
    "start_time": "2024-08-30T20:50:38.944Z"
   },
   {
    "duration": 36,
    "start_time": "2024-08-30T20:50:39.019Z"
   },
   {
    "duration": 130,
    "start_time": "2024-08-30T20:50:39.057Z"
   },
   {
    "duration": 75,
    "start_time": "2024-08-30T20:50:39.190Z"
   },
   {
    "duration": 5,
    "start_time": "2024-08-30T20:50:39.267Z"
   },
   {
    "duration": 4,
    "start_time": "2024-08-30T20:50:39.273Z"
   },
   {
    "duration": 632,
    "start_time": "2024-08-30T20:50:39.353Z"
   },
   {
    "duration": 3,
    "start_time": "2024-08-30T20:50:39.986Z"
   },
   {
    "duration": 18,
    "start_time": "2024-08-30T20:50:39.990Z"
   },
   {
    "duration": 51,
    "start_time": "2024-08-30T20:50:40.010Z"
   },
   {
    "duration": 13,
    "start_time": "2024-08-30T20:50:40.063Z"
   },
   {
    "duration": 10,
    "start_time": "2024-08-30T20:50:40.077Z"
   },
   {
    "duration": 33,
    "start_time": "2024-08-30T20:50:40.089Z"
   },
   {
    "duration": 22,
    "start_time": "2024-08-30T20:50:40.124Z"
   },
   {
    "duration": 15,
    "start_time": "2024-08-30T20:50:40.148Z"
   },
   {
    "duration": 5,
    "start_time": "2024-08-30T20:50:40.165Z"
   },
   {
    "duration": 21,
    "start_time": "2024-08-30T20:50:40.172Z"
   },
   {
    "duration": 7,
    "start_time": "2024-08-30T20:50:40.194Z"
   },
   {
    "duration": 26,
    "start_time": "2024-08-30T20:50:40.203Z"
   },
   {
    "duration": 4,
    "start_time": "2024-08-30T20:50:40.231Z"
   },
   {
    "duration": 6,
    "start_time": "2024-08-30T20:50:40.237Z"
   },
   {
    "duration": 9,
    "start_time": "2024-08-30T20:50:40.244Z"
   },
   {
    "duration": 4,
    "start_time": "2024-08-30T20:50:40.255Z"
   },
   {
    "duration": 2642,
    "start_time": "2024-08-30T20:50:40.260Z"
   },
   {
    "duration": 0,
    "start_time": "2024-08-30T20:50:42.904Z"
   },
   {
    "duration": 0,
    "start_time": "2024-08-30T20:50:42.905Z"
   },
   {
    "duration": 0,
    "start_time": "2024-08-30T20:50:42.906Z"
   },
   {
    "duration": 0,
    "start_time": "2024-08-30T20:50:42.907Z"
   },
   {
    "duration": 0,
    "start_time": "2024-08-30T20:50:42.908Z"
   },
   {
    "duration": 0,
    "start_time": "2024-08-30T20:50:42.910Z"
   },
   {
    "duration": 0,
    "start_time": "2024-08-30T20:50:42.911Z"
   },
   {
    "duration": 0,
    "start_time": "2024-08-30T20:50:42.912Z"
   },
   {
    "duration": 0,
    "start_time": "2024-08-30T20:50:42.913Z"
   },
   {
    "duration": 0,
    "start_time": "2024-08-30T20:50:42.914Z"
   },
   {
    "duration": 0,
    "start_time": "2024-08-30T20:50:42.915Z"
   },
   {
    "duration": 0,
    "start_time": "2024-08-30T20:50:42.916Z"
   },
   {
    "duration": 0,
    "start_time": "2024-08-30T20:50:42.917Z"
   },
   {
    "duration": 0,
    "start_time": "2024-08-30T20:50:42.919Z"
   },
   {
    "duration": 0,
    "start_time": "2024-08-30T20:50:42.920Z"
   },
   {
    "duration": 0,
    "start_time": "2024-08-30T20:50:42.921Z"
   },
   {
    "duration": 0,
    "start_time": "2024-08-30T20:50:42.922Z"
   },
   {
    "duration": 0,
    "start_time": "2024-08-30T20:50:42.953Z"
   },
   {
    "duration": 0,
    "start_time": "2024-08-30T20:50:42.954Z"
   },
   {
    "duration": 3,
    "start_time": "2024-08-30T21:05:10.487Z"
   },
   {
    "duration": 23742,
    "start_time": "2024-08-30T21:05:20.273Z"
   },
   {
    "duration": 1486,
    "start_time": "2024-08-30T21:05:44.017Z"
   },
   {
    "duration": 786,
    "start_time": "2024-08-30T21:05:45.505Z"
   },
   {
    "duration": 307,
    "start_time": "2024-08-30T21:05:46.293Z"
   },
   {
    "duration": 467,
    "start_time": "2024-08-30T21:05:46.601Z"
   },
   {
    "duration": 3556,
    "start_time": "2024-08-30T21:05:47.070Z"
   },
   {
    "duration": 3,
    "start_time": "2024-08-30T21:05:50.628Z"
   },
   {
    "duration": 3724,
    "start_time": "2024-08-30T21:05:50.632Z"
   },
   {
    "duration": 3,
    "start_time": "2024-08-30T21:05:54.358Z"
   },
   {
    "duration": 87121,
    "start_time": "2024-08-30T21:05:54.364Z"
   },
   {
    "duration": 77,
    "start_time": "2024-08-30T21:07:21.487Z"
   },
   {
    "duration": 28,
    "start_time": "2024-08-30T21:07:21.566Z"
   },
   {
    "duration": 177,
    "start_time": "2024-08-30T21:07:21.595Z"
   },
   {
    "duration": 84,
    "start_time": "2024-08-30T21:07:21.775Z"
   },
   {
    "duration": 4,
    "start_time": "2024-08-30T21:07:21.861Z"
   },
   {
    "duration": 51,
    "start_time": "2024-08-30T21:07:21.866Z"
   },
   {
    "duration": 611,
    "start_time": "2024-08-30T21:07:21.918Z"
   },
   {
    "duration": 2,
    "start_time": "2024-08-30T21:07:22.531Z"
   },
   {
    "duration": 22,
    "start_time": "2024-08-30T21:07:22.534Z"
   },
   {
    "duration": 19,
    "start_time": "2024-08-30T21:07:22.558Z"
   },
   {
    "duration": 11,
    "start_time": "2024-08-30T21:07:22.579Z"
   },
   {
    "duration": 10,
    "start_time": "2024-08-30T21:07:22.591Z"
   },
   {
    "duration": 6,
    "start_time": "2024-08-30T21:07:22.603Z"
   },
   {
    "duration": 12,
    "start_time": "2024-08-30T21:07:22.611Z"
   },
   {
    "duration": 21,
    "start_time": "2024-08-30T21:07:22.624Z"
   },
   {
    "duration": 22,
    "start_time": "2024-08-30T21:07:22.647Z"
   },
   {
    "duration": 15,
    "start_time": "2024-08-30T21:07:22.670Z"
   },
   {
    "duration": 18,
    "start_time": "2024-08-30T21:07:22.689Z"
   },
   {
    "duration": 28,
    "start_time": "2024-08-30T21:07:22.709Z"
   },
   {
    "duration": 4,
    "start_time": "2024-08-30T21:07:22.739Z"
   },
   {
    "duration": 24,
    "start_time": "2024-08-30T21:07:22.745Z"
   },
   {
    "duration": 4,
    "start_time": "2024-08-30T21:07:22.770Z"
   },
   {
    "duration": 2,
    "start_time": "2024-08-30T21:07:22.776Z"
   },
   {
    "duration": 2881,
    "start_time": "2024-08-30T21:07:22.780Z"
   },
   {
    "duration": 0,
    "start_time": "2024-08-30T21:07:25.662Z"
   },
   {
    "duration": 0,
    "start_time": "2024-08-30T21:07:25.664Z"
   },
   {
    "duration": 0,
    "start_time": "2024-08-30T21:07:25.665Z"
   },
   {
    "duration": 0,
    "start_time": "2024-08-30T21:07:25.666Z"
   },
   {
    "duration": 0,
    "start_time": "2024-08-30T21:07:25.667Z"
   },
   {
    "duration": 0,
    "start_time": "2024-08-30T21:07:25.668Z"
   },
   {
    "duration": 0,
    "start_time": "2024-08-30T21:07:25.669Z"
   },
   {
    "duration": 0,
    "start_time": "2024-08-30T21:07:25.670Z"
   },
   {
    "duration": 0,
    "start_time": "2024-08-30T21:07:25.672Z"
   },
   {
    "duration": 0,
    "start_time": "2024-08-30T21:07:25.673Z"
   },
   {
    "duration": 0,
    "start_time": "2024-08-30T21:07:25.674Z"
   },
   {
    "duration": 0,
    "start_time": "2024-08-30T21:07:25.675Z"
   },
   {
    "duration": 0,
    "start_time": "2024-08-30T21:07:25.676Z"
   },
   {
    "duration": 0,
    "start_time": "2024-08-30T21:07:25.677Z"
   },
   {
    "duration": 1,
    "start_time": "2024-08-30T21:07:25.678Z"
   },
   {
    "duration": 0,
    "start_time": "2024-08-30T21:07:25.679Z"
   },
   {
    "duration": 0,
    "start_time": "2024-08-30T21:07:25.680Z"
   },
   {
    "duration": 0,
    "start_time": "2024-08-30T21:07:25.682Z"
   },
   {
    "duration": 0,
    "start_time": "2024-08-30T21:07:25.683Z"
   },
   {
    "duration": 23852,
    "start_time": "2024-08-30T21:10:18.728Z"
   },
   {
    "duration": 1658,
    "start_time": "2024-08-30T21:10:42.582Z"
   },
   {
    "duration": 980,
    "start_time": "2024-08-30T21:10:44.242Z"
   },
   {
    "duration": 292,
    "start_time": "2024-08-30T21:10:45.224Z"
   },
   {
    "duration": 594,
    "start_time": "2024-08-30T21:10:45.517Z"
   },
   {
    "duration": 3631,
    "start_time": "2024-08-30T21:10:46.112Z"
   },
   {
    "duration": 7,
    "start_time": "2024-08-30T21:10:49.745Z"
   },
   {
    "duration": 3741,
    "start_time": "2024-08-30T21:10:49.753Z"
   },
   {
    "duration": 3,
    "start_time": "2024-08-30T21:10:53.496Z"
   },
   {
    "duration": 88230,
    "start_time": "2024-08-30T21:10:53.502Z"
   },
   {
    "duration": 74,
    "start_time": "2024-08-30T21:12:21.734Z"
   },
   {
    "duration": 29,
    "start_time": "2024-08-30T21:12:21.809Z"
   },
   {
    "duration": 202,
    "start_time": "2024-08-30T21:12:21.852Z"
   },
   {
    "duration": 14,
    "start_time": "2024-08-30T21:12:22.055Z"
   },
   {
    "duration": 3,
    "start_time": "2024-08-30T21:12:22.071Z"
   },
   {
    "duration": 115,
    "start_time": "2024-08-30T21:12:22.076Z"
   },
   {
    "duration": 667,
    "start_time": "2024-08-30T21:12:22.193Z"
   },
   {
    "duration": 3,
    "start_time": "2024-08-30T21:12:22.862Z"
   },
   {
    "duration": 18,
    "start_time": "2024-08-30T21:12:22.866Z"
   },
   {
    "duration": 21,
    "start_time": "2024-08-30T21:12:22.885Z"
   },
   {
    "duration": 12,
    "start_time": "2024-08-30T21:12:22.908Z"
   },
   {
    "duration": 31,
    "start_time": "2024-08-30T21:12:22.921Z"
   },
   {
    "duration": 6,
    "start_time": "2024-08-30T21:12:22.954Z"
   },
   {
    "duration": 7,
    "start_time": "2024-08-30T21:12:22.962Z"
   },
   {
    "duration": 17,
    "start_time": "2024-08-30T21:12:22.970Z"
   },
   {
    "duration": 8,
    "start_time": "2024-08-30T21:12:22.988Z"
   },
   {
    "duration": 19,
    "start_time": "2024-08-30T21:12:22.997Z"
   },
   {
    "duration": 6,
    "start_time": "2024-08-30T21:12:23.019Z"
   },
   {
    "duration": 32,
    "start_time": "2024-08-30T21:12:23.027Z"
   },
   {
    "duration": 3,
    "start_time": "2024-08-30T21:12:23.061Z"
   },
   {
    "duration": 27,
    "start_time": "2024-08-30T21:12:23.066Z"
   },
   {
    "duration": 18,
    "start_time": "2024-08-30T21:12:23.095Z"
   },
   {
    "duration": 34,
    "start_time": "2024-08-30T21:12:23.114Z"
   },
   {
    "duration": 47,
    "start_time": "2024-08-30T21:48:57.227Z"
   },
   {
    "duration": 23429,
    "start_time": "2024-08-30T21:49:03.030Z"
   },
   {
    "duration": 1549,
    "start_time": "2024-08-30T21:49:26.462Z"
   },
   {
    "duration": 727,
    "start_time": "2024-08-30T21:49:28.013Z"
   },
   {
    "duration": 285,
    "start_time": "2024-08-30T21:49:28.742Z"
   },
   {
    "duration": 509,
    "start_time": "2024-08-30T21:49:29.029Z"
   },
   {
    "duration": 3673,
    "start_time": "2024-08-30T21:49:29.540Z"
   },
   {
    "duration": 3,
    "start_time": "2024-08-30T21:49:33.215Z"
   },
   {
    "duration": 3790,
    "start_time": "2024-08-30T21:49:33.219Z"
   },
   {
    "duration": 4,
    "start_time": "2024-08-30T21:49:37.011Z"
   },
   {
    "duration": 87631,
    "start_time": "2024-08-30T21:49:37.017Z"
   },
   {
    "duration": 70,
    "start_time": "2024-08-30T21:51:04.652Z"
   },
   {
    "duration": 41,
    "start_time": "2024-08-30T21:51:04.723Z"
   },
   {
    "duration": 124,
    "start_time": "2024-08-30T21:51:04.766Z"
   },
   {
    "duration": 13,
    "start_time": "2024-08-30T21:51:04.952Z"
   },
   {
    "duration": 10,
    "start_time": "2024-08-30T21:51:04.966Z"
   },
   {
    "duration": 76,
    "start_time": "2024-08-30T21:51:04.977Z"
   },
   {
    "duration": 639,
    "start_time": "2024-08-30T21:51:05.055Z"
   },
   {
    "duration": 2,
    "start_time": "2024-08-30T21:51:05.696Z"
   },
   {
    "duration": 8,
    "start_time": "2024-08-30T21:51:05.700Z"
   },
   {
    "duration": 19,
    "start_time": "2024-08-30T21:51:05.710Z"
   },
   {
    "duration": 12,
    "start_time": "2024-08-30T21:51:05.753Z"
   },
   {
    "duration": 10,
    "start_time": "2024-08-30T21:51:05.766Z"
   },
   {
    "duration": 12,
    "start_time": "2024-08-30T21:51:05.778Z"
   },
   {
    "duration": 2,
    "start_time": "2024-08-30T21:51:05.792Z"
   },
   {
    "duration": 5,
    "start_time": "2024-08-30T21:51:05.796Z"
   },
   {
    "duration": 3,
    "start_time": "2024-08-30T21:51:05.802Z"
   },
   {
    "duration": 12,
    "start_time": "2024-08-30T21:51:05.807Z"
   },
   {
    "duration": 6,
    "start_time": "2024-08-30T21:51:05.852Z"
   },
   {
    "duration": 28,
    "start_time": "2024-08-30T21:51:05.860Z"
   },
   {
    "duration": 4,
    "start_time": "2024-08-30T21:51:05.889Z"
   },
   {
    "duration": 24,
    "start_time": "2024-08-30T21:51:05.895Z"
   },
   {
    "duration": 13,
    "start_time": "2024-08-30T21:51:05.920Z"
   },
   {
    "duration": 3,
    "start_time": "2024-08-30T21:51:05.935Z"
   },
   {
    "duration": 14,
    "start_time": "2024-08-30T21:51:05.940Z"
   },
   {
    "duration": 16,
    "start_time": "2024-08-30T21:51:05.955Z"
   },
   {
    "duration": 15,
    "start_time": "2024-08-30T21:51:05.973Z"
   },
   {
    "duration": 8,
    "start_time": "2024-08-30T21:51:05.989Z"
   },
   {
    "duration": 58,
    "start_time": "2024-08-30T21:51:05.998Z"
   },
   {
    "duration": 347,
    "start_time": "2024-08-30T21:51:06.058Z"
   },
   {
    "duration": 0,
    "start_time": "2024-08-30T21:51:06.407Z"
   },
   {
    "duration": 0,
    "start_time": "2024-08-30T21:51:06.408Z"
   },
   {
    "duration": 0,
    "start_time": "2024-08-30T21:51:06.409Z"
   },
   {
    "duration": 0,
    "start_time": "2024-08-30T21:51:06.410Z"
   },
   {
    "duration": 0,
    "start_time": "2024-08-30T21:51:06.412Z"
   },
   {
    "duration": 0,
    "start_time": "2024-08-30T21:51:06.413Z"
   },
   {
    "duration": 0,
    "start_time": "2024-08-30T21:51:06.414Z"
   },
   {
    "duration": 0,
    "start_time": "2024-08-30T21:51:06.415Z"
   },
   {
    "duration": 0,
    "start_time": "2024-08-30T21:51:06.416Z"
   },
   {
    "duration": 0,
    "start_time": "2024-08-30T21:51:06.417Z"
   },
   {
    "duration": 0,
    "start_time": "2024-08-30T21:51:06.418Z"
   },
   {
    "duration": 0,
    "start_time": "2024-08-30T21:51:06.419Z"
   },
   {
    "duration": 0,
    "start_time": "2024-08-30T21:51:06.420Z"
   },
   {
    "duration": 0,
    "start_time": "2024-08-30T21:51:06.421Z"
   },
   {
    "duration": 3,
    "start_time": "2024-08-30T21:51:16.338Z"
   },
   {
    "duration": 31,
    "start_time": "2024-08-30T21:51:16.995Z"
   },
   {
    "duration": 39384,
    "start_time": "2024-09-02T17:38:00.646Z"
   },
   {
    "duration": 1633,
    "start_time": "2024-09-02T17:38:40.033Z"
   },
   {
    "duration": 201,
    "start_time": "2024-09-02T17:38:41.667Z"
   },
   {
    "duration": 406,
    "start_time": "2024-09-02T17:38:41.871Z"
   },
   {
    "duration": 467,
    "start_time": "2024-09-02T17:38:42.279Z"
   },
   {
    "duration": 3719,
    "start_time": "2024-09-02T17:38:42.748Z"
   },
   {
    "duration": 3,
    "start_time": "2024-09-02T17:38:46.469Z"
   },
   {
    "duration": 409,
    "start_time": "2024-09-02T17:38:46.473Z"
   },
   {
    "duration": 0,
    "start_time": "2024-09-02T17:38:46.885Z"
   },
   {
    "duration": 0,
    "start_time": "2024-09-02T17:38:46.886Z"
   },
   {
    "duration": 0,
    "start_time": "2024-09-02T17:38:46.887Z"
   },
   {
    "duration": 0,
    "start_time": "2024-09-02T17:38:46.889Z"
   },
   {
    "duration": 0,
    "start_time": "2024-09-02T17:38:46.890Z"
   },
   {
    "duration": 0,
    "start_time": "2024-09-02T17:38:46.891Z"
   },
   {
    "duration": 0,
    "start_time": "2024-09-02T17:38:46.892Z"
   },
   {
    "duration": 0,
    "start_time": "2024-09-02T17:38:46.893Z"
   },
   {
    "duration": 0,
    "start_time": "2024-09-02T17:38:46.894Z"
   },
   {
    "duration": 0,
    "start_time": "2024-09-02T17:38:46.895Z"
   },
   {
    "duration": 0,
    "start_time": "2024-09-02T17:38:46.896Z"
   },
   {
    "duration": 0,
    "start_time": "2024-09-02T17:38:46.897Z"
   },
   {
    "duration": 0,
    "start_time": "2024-09-02T17:38:46.921Z"
   },
   {
    "duration": 0,
    "start_time": "2024-09-02T17:38:46.922Z"
   },
   {
    "duration": 0,
    "start_time": "2024-09-02T17:38:46.923Z"
   },
   {
    "duration": 0,
    "start_time": "2024-09-02T17:38:46.924Z"
   },
   {
    "duration": 0,
    "start_time": "2024-09-02T17:38:46.925Z"
   },
   {
    "duration": 0,
    "start_time": "2024-09-02T17:38:46.926Z"
   },
   {
    "duration": 0,
    "start_time": "2024-09-02T17:38:46.927Z"
   },
   {
    "duration": 0,
    "start_time": "2024-09-02T17:38:46.928Z"
   },
   {
    "duration": 0,
    "start_time": "2024-09-02T17:38:46.930Z"
   },
   {
    "duration": 0,
    "start_time": "2024-09-02T17:38:46.931Z"
   },
   {
    "duration": 0,
    "start_time": "2024-09-02T17:38:46.932Z"
   },
   {
    "duration": 0,
    "start_time": "2024-09-02T17:38:46.933Z"
   },
   {
    "duration": 0,
    "start_time": "2024-09-02T17:38:46.934Z"
   },
   {
    "duration": 0,
    "start_time": "2024-09-02T17:38:46.935Z"
   },
   {
    "duration": 0,
    "start_time": "2024-09-02T17:38:46.936Z"
   },
   {
    "duration": 1,
    "start_time": "2024-09-02T17:38:46.937Z"
   },
   {
    "duration": 0,
    "start_time": "2024-09-02T17:38:46.939Z"
   },
   {
    "duration": 0,
    "start_time": "2024-09-02T17:38:46.940Z"
   },
   {
    "duration": 0,
    "start_time": "2024-09-02T17:38:46.941Z"
   },
   {
    "duration": 0,
    "start_time": "2024-09-02T17:38:46.942Z"
   },
   {
    "duration": 0,
    "start_time": "2024-09-02T17:38:46.943Z"
   },
   {
    "duration": 0,
    "start_time": "2024-09-02T17:38:46.944Z"
   },
   {
    "duration": 0,
    "start_time": "2024-09-02T17:38:46.945Z"
   },
   {
    "duration": 0,
    "start_time": "2024-09-02T17:38:46.946Z"
   },
   {
    "duration": 0,
    "start_time": "2024-09-02T17:38:46.948Z"
   },
   {
    "duration": 0,
    "start_time": "2024-09-02T17:38:46.948Z"
   },
   {
    "duration": 0,
    "start_time": "2024-09-02T17:38:46.950Z"
   },
   {
    "duration": 0,
    "start_time": "2024-09-02T17:38:46.951Z"
   },
   {
    "duration": 0,
    "start_time": "2024-09-02T17:38:46.952Z"
   },
   {
    "duration": 0,
    "start_time": "2024-09-02T17:38:46.953Z"
   },
   {
    "duration": 0,
    "start_time": "2024-09-02T17:38:46.954Z"
   },
   {
    "duration": 0,
    "start_time": "2024-09-02T17:38:47.020Z"
   },
   {
    "duration": 0,
    "start_time": "2024-09-02T17:38:47.021Z"
   },
   {
    "duration": 0,
    "start_time": "2024-09-02T17:38:47.022Z"
   },
   {
    "duration": 0,
    "start_time": "2024-09-02T17:38:47.023Z"
   },
   {
    "duration": 24592,
    "start_time": "2024-09-02T17:39:57.898Z"
   },
   {
    "duration": 1374,
    "start_time": "2024-09-02T17:40:22.492Z"
   },
   {
    "duration": 149,
    "start_time": "2024-09-02T17:40:23.868Z"
   },
   {
    "duration": 279,
    "start_time": "2024-09-02T17:40:24.019Z"
   },
   {
    "duration": 389,
    "start_time": "2024-09-02T17:40:24.299Z"
   },
   {
    "duration": 3733,
    "start_time": "2024-09-02T17:40:24.689Z"
   },
   {
    "duration": 3,
    "start_time": "2024-09-02T17:40:28.424Z"
   },
   {
    "duration": 1297,
    "start_time": "2024-09-02T17:40:28.429Z"
   },
   {
    "duration": 3,
    "start_time": "2024-09-02T17:40:29.727Z"
   },
   {
    "duration": 7908,
    "start_time": "2024-09-02T17:40:29.733Z"
   },
   {
    "duration": 66,
    "start_time": "2024-09-02T17:40:37.642Z"
   },
   {
    "duration": 37,
    "start_time": "2024-09-02T17:40:37.709Z"
   },
   {
    "duration": 174,
    "start_time": "2024-09-02T17:40:37.748Z"
   },
   {
    "duration": 13,
    "start_time": "2024-09-02T17:40:37.925Z"
   },
   {
    "duration": 413,
    "start_time": "2024-09-02T17:40:37.940Z"
   },
   {
    "duration": 0,
    "start_time": "2024-09-02T17:40:38.356Z"
   },
   {
    "duration": 0,
    "start_time": "2024-09-02T17:40:38.358Z"
   },
   {
    "duration": 0,
    "start_time": "2024-09-02T17:40:38.359Z"
   },
   {
    "duration": 0,
    "start_time": "2024-09-02T17:40:38.360Z"
   },
   {
    "duration": 0,
    "start_time": "2024-09-02T17:40:38.361Z"
   },
   {
    "duration": 0,
    "start_time": "2024-09-02T17:40:38.363Z"
   },
   {
    "duration": 0,
    "start_time": "2024-09-02T17:40:38.364Z"
   },
   {
    "duration": 0,
    "start_time": "2024-09-02T17:40:38.365Z"
   },
   {
    "duration": 0,
    "start_time": "2024-09-02T17:40:38.367Z"
   },
   {
    "duration": 0,
    "start_time": "2024-09-02T17:40:38.368Z"
   },
   {
    "duration": 0,
    "start_time": "2024-09-02T17:40:38.369Z"
   },
   {
    "duration": 0,
    "start_time": "2024-09-02T17:40:38.371Z"
   },
   {
    "duration": 0,
    "start_time": "2024-09-02T17:40:38.372Z"
   },
   {
    "duration": 0,
    "start_time": "2024-09-02T17:40:38.373Z"
   },
   {
    "duration": 0,
    "start_time": "2024-09-02T17:40:38.374Z"
   },
   {
    "duration": 0,
    "start_time": "2024-09-02T17:40:38.375Z"
   },
   {
    "duration": 0,
    "start_time": "2024-09-02T17:40:38.376Z"
   },
   {
    "duration": 0,
    "start_time": "2024-09-02T17:40:38.377Z"
   },
   {
    "duration": 0,
    "start_time": "2024-09-02T17:40:38.379Z"
   },
   {
    "duration": 0,
    "start_time": "2024-09-02T17:40:38.420Z"
   },
   {
    "duration": 0,
    "start_time": "2024-09-02T17:40:38.422Z"
   },
   {
    "duration": 0,
    "start_time": "2024-09-02T17:40:38.423Z"
   },
   {
    "duration": 0,
    "start_time": "2024-09-02T17:40:38.424Z"
   },
   {
    "duration": 0,
    "start_time": "2024-09-02T17:40:38.425Z"
   },
   {
    "duration": 0,
    "start_time": "2024-09-02T17:40:38.426Z"
   },
   {
    "duration": 0,
    "start_time": "2024-09-02T17:40:38.427Z"
   },
   {
    "duration": 0,
    "start_time": "2024-09-02T17:40:38.428Z"
   },
   {
    "duration": 0,
    "start_time": "2024-09-02T17:40:38.429Z"
   },
   {
    "duration": 0,
    "start_time": "2024-09-02T17:40:38.430Z"
   },
   {
    "duration": 0,
    "start_time": "2024-09-02T17:40:38.431Z"
   },
   {
    "duration": 0,
    "start_time": "2024-09-02T17:40:38.432Z"
   },
   {
    "duration": 0,
    "start_time": "2024-09-02T17:40:38.433Z"
   },
   {
    "duration": 0,
    "start_time": "2024-09-02T17:40:38.435Z"
   },
   {
    "duration": 0,
    "start_time": "2024-09-02T17:40:38.436Z"
   },
   {
    "duration": 0,
    "start_time": "2024-09-02T17:40:38.437Z"
   },
   {
    "duration": 0,
    "start_time": "2024-09-02T17:40:38.438Z"
   },
   {
    "duration": 0,
    "start_time": "2024-09-02T17:40:38.439Z"
   },
   {
    "duration": 0,
    "start_time": "2024-09-02T17:40:38.440Z"
   },
   {
    "duration": 0,
    "start_time": "2024-09-02T17:40:38.441Z"
   },
   {
    "duration": 0,
    "start_time": "2024-09-02T17:40:38.442Z"
   },
   {
    "duration": 3,
    "start_time": "2024-09-02T17:42:23.887Z"
   },
   {
    "duration": 651,
    "start_time": "2024-09-02T17:42:24.239Z"
   },
   {
    "duration": 3,
    "start_time": "2024-09-02T17:42:24.892Z"
   },
   {
    "duration": 32,
    "start_time": "2024-09-02T17:42:24.896Z"
   },
   {
    "duration": 19,
    "start_time": "2024-09-02T17:42:25.019Z"
   },
   {
    "duration": 11,
    "start_time": "2024-09-02T17:42:25.803Z"
   },
   {
    "duration": 14,
    "start_time": "2024-09-02T17:42:27.326Z"
   },
   {
    "duration": 2,
    "start_time": "2024-09-02T17:42:27.584Z"
   },
   {
    "duration": 4,
    "start_time": "2024-09-02T17:42:29.151Z"
   },
   {
    "duration": 5,
    "start_time": "2024-09-02T17:44:14.331Z"
   },
   {
    "duration": 3,
    "start_time": "2024-09-02T17:44:43.756Z"
   },
   {
    "duration": 10,
    "start_time": "2024-09-02T17:44:44.023Z"
   },
   {
    "duration": 7,
    "start_time": "2024-09-02T17:44:44.233Z"
   },
   {
    "duration": 38,
    "start_time": "2024-09-02T17:44:44.449Z"
   },
   {
    "duration": 19,
    "start_time": "2024-09-02T17:44:46.619Z"
   },
   {
    "duration": 6,
    "start_time": "2024-09-02T17:44:52.356Z"
   },
   {
    "duration": 6,
    "start_time": "2024-09-02T17:45:04.716Z"
   },
   {
    "duration": 30765,
    "start_time": "2024-09-02T17:46:19.084Z"
   },
   {
    "duration": 39,
    "start_time": "2024-09-02T17:47:19.858Z"
   },
   {
    "duration": 6,
    "start_time": "2024-09-02T17:47:20.378Z"
   },
   {
    "duration": 30828,
    "start_time": "2024-09-02T17:47:21.636Z"
   },
   {
    "duration": 3,
    "start_time": "2024-09-02T17:48:36.213Z"
   },
   {
    "duration": 44,
    "start_time": "2024-09-02T17:48:38.395Z"
   },
   {
    "duration": 6,
    "start_time": "2024-09-02T17:48:41.488Z"
   },
   {
    "duration": 34387,
    "start_time": "2024-09-02T17:48:42.303Z"
   },
   {
    "duration": 2,
    "start_time": "2024-09-02T17:49:16.692Z"
   },
   {
    "duration": 3,
    "start_time": "2024-09-02T17:50:03.483Z"
   },
   {
    "duration": 270291,
    "start_time": "2024-09-02T17:50:07.635Z"
   },
   {
    "duration": 28,
    "start_time": "2024-09-02T17:54:37.930Z"
   },
   {
    "duration": 19,
    "start_time": "2024-09-02T17:54:37.960Z"
   },
   {
    "duration": 0,
    "start_time": "2024-09-02T17:54:37.981Z"
   },
   {
    "duration": 0,
    "start_time": "2024-09-02T17:54:37.982Z"
   },
   {
    "duration": 24339,
    "start_time": "2024-09-02T18:00:46.379Z"
   },
   {
    "duration": 1356,
    "start_time": "2024-09-02T18:01:10.721Z"
   },
   {
    "duration": 151,
    "start_time": "2024-09-02T18:01:12.078Z"
   },
   {
    "duration": 325,
    "start_time": "2024-09-02T18:01:12.232Z"
   },
   {
    "duration": 401,
    "start_time": "2024-09-02T18:01:12.559Z"
   },
   {
    "duration": 3709,
    "start_time": "2024-09-02T18:01:12.961Z"
   },
   {
    "duration": 4,
    "start_time": "2024-09-02T18:01:16.672Z"
   },
   {
    "duration": 964,
    "start_time": "2024-09-02T18:01:16.678Z"
   },
   {
    "duration": 3,
    "start_time": "2024-09-02T18:01:17.644Z"
   },
   {
    "duration": 7789,
    "start_time": "2024-09-02T18:01:17.651Z"
   },
   {
    "duration": 65,
    "start_time": "2024-09-02T18:01:25.442Z"
   },
   {
    "duration": 35,
    "start_time": "2024-09-02T18:01:25.509Z"
   },
   {
    "duration": 191,
    "start_time": "2024-09-02T18:01:25.545Z"
   },
   {
    "duration": 82,
    "start_time": "2024-09-02T18:01:25.739Z"
   },
   {
    "duration": 3,
    "start_time": "2024-09-02T18:01:25.823Z"
   },
   {
    "duration": 667,
    "start_time": "2024-09-02T18:01:25.828Z"
   },
   {
    "duration": 2,
    "start_time": "2024-09-02T18:01:26.496Z"
   },
   {
    "duration": 28,
    "start_time": "2024-09-02T18:01:26.500Z"
   },
   {
    "duration": 17,
    "start_time": "2024-09-02T18:01:26.530Z"
   },
   {
    "duration": 11,
    "start_time": "2024-09-02T18:01:26.549Z"
   },
   {
    "duration": 13,
    "start_time": "2024-09-02T18:01:26.563Z"
   },
   {
    "duration": 3,
    "start_time": "2024-09-02T18:01:26.577Z"
   },
   {
    "duration": 14,
    "start_time": "2024-09-02T18:01:26.582Z"
   },
   {
    "duration": 4,
    "start_time": "2024-09-02T18:01:26.620Z"
   },
   {
    "duration": 13,
    "start_time": "2024-09-02T18:01:26.625Z"
   },
   {
    "duration": 8,
    "start_time": "2024-09-02T18:01:26.639Z"
   },
   {
    "duration": 37,
    "start_time": "2024-09-02T18:01:26.649Z"
   },
   {
    "duration": 6,
    "start_time": "2024-09-02T18:01:26.690Z"
   },
   {
    "duration": 30686,
    "start_time": "2024-09-02T18:01:26.697Z"
   },
   {
    "duration": 2,
    "start_time": "2024-09-02T18:01:57.385Z"
   },
   {
    "duration": 6,
    "start_time": "2024-09-02T18:01:57.389Z"
   },
   {
    "duration": 246938,
    "start_time": "2024-09-02T18:01:57.397Z"
   },
   {
    "duration": 23,
    "start_time": "2024-09-02T18:06:04.336Z"
   },
   {
    "duration": 357,
    "start_time": "2024-09-02T18:06:04.360Z"
   },
   {
    "duration": 0,
    "start_time": "2024-09-02T18:06:04.719Z"
   },
   {
    "duration": 0,
    "start_time": "2024-09-02T18:06:04.720Z"
   },
   {
    "duration": 0,
    "start_time": "2024-09-02T18:06:04.721Z"
   },
   {
    "duration": 0,
    "start_time": "2024-09-02T18:06:04.722Z"
   },
   {
    "duration": 0,
    "start_time": "2024-09-02T18:06:04.724Z"
   },
   {
    "duration": 0,
    "start_time": "2024-09-02T18:06:04.725Z"
   },
   {
    "duration": 0,
    "start_time": "2024-09-02T18:06:04.726Z"
   },
   {
    "duration": 0,
    "start_time": "2024-09-02T18:06:04.728Z"
   },
   {
    "duration": 0,
    "start_time": "2024-09-02T18:06:04.729Z"
   },
   {
    "duration": 0,
    "start_time": "2024-09-02T18:06:04.730Z"
   },
   {
    "duration": 0,
    "start_time": "2024-09-02T18:06:04.732Z"
   },
   {
    "duration": 0,
    "start_time": "2024-09-02T18:06:04.733Z"
   },
   {
    "duration": 0,
    "start_time": "2024-09-02T18:06:04.734Z"
   },
   {
    "duration": 0,
    "start_time": "2024-09-02T18:06:04.741Z"
   },
   {
    "duration": 0,
    "start_time": "2024-09-02T18:06:04.742Z"
   },
   {
    "duration": 0,
    "start_time": "2024-09-02T18:06:04.743Z"
   },
   {
    "duration": 0,
    "start_time": "2024-09-02T18:06:04.744Z"
   },
   {
    "duration": 0,
    "start_time": "2024-09-02T18:06:04.745Z"
   },
   {
    "duration": 0,
    "start_time": "2024-09-02T18:06:04.746Z"
   },
   {
    "duration": 0,
    "start_time": "2024-09-02T18:06:04.748Z"
   },
   {
    "duration": 0,
    "start_time": "2024-09-02T18:06:04.749Z"
   },
   {
    "duration": 0,
    "start_time": "2024-09-02T18:06:04.750Z"
   },
   {
    "duration": 0,
    "start_time": "2024-09-02T18:06:04.752Z"
   },
   {
    "duration": 0,
    "start_time": "2024-09-02T18:06:04.753Z"
   },
   {
    "duration": 0,
    "start_time": "2024-09-02T18:06:04.754Z"
   },
   {
    "duration": 0,
    "start_time": "2024-09-02T18:06:04.755Z"
   },
   {
    "duration": 0,
    "start_time": "2024-09-02T18:06:04.756Z"
   },
   {
    "duration": 0,
    "start_time": "2024-09-02T18:06:04.757Z"
   },
   {
    "duration": 0,
    "start_time": "2024-09-02T18:06:04.759Z"
   },
   {
    "duration": 0,
    "start_time": "2024-09-02T18:06:04.760Z"
   },
   {
    "duration": 0,
    "start_time": "2024-09-02T18:06:04.821Z"
   },
   {
    "duration": 0,
    "start_time": "2024-09-02T18:06:04.822Z"
   },
   {
    "duration": 0,
    "start_time": "2024-09-02T18:06:04.823Z"
   },
   {
    "duration": 0,
    "start_time": "2024-09-02T18:06:04.824Z"
   },
   {
    "duration": 0,
    "start_time": "2024-09-02T18:06:04.825Z"
   },
   {
    "duration": 0,
    "start_time": "2024-09-02T18:06:04.826Z"
   },
   {
    "duration": 0,
    "start_time": "2024-09-02T18:06:04.827Z"
   },
   {
    "duration": 0,
    "start_time": "2024-09-02T18:06:04.828Z"
   },
   {
    "duration": 0,
    "start_time": "2024-09-02T18:06:04.829Z"
   },
   {
    "duration": 0,
    "start_time": "2024-09-02T18:06:04.830Z"
   },
   {
    "duration": 0,
    "start_time": "2024-09-02T18:06:04.831Z"
   },
   {
    "duration": 16,
    "start_time": "2024-09-02T18:09:04.722Z"
   },
   {
    "duration": 299,
    "start_time": "2024-09-02T18:09:05.651Z"
   },
   {
    "duration": 3264,
    "start_time": "2024-09-02T18:09:06.623Z"
   },
   {
    "duration": 344,
    "start_time": "2024-09-02T18:09:11.084Z"
   },
   {
    "duration": 51,
    "start_time": "2024-09-02T18:09:17.859Z"
   },
   {
    "duration": 0,
    "start_time": "2024-09-02T18:09:17.911Z"
   },
   {
    "duration": 24502,
    "start_time": "2024-09-02T18:10:19.096Z"
   },
   {
    "duration": 1736,
    "start_time": "2024-09-02T18:10:43.600Z"
   },
   {
    "duration": 1401,
    "start_time": "2024-09-02T18:10:45.338Z"
   },
   {
    "duration": 305,
    "start_time": "2024-09-02T18:10:46.741Z"
   },
   {
    "duration": 578,
    "start_time": "2024-09-02T18:10:47.047Z"
   },
   {
    "duration": 3770,
    "start_time": "2024-09-02T18:10:47.627Z"
   },
   {
    "duration": 3,
    "start_time": "2024-09-02T18:10:51.399Z"
   },
   {
    "duration": 1317,
    "start_time": "2024-09-02T18:10:51.404Z"
   },
   {
    "duration": 3,
    "start_time": "2024-09-02T18:10:52.723Z"
   },
   {
    "duration": 7925,
    "start_time": "2024-09-02T18:10:52.729Z"
   },
   {
    "duration": 75,
    "start_time": "2024-09-02T18:11:00.656Z"
   },
   {
    "duration": 29,
    "start_time": "2024-09-02T18:11:00.733Z"
   },
   {
    "duration": 181,
    "start_time": "2024-09-02T18:11:00.764Z"
   },
   {
    "duration": 84,
    "start_time": "2024-09-02T18:11:00.947Z"
   },
   {
    "duration": 12,
    "start_time": "2024-09-02T18:11:01.033Z"
   },
   {
    "duration": 658,
    "start_time": "2024-09-02T18:11:01.047Z"
   },
   {
    "duration": 3,
    "start_time": "2024-09-02T18:11:01.707Z"
   },
   {
    "duration": 46,
    "start_time": "2024-09-02T18:11:01.711Z"
   },
   {
    "duration": 26,
    "start_time": "2024-09-02T18:11:01.759Z"
   },
   {
    "duration": 17,
    "start_time": "2024-09-02T18:11:01.787Z"
   },
   {
    "duration": 16,
    "start_time": "2024-09-02T18:11:01.806Z"
   },
   {
    "duration": 21,
    "start_time": "2024-09-02T18:11:01.824Z"
   },
   {
    "duration": 5,
    "start_time": "2024-09-02T18:11:01.847Z"
   },
   {
    "duration": 48,
    "start_time": "2024-09-02T18:11:01.854Z"
   },
   {
    "duration": 11,
    "start_time": "2024-09-02T18:11:01.904Z"
   },
   {
    "duration": 29,
    "start_time": "2024-09-02T18:11:01.916Z"
   },
   {
    "duration": 98,
    "start_time": "2024-09-02T18:11:01.946Z"
   },
   {
    "duration": 23,
    "start_time": "2024-09-02T18:11:02.049Z"
   },
   {
    "duration": 30735,
    "start_time": "2024-09-02T18:11:02.074Z"
   },
   {
    "duration": 168,
    "start_time": "2024-09-02T18:11:32.811Z"
   },
   {
    "duration": 52,
    "start_time": "2024-09-02T18:11:32.981Z"
   },
   {
    "duration": 31,
    "start_time": "2024-09-02T18:11:33.034Z"
   },
   {
    "duration": 248880,
    "start_time": "2024-09-02T18:11:33.067Z"
   },
   {
    "duration": 34,
    "start_time": "2024-09-02T18:15:41.948Z"
   },
   {
    "duration": 18,
    "start_time": "2024-09-02T18:15:41.983Z"
   },
   {
    "duration": 315,
    "start_time": "2024-09-02T18:15:42.020Z"
   },
   {
    "duration": 350,
    "start_time": "2024-09-02T18:15:42.337Z"
   },
   {
    "duration": 0,
    "start_time": "2024-09-02T18:15:42.688Z"
   },
   {
    "duration": 0,
    "start_time": "2024-09-02T18:15:42.689Z"
   },
   {
    "duration": 0,
    "start_time": "2024-09-02T18:15:42.690Z"
   },
   {
    "duration": 0,
    "start_time": "2024-09-02T18:15:42.692Z"
   },
   {
    "duration": 0,
    "start_time": "2024-09-02T18:15:42.692Z"
   },
   {
    "duration": 0,
    "start_time": "2024-09-02T18:15:42.693Z"
   },
   {
    "duration": 1,
    "start_time": "2024-09-02T18:15:42.694Z"
   },
   {
    "duration": 0,
    "start_time": "2024-09-02T18:15:42.696Z"
   },
   {
    "duration": 0,
    "start_time": "2024-09-02T18:15:42.696Z"
   },
   {
    "duration": 0,
    "start_time": "2024-09-02T18:15:42.697Z"
   },
   {
    "duration": 0,
    "start_time": "2024-09-02T18:15:42.698Z"
   },
   {
    "duration": 0,
    "start_time": "2024-09-02T18:15:42.699Z"
   },
   {
    "duration": 0,
    "start_time": "2024-09-02T18:15:42.720Z"
   },
   {
    "duration": 0,
    "start_time": "2024-09-02T18:15:42.721Z"
   },
   {
    "duration": 0,
    "start_time": "2024-09-02T18:15:42.723Z"
   },
   {
    "duration": 0,
    "start_time": "2024-09-02T18:15:42.724Z"
   },
   {
    "duration": 0,
    "start_time": "2024-09-02T18:15:42.725Z"
   },
   {
    "duration": 0,
    "start_time": "2024-09-02T18:15:42.726Z"
   },
   {
    "duration": 0,
    "start_time": "2024-09-02T18:15:42.727Z"
   },
   {
    "duration": 0,
    "start_time": "2024-09-02T18:15:42.728Z"
   },
   {
    "duration": 0,
    "start_time": "2024-09-02T18:15:42.729Z"
   },
   {
    "duration": 0,
    "start_time": "2024-09-02T18:15:42.730Z"
   },
   {
    "duration": 0,
    "start_time": "2024-09-02T18:15:42.731Z"
   },
   {
    "duration": 1,
    "start_time": "2024-09-02T18:15:42.732Z"
   },
   {
    "duration": 0,
    "start_time": "2024-09-02T18:15:42.734Z"
   },
   {
    "duration": 0,
    "start_time": "2024-09-02T18:15:42.735Z"
   },
   {
    "duration": 0,
    "start_time": "2024-09-02T18:15:42.736Z"
   },
   {
    "duration": 0,
    "start_time": "2024-09-02T18:15:42.737Z"
   },
   {
    "duration": 0,
    "start_time": "2024-09-02T18:15:42.738Z"
   },
   {
    "duration": 0,
    "start_time": "2024-09-02T18:15:42.739Z"
   },
   {
    "duration": 1,
    "start_time": "2024-09-02T18:15:42.740Z"
   },
   {
    "duration": 1,
    "start_time": "2024-09-02T18:15:42.741Z"
   },
   {
    "duration": 0,
    "start_time": "2024-09-02T18:15:42.742Z"
   },
   {
    "duration": 0,
    "start_time": "2024-09-02T18:15:42.743Z"
   },
   {
    "duration": 0,
    "start_time": "2024-09-02T18:15:42.745Z"
   },
   {
    "duration": 0,
    "start_time": "2024-09-02T18:15:42.746Z"
   },
   {
    "duration": 0,
    "start_time": "2024-09-02T18:15:42.747Z"
   },
   {
    "duration": 0,
    "start_time": "2024-09-02T18:15:42.748Z"
   },
   {
    "duration": 0,
    "start_time": "2024-09-02T18:15:42.749Z"
   },
   {
    "duration": 0,
    "start_time": "2024-09-02T18:15:42.750Z"
   },
   {
    "duration": 34,
    "start_time": "2024-09-02T18:18:21.728Z"
   },
   {
    "duration": 24386,
    "start_time": "2024-09-02T18:20:33.000Z"
   },
   {
    "duration": 1368,
    "start_time": "2024-09-02T18:20:57.389Z"
   },
   {
    "duration": 147,
    "start_time": "2024-09-02T18:20:58.758Z"
   },
   {
    "duration": 291,
    "start_time": "2024-09-02T18:20:58.906Z"
   },
   {
    "duration": 397,
    "start_time": "2024-09-02T18:20:59.199Z"
   },
   {
    "duration": 3622,
    "start_time": "2024-09-02T18:20:59.598Z"
   },
   {
    "duration": 3,
    "start_time": "2024-09-02T18:21:03.222Z"
   },
   {
    "duration": 924,
    "start_time": "2024-09-02T18:21:03.227Z"
   },
   {
    "duration": 3,
    "start_time": "2024-09-02T18:21:04.153Z"
   },
   {
    "duration": 7814,
    "start_time": "2024-09-02T18:21:04.159Z"
   },
   {
    "duration": 80,
    "start_time": "2024-09-02T18:21:11.974Z"
   },
   {
    "duration": 31,
    "start_time": "2024-09-02T18:21:12.056Z"
   },
   {
    "duration": 147,
    "start_time": "2024-09-02T18:21:12.089Z"
   },
   {
    "duration": 88,
    "start_time": "2024-09-02T18:21:12.239Z"
   },
   {
    "duration": 12,
    "start_time": "2024-09-02T18:21:12.330Z"
   },
   {
    "duration": 669,
    "start_time": "2024-09-02T18:21:12.344Z"
   },
   {
    "duration": 3,
    "start_time": "2024-09-02T18:21:13.023Z"
   },
   {
    "duration": 14,
    "start_time": "2024-09-02T18:21:13.029Z"
   },
   {
    "duration": 21,
    "start_time": "2024-09-02T18:21:13.045Z"
   },
   {
    "duration": 11,
    "start_time": "2024-09-02T18:21:13.068Z"
   },
   {
    "duration": 14,
    "start_time": "2024-09-02T18:21:13.080Z"
   },
   {
    "duration": 25,
    "start_time": "2024-09-02T18:21:13.096Z"
   },
   {
    "duration": 11,
    "start_time": "2024-09-02T18:21:13.123Z"
   },
   {
    "duration": 26,
    "start_time": "2024-09-02T18:21:13.136Z"
   },
   {
    "duration": 17,
    "start_time": "2024-09-02T18:21:13.164Z"
   },
   {
    "duration": 20,
    "start_time": "2024-09-02T18:21:13.183Z"
   },
   {
    "duration": 36,
    "start_time": "2024-09-02T18:21:13.205Z"
   },
   {
    "duration": 6,
    "start_time": "2024-09-02T18:21:13.247Z"
   },
   {
    "duration": 31562,
    "start_time": "2024-09-02T18:21:13.255Z"
   },
   {
    "duration": 3,
    "start_time": "2024-09-02T18:21:44.821Z"
   },
   {
    "duration": 22,
    "start_time": "2024-09-02T18:21:44.826Z"
   },
   {
    "duration": 249191,
    "start_time": "2024-09-02T18:21:44.851Z"
   },
   {
    "duration": 24,
    "start_time": "2024-09-02T18:25:54.043Z"
   },
   {
    "duration": 167470,
    "start_time": "2024-09-02T18:25:54.068Z"
   },
   {
    "duration": 37612,
    "start_time": "2024-09-02T18:28:41.540Z"
   },
   {
    "duration": 2,
    "start_time": "2024-09-02T18:29:19.154Z"
   },
   {
    "duration": 40,
    "start_time": "2024-09-02T18:29:19.158Z"
   },
   {
    "duration": 340,
    "start_time": "2024-09-02T18:29:19.200Z"
   },
   {
    "duration": 3300,
    "start_time": "2024-09-02T18:29:19.541Z"
   },
   {
    "duration": 110319,
    "start_time": "2024-09-02T18:29:22.843Z"
   },
   {
    "duration": 0,
    "start_time": "2024-09-02T18:31:13.163Z"
   },
   {
    "duration": 0,
    "start_time": "2024-09-02T18:31:13.165Z"
   },
   {
    "duration": 0,
    "start_time": "2024-09-02T18:31:13.166Z"
   },
   {
    "duration": 0,
    "start_time": "2024-09-02T18:31:13.167Z"
   },
   {
    "duration": 0,
    "start_time": "2024-09-02T18:31:13.168Z"
   },
   {
    "duration": 0,
    "start_time": "2024-09-02T18:31:13.169Z"
   },
   {
    "duration": 0,
    "start_time": "2024-09-02T18:31:13.170Z"
   },
   {
    "duration": 0,
    "start_time": "2024-09-02T18:31:13.171Z"
   },
   {
    "duration": 0,
    "start_time": "2024-09-02T18:31:13.172Z"
   },
   {
    "duration": 0,
    "start_time": "2024-09-02T18:31:13.173Z"
   },
   {
    "duration": 0,
    "start_time": "2024-09-02T18:31:13.174Z"
   },
   {
    "duration": 0,
    "start_time": "2024-09-02T18:31:13.175Z"
   },
   {
    "duration": 0,
    "start_time": "2024-09-02T18:31:13.177Z"
   },
   {
    "duration": 0,
    "start_time": "2024-09-02T18:31:13.178Z"
   },
   {
    "duration": 0,
    "start_time": "2024-09-02T18:31:13.179Z"
   },
   {
    "duration": 0,
    "start_time": "2024-09-02T18:31:13.180Z"
   },
   {
    "duration": 0,
    "start_time": "2024-09-02T18:31:13.181Z"
   },
   {
    "duration": 0,
    "start_time": "2024-09-02T18:31:13.182Z"
   },
   {
    "duration": 0,
    "start_time": "2024-09-02T18:31:13.183Z"
   },
   {
    "duration": 0,
    "start_time": "2024-09-02T18:31:13.185Z"
   },
   {
    "duration": 0,
    "start_time": "2024-09-02T18:31:13.230Z"
   },
   {
    "duration": 0,
    "start_time": "2024-09-02T18:31:13.231Z"
   },
   {
    "duration": 0,
    "start_time": "2024-09-02T18:31:13.232Z"
   },
   {
    "duration": 0,
    "start_time": "2024-09-02T18:31:13.233Z"
   },
   {
    "duration": 0,
    "start_time": "2024-09-02T18:31:13.235Z"
   },
   {
    "duration": 0,
    "start_time": "2024-09-02T18:31:13.236Z"
   },
   {
    "duration": 0,
    "start_time": "2024-09-02T18:31:13.237Z"
   },
   {
    "duration": 0,
    "start_time": "2024-09-02T18:31:13.238Z"
   },
   {
    "duration": 0,
    "start_time": "2024-09-02T18:31:13.239Z"
   },
   {
    "duration": 0,
    "start_time": "2024-09-02T18:31:13.240Z"
   },
   {
    "duration": 0,
    "start_time": "2024-09-02T18:31:13.241Z"
   },
   {
    "duration": 0,
    "start_time": "2024-09-02T18:31:13.242Z"
   },
   {
    "duration": 0,
    "start_time": "2024-09-02T18:31:13.244Z"
   },
   {
    "duration": 0,
    "start_time": "2024-09-02T18:31:13.245Z"
   },
   {
    "duration": 0,
    "start_time": "2024-09-02T18:31:13.246Z"
   },
   {
    "duration": 0,
    "start_time": "2024-09-02T18:31:13.247Z"
   },
   {
    "duration": 0,
    "start_time": "2024-09-02T18:31:13.248Z"
   },
   {
    "duration": 0,
    "start_time": "2024-09-02T18:31:13.249Z"
   },
   {
    "duration": 0,
    "start_time": "2024-09-02T18:31:13.250Z"
   },
   {
    "duration": 0,
    "start_time": "2024-09-02T18:31:13.251Z"
   },
   {
    "duration": 109216,
    "start_time": "2024-09-02T18:33:49.605Z"
   },
   {
    "duration": 108927,
    "start_time": "2024-09-02T18:36:17.281Z"
   },
   {
    "duration": 28433,
    "start_time": "2024-09-02T18:38:06.220Z"
   },
   {
    "duration": 3,
    "start_time": "2024-09-02T18:38:34.655Z"
   },
   {
    "duration": 367,
    "start_time": "2024-09-02T18:38:34.661Z"
   },
   {
    "duration": 50,
    "start_time": "2024-09-02T18:39:39.319Z"
   },
   {
    "duration": 24658,
    "start_time": "2024-09-02T18:39:53.710Z"
   },
   {
    "duration": 1742,
    "start_time": "2024-09-02T18:40:18.371Z"
   },
   {
    "duration": 1018,
    "start_time": "2024-09-02T18:40:20.115Z"
   },
   {
    "duration": 293,
    "start_time": "2024-09-02T18:40:21.135Z"
   },
   {
    "duration": 576,
    "start_time": "2024-09-02T18:40:21.429Z"
   },
   {
    "duration": 3823,
    "start_time": "2024-09-02T18:40:22.007Z"
   },
   {
    "duration": 3,
    "start_time": "2024-09-02T18:40:25.831Z"
   },
   {
    "duration": 1273,
    "start_time": "2024-09-02T18:40:25.836Z"
   },
   {
    "duration": 3,
    "start_time": "2024-09-02T18:40:27.111Z"
   },
   {
    "duration": 7715,
    "start_time": "2024-09-02T18:40:27.117Z"
   },
   {
    "duration": 69,
    "start_time": "2024-09-02T18:40:34.834Z"
   },
   {
    "duration": 42,
    "start_time": "2024-09-02T18:40:34.904Z"
   },
   {
    "duration": 202,
    "start_time": "2024-09-02T18:40:34.947Z"
   },
   {
    "duration": 69,
    "start_time": "2024-09-02T18:40:35.152Z"
   },
   {
    "duration": 12,
    "start_time": "2024-09-02T18:40:35.223Z"
   },
   {
    "duration": 19,
    "start_time": "2024-09-02T18:40:35.236Z"
   },
   {
    "duration": 648,
    "start_time": "2024-09-02T18:40:35.256Z"
   },
   {
    "duration": 2,
    "start_time": "2024-09-02T18:40:35.906Z"
   },
   {
    "duration": 21,
    "start_time": "2024-09-02T18:40:35.910Z"
   },
   {
    "duration": 37,
    "start_time": "2024-09-02T18:40:35.933Z"
   },
   {
    "duration": 14,
    "start_time": "2024-09-02T18:40:35.972Z"
   },
   {
    "duration": 30,
    "start_time": "2024-09-02T18:40:35.987Z"
   },
   {
    "duration": 3,
    "start_time": "2024-09-02T18:40:36.019Z"
   },
   {
    "duration": 31,
    "start_time": "2024-09-02T18:40:36.024Z"
   },
   {
    "duration": 25,
    "start_time": "2024-09-02T18:40:36.057Z"
   },
   {
    "duration": 45,
    "start_time": "2024-09-02T18:40:36.084Z"
   },
   {
    "duration": 17,
    "start_time": "2024-09-02T18:40:36.131Z"
   },
   {
    "duration": 50,
    "start_time": "2024-09-02T18:40:36.152Z"
   },
   {
    "duration": 8,
    "start_time": "2024-09-02T18:40:36.204Z"
   },
   {
    "duration": 31485,
    "start_time": "2024-09-02T18:40:36.214Z"
   },
   {
    "duration": 2,
    "start_time": "2024-09-02T18:41:07.701Z"
   },
   {
    "duration": 17,
    "start_time": "2024-09-02T18:41:07.705Z"
   },
   {
    "duration": 249013,
    "start_time": "2024-09-02T18:41:07.724Z"
   },
   {
    "duration": 22,
    "start_time": "2024-09-02T18:45:16.739Z"
   },
   {
    "duration": 12,
    "start_time": "2024-09-02T18:45:16.762Z"
   },
   {
    "duration": 170157,
    "start_time": "2024-09-02T18:45:16.775Z"
   },
   {
    "duration": 36617,
    "start_time": "2024-09-02T18:48:06.934Z"
   },
   {
    "duration": 3,
    "start_time": "2024-09-02T18:48:43.553Z"
   },
   {
    "duration": 27,
    "start_time": "2024-09-02T18:48:43.557Z"
   },
   {
    "duration": 358,
    "start_time": "2024-09-02T18:48:43.585Z"
   },
   {
    "duration": 3342,
    "start_time": "2024-09-02T18:48:43.944Z"
   },
   {
    "duration": 111837,
    "start_time": "2024-09-02T18:48:47.289Z"
   },
   {
    "duration": 28019,
    "start_time": "2024-09-02T18:50:39.128Z"
   },
   {
    "duration": 361,
    "start_time": "2024-09-02T18:51:07.149Z"
   },
   {
    "duration": 0,
    "start_time": "2024-09-02T18:51:07.512Z"
   },
   {
    "duration": 0,
    "start_time": "2024-09-02T18:51:07.513Z"
   },
   {
    "duration": 0,
    "start_time": "2024-09-02T18:51:07.515Z"
   },
   {
    "duration": 0,
    "start_time": "2024-09-02T18:51:07.516Z"
   },
   {
    "duration": 0,
    "start_time": "2024-09-02T18:51:07.517Z"
   },
   {
    "duration": 0,
    "start_time": "2024-09-02T18:51:07.520Z"
   },
   {
    "duration": 0,
    "start_time": "2024-09-02T18:51:07.521Z"
   },
   {
    "duration": 0,
    "start_time": "2024-09-02T18:51:07.522Z"
   },
   {
    "duration": 0,
    "start_time": "2024-09-02T18:51:07.523Z"
   },
   {
    "duration": 0,
    "start_time": "2024-09-02T18:51:07.524Z"
   },
   {
    "duration": 0,
    "start_time": "2024-09-02T18:51:07.526Z"
   },
   {
    "duration": 0,
    "start_time": "2024-09-02T18:51:07.527Z"
   },
   {
    "duration": 0,
    "start_time": "2024-09-02T18:51:07.528Z"
   },
   {
    "duration": 0,
    "start_time": "2024-09-02T18:51:07.529Z"
   },
   {
    "duration": 0,
    "start_time": "2024-09-02T18:51:07.531Z"
   },
   {
    "duration": 0,
    "start_time": "2024-09-02T18:51:07.542Z"
   },
   {
    "duration": 0,
    "start_time": "2024-09-02T18:51:07.543Z"
   },
   {
    "duration": 0,
    "start_time": "2024-09-02T18:51:07.544Z"
   },
   {
    "duration": 0,
    "start_time": "2024-09-02T18:51:07.545Z"
   },
   {
    "duration": 0,
    "start_time": "2024-09-02T18:51:07.546Z"
   },
   {
    "duration": 0,
    "start_time": "2024-09-02T18:51:07.548Z"
   },
   {
    "duration": 0,
    "start_time": "2024-09-02T18:51:07.549Z"
   },
   {
    "duration": 0,
    "start_time": "2024-09-02T18:51:07.550Z"
   },
   {
    "duration": 0,
    "start_time": "2024-09-02T18:51:07.551Z"
   },
   {
    "duration": 0,
    "start_time": "2024-09-02T18:51:07.552Z"
   },
   {
    "duration": 0,
    "start_time": "2024-09-02T18:51:07.553Z"
   },
   {
    "duration": 0,
    "start_time": "2024-09-02T18:51:07.554Z"
   },
   {
    "duration": 0,
    "start_time": "2024-09-02T18:51:07.555Z"
   },
   {
    "duration": 0,
    "start_time": "2024-09-02T18:51:07.556Z"
   },
   {
    "duration": 0,
    "start_time": "2024-09-02T18:51:07.557Z"
   },
   {
    "duration": 0,
    "start_time": "2024-09-02T18:51:07.558Z"
   },
   {
    "duration": 0,
    "start_time": "2024-09-02T18:51:07.559Z"
   },
   {
    "duration": 0,
    "start_time": "2024-09-02T18:51:07.560Z"
   },
   {
    "duration": 0,
    "start_time": "2024-09-02T18:51:07.561Z"
   },
   {
    "duration": 1,
    "start_time": "2024-09-02T18:51:07.623Z"
   },
   {
    "duration": 0,
    "start_time": "2024-09-02T18:51:07.625Z"
   },
   {
    "duration": 0,
    "start_time": "2024-09-02T18:51:07.627Z"
   },
   {
    "duration": 0,
    "start_time": "2024-09-02T18:51:07.629Z"
   },
   {
    "duration": 0,
    "start_time": "2024-09-02T18:51:07.630Z"
   },
   {
    "duration": 0,
    "start_time": "2024-09-02T18:51:07.632Z"
   },
   {
    "duration": 3,
    "start_time": "2024-09-02T19:03:01.462Z"
   },
   {
    "duration": 4,
    "start_time": "2024-09-02T19:03:02.026Z"
   },
   {
    "duration": 157,
    "start_time": "2024-09-02T19:07:35.960Z"
   },
   {
    "duration": 23,
    "start_time": "2024-09-02T19:07:36.814Z"
   },
   {
    "duration": 109152,
    "start_time": "2024-09-02T19:07:53.958Z"
   },
   {
    "duration": 28329,
    "start_time": "2024-09-02T19:09:43.121Z"
   },
   {
    "duration": 3,
    "start_time": "2024-09-02T19:10:11.452Z"
   },
   {
    "duration": 59,
    "start_time": "2024-09-02T19:10:11.457Z"
   },
   {
    "duration": 9,
    "start_time": "2024-09-02T19:10:11.517Z"
   },
   {
    "duration": 21,
    "start_time": "2024-09-02T19:10:11.528Z"
   },
   {
    "duration": 0,
    "start_time": "2024-09-02T19:10:11.559Z"
   },
   {
    "duration": 0,
    "start_time": "2024-09-02T19:10:11.561Z"
   },
   {
    "duration": 0,
    "start_time": "2024-09-02T19:10:11.562Z"
   },
   {
    "duration": 0,
    "start_time": "2024-09-02T19:10:11.564Z"
   },
   {
    "duration": 0,
    "start_time": "2024-09-02T19:10:11.565Z"
   },
   {
    "duration": 0,
    "start_time": "2024-09-02T19:10:11.566Z"
   },
   {
    "duration": 0,
    "start_time": "2024-09-02T19:10:11.567Z"
   },
   {
    "duration": 0,
    "start_time": "2024-09-02T19:10:11.568Z"
   },
   {
    "duration": 0,
    "start_time": "2024-09-02T19:10:11.569Z"
   },
   {
    "duration": 0,
    "start_time": "2024-09-02T19:10:11.570Z"
   },
   {
    "duration": 0,
    "start_time": "2024-09-02T19:10:11.571Z"
   },
   {
    "duration": 0,
    "start_time": "2024-09-02T19:10:11.572Z"
   },
   {
    "duration": 0,
    "start_time": "2024-09-02T19:10:11.573Z"
   },
   {
    "duration": 0,
    "start_time": "2024-09-02T19:10:11.574Z"
   },
   {
    "duration": 0,
    "start_time": "2024-09-02T19:10:11.575Z"
   },
   {
    "duration": 0,
    "start_time": "2024-09-02T19:10:11.576Z"
   },
   {
    "duration": 1,
    "start_time": "2024-09-02T19:10:11.577Z"
   },
   {
    "duration": 0,
    "start_time": "2024-09-02T19:10:11.579Z"
   },
   {
    "duration": 0,
    "start_time": "2024-09-02T19:10:11.580Z"
   },
   {
    "duration": 1,
    "start_time": "2024-09-02T19:10:11.580Z"
   },
   {
    "duration": 0,
    "start_time": "2024-09-02T19:10:11.582Z"
   },
   {
    "duration": 0,
    "start_time": "2024-09-02T19:10:11.583Z"
   },
   {
    "duration": 0,
    "start_time": "2024-09-02T19:10:11.584Z"
   },
   {
    "duration": 0,
    "start_time": "2024-09-02T19:10:11.621Z"
   },
   {
    "duration": 0,
    "start_time": "2024-09-02T19:10:11.622Z"
   },
   {
    "duration": 0,
    "start_time": "2024-09-02T19:10:11.623Z"
   },
   {
    "duration": 0,
    "start_time": "2024-09-02T19:10:11.624Z"
   },
   {
    "duration": 0,
    "start_time": "2024-09-02T19:10:11.625Z"
   },
   {
    "duration": 0,
    "start_time": "2024-09-02T19:10:11.626Z"
   },
   {
    "duration": 0,
    "start_time": "2024-09-02T19:10:11.627Z"
   },
   {
    "duration": 3,
    "start_time": "2024-09-02T19:12:44.272Z"
   },
   {
    "duration": 3,
    "start_time": "2024-09-02T19:12:51.103Z"
   },
   {
    "duration": 3,
    "start_time": "2024-09-02T19:12:51.744Z"
   },
   {
    "duration": 3,
    "start_time": "2024-09-02T19:12:52.624Z"
   },
   {
    "duration": 3,
    "start_time": "2024-09-02T19:12:53.241Z"
   },
   {
    "duration": 41449,
    "start_time": "2024-09-02T19:12:53.761Z"
   },
   {
    "duration": 0,
    "start_time": "2024-09-02T19:13:35.213Z"
   },
   {
    "duration": 0,
    "start_time": "2024-09-02T19:13:35.215Z"
   },
   {
    "duration": 4,
    "start_time": "2024-09-02T19:14:45.251Z"
   },
   {
    "duration": 3,
    "start_time": "2024-09-02T19:14:45.968Z"
   },
   {
    "duration": 3,
    "start_time": "2024-09-02T19:14:46.864Z"
   },
   {
    "duration": 3,
    "start_time": "2024-09-02T19:14:47.413Z"
   },
   {
    "duration": 555176,
    "start_time": "2024-09-02T19:14:47.870Z"
   },
   {
    "duration": 0,
    "start_time": "2024-09-02T19:24:03.048Z"
   },
   {
    "duration": 0,
    "start_time": "2024-09-02T19:24:03.049Z"
   },
   {
    "duration": 0,
    "start_time": "2024-09-02T19:24:03.050Z"
   },
   {
    "duration": 0,
    "start_time": "2024-09-02T19:24:03.051Z"
   },
   {
    "duration": 0,
    "start_time": "2024-09-02T19:24:03.052Z"
   },
   {
    "duration": 0,
    "start_time": "2024-09-02T19:24:03.053Z"
   },
   {
    "duration": 0,
    "start_time": "2024-09-02T19:24:03.054Z"
   },
   {
    "duration": 0,
    "start_time": "2024-09-02T19:24:03.055Z"
   },
   {
    "duration": 4,
    "start_time": "2024-09-02T19:26:08.157Z"
   },
   {
    "duration": 3,
    "start_time": "2024-09-02T19:26:08.603Z"
   },
   {
    "duration": 14102,
    "start_time": "2024-09-02T19:26:10.760Z"
   },
   {
    "duration": 0,
    "start_time": "2024-09-02T19:26:24.865Z"
   },
   {
    "duration": 0,
    "start_time": "2024-09-02T19:26:24.866Z"
   },
   {
    "duration": 1,
    "start_time": "2024-09-02T19:26:24.867Z"
   },
   {
    "duration": 0,
    "start_time": "2024-09-02T19:26:24.869Z"
   },
   {
    "duration": 0,
    "start_time": "2024-09-02T19:26:24.871Z"
   },
   {
    "duration": 0,
    "start_time": "2024-09-02T19:26:24.872Z"
   },
   {
    "duration": 0,
    "start_time": "2024-09-02T19:26:24.874Z"
   },
   {
    "duration": 0,
    "start_time": "2024-09-02T19:26:24.875Z"
   },
   {
    "duration": 3,
    "start_time": "2024-09-02T19:26:48.753Z"
   },
   {
    "duration": 4,
    "start_time": "2024-09-02T19:26:48.936Z"
   },
   {
    "duration": 3,
    "start_time": "2024-09-02T19:26:49.109Z"
   },
   {
    "duration": 3,
    "start_time": "2024-09-02T19:26:49.478Z"
   },
   {
    "duration": 3,
    "start_time": "2024-09-02T19:26:49.663Z"
   },
   {
    "duration": 1320547,
    "start_time": "2024-09-02T19:26:49.861Z"
   },
   {
    "duration": 3,
    "start_time": "2024-09-02T19:48:50.410Z"
   },
   {
    "duration": 16,
    "start_time": "2024-09-02T19:48:50.422Z"
   },
   {
    "duration": 12,
    "start_time": "2024-09-02T19:48:50.440Z"
   },
   {
    "duration": 8,
    "start_time": "2024-09-02T19:48:50.454Z"
   },
   {
    "duration": 34708,
    "start_time": "2024-09-02T19:48:50.464Z"
   },
   {
    "duration": 2,
    "start_time": "2024-09-02T19:49:25.174Z"
   },
   {
    "duration": 57,
    "start_time": "2024-09-02T19:49:25.178Z"
   },
   {
    "duration": 6,
    "start_time": "2024-09-02T19:49:25.237Z"
   },
   {
    "duration": 3,
    "start_time": "2024-09-02T19:49:25.247Z"
   },
   {
    "duration": 3,
    "start_time": "2024-09-02T19:49:25.252Z"
   },
   {
    "duration": 26361,
    "start_time": "2024-09-02T19:51:10.060Z"
   },
   {
    "duration": 1669,
    "start_time": "2024-09-02T19:51:36.423Z"
   },
   {
    "duration": 916,
    "start_time": "2024-09-02T19:51:38.093Z"
   },
   {
    "duration": 301,
    "start_time": "2024-09-02T19:51:39.011Z"
   },
   {
    "duration": 550,
    "start_time": "2024-09-02T19:51:39.314Z"
   },
   {
    "duration": 3922,
    "start_time": "2024-09-02T19:51:39.866Z"
   },
   {
    "duration": 4,
    "start_time": "2024-09-02T19:51:43.790Z"
   },
   {
    "duration": 1401,
    "start_time": "2024-09-02T19:51:43.796Z"
   },
   {
    "duration": 3,
    "start_time": "2024-09-02T19:51:45.198Z"
   },
   {
    "duration": 8378,
    "start_time": "2024-09-02T19:51:45.204Z"
   },
   {
    "duration": 76,
    "start_time": "2024-09-02T19:51:53.584Z"
   },
   {
    "duration": 28,
    "start_time": "2024-09-02T19:51:53.662Z"
   },
   {
    "duration": 158,
    "start_time": "2024-09-02T19:51:53.691Z"
   },
   {
    "duration": 3,
    "start_time": "2024-09-02T19:51:53.851Z"
   },
   {
    "duration": 87,
    "start_time": "2024-09-02T19:51:53.857Z"
   },
   {
    "duration": 6,
    "start_time": "2024-09-02T19:51:53.946Z"
   },
   {
    "duration": 742,
    "start_time": "2024-09-02T19:51:53.954Z"
   },
   {
    "duration": 3,
    "start_time": "2024-09-02T19:51:54.697Z"
   },
   {
    "duration": 22,
    "start_time": "2024-09-02T19:51:54.701Z"
   },
   {
    "duration": 23,
    "start_time": "2024-09-02T19:51:54.725Z"
   },
   {
    "duration": 10,
    "start_time": "2024-09-02T19:51:54.750Z"
   },
   {
    "duration": 15,
    "start_time": "2024-09-02T19:51:54.762Z"
   },
   {
    "duration": 3,
    "start_time": "2024-09-02T19:51:54.778Z"
   },
   {
    "duration": 8,
    "start_time": "2024-09-02T19:51:54.782Z"
   },
   {
    "duration": 5,
    "start_time": "2024-09-02T19:51:54.820Z"
   },
   {
    "duration": 14,
    "start_time": "2024-09-02T19:51:54.827Z"
   },
   {
    "duration": 7,
    "start_time": "2024-09-02T19:51:54.843Z"
   },
   {
    "duration": 40,
    "start_time": "2024-09-02T19:51:54.854Z"
   },
   {
    "duration": 32,
    "start_time": "2024-09-02T19:51:54.895Z"
   },
   {
    "duration": 32770,
    "start_time": "2024-09-02T19:51:54.928Z"
   },
   {
    "duration": 3,
    "start_time": "2024-09-02T19:52:27.700Z"
   },
   {
    "duration": 17,
    "start_time": "2024-09-02T19:52:27.704Z"
   },
   {
    "duration": 246127,
    "start_time": "2024-09-02T19:52:27.723Z"
   },
   {
    "duration": 23,
    "start_time": "2024-09-02T19:56:33.851Z"
   },
   {
    "duration": 8,
    "start_time": "2024-09-02T19:56:33.876Z"
   },
   {
    "duration": 167850,
    "start_time": "2024-09-02T19:56:33.886Z"
   },
   {
    "duration": 36517,
    "start_time": "2024-09-02T19:59:21.738Z"
   },
   {
    "duration": 3,
    "start_time": "2024-09-02T19:59:58.257Z"
   },
   {
    "duration": 16,
    "start_time": "2024-09-02T19:59:58.261Z"
   },
   {
    "duration": 368,
    "start_time": "2024-09-02T19:59:58.279Z"
   },
   {
    "duration": 3335,
    "start_time": "2024-09-02T19:59:58.649Z"
   },
   {
    "duration": 108835,
    "start_time": "2024-09-02T20:00:01.986Z"
   },
   {
    "duration": 27536,
    "start_time": "2024-09-02T20:01:50.824Z"
   },
   {
    "duration": 3,
    "start_time": "2024-09-02T20:02:18.361Z"
   },
   {
    "duration": 15,
    "start_time": "2024-09-02T20:02:18.366Z"
   },
   {
    "duration": 4,
    "start_time": "2024-09-02T20:02:18.383Z"
   },
   {
    "duration": 8,
    "start_time": "2024-09-02T20:02:18.388Z"
   },
   {
    "duration": 4,
    "start_time": "2024-09-02T20:02:18.397Z"
   },
   {
    "duration": 4,
    "start_time": "2024-09-02T20:02:18.402Z"
   },
   {
    "duration": 185,
    "start_time": "2024-09-02T20:02:18.407Z"
   },
   {
    "duration": 10,
    "start_time": "2024-09-02T20:02:18.594Z"
   },
   {
    "duration": 18,
    "start_time": "2024-09-02T20:02:18.606Z"
   },
   {
    "duration": 6,
    "start_time": "2024-09-02T20:02:18.626Z"
   },
   {
    "duration": 13,
    "start_time": "2024-09-02T20:02:18.633Z"
   },
   {
    "duration": 4,
    "start_time": "2024-09-02T20:02:18.648Z"
   },
   {
    "duration": 15,
    "start_time": "2024-09-02T20:02:18.654Z"
   },
   {
    "duration": 4,
    "start_time": "2024-09-02T20:02:18.671Z"
   },
   {
    "duration": 11,
    "start_time": "2024-09-02T20:02:18.676Z"
   },
   {
    "duration": 1374029,
    "start_time": "2024-09-02T20:02:18.689Z"
   },
   {
    "duration": 8,
    "start_time": "2024-09-02T20:25:12.720Z"
   },
   {
    "duration": 38,
    "start_time": "2024-09-02T20:25:12.731Z"
   },
   {
    "duration": 71,
    "start_time": "2024-09-02T20:25:12.771Z"
   },
   {
    "duration": 0,
    "start_time": "2024-09-02T20:25:12.844Z"
   },
   {
    "duration": 0,
    "start_time": "2024-09-02T20:25:12.845Z"
   },
   {
    "duration": 0,
    "start_time": "2024-09-02T20:25:12.846Z"
   },
   {
    "duration": 0,
    "start_time": "2024-09-02T20:25:12.847Z"
   },
   {
    "duration": 0,
    "start_time": "2024-09-02T20:25:12.848Z"
   },
   {
    "duration": 0,
    "start_time": "2024-09-02T20:25:12.849Z"
   },
   {
    "duration": 0,
    "start_time": "2024-09-02T20:25:12.850Z"
   },
   {
    "duration": 0,
    "start_time": "2024-09-02T20:25:12.851Z"
   },
   {
    "duration": 0,
    "start_time": "2024-09-02T20:25:12.852Z"
   },
   {
    "duration": 0,
    "start_time": "2024-09-02T20:25:12.853Z"
   },
   {
    "duration": 0,
    "start_time": "2024-09-02T20:25:12.854Z"
   },
   {
    "duration": 0,
    "start_time": "2024-09-02T20:25:12.856Z"
   },
   {
    "duration": 0,
    "start_time": "2024-09-02T20:25:12.857Z"
   },
   {
    "duration": 0,
    "start_time": "2024-09-02T20:25:12.858Z"
   },
   {
    "duration": 0,
    "start_time": "2024-09-02T20:25:12.859Z"
   },
   {
    "duration": 0,
    "start_time": "2024-09-02T20:25:12.860Z"
   },
   {
    "duration": 0,
    "start_time": "2024-09-02T20:25:12.862Z"
   },
   {
    "duration": 0,
    "start_time": "2024-09-02T20:25:12.863Z"
   },
   {
    "duration": 0,
    "start_time": "2024-09-02T20:25:12.864Z"
   },
   {
    "duration": 0,
    "start_time": "2024-09-02T20:25:12.865Z"
   },
   {
    "duration": 0,
    "start_time": "2024-09-02T20:25:12.866Z"
   },
   {
    "duration": 0,
    "start_time": "2024-09-02T20:25:12.867Z"
   },
   {
    "duration": 4,
    "start_time": "2024-09-02T21:08:04.718Z"
   },
   {
    "duration": 3,
    "start_time": "2024-09-02T21:08:05.345Z"
   },
   {
    "duration": 34542,
    "start_time": "2024-09-02T21:08:06.013Z"
   },
   {
    "duration": 2,
    "start_time": "2024-09-02T21:08:40.557Z"
   },
   {
    "duration": 21,
    "start_time": "2024-09-02T21:08:40.561Z"
   },
   {
    "duration": 18,
    "start_time": "2024-09-02T21:08:40.584Z"
   },
   {
    "duration": 7,
    "start_time": "2024-09-02T21:08:40.604Z"
   },
   {
    "duration": 7,
    "start_time": "2024-09-02T21:08:40.613Z"
   },
   {
    "duration": 64627,
    "start_time": "2024-09-02T21:08:40.625Z"
   },
   {
    "duration": 0,
    "start_time": "2024-09-02T21:09:45.255Z"
   },
   {
    "duration": 0,
    "start_time": "2024-09-02T21:09:45.257Z"
   },
   {
    "duration": 0,
    "start_time": "2024-09-02T21:09:45.258Z"
   },
   {
    "duration": 0,
    "start_time": "2024-09-02T21:09:45.260Z"
   },
   {
    "duration": 0,
    "start_time": "2024-09-02T21:09:45.261Z"
   },
   {
    "duration": 0,
    "start_time": "2024-09-02T21:09:45.263Z"
   },
   {
    "duration": 0,
    "start_time": "2024-09-02T21:09:45.265Z"
   },
   {
    "duration": 0,
    "start_time": "2024-09-02T21:09:45.266Z"
   },
   {
    "duration": 0,
    "start_time": "2024-09-02T21:09:45.268Z"
   },
   {
    "duration": 0,
    "start_time": "2024-09-02T21:09:45.269Z"
   },
   {
    "duration": 0,
    "start_time": "2024-09-02T21:09:45.271Z"
   },
   {
    "duration": 0,
    "start_time": "2024-09-02T21:09:45.272Z"
   },
   {
    "duration": 0,
    "start_time": "2024-09-02T21:09:45.274Z"
   },
   {
    "duration": 0,
    "start_time": "2024-09-02T21:09:45.276Z"
   },
   {
    "duration": 3,
    "start_time": "2024-09-02T21:22:48.640Z"
   },
   {
    "duration": 3,
    "start_time": "2024-09-02T21:22:48.905Z"
   },
   {
    "duration": 68432,
    "start_time": "2024-09-02T21:22:49.402Z"
   },
   {
    "duration": 56,
    "start_time": "2024-09-02T21:26:09.418Z"
   },
   {
    "duration": 3,
    "start_time": "2024-09-02T21:26:09.872Z"
   },
   {
    "duration": 20,
    "start_time": "2024-09-02T21:26:18.085Z"
   },
   {
    "duration": 20,
    "start_time": "2024-09-02T21:27:27.135Z"
   },
   {
    "duration": 3,
    "start_time": "2024-09-02T21:27:59.733Z"
   },
   {
    "duration": 3,
    "start_time": "2024-09-02T21:28:08.656Z"
   },
   {
    "duration": 63795,
    "start_time": "2024-09-02T21:28:09.728Z"
   },
   {
    "duration": 0,
    "start_time": "2024-09-02T21:29:13.525Z"
   },
   {
    "duration": 0,
    "start_time": "2024-09-02T21:29:13.526Z"
   },
   {
    "duration": 0,
    "start_time": "2024-09-02T21:29:13.527Z"
   },
   {
    "duration": 0,
    "start_time": "2024-09-02T21:29:13.528Z"
   },
   {
    "duration": 0,
    "start_time": "2024-09-02T21:29:13.529Z"
   },
   {
    "duration": 0,
    "start_time": "2024-09-02T21:29:13.531Z"
   },
   {
    "duration": 0,
    "start_time": "2024-09-02T21:29:13.531Z"
   },
   {
    "duration": 0,
    "start_time": "2024-09-02T21:29:13.533Z"
   },
   {
    "duration": 0,
    "start_time": "2024-09-02T21:29:13.534Z"
   },
   {
    "duration": 0,
    "start_time": "2024-09-02T21:29:13.535Z"
   },
   {
    "duration": 0,
    "start_time": "2024-09-02T21:29:13.537Z"
   },
   {
    "duration": 0,
    "start_time": "2024-09-02T21:29:13.538Z"
   },
   {
    "duration": 0,
    "start_time": "2024-09-02T21:29:13.539Z"
   },
   {
    "duration": 0,
    "start_time": "2024-09-02T21:29:13.540Z"
   },
   {
    "duration": 3,
    "start_time": "2024-09-02T21:46:17.928Z"
   },
   {
    "duration": 3,
    "start_time": "2024-09-02T21:46:18.664Z"
   },
   {
    "duration": 64119,
    "start_time": "2024-09-02T21:46:19.077Z"
   },
   {
    "duration": 3,
    "start_time": "2024-09-02T21:50:41.038Z"
   },
   {
    "duration": 2,
    "start_time": "2024-09-02T21:50:41.537Z"
   },
   {
    "duration": 63906,
    "start_time": "2024-09-02T21:50:41.943Z"
   },
   {
    "duration": 3,
    "start_time": "2024-09-02T21:52:11.508Z"
   },
   {
    "duration": 3,
    "start_time": "2024-09-02T21:52:11.976Z"
   },
   {
    "duration": 63965,
    "start_time": "2024-09-02T21:52:12.388Z"
   },
   {
    "duration": 4,
    "start_time": "2024-09-02T21:55:10.759Z"
   },
   {
    "duration": 3,
    "start_time": "2024-09-02T21:55:11.174Z"
   },
   {
    "duration": 24770,
    "start_time": "2024-09-02T22:02:02.395Z"
   },
   {
    "duration": 1648,
    "start_time": "2024-09-02T22:02:27.169Z"
   },
   {
    "duration": 912,
    "start_time": "2024-09-02T22:02:28.818Z"
   },
   {
    "duration": 316,
    "start_time": "2024-09-02T22:02:29.732Z"
   },
   {
    "duration": 548,
    "start_time": "2024-09-02T22:02:30.050Z"
   },
   {
    "duration": 3707,
    "start_time": "2024-09-02T22:02:30.600Z"
   },
   {
    "duration": 3,
    "start_time": "2024-09-02T22:02:34.309Z"
   },
   {
    "duration": 1287,
    "start_time": "2024-09-02T22:02:34.314Z"
   },
   {
    "duration": 3,
    "start_time": "2024-09-02T22:02:35.602Z"
   },
   {
    "duration": 7856,
    "start_time": "2024-09-02T22:02:35.607Z"
   },
   {
    "duration": 75,
    "start_time": "2024-09-02T22:02:43.465Z"
   },
   {
    "duration": 28,
    "start_time": "2024-09-02T22:02:43.541Z"
   },
   {
    "duration": 259,
    "start_time": "2024-09-02T22:02:43.571Z"
   },
   {
    "duration": 2,
    "start_time": "2024-09-02T22:02:43.832Z"
   },
   {
    "duration": 95,
    "start_time": "2024-09-02T22:02:43.836Z"
   },
   {
    "duration": 4,
    "start_time": "2024-09-02T22:02:43.933Z"
   },
   {
    "duration": 675,
    "start_time": "2024-09-02T22:02:43.938Z"
   },
   {
    "duration": 3,
    "start_time": "2024-09-02T22:02:44.620Z"
   },
   {
    "duration": 11,
    "start_time": "2024-09-02T22:02:44.625Z"
   },
   {
    "duration": 19,
    "start_time": "2024-09-02T22:02:44.638Z"
   },
   {
    "duration": 24,
    "start_time": "2024-09-02T22:02:44.659Z"
   },
   {
    "duration": 14,
    "start_time": "2024-09-02T22:02:44.685Z"
   },
   {
    "duration": 3,
    "start_time": "2024-09-02T22:02:44.720Z"
   },
   {
    "duration": 17,
    "start_time": "2024-09-02T22:02:44.724Z"
   },
   {
    "duration": 5,
    "start_time": "2024-09-02T22:02:44.742Z"
   },
   {
    "duration": 12,
    "start_time": "2024-09-02T22:02:44.749Z"
   },
   {
    "duration": 6,
    "start_time": "2024-09-02T22:02:44.763Z"
   },
   {
    "duration": 51,
    "start_time": "2024-09-02T22:02:44.773Z"
   },
   {
    "duration": 7,
    "start_time": "2024-09-02T22:02:44.826Z"
   },
   {
    "duration": 32751,
    "start_time": "2024-09-02T22:02:44.835Z"
   },
   {
    "duration": 2,
    "start_time": "2024-09-02T22:03:17.588Z"
   },
   {
    "duration": 113,
    "start_time": "2024-09-02T22:03:17.592Z"
   },
   {
    "duration": 248632,
    "start_time": "2024-09-02T22:03:17.707Z"
   },
   {
    "duration": 24,
    "start_time": "2024-09-02T22:07:26.341Z"
   },
   {
    "duration": 9,
    "start_time": "2024-09-02T22:07:26.367Z"
   },
   {
    "duration": 169760,
    "start_time": "2024-09-02T22:07:26.378Z"
   },
   {
    "duration": 37013,
    "start_time": "2024-09-02T22:10:16.140Z"
   },
   {
    "duration": 2,
    "start_time": "2024-09-02T22:10:53.155Z"
   },
   {
    "duration": 16,
    "start_time": "2024-09-02T22:10:53.159Z"
   },
   {
    "duration": 372,
    "start_time": "2024-09-02T22:10:53.177Z"
   },
   {
    "duration": 3430,
    "start_time": "2024-09-02T22:10:53.550Z"
   },
   {
    "duration": 111749,
    "start_time": "2024-09-02T22:10:56.981Z"
   },
   {
    "duration": 28423,
    "start_time": "2024-09-02T22:12:48.732Z"
   },
   {
    "duration": 3,
    "start_time": "2024-09-02T22:13:17.157Z"
   },
   {
    "duration": 30,
    "start_time": "2024-09-02T22:13:17.161Z"
   },
   {
    "duration": 19,
    "start_time": "2024-09-02T22:13:17.193Z"
   },
   {
    "duration": 17,
    "start_time": "2024-09-02T22:13:17.214Z"
   },
   {
    "duration": 19,
    "start_time": "2024-09-02T22:13:17.232Z"
   },
   {
    "duration": 33,
    "start_time": "2024-09-02T22:13:17.253Z"
   },
   {
    "duration": 188,
    "start_time": "2024-09-02T22:13:17.288Z"
   },
   {
    "duration": 12,
    "start_time": "2024-09-02T22:13:17.478Z"
   },
   {
    "duration": 10,
    "start_time": "2024-09-02T22:13:17.492Z"
   },
   {
    "duration": 6,
    "start_time": "2024-09-02T22:13:17.504Z"
   },
   {
    "duration": 22,
    "start_time": "2024-09-02T22:13:17.511Z"
   },
   {
    "duration": 10,
    "start_time": "2024-09-02T22:13:17.535Z"
   },
   {
    "duration": 13,
    "start_time": "2024-09-02T22:13:17.547Z"
   },
   {
    "duration": 28,
    "start_time": "2024-09-02T22:13:17.562Z"
   },
   {
    "duration": 72,
    "start_time": "2024-09-02T22:13:17.591Z"
   },
   {
    "duration": 1353242,
    "start_time": "2024-09-02T22:13:17.665Z"
   },
   {
    "duration": 4,
    "start_time": "2024-09-02T22:35:50.908Z"
   },
   {
    "duration": 33,
    "start_time": "2024-09-02T22:35:50.913Z"
   },
   {
    "duration": 11,
    "start_time": "2024-09-02T22:35:50.947Z"
   },
   {
    "duration": 4,
    "start_time": "2024-09-02T22:35:50.960Z"
   },
   {
    "duration": 38519,
    "start_time": "2024-09-02T22:35:50.965Z"
   },
   {
    "duration": 3,
    "start_time": "2024-09-02T22:36:29.485Z"
   },
   {
    "duration": 9,
    "start_time": "2024-09-02T22:36:29.489Z"
   },
   {
    "duration": 5,
    "start_time": "2024-09-02T22:36:29.500Z"
   },
   {
    "duration": 19,
    "start_time": "2024-09-02T22:36:29.507Z"
   },
   {
    "duration": 7,
    "start_time": "2024-09-02T22:36:29.527Z"
   },
   {
    "duration": 24288,
    "start_time": "2024-09-02T23:00:07.180Z"
   },
   {
    "duration": 1637,
    "start_time": "2024-09-02T23:00:31.471Z"
   },
   {
    "duration": 951,
    "start_time": "2024-09-02T23:00:33.110Z"
   },
   {
    "duration": 311,
    "start_time": "2024-09-02T23:00:34.063Z"
   },
   {
    "duration": 491,
    "start_time": "2024-09-02T23:00:34.376Z"
   },
   {
    "duration": 3725,
    "start_time": "2024-09-02T23:00:34.868Z"
   },
   {
    "duration": 3,
    "start_time": "2024-09-02T23:00:38.594Z"
   },
   {
    "duration": 1296,
    "start_time": "2024-09-02T23:00:38.599Z"
   },
   {
    "duration": 3,
    "start_time": "2024-09-02T23:00:39.896Z"
   },
   {
    "duration": 7796,
    "start_time": "2024-09-02T23:00:39.901Z"
   },
   {
    "duration": 85,
    "start_time": "2024-09-02T23:00:47.698Z"
   },
   {
    "duration": 42,
    "start_time": "2024-09-02T23:00:47.785Z"
   },
   {
    "duration": 194,
    "start_time": "2024-09-02T23:00:47.828Z"
   },
   {
    "duration": 3,
    "start_time": "2024-09-02T23:00:48.024Z"
   },
   {
    "duration": 92,
    "start_time": "2024-09-02T23:00:48.029Z"
   },
   {
    "duration": 3,
    "start_time": "2024-09-02T23:00:48.122Z"
   },
   {
    "duration": 670,
    "start_time": "2024-09-02T23:00:48.127Z"
   },
   {
    "duration": 3,
    "start_time": "2024-09-02T23:00:48.799Z"
   },
   {
    "duration": 43,
    "start_time": "2024-09-02T23:00:48.803Z"
   },
   {
    "duration": 23,
    "start_time": "2024-09-02T23:00:48.848Z"
   },
   {
    "duration": 12,
    "start_time": "2024-09-02T23:00:48.873Z"
   },
   {
    "duration": 17,
    "start_time": "2024-09-02T23:00:48.886Z"
   },
   {
    "duration": 3,
    "start_time": "2024-09-02T23:00:48.904Z"
   },
   {
    "duration": 15,
    "start_time": "2024-09-02T23:00:48.908Z"
   },
   {
    "duration": 16,
    "start_time": "2024-09-02T23:00:48.924Z"
   },
   {
    "duration": 15,
    "start_time": "2024-09-02T23:00:48.942Z"
   },
   {
    "duration": 18,
    "start_time": "2024-09-02T23:00:48.958Z"
   },
   {
    "duration": 42,
    "start_time": "2024-09-02T23:00:48.980Z"
   },
   {
    "duration": 6,
    "start_time": "2024-09-02T23:00:49.024Z"
   },
   {
    "duration": 30466,
    "start_time": "2024-09-02T23:00:49.032Z"
   },
   {
    "duration": 3,
    "start_time": "2024-09-02T23:01:19.499Z"
   },
   {
    "duration": 39,
    "start_time": "2024-09-02T23:01:19.503Z"
   },
   {
    "duration": 193252,
    "start_time": "2024-09-02T23:01:19.544Z"
   },
   {
    "duration": 32,
    "start_time": "2024-09-02T23:04:32.798Z"
   },
   {
    "duration": 8,
    "start_time": "2024-09-02T23:04:32.832Z"
   },
   {
    "duration": 130968,
    "start_time": "2024-09-02T23:04:32.842Z"
   },
   {
    "duration": 30141,
    "start_time": "2024-09-02T23:06:43.820Z"
   },
   {
    "duration": 2,
    "start_time": "2024-09-02T23:07:13.963Z"
   },
   {
    "duration": 15,
    "start_time": "2024-09-02T23:07:13.967Z"
   },
   {
    "duration": 361,
    "start_time": "2024-09-02T23:07:13.983Z"
   },
   {
    "duration": 2329,
    "start_time": "2024-09-02T23:07:14.345Z"
   },
   {
    "duration": 91911,
    "start_time": "2024-09-02T23:07:16.676Z"
   },
   {
    "duration": 18665,
    "start_time": "2024-09-02T23:08:48.589Z"
   },
   {
    "duration": 3,
    "start_time": "2024-09-02T23:09:07.256Z"
   },
   {
    "duration": 22,
    "start_time": "2024-09-02T23:09:07.260Z"
   },
   {
    "duration": 22,
    "start_time": "2024-09-02T23:09:07.283Z"
   },
   {
    "duration": 4,
    "start_time": "2024-09-02T23:09:07.307Z"
   },
   {
    "duration": 3,
    "start_time": "2024-09-02T23:09:07.313Z"
   },
   {
    "duration": 9,
    "start_time": "2024-09-02T23:09:07.318Z"
   },
   {
    "duration": 140,
    "start_time": "2024-09-02T23:09:07.328Z"
   },
   {
    "duration": 23,
    "start_time": "2024-09-02T23:09:07.470Z"
   },
   {
    "duration": 20,
    "start_time": "2024-09-02T23:09:07.495Z"
   },
   {
    "duration": 25,
    "start_time": "2024-09-02T23:09:07.518Z"
   },
   {
    "duration": 24,
    "start_time": "2024-09-02T23:09:07.545Z"
   },
   {
    "duration": 6,
    "start_time": "2024-09-02T23:09:07.571Z"
   },
   {
    "duration": 22,
    "start_time": "2024-09-02T23:09:07.578Z"
   },
   {
    "duration": 10,
    "start_time": "2024-09-02T23:09:07.601Z"
   },
   {
    "duration": 10,
    "start_time": "2024-09-02T23:09:07.613Z"
   },
   {
    "duration": 1103416,
    "start_time": "2024-09-02T23:09:07.625Z"
   },
   {
    "duration": 4,
    "start_time": "2024-09-02T23:27:31.043Z"
   },
   {
    "duration": 18,
    "start_time": "2024-09-02T23:27:31.049Z"
   },
   {
    "duration": 10,
    "start_time": "2024-09-02T23:27:31.069Z"
   },
   {
    "duration": 23,
    "start_time": "2024-09-02T23:27:31.081Z"
   },
   {
    "duration": 25845,
    "start_time": "2024-09-02T23:27:31.106Z"
   },
   {
    "duration": 3,
    "start_time": "2024-09-02T23:27:56.952Z"
   },
   {
    "duration": 12,
    "start_time": "2024-09-02T23:27:56.956Z"
   },
   {
    "duration": 6,
    "start_time": "2024-09-02T23:27:56.970Z"
   },
   {
    "duration": 14,
    "start_time": "2024-09-02T23:27:56.977Z"
   },
   {
    "duration": 5,
    "start_time": "2024-09-02T23:27:56.992Z"
   },
   {
    "duration": 24011,
    "start_time": "2024-09-02T23:42:51.636Z"
   },
   {
    "duration": 1649,
    "start_time": "2024-09-02T23:43:15.649Z"
   },
   {
    "duration": 781,
    "start_time": "2024-09-02T23:43:17.299Z"
   },
   {
    "duration": 319,
    "start_time": "2024-09-02T23:43:18.083Z"
   },
   {
    "duration": 422,
    "start_time": "2024-09-02T23:43:18.404Z"
   },
   {
    "duration": 3730,
    "start_time": "2024-09-02T23:43:18.828Z"
   },
   {
    "duration": 3,
    "start_time": "2024-09-02T23:43:22.560Z"
   },
   {
    "duration": 1273,
    "start_time": "2024-09-02T23:43:22.565Z"
   },
   {
    "duration": 4,
    "start_time": "2024-09-02T23:43:23.840Z"
   },
   {
    "duration": 7786,
    "start_time": "2024-09-02T23:43:23.848Z"
   },
   {
    "duration": 70,
    "start_time": "2024-09-02T23:43:31.635Z"
   },
   {
    "duration": 40,
    "start_time": "2024-09-02T23:43:31.707Z"
   },
   {
    "duration": 179,
    "start_time": "2024-09-02T23:43:31.749Z"
   },
   {
    "duration": 2,
    "start_time": "2024-09-02T23:43:31.930Z"
   },
   {
    "duration": 88,
    "start_time": "2024-09-02T23:43:31.934Z"
   },
   {
    "duration": 9,
    "start_time": "2024-09-02T23:43:32.023Z"
   },
   {
    "duration": 638,
    "start_time": "2024-09-02T23:43:32.034Z"
   },
   {
    "duration": 3,
    "start_time": "2024-09-02T23:43:32.673Z"
   },
   {
    "duration": 10,
    "start_time": "2024-09-02T23:43:32.677Z"
   },
   {
    "duration": 35,
    "start_time": "2024-09-02T23:43:32.689Z"
   },
   {
    "duration": 11,
    "start_time": "2024-09-02T23:43:32.726Z"
   },
   {
    "duration": 15,
    "start_time": "2024-09-02T23:43:32.739Z"
   },
   {
    "duration": 12,
    "start_time": "2024-09-02T23:43:32.756Z"
   },
   {
    "duration": 17,
    "start_time": "2024-09-02T23:43:32.769Z"
   },
   {
    "duration": 28,
    "start_time": "2024-09-02T23:43:32.788Z"
   },
   {
    "duration": 17,
    "start_time": "2024-09-02T23:43:32.818Z"
   },
   {
    "duration": 13,
    "start_time": "2024-09-02T23:43:32.836Z"
   },
   {
    "duration": 62,
    "start_time": "2024-09-02T23:43:32.854Z"
   },
   {
    "duration": 8,
    "start_time": "2024-09-02T23:43:32.918Z"
   },
   {
    "duration": 29904,
    "start_time": "2024-09-02T23:43:32.927Z"
   },
   {
    "duration": 2,
    "start_time": "2024-09-02T23:44:02.833Z"
   },
   {
    "duration": 6,
    "start_time": "2024-09-02T23:44:02.837Z"
   },
   {
    "duration": 191857,
    "start_time": "2024-09-02T23:44:02.845Z"
   },
   {
    "duration": 29,
    "start_time": "2024-09-02T23:47:14.704Z"
   },
   {
    "duration": 9,
    "start_time": "2024-09-02T23:47:14.735Z"
   },
   {
    "duration": 130355,
    "start_time": "2024-09-02T23:47:14.746Z"
   },
   {
    "duration": 29556,
    "start_time": "2024-09-02T23:49:25.104Z"
   },
   {
    "duration": 2,
    "start_time": "2024-09-02T23:49:54.662Z"
   },
   {
    "duration": 27,
    "start_time": "2024-09-02T23:49:54.665Z"
   },
   {
    "duration": 383,
    "start_time": "2024-09-02T23:49:54.693Z"
   },
   {
    "duration": 2292,
    "start_time": "2024-09-02T23:49:55.078Z"
   },
   {
    "duration": 91816,
    "start_time": "2024-09-02T23:49:57.371Z"
   },
   {
    "duration": 19362,
    "start_time": "2024-09-02T23:51:29.189Z"
   },
   {
    "duration": 2,
    "start_time": "2024-09-02T23:51:48.553Z"
   },
   {
    "duration": 21,
    "start_time": "2024-09-02T23:51:48.557Z"
   },
   {
    "duration": 4,
    "start_time": "2024-09-02T23:51:48.580Z"
   },
   {
    "duration": 6,
    "start_time": "2024-09-02T23:51:48.586Z"
   },
   {
    "duration": 63,
    "start_time": "2024-09-02T23:51:48.593Z"
   },
   {
    "duration": 49,
    "start_time": "2024-09-02T23:51:48.658Z"
   },
   {
    "duration": 162,
    "start_time": "2024-09-02T23:51:48.709Z"
   },
   {
    "duration": 33,
    "start_time": "2024-09-02T23:51:48.873Z"
   },
   {
    "duration": 16,
    "start_time": "2024-09-02T23:51:48.908Z"
   },
   {
    "duration": 21,
    "start_time": "2024-09-02T23:51:48.925Z"
   },
   {
    "duration": 17,
    "start_time": "2024-09-02T23:51:48.947Z"
   },
   {
    "duration": 16,
    "start_time": "2024-09-02T23:51:48.966Z"
   },
   {
    "duration": 11,
    "start_time": "2024-09-02T23:51:48.984Z"
   },
   {
    "duration": 13,
    "start_time": "2024-09-02T23:51:48.996Z"
   },
   {
    "duration": 29,
    "start_time": "2024-09-02T23:51:49.011Z"
   },
   {
    "duration": 371061,
    "start_time": "2024-09-02T23:51:49.041Z"
   },
   {
    "duration": 1,
    "start_time": "2024-09-02T23:58:00.104Z"
   },
   {
    "duration": 0,
    "start_time": "2024-09-02T23:58:00.106Z"
   },
   {
    "duration": 0,
    "start_time": "2024-09-02T23:58:00.107Z"
   },
   {
    "duration": 0,
    "start_time": "2024-09-02T23:58:00.109Z"
   },
   {
    "duration": 0,
    "start_time": "2024-09-02T23:58:00.110Z"
   },
   {
    "duration": 0,
    "start_time": "2024-09-02T23:58:00.111Z"
   },
   {
    "duration": 0,
    "start_time": "2024-09-02T23:58:00.113Z"
   },
   {
    "duration": 0,
    "start_time": "2024-09-02T23:58:00.114Z"
   },
   {
    "duration": 0,
    "start_time": "2024-09-02T23:58:00.115Z"
   },
   {
    "duration": 0,
    "start_time": "2024-09-02T23:58:00.116Z"
   },
   {
    "duration": 0,
    "start_time": "2024-09-02T23:58:00.117Z"
   },
   {
    "duration": 0,
    "start_time": "2024-09-02T23:58:00.118Z"
   },
   {
    "duration": 0,
    "start_time": "2024-09-02T23:58:00.119Z"
   },
   {
    "duration": 0,
    "start_time": "2024-09-02T23:58:00.120Z"
   },
   {
    "duration": 0,
    "start_time": "2024-09-02T23:58:00.121Z"
   },
   {
    "duration": 0,
    "start_time": "2024-09-02T23:58:00.123Z"
   },
   {
    "duration": 0,
    "start_time": "2024-09-02T23:58:00.123Z"
   },
   {
    "duration": 0,
    "start_time": "2024-09-02T23:58:00.124Z"
   },
   {
    "duration": 0,
    "start_time": "2024-09-02T23:58:00.125Z"
   },
   {
    "duration": 0,
    "start_time": "2024-09-02T23:58:00.126Z"
   },
   {
    "duration": 0,
    "start_time": "2024-09-02T23:58:00.127Z"
   },
   {
    "duration": 0,
    "start_time": "2024-09-02T23:58:00.128Z"
   },
   {
    "duration": 0,
    "start_time": "2024-09-02T23:58:00.129Z"
   },
   {
    "duration": 0,
    "start_time": "2024-09-02T23:58:00.130Z"
   },
   {
    "duration": 0,
    "start_time": "2024-09-02T23:58:00.131Z"
   },
   {
    "duration": 13631,
    "start_time": "2024-09-02T23:58:11.909Z"
   },
   {
    "duration": 0,
    "start_time": "2024-09-02T23:58:25.544Z"
   },
   {
    "duration": 0,
    "start_time": "2024-09-02T23:58:25.546Z"
   },
   {
    "duration": 0,
    "start_time": "2024-09-02T23:58:25.547Z"
   },
   {
    "duration": 0,
    "start_time": "2024-09-02T23:58:25.548Z"
   },
   {
    "duration": 0,
    "start_time": "2024-09-02T23:58:25.549Z"
   },
   {
    "duration": 0,
    "start_time": "2024-09-02T23:58:25.550Z"
   },
   {
    "duration": 0,
    "start_time": "2024-09-02T23:58:25.551Z"
   },
   {
    "duration": 0,
    "start_time": "2024-09-02T23:58:25.552Z"
   },
   {
    "duration": 0,
    "start_time": "2024-09-02T23:58:25.553Z"
   },
   {
    "duration": 0,
    "start_time": "2024-09-02T23:58:25.554Z"
   },
   {
    "duration": 0,
    "start_time": "2024-09-02T23:58:25.555Z"
   },
   {
    "duration": 0,
    "start_time": "2024-09-02T23:58:25.556Z"
   },
   {
    "duration": 0,
    "start_time": "2024-09-02T23:58:25.557Z"
   },
   {
    "duration": 0,
    "start_time": "2024-09-02T23:58:25.621Z"
   },
   {
    "duration": 0,
    "start_time": "2024-09-02T23:58:25.622Z"
   },
   {
    "duration": 0,
    "start_time": "2024-09-02T23:58:25.623Z"
   },
   {
    "duration": 0,
    "start_time": "2024-09-02T23:58:25.624Z"
   },
   {
    "duration": 0,
    "start_time": "2024-09-02T23:58:25.625Z"
   },
   {
    "duration": 0,
    "start_time": "2024-09-02T23:58:25.626Z"
   },
   {
    "duration": 0,
    "start_time": "2024-09-02T23:58:25.627Z"
   },
   {
    "duration": 0,
    "start_time": "2024-09-02T23:58:25.628Z"
   },
   {
    "duration": 0,
    "start_time": "2024-09-02T23:58:25.629Z"
   },
   {
    "duration": 0,
    "start_time": "2024-09-02T23:58:25.631Z"
   },
   {
    "duration": 0,
    "start_time": "2024-09-02T23:58:25.632Z"
   },
   {
    "duration": 0,
    "start_time": "2024-09-02T23:58:25.633Z"
   },
   {
    "duration": 0,
    "start_time": "2024-09-02T23:58:25.634Z"
   },
   {
    "duration": 0,
    "start_time": "2024-09-02T23:58:25.635Z"
   },
   {
    "duration": 0,
    "start_time": "2024-09-02T23:58:25.636Z"
   },
   {
    "duration": 0,
    "start_time": "2024-09-02T23:58:25.637Z"
   },
   {
    "duration": 0,
    "start_time": "2024-09-02T23:58:25.638Z"
   },
   {
    "duration": 0,
    "start_time": "2024-09-02T23:58:25.639Z"
   },
   {
    "duration": 0,
    "start_time": "2024-09-02T23:58:25.640Z"
   },
   {
    "duration": 0,
    "start_time": "2024-09-02T23:58:25.641Z"
   },
   {
    "duration": 0,
    "start_time": "2024-09-02T23:58:25.642Z"
   },
   {
    "duration": 0,
    "start_time": "2024-09-02T23:58:25.643Z"
   },
   {
    "duration": 0,
    "start_time": "2024-09-02T23:58:25.644Z"
   },
   {
    "duration": 0,
    "start_time": "2024-09-02T23:58:25.645Z"
   },
   {
    "duration": 0,
    "start_time": "2024-09-02T23:58:25.646Z"
   },
   {
    "duration": 0,
    "start_time": "2024-09-02T23:58:25.721Z"
   },
   {
    "duration": 0,
    "start_time": "2024-09-02T23:58:25.722Z"
   },
   {
    "duration": 0,
    "start_time": "2024-09-02T23:58:25.724Z"
   },
   {
    "duration": 0,
    "start_time": "2024-09-02T23:58:25.725Z"
   },
   {
    "duration": 0,
    "start_time": "2024-09-02T23:58:25.727Z"
   },
   {
    "duration": 0,
    "start_time": "2024-09-02T23:58:25.729Z"
   },
   {
    "duration": 0,
    "start_time": "2024-09-02T23:58:25.731Z"
   },
   {
    "duration": 0,
    "start_time": "2024-09-02T23:58:25.732Z"
   },
   {
    "duration": 0,
    "start_time": "2024-09-02T23:58:25.733Z"
   },
   {
    "duration": 0,
    "start_time": "2024-09-02T23:58:25.735Z"
   },
   {
    "duration": 0,
    "start_time": "2024-09-02T23:58:25.736Z"
   },
   {
    "duration": 0,
    "start_time": "2024-09-02T23:58:25.738Z"
   },
   {
    "duration": 0,
    "start_time": "2024-09-02T23:58:25.740Z"
   },
   {
    "duration": 0,
    "start_time": "2024-09-02T23:58:25.741Z"
   },
   {
    "duration": 0,
    "start_time": "2024-09-02T23:58:25.742Z"
   },
   {
    "duration": 0,
    "start_time": "2024-09-02T23:58:25.744Z"
   },
   {
    "duration": 0,
    "start_time": "2024-09-02T23:58:25.745Z"
   },
   {
    "duration": 0,
    "start_time": "2024-09-02T23:58:25.821Z"
   },
   {
    "duration": 0,
    "start_time": "2024-09-02T23:58:25.822Z"
   },
   {
    "duration": 0,
    "start_time": "2024-09-02T23:58:25.823Z"
   },
   {
    "duration": 0,
    "start_time": "2024-09-02T23:58:25.825Z"
   },
   {
    "duration": 0,
    "start_time": "2024-09-02T23:58:25.826Z"
   },
   {
    "duration": 0,
    "start_time": "2024-09-02T23:58:25.827Z"
   },
   {
    "duration": 0,
    "start_time": "2024-09-02T23:58:25.828Z"
   },
   {
    "duration": 0,
    "start_time": "2024-09-02T23:58:25.829Z"
   },
   {
    "duration": 0,
    "start_time": "2024-09-02T23:58:25.830Z"
   },
   {
    "duration": 0,
    "start_time": "2024-09-02T23:58:25.831Z"
   },
   {
    "duration": 0,
    "start_time": "2024-09-02T23:58:25.832Z"
   },
   {
    "duration": 0,
    "start_time": "2024-09-02T23:58:25.833Z"
   },
   {
    "duration": 0,
    "start_time": "2024-09-02T23:58:25.835Z"
   },
   {
    "duration": 0,
    "start_time": "2024-09-02T23:58:25.836Z"
   },
   {
    "duration": 0,
    "start_time": "2024-09-02T23:58:25.837Z"
   },
   {
    "duration": 0,
    "start_time": "2024-09-02T23:58:25.838Z"
   },
   {
    "duration": 0,
    "start_time": "2024-09-02T23:58:25.839Z"
   },
   {
    "duration": 0,
    "start_time": "2024-09-02T23:58:25.841Z"
   },
   {
    "duration": 0,
    "start_time": "2024-09-02T23:58:25.842Z"
   },
   {
    "duration": 0,
    "start_time": "2024-09-02T23:58:25.844Z"
   },
   {
    "duration": 0,
    "start_time": "2024-09-02T23:58:25.845Z"
   },
   {
    "duration": 0,
    "start_time": "2024-09-02T23:58:25.846Z"
   },
   {
    "duration": 0,
    "start_time": "2024-09-02T23:58:25.921Z"
   },
   {
    "duration": 0,
    "start_time": "2024-09-02T23:58:25.922Z"
   },
   {
    "duration": 0,
    "start_time": "2024-09-02T23:58:25.923Z"
   },
   {
    "duration": 0,
    "start_time": "2024-09-02T23:58:25.925Z"
   },
   {
    "duration": 0,
    "start_time": "2024-09-02T23:58:25.926Z"
   },
   {
    "duration": 0,
    "start_time": "2024-09-02T23:58:25.928Z"
   },
   {
    "duration": 0,
    "start_time": "2024-09-02T23:58:25.929Z"
   },
   {
    "duration": 0,
    "start_time": "2024-09-02T23:58:25.930Z"
   },
   {
    "duration": 0,
    "start_time": "2024-09-02T23:58:25.932Z"
   },
   {
    "duration": 0,
    "start_time": "2024-09-02T23:58:25.933Z"
   },
   {
    "duration": 0,
    "start_time": "2024-09-02T23:58:25.934Z"
   },
   {
    "duration": 0,
    "start_time": "2024-09-02T23:58:25.935Z"
   },
   {
    "duration": 24209,
    "start_time": "2024-09-02T23:59:00.824Z"
   },
   {
    "duration": 1318,
    "start_time": "2024-09-02T23:59:25.037Z"
   },
   {
    "duration": 148,
    "start_time": "2024-09-02T23:59:26.357Z"
   },
   {
    "duration": 325,
    "start_time": "2024-09-02T23:59:26.507Z"
   },
   {
    "duration": 507,
    "start_time": "2024-09-02T23:59:26.834Z"
   },
   {
    "duration": 3681,
    "start_time": "2024-09-02T23:59:27.343Z"
   },
   {
    "duration": 3,
    "start_time": "2024-09-02T23:59:31.026Z"
   },
   {
    "duration": 948,
    "start_time": "2024-09-02T23:59:31.031Z"
   },
   {
    "duration": 3,
    "start_time": "2024-09-02T23:59:31.982Z"
   },
   {
    "duration": 7748,
    "start_time": "2024-09-02T23:59:31.989Z"
   },
   {
    "duration": 73,
    "start_time": "2024-09-02T23:59:39.739Z"
   },
   {
    "duration": 27,
    "start_time": "2024-09-02T23:59:39.821Z"
   },
   {
    "duration": 173,
    "start_time": "2024-09-02T23:59:39.849Z"
   },
   {
    "duration": 3,
    "start_time": "2024-09-02T23:59:40.024Z"
   },
   {
    "duration": 16,
    "start_time": "2024-09-02T23:59:40.029Z"
   },
   {
    "duration": 4,
    "start_time": "2024-09-02T23:59:40.047Z"
   },
   {
    "duration": 676,
    "start_time": "2024-09-02T23:59:40.122Z"
   },
   {
    "duration": 2,
    "start_time": "2024-09-02T23:59:40.800Z"
   },
   {
    "duration": 23,
    "start_time": "2024-09-02T23:59:40.803Z"
   },
   {
    "duration": 19,
    "start_time": "2024-09-02T23:59:40.828Z"
   },
   {
    "duration": 12,
    "start_time": "2024-09-02T23:59:40.849Z"
   },
   {
    "duration": 15,
    "start_time": "2024-09-02T23:59:40.863Z"
   },
   {
    "duration": 3,
    "start_time": "2024-09-02T23:59:40.879Z"
   },
   {
    "duration": 6,
    "start_time": "2024-09-02T23:59:40.883Z"
   },
   {
    "duration": 3,
    "start_time": "2024-09-02T23:59:40.921Z"
   },
   {
    "duration": 11,
    "start_time": "2024-09-02T23:59:40.926Z"
   },
   {
    "duration": 13,
    "start_time": "2024-09-02T23:59:40.939Z"
   },
   {
    "duration": 40,
    "start_time": "2024-09-02T23:59:40.957Z"
   },
   {
    "duration": 24,
    "start_time": "2024-09-02T23:59:40.999Z"
   },
   {
    "duration": 29958,
    "start_time": "2024-09-02T23:59:41.025Z"
   },
   {
    "duration": 2,
    "start_time": "2024-09-03T00:00:10.985Z"
   },
   {
    "duration": 41,
    "start_time": "2024-09-03T00:00:10.989Z"
   },
   {
    "duration": 192869,
    "start_time": "2024-09-03T00:00:11.032Z"
   },
   {
    "duration": 29,
    "start_time": "2024-09-03T00:03:23.903Z"
   },
   {
    "duration": 9,
    "start_time": "2024-09-03T00:03:23.933Z"
   },
   {
    "duration": 131354,
    "start_time": "2024-09-03T00:03:23.943Z"
   },
   {
    "duration": 30054,
    "start_time": "2024-09-03T00:05:35.299Z"
   },
   {
    "duration": 2,
    "start_time": "2024-09-03T00:06:05.355Z"
   },
   {
    "duration": 27,
    "start_time": "2024-09-03T00:06:05.359Z"
   },
   {
    "duration": 379,
    "start_time": "2024-09-03T00:06:05.388Z"
   },
   {
    "duration": 2307,
    "start_time": "2024-09-03T00:06:05.769Z"
   },
   {
    "duration": 91216,
    "start_time": "2024-09-03T00:06:08.078Z"
   },
   {
    "duration": 18753,
    "start_time": "2024-09-03T00:07:39.295Z"
   },
   {
    "duration": 3,
    "start_time": "2024-09-03T00:07:58.050Z"
   },
   {
    "duration": 17,
    "start_time": "2024-09-03T00:07:58.055Z"
   },
   {
    "duration": 6,
    "start_time": "2024-09-03T00:07:58.074Z"
   },
   {
    "duration": 4,
    "start_time": "2024-09-03T00:07:58.082Z"
   },
   {
    "duration": 3,
    "start_time": "2024-09-03T00:07:58.088Z"
   },
   {
    "duration": 4,
    "start_time": "2024-09-03T00:07:58.092Z"
   },
   {
    "duration": 135,
    "start_time": "2024-09-03T00:07:58.098Z"
   },
   {
    "duration": 5,
    "start_time": "2024-09-03T00:07:58.235Z"
   },
   {
    "duration": 13,
    "start_time": "2024-09-03T00:07:58.242Z"
   },
   {
    "duration": 2,
    "start_time": "2024-09-03T00:07:58.257Z"
   },
   {
    "duration": 4,
    "start_time": "2024-09-03T00:07:58.261Z"
   },
   {
    "duration": 11,
    "start_time": "2024-09-03T00:07:58.266Z"
   },
   {
    "duration": 3,
    "start_time": "2024-09-03T00:07:58.279Z"
   },
   {
    "duration": 10,
    "start_time": "2024-09-03T00:07:58.283Z"
   },
   {
    "duration": 8,
    "start_time": "2024-09-03T00:07:58.295Z"
   },
   {
    "duration": 24356,
    "start_time": "2024-09-03T00:24:01.527Z"
   },
   {
    "duration": 1694,
    "start_time": "2024-09-03T00:24:25.885Z"
   },
   {
    "duration": 907,
    "start_time": "2024-09-03T00:24:27.580Z"
   },
   {
    "duration": 392,
    "start_time": "2024-09-03T00:24:28.489Z"
   },
   {
    "duration": 510,
    "start_time": "2024-09-03T00:24:28.883Z"
   },
   {
    "duration": 3740,
    "start_time": "2024-09-03T00:24:29.395Z"
   },
   {
    "duration": 3,
    "start_time": "2024-09-03T00:24:33.137Z"
   },
   {
    "duration": 1294,
    "start_time": "2024-09-03T00:24:33.142Z"
   },
   {
    "duration": 3,
    "start_time": "2024-09-03T00:24:34.438Z"
   },
   {
    "duration": 7770,
    "start_time": "2024-09-03T00:24:34.444Z"
   },
   {
    "duration": 74,
    "start_time": "2024-09-03T00:24:42.216Z"
   },
   {
    "duration": 38,
    "start_time": "2024-09-03T00:24:42.292Z"
   },
   {
    "duration": 190,
    "start_time": "2024-09-03T00:24:42.332Z"
   },
   {
    "duration": 3,
    "start_time": "2024-09-03T00:24:42.524Z"
   },
   {
    "duration": 16,
    "start_time": "2024-09-03T00:24:42.529Z"
   },
   {
    "duration": 75,
    "start_time": "2024-09-03T00:24:42.547Z"
   },
   {
    "duration": 660,
    "start_time": "2024-09-03T00:24:42.624Z"
   },
   {
    "duration": 3,
    "start_time": "2024-09-03T00:24:43.286Z"
   },
   {
    "duration": 9,
    "start_time": "2024-09-03T00:24:43.291Z"
   },
   {
    "duration": 37,
    "start_time": "2024-09-03T00:24:43.302Z"
   },
   {
    "duration": 12,
    "start_time": "2024-09-03T00:24:43.341Z"
   },
   {
    "duration": 16,
    "start_time": "2024-09-03T00:24:43.355Z"
   },
   {
    "duration": 3,
    "start_time": "2024-09-03T00:24:43.372Z"
   },
   {
    "duration": 19,
    "start_time": "2024-09-03T00:24:43.377Z"
   },
   {
    "duration": 5,
    "start_time": "2024-09-03T00:24:43.421Z"
   },
   {
    "duration": 11,
    "start_time": "2024-09-03T00:24:43.427Z"
   },
   {
    "duration": 7,
    "start_time": "2024-09-03T00:24:43.439Z"
   },
   {
    "duration": 39,
    "start_time": "2024-09-03T00:24:43.450Z"
   },
   {
    "duration": 6,
    "start_time": "2024-09-03T00:24:43.490Z"
   },
   {
    "duration": 32990,
    "start_time": "2024-09-03T00:24:43.520Z"
   },
   {
    "duration": 4,
    "start_time": "2024-09-03T00:25:16.511Z"
   },
   {
    "duration": 7,
    "start_time": "2024-09-03T00:25:16.516Z"
   },
   {
    "duration": 247719,
    "start_time": "2024-09-03T00:25:16.525Z"
   },
   {
    "duration": 24,
    "start_time": "2024-09-03T00:29:24.245Z"
   },
   {
    "duration": 11,
    "start_time": "2024-09-03T00:29:24.270Z"
   },
   {
    "duration": 170522,
    "start_time": "2024-09-03T00:29:24.283Z"
   },
   {
    "duration": 38449,
    "start_time": "2024-09-03T00:32:14.807Z"
   },
   {
    "duration": 3,
    "start_time": "2024-09-03T00:32:53.257Z"
   },
   {
    "duration": 18,
    "start_time": "2024-09-03T00:32:53.261Z"
   },
   {
    "duration": 378,
    "start_time": "2024-09-03T00:32:53.281Z"
   },
   {
    "duration": 3503,
    "start_time": "2024-09-03T00:32:53.661Z"
   },
   {
    "duration": 112865,
    "start_time": "2024-09-03T00:32:57.166Z"
   },
   {
    "duration": 28831,
    "start_time": "2024-09-03T00:34:50.032Z"
   },
   {
    "duration": 2,
    "start_time": "2024-09-03T00:35:18.865Z"
   },
   {
    "duration": 136,
    "start_time": "2024-09-03T00:35:18.869Z"
   },
   {
    "duration": 63,
    "start_time": "2024-09-03T00:35:19.007Z"
   },
   {
    "duration": 116,
    "start_time": "2024-09-03T00:35:19.071Z"
   },
   {
    "duration": 144,
    "start_time": "2024-09-03T00:35:19.189Z"
   },
   {
    "duration": 110,
    "start_time": "2024-09-03T00:35:19.335Z"
   },
   {
    "duration": 240,
    "start_time": "2024-09-03T00:35:19.447Z"
   },
   {
    "duration": 13,
    "start_time": "2024-09-03T00:35:19.688Z"
   },
   {
    "duration": 18,
    "start_time": "2024-09-03T00:35:19.703Z"
   },
   {
    "duration": 15,
    "start_time": "2024-09-03T00:35:19.723Z"
   },
   {
    "duration": 8,
    "start_time": "2024-09-03T00:35:19.739Z"
   },
   {
    "duration": 19,
    "start_time": "2024-09-03T00:35:19.748Z"
   },
   {
    "duration": 6,
    "start_time": "2024-09-03T00:35:19.768Z"
   },
   {
    "duration": 13,
    "start_time": "2024-09-03T00:35:19.775Z"
   },
   {
    "duration": 22,
    "start_time": "2024-09-03T00:35:19.790Z"
   },
   {
    "duration": 26075,
    "start_time": "2024-09-03T00:43:02.894Z"
   },
   {
    "duration": 1802,
    "start_time": "2024-09-03T00:43:28.971Z"
   },
   {
    "duration": 1142,
    "start_time": "2024-09-03T00:43:30.775Z"
   },
   {
    "duration": 363,
    "start_time": "2024-09-03T00:43:31.920Z"
   },
   {
    "duration": 518,
    "start_time": "2024-09-03T00:43:32.285Z"
   },
   {
    "duration": 3700,
    "start_time": "2024-09-03T00:43:32.804Z"
   },
   {
    "duration": 3,
    "start_time": "2024-09-03T00:43:36.506Z"
   },
   {
    "duration": 1300,
    "start_time": "2024-09-03T00:43:36.510Z"
   },
   {
    "duration": 4,
    "start_time": "2024-09-03T00:43:37.811Z"
   },
   {
    "duration": 7720,
    "start_time": "2024-09-03T00:43:37.818Z"
   },
   {
    "duration": 74,
    "start_time": "2024-09-03T00:43:45.540Z"
   },
   {
    "duration": 28,
    "start_time": "2024-09-03T00:43:45.621Z"
   },
   {
    "duration": 270,
    "start_time": "2024-09-03T00:43:45.651Z"
   },
   {
    "duration": 3,
    "start_time": "2024-09-03T00:43:45.923Z"
   },
   {
    "duration": 29,
    "start_time": "2024-09-03T00:43:45.927Z"
   },
   {
    "duration": 18,
    "start_time": "2024-09-03T00:43:45.957Z"
   },
   {
    "duration": 646,
    "start_time": "2024-09-03T00:43:45.976Z"
   },
   {
    "duration": 2,
    "start_time": "2024-09-03T00:43:46.624Z"
   },
   {
    "duration": 24,
    "start_time": "2024-09-03T00:43:46.627Z"
   },
   {
    "duration": 22,
    "start_time": "2024-09-03T00:43:46.652Z"
   },
   {
    "duration": 21,
    "start_time": "2024-09-03T00:43:46.675Z"
   },
   {
    "duration": 16,
    "start_time": "2024-09-03T00:43:46.698Z"
   },
   {
    "duration": 2,
    "start_time": "2024-09-03T00:43:46.720Z"
   },
   {
    "duration": 24,
    "start_time": "2024-09-03T00:43:46.724Z"
   },
   {
    "duration": 13,
    "start_time": "2024-09-03T00:43:46.750Z"
   },
   {
    "duration": 20,
    "start_time": "2024-09-03T00:43:46.765Z"
   },
   {
    "duration": 28,
    "start_time": "2024-09-03T00:43:46.786Z"
   },
   {
    "duration": 42,
    "start_time": "2024-09-03T00:43:46.819Z"
   },
   {
    "duration": 6,
    "start_time": "2024-09-03T00:43:46.863Z"
   },
   {
    "duration": 32370,
    "start_time": "2024-09-03T00:43:46.870Z"
   },
   {
    "duration": 3,
    "start_time": "2024-09-03T00:44:19.242Z"
   },
   {
    "duration": 20,
    "start_time": "2024-09-03T00:44:19.246Z"
   },
   {
    "duration": 249670,
    "start_time": "2024-09-03T00:44:19.268Z"
   },
   {
    "duration": 24,
    "start_time": "2024-09-03T00:48:28.939Z"
   },
   {
    "duration": 10,
    "start_time": "2024-09-03T00:48:28.964Z"
   },
   {
    "duration": 170233,
    "start_time": "2024-09-03T00:48:28.976Z"
   },
   {
    "duration": 37342,
    "start_time": "2024-09-03T00:51:19.211Z"
   },
   {
    "duration": 3,
    "start_time": "2024-09-03T00:51:56.554Z"
   },
   {
    "duration": 20,
    "start_time": "2024-09-03T00:51:56.559Z"
   },
   {
    "duration": 361,
    "start_time": "2024-09-03T00:51:56.581Z"
   },
   {
    "duration": 3471,
    "start_time": "2024-09-03T00:51:56.944Z"
   },
   {
    "duration": 111615,
    "start_time": "2024-09-03T00:52:00.417Z"
   },
   {
    "duration": 27919,
    "start_time": "2024-09-03T00:53:52.034Z"
   },
   {
    "duration": 3,
    "start_time": "2024-09-03T00:54:19.955Z"
   },
   {
    "duration": 3,
    "start_time": "2024-09-03T00:54:19.960Z"
   },
   {
    "duration": 3,
    "start_time": "2024-09-03T00:54:19.965Z"
   },
   {
    "duration": 3,
    "start_time": "2024-09-03T00:54:19.970Z"
   },
   {
    "duration": 7,
    "start_time": "2024-09-03T00:54:19.974Z"
   },
   {
    "duration": 4,
    "start_time": "2024-09-03T00:54:19.983Z"
   },
   {
    "duration": 209,
    "start_time": "2024-09-03T00:54:19.988Z"
   },
   {
    "duration": 5,
    "start_time": "2024-09-03T00:54:20.199Z"
   },
   {
    "duration": 19,
    "start_time": "2024-09-03T00:54:20.206Z"
   },
   {
    "duration": 29,
    "start_time": "2024-09-03T00:54:20.227Z"
   },
   {
    "duration": 9,
    "start_time": "2024-09-03T00:54:20.258Z"
   },
   {
    "duration": 14,
    "start_time": "2024-09-03T00:54:20.268Z"
   },
   {
    "duration": 15,
    "start_time": "2024-09-03T00:54:20.284Z"
   },
   {
    "duration": 19,
    "start_time": "2024-09-03T00:54:20.301Z"
   },
   {
    "duration": 20,
    "start_time": "2024-09-03T00:54:20.322Z"
   },
   {
    "duration": 1332569,
    "start_time": "2024-09-03T00:54:20.344Z"
   },
   {
    "duration": 7,
    "start_time": "2024-09-03T01:16:32.915Z"
   },
   {
    "duration": 27,
    "start_time": "2024-09-03T01:16:32.923Z"
   },
   {
    "duration": 53,
    "start_time": "2024-09-03T01:16:32.952Z"
   },
   {
    "duration": 9,
    "start_time": "2024-09-03T01:16:33.007Z"
   },
   {
    "duration": 34215,
    "start_time": "2024-09-03T01:16:33.017Z"
   },
   {
    "duration": 2,
    "start_time": "2024-09-03T01:17:07.234Z"
   },
   {
    "duration": 40,
    "start_time": "2024-09-03T01:17:07.237Z"
   },
   {
    "duration": 42,
    "start_time": "2024-09-03T01:17:07.278Z"
   },
   {
    "duration": 389,
    "start_time": "2024-09-03T01:17:07.322Z"
   },
   {
    "duration": 0,
    "start_time": "2024-09-03T01:17:07.713Z"
   },
   {
    "duration": 0,
    "start_time": "2024-09-03T01:17:07.714Z"
   },
   {
    "duration": 0,
    "start_time": "2024-09-03T01:17:07.720Z"
   },
   {
    "duration": 0,
    "start_time": "2024-09-03T01:17:07.721Z"
   },
   {
    "duration": 0,
    "start_time": "2024-09-03T01:17:07.723Z"
   },
   {
    "duration": 0,
    "start_time": "2024-09-03T01:17:07.724Z"
   },
   {
    "duration": 0,
    "start_time": "2024-09-03T01:17:07.725Z"
   },
   {
    "duration": 0,
    "start_time": "2024-09-03T01:17:07.726Z"
   },
   {
    "duration": 1,
    "start_time": "2024-09-03T01:17:07.727Z"
   },
   {
    "duration": 0,
    "start_time": "2024-09-03T01:17:07.729Z"
   },
   {
    "duration": 0,
    "start_time": "2024-09-03T01:17:07.730Z"
   },
   {
    "duration": 0,
    "start_time": "2024-09-03T01:17:07.731Z"
   },
   {
    "duration": 0,
    "start_time": "2024-09-03T01:17:07.732Z"
   },
   {
    "duration": 0,
    "start_time": "2024-09-03T01:17:07.733Z"
   },
   {
    "duration": 0,
    "start_time": "2024-09-03T01:17:07.734Z"
   },
   {
    "duration": 0,
    "start_time": "2024-09-03T01:17:07.735Z"
   },
   {
    "duration": 3,
    "start_time": "2024-09-03T01:19:00.050Z"
   },
   {
    "duration": 3,
    "start_time": "2024-09-03T01:19:00.512Z"
   },
   {
    "duration": 3,
    "start_time": "2024-09-03T01:19:00.844Z"
   },
   {
    "duration": 17173,
    "start_time": "2024-09-03T01:21:11.026Z"
   },
   {
    "duration": 1354,
    "start_time": "2024-09-03T01:21:28.202Z"
   },
   {
    "duration": 152,
    "start_time": "2024-09-03T01:21:29.557Z"
   },
   {
    "duration": 305,
    "start_time": "2024-09-03T01:21:29.711Z"
   },
   {
    "duration": 467,
    "start_time": "2024-09-03T01:21:30.018Z"
   },
   {
    "duration": 3733,
    "start_time": "2024-09-03T01:21:30.486Z"
   },
   {
    "duration": 4,
    "start_time": "2024-09-03T01:21:34.221Z"
   },
   {
    "duration": 983,
    "start_time": "2024-09-03T01:21:34.226Z"
   },
   {
    "duration": 9,
    "start_time": "2024-09-03T01:21:35.211Z"
   },
   {
    "duration": 8465,
    "start_time": "2024-09-03T01:21:35.224Z"
   },
   {
    "duration": 77,
    "start_time": "2024-09-03T01:21:43.690Z"
   },
   {
    "duration": 29,
    "start_time": "2024-09-03T01:21:43.769Z"
   },
   {
    "duration": 138,
    "start_time": "2024-09-03T01:21:43.800Z"
   },
   {
    "duration": 2,
    "start_time": "2024-09-03T01:21:43.940Z"
   },
   {
    "duration": 100,
    "start_time": "2024-09-03T01:21:43.944Z"
   },
   {
    "duration": 22,
    "start_time": "2024-09-03T01:21:44.046Z"
   },
   {
    "duration": 987,
    "start_time": "2024-09-03T01:21:44.070Z"
   },
   {
    "duration": 2,
    "start_time": "2024-09-03T01:21:45.058Z"
   },
   {
    "duration": 67,
    "start_time": "2024-09-03T01:21:45.062Z"
   },
   {
    "duration": 41,
    "start_time": "2024-09-03T01:21:45.131Z"
   },
   {
    "duration": 61,
    "start_time": "2024-09-03T01:21:45.174Z"
   },
   {
    "duration": 86,
    "start_time": "2024-09-03T01:21:45.237Z"
   },
   {
    "duration": 2,
    "start_time": "2024-09-03T01:21:45.325Z"
   },
   {
    "duration": 65,
    "start_time": "2024-09-03T01:21:45.329Z"
   },
   {
    "duration": 22,
    "start_time": "2024-09-03T01:21:45.421Z"
   },
   {
    "duration": 83,
    "start_time": "2024-09-03T01:21:45.444Z"
   },
   {
    "duration": 46,
    "start_time": "2024-09-03T01:21:45.529Z"
   },
   {
    "duration": 74,
    "start_time": "2024-09-03T01:21:45.579Z"
   },
   {
    "duration": 6,
    "start_time": "2024-09-03T01:21:45.655Z"
   },
   {
    "duration": 32335,
    "start_time": "2024-09-03T01:21:45.662Z"
   },
   {
    "duration": 2,
    "start_time": "2024-09-03T01:22:17.999Z"
   },
   {
    "duration": 24,
    "start_time": "2024-09-03T01:22:18.003Z"
   },
   {
    "duration": 247016,
    "start_time": "2024-09-03T01:22:18.029Z"
   },
   {
    "duration": 21,
    "start_time": "2024-09-03T01:26:25.047Z"
   },
   {
    "duration": 9,
    "start_time": "2024-09-03T01:26:25.069Z"
   },
   {
    "duration": 168519,
    "start_time": "2024-09-03T01:26:25.080Z"
   },
   {
    "duration": 37953,
    "start_time": "2024-09-03T01:29:13.601Z"
   },
   {
    "duration": 2,
    "start_time": "2024-09-03T01:29:51.556Z"
   },
   {
    "duration": 25,
    "start_time": "2024-09-03T01:29:51.559Z"
   },
   {
    "duration": 349,
    "start_time": "2024-09-03T01:29:51.585Z"
   },
   {
    "duration": 3428,
    "start_time": "2024-09-03T01:29:51.937Z"
   },
   {
    "duration": 112060,
    "start_time": "2024-09-03T01:29:55.367Z"
   },
   {
    "duration": 28524,
    "start_time": "2024-09-03T01:31:47.429Z"
   },
   {
    "duration": 3,
    "start_time": "2024-09-03T01:32:15.955Z"
   },
   {
    "duration": 16,
    "start_time": "2024-09-03T01:32:15.959Z"
   },
   {
    "duration": 20,
    "start_time": "2024-09-03T01:32:15.976Z"
   },
   {
    "duration": 8,
    "start_time": "2024-09-03T01:32:15.997Z"
   },
   {
    "duration": 4,
    "start_time": "2024-09-03T01:32:16.006Z"
   },
   {
    "duration": 13,
    "start_time": "2024-09-03T01:32:16.012Z"
   },
   {
    "duration": 253,
    "start_time": "2024-09-03T01:32:16.027Z"
   },
   {
    "duration": 24,
    "start_time": "2024-09-03T01:32:16.282Z"
   },
   {
    "duration": 14,
    "start_time": "2024-09-03T01:32:16.307Z"
   },
   {
    "duration": 19,
    "start_time": "2024-09-03T01:32:16.323Z"
   },
   {
    "duration": 28,
    "start_time": "2024-09-03T01:32:16.343Z"
   },
   {
    "duration": 27,
    "start_time": "2024-09-03T01:32:16.373Z"
   },
   {
    "duration": 3,
    "start_time": "2024-09-03T01:32:16.401Z"
   },
   {
    "duration": 9,
    "start_time": "2024-09-03T01:32:16.406Z"
   },
   {
    "duration": 11,
    "start_time": "2024-09-03T01:32:16.416Z"
   },
   {
    "duration": 1323663,
    "start_time": "2024-09-03T01:32:16.429Z"
   },
   {
    "duration": 4,
    "start_time": "2024-09-03T01:54:20.093Z"
   },
   {
    "duration": 6,
    "start_time": "2024-09-03T01:54:20.099Z"
   },
   {
    "duration": 15,
    "start_time": "2024-09-03T01:54:20.106Z"
   },
   {
    "duration": 38,
    "start_time": "2024-09-03T01:54:20.122Z"
   },
   {
    "duration": 37203,
    "start_time": "2024-09-03T01:54:20.161Z"
   },
   {
    "duration": 2,
    "start_time": "2024-09-03T01:54:57.366Z"
   },
   {
    "duration": 5,
    "start_time": "2024-09-03T01:54:57.370Z"
   },
   {
    "duration": 20,
    "start_time": "2024-09-03T01:54:57.377Z"
   },
   {
    "duration": 9,
    "start_time": "2024-09-03T01:54:57.399Z"
   },
   {
    "duration": 6,
    "start_time": "2024-09-03T01:54:57.409Z"
   },
   {
    "duration": 14,
    "start_time": "2024-09-03T01:54:57.416Z"
   },
   {
    "duration": 4,
    "start_time": "2024-09-03T01:54:57.432Z"
   },
   {
    "duration": 58,
    "start_time": "2024-09-03T12:58:10.131Z"
   },
   {
    "duration": 22802,
    "start_time": "2024-09-03T13:05:24.852Z"
   },
   {
    "duration": 53,
    "start_time": "2024-09-03T13:05:47.656Z"
   },
   {
    "duration": 0,
    "start_time": "2024-09-03T13:05:47.713Z"
   },
   {
    "duration": 0,
    "start_time": "2024-09-03T13:05:47.714Z"
   },
   {
    "duration": 0,
    "start_time": "2024-09-03T13:05:47.715Z"
   },
   {
    "duration": 0,
    "start_time": "2024-09-03T13:05:47.716Z"
   },
   {
    "duration": 0,
    "start_time": "2024-09-03T13:05:47.718Z"
   },
   {
    "duration": 0,
    "start_time": "2024-09-03T13:05:47.719Z"
   },
   {
    "duration": 0,
    "start_time": "2024-09-03T13:05:47.720Z"
   },
   {
    "duration": 0,
    "start_time": "2024-09-03T13:05:47.721Z"
   },
   {
    "duration": 0,
    "start_time": "2024-09-03T13:05:47.722Z"
   },
   {
    "duration": 0,
    "start_time": "2024-09-03T13:05:47.723Z"
   },
   {
    "duration": 0,
    "start_time": "2024-09-03T13:05:47.724Z"
   },
   {
    "duration": 0,
    "start_time": "2024-09-03T13:05:47.725Z"
   },
   {
    "duration": 0,
    "start_time": "2024-09-03T13:05:47.726Z"
   },
   {
    "duration": 0,
    "start_time": "2024-09-03T13:05:47.727Z"
   },
   {
    "duration": 0,
    "start_time": "2024-09-03T13:05:47.728Z"
   },
   {
    "duration": 0,
    "start_time": "2024-09-03T13:05:47.729Z"
   },
   {
    "duration": 0,
    "start_time": "2024-09-03T13:05:47.730Z"
   },
   {
    "duration": 0,
    "start_time": "2024-09-03T13:05:47.731Z"
   },
   {
    "duration": 0,
    "start_time": "2024-09-03T13:05:47.732Z"
   },
   {
    "duration": 0,
    "start_time": "2024-09-03T13:05:47.734Z"
   },
   {
    "duration": 0,
    "start_time": "2024-09-03T13:05:47.736Z"
   },
   {
    "duration": 0,
    "start_time": "2024-09-03T13:05:47.737Z"
   },
   {
    "duration": 0,
    "start_time": "2024-09-03T13:05:47.738Z"
   },
   {
    "duration": 0,
    "start_time": "2024-09-03T13:05:47.739Z"
   },
   {
    "duration": 0,
    "start_time": "2024-09-03T13:05:47.740Z"
   },
   {
    "duration": 0,
    "start_time": "2024-09-03T13:05:47.741Z"
   },
   {
    "duration": 0,
    "start_time": "2024-09-03T13:05:47.742Z"
   },
   {
    "duration": 0,
    "start_time": "2024-09-03T13:05:47.743Z"
   },
   {
    "duration": 0,
    "start_time": "2024-09-03T13:05:47.744Z"
   },
   {
    "duration": 0,
    "start_time": "2024-09-03T13:05:47.746Z"
   },
   {
    "duration": 0,
    "start_time": "2024-09-03T13:05:47.747Z"
   },
   {
    "duration": 0,
    "start_time": "2024-09-03T13:05:47.748Z"
   },
   {
    "duration": 0,
    "start_time": "2024-09-03T13:05:47.749Z"
   },
   {
    "duration": 0,
    "start_time": "2024-09-03T13:05:47.750Z"
   },
   {
    "duration": 0,
    "start_time": "2024-09-03T13:05:47.752Z"
   },
   {
    "duration": 0,
    "start_time": "2024-09-03T13:05:47.753Z"
   },
   {
    "duration": 0,
    "start_time": "2024-09-03T13:05:47.754Z"
   },
   {
    "duration": 0,
    "start_time": "2024-09-03T13:05:47.755Z"
   },
   {
    "duration": 0,
    "start_time": "2024-09-03T13:05:47.756Z"
   },
   {
    "duration": 0,
    "start_time": "2024-09-03T13:05:47.757Z"
   },
   {
    "duration": 0,
    "start_time": "2024-09-03T13:05:47.820Z"
   },
   {
    "duration": 0,
    "start_time": "2024-09-03T13:05:47.821Z"
   },
   {
    "duration": 0,
    "start_time": "2024-09-03T13:05:47.822Z"
   },
   {
    "duration": 0,
    "start_time": "2024-09-03T13:05:47.824Z"
   },
   {
    "duration": 0,
    "start_time": "2024-09-03T13:05:47.825Z"
   },
   {
    "duration": 0,
    "start_time": "2024-09-03T13:05:47.826Z"
   },
   {
    "duration": 0,
    "start_time": "2024-09-03T13:05:47.827Z"
   },
   {
    "duration": 0,
    "start_time": "2024-09-03T13:05:47.828Z"
   },
   {
    "duration": 0,
    "start_time": "2024-09-03T13:05:47.829Z"
   },
   {
    "duration": 0,
    "start_time": "2024-09-03T13:05:47.830Z"
   },
   {
    "duration": 0,
    "start_time": "2024-09-03T13:05:47.831Z"
   },
   {
    "duration": 0,
    "start_time": "2024-09-03T13:05:47.832Z"
   },
   {
    "duration": 0,
    "start_time": "2024-09-03T13:05:47.833Z"
   },
   {
    "duration": 0,
    "start_time": "2024-09-03T13:05:47.835Z"
   },
   {
    "duration": 0,
    "start_time": "2024-09-03T13:05:47.836Z"
   },
   {
    "duration": 0,
    "start_time": "2024-09-03T13:05:47.837Z"
   },
   {
    "duration": 0,
    "start_time": "2024-09-03T13:05:47.838Z"
   },
   {
    "duration": 0,
    "start_time": "2024-09-03T13:05:47.839Z"
   },
   {
    "duration": 0,
    "start_time": "2024-09-03T13:05:47.840Z"
   },
   {
    "duration": 0,
    "start_time": "2024-09-03T13:05:47.841Z"
   },
   {
    "duration": 0,
    "start_time": "2024-09-03T13:05:47.842Z"
   },
   {
    "duration": 0,
    "start_time": "2024-09-03T13:05:47.844Z"
   },
   {
    "duration": 0,
    "start_time": "2024-09-03T13:05:47.845Z"
   },
   {
    "duration": 0,
    "start_time": "2024-09-03T13:05:47.846Z"
   },
   {
    "duration": 0,
    "start_time": "2024-09-03T13:05:47.847Z"
   },
   {
    "duration": 0,
    "start_time": "2024-09-03T13:05:47.848Z"
   },
   {
    "duration": 0,
    "start_time": "2024-09-03T13:05:47.849Z"
   },
   {
    "duration": 1,
    "start_time": "2024-09-03T13:05:47.849Z"
   },
   {
    "duration": 0,
    "start_time": "2024-09-03T13:05:47.851Z"
   },
   {
    "duration": 0,
    "start_time": "2024-09-03T13:05:47.852Z"
   },
   {
    "duration": 0,
    "start_time": "2024-09-03T13:05:47.853Z"
   },
   {
    "duration": 0,
    "start_time": "2024-09-03T13:05:47.854Z"
   },
   {
    "duration": 0,
    "start_time": "2024-09-03T13:05:47.855Z"
   },
   {
    "duration": 0,
    "start_time": "2024-09-03T13:05:47.856Z"
   },
   {
    "duration": 0,
    "start_time": "2024-09-03T13:05:47.857Z"
   },
   {
    "duration": 0,
    "start_time": "2024-09-03T13:05:47.921Z"
   },
   {
    "duration": 0,
    "start_time": "2024-09-03T13:05:47.921Z"
   },
   {
    "duration": 0,
    "start_time": "2024-09-03T13:05:47.922Z"
   },
   {
    "duration": 0,
    "start_time": "2024-09-03T13:05:47.924Z"
   },
   {
    "duration": 0,
    "start_time": "2024-09-03T13:05:47.924Z"
   },
   {
    "duration": 0,
    "start_time": "2024-09-03T13:05:47.925Z"
   },
   {
    "duration": 1,
    "start_time": "2024-09-03T13:05:47.926Z"
   },
   {
    "duration": 0,
    "start_time": "2024-09-03T13:05:47.927Z"
   },
   {
    "duration": 0,
    "start_time": "2024-09-03T13:05:47.928Z"
   },
   {
    "duration": 0,
    "start_time": "2024-09-03T13:05:47.929Z"
   },
   {
    "duration": 0,
    "start_time": "2024-09-03T13:05:47.930Z"
   },
   {
    "duration": 24430,
    "start_time": "2024-09-03T13:05:56.072Z"
   },
   {
    "duration": 1690,
    "start_time": "2024-09-03T13:06:20.505Z"
   },
   {
    "duration": 1131,
    "start_time": "2024-09-03T13:06:22.197Z"
   },
   {
    "duration": 295,
    "start_time": "2024-09-03T13:06:23.330Z"
   },
   {
    "duration": 469,
    "start_time": "2024-09-03T13:06:23.626Z"
   },
   {
    "duration": 3777,
    "start_time": "2024-09-03T13:06:24.097Z"
   },
   {
    "duration": 4,
    "start_time": "2024-09-03T13:06:27.876Z"
   },
   {
    "duration": 1310,
    "start_time": "2024-09-03T13:06:27.881Z"
   },
   {
    "duration": 4,
    "start_time": "2024-09-03T13:06:29.193Z"
   },
   {
    "duration": 7957,
    "start_time": "2024-09-03T13:06:29.200Z"
   },
   {
    "duration": 79,
    "start_time": "2024-09-03T13:06:37.159Z"
   },
   {
    "duration": 30,
    "start_time": "2024-09-03T13:06:37.240Z"
   },
   {
    "duration": 160,
    "start_time": "2024-09-03T13:06:37.272Z"
   },
   {
    "duration": 3,
    "start_time": "2024-09-03T13:06:37.435Z"
   },
   {
    "duration": 104,
    "start_time": "2024-09-03T13:06:37.440Z"
   },
   {
    "duration": 23,
    "start_time": "2024-09-03T13:06:37.546Z"
   },
   {
    "duration": 660,
    "start_time": "2024-09-03T13:06:37.571Z"
   },
   {
    "duration": 3,
    "start_time": "2024-09-03T13:06:38.232Z"
   },
   {
    "duration": 35,
    "start_time": "2024-09-03T13:06:38.236Z"
   },
   {
    "duration": 22,
    "start_time": "2024-09-03T13:06:38.273Z"
   },
   {
    "duration": 12,
    "start_time": "2024-09-03T13:06:38.297Z"
   },
   {
    "duration": 26,
    "start_time": "2024-09-03T13:06:38.311Z"
   },
   {
    "duration": 7,
    "start_time": "2024-09-03T13:06:38.339Z"
   },
   {
    "duration": 17,
    "start_time": "2024-09-03T13:06:38.347Z"
   },
   {
    "duration": 21,
    "start_time": "2024-09-03T13:06:38.365Z"
   },
   {
    "duration": 42,
    "start_time": "2024-09-03T13:06:38.388Z"
   },
   {
    "duration": 19,
    "start_time": "2024-09-03T13:06:38.432Z"
   },
   {
    "duration": 47,
    "start_time": "2024-09-03T13:06:38.455Z"
   },
   {
    "duration": 6,
    "start_time": "2024-09-03T13:06:38.504Z"
   },
   {
    "duration": 33817,
    "start_time": "2024-09-03T13:06:38.512Z"
   },
   {
    "duration": 3,
    "start_time": "2024-09-03T13:07:12.330Z"
   },
   {
    "duration": 25,
    "start_time": "2024-09-03T13:07:12.335Z"
   },
   {
    "duration": 250783,
    "start_time": "2024-09-03T13:07:12.361Z"
   },
   {
    "duration": 25,
    "start_time": "2024-09-03T13:11:23.146Z"
   },
   {
    "duration": 10,
    "start_time": "2024-09-03T13:11:23.172Z"
   },
   {
    "duration": 169947,
    "start_time": "2024-09-03T13:11:23.184Z"
   },
   {
    "duration": 38725,
    "start_time": "2024-09-03T13:14:13.133Z"
   },
   {
    "duration": 3,
    "start_time": "2024-09-03T13:14:51.860Z"
   },
   {
    "duration": 66,
    "start_time": "2024-09-03T13:14:51.864Z"
   },
   {
    "duration": 349,
    "start_time": "2024-09-03T13:14:51.932Z"
   },
   {
    "duration": 3554,
    "start_time": "2024-09-03T13:14:52.283Z"
   },
   {
    "duration": 110083,
    "start_time": "2024-09-03T13:14:55.838Z"
   },
   {
    "duration": 28133,
    "start_time": "2024-09-03T13:16:45.924Z"
   },
   {
    "duration": 3,
    "start_time": "2024-09-03T13:17:14.059Z"
   },
   {
    "duration": 12,
    "start_time": "2024-09-03T13:17:14.064Z"
   },
   {
    "duration": 8,
    "start_time": "2024-09-03T13:17:14.077Z"
   },
   {
    "duration": 25,
    "start_time": "2024-09-03T13:17:14.087Z"
   },
   {
    "duration": 11,
    "start_time": "2024-09-03T13:17:14.114Z"
   },
   {
    "duration": 28,
    "start_time": "2024-09-03T13:17:14.127Z"
   },
   {
    "duration": 198,
    "start_time": "2024-09-03T13:17:14.157Z"
   },
   {
    "duration": 13,
    "start_time": "2024-09-03T13:17:14.357Z"
   },
   {
    "duration": 11,
    "start_time": "2024-09-03T13:17:14.372Z"
   },
   {
    "duration": 16,
    "start_time": "2024-09-03T13:17:14.384Z"
   },
   {
    "duration": 17,
    "start_time": "2024-09-03T13:17:14.402Z"
   },
   {
    "duration": 13,
    "start_time": "2024-09-03T13:17:14.420Z"
   },
   {
    "duration": 7,
    "start_time": "2024-09-03T13:17:14.435Z"
   },
   {
    "duration": 364,
    "start_time": "2024-09-03T13:17:14.444Z"
   },
   {
    "duration": 0,
    "start_time": "2024-09-03T13:17:14.810Z"
   },
   {
    "duration": 0,
    "start_time": "2024-09-03T13:17:14.811Z"
   },
   {
    "duration": 0,
    "start_time": "2024-09-03T13:17:14.820Z"
   },
   {
    "duration": 0,
    "start_time": "2024-09-03T13:17:14.822Z"
   },
   {
    "duration": 0,
    "start_time": "2024-09-03T13:17:14.823Z"
   },
   {
    "duration": 0,
    "start_time": "2024-09-03T13:17:14.825Z"
   },
   {
    "duration": 0,
    "start_time": "2024-09-03T13:17:14.826Z"
   },
   {
    "duration": 0,
    "start_time": "2024-09-03T13:17:14.827Z"
   },
   {
    "duration": 0,
    "start_time": "2024-09-03T13:17:14.828Z"
   },
   {
    "duration": 0,
    "start_time": "2024-09-03T13:17:14.830Z"
   },
   {
    "duration": 0,
    "start_time": "2024-09-03T13:17:14.831Z"
   },
   {
    "duration": 0,
    "start_time": "2024-09-03T13:17:14.832Z"
   },
   {
    "duration": 0,
    "start_time": "2024-09-03T13:17:14.833Z"
   },
   {
    "duration": 0,
    "start_time": "2024-09-03T13:17:14.834Z"
   },
   {
    "duration": 0,
    "start_time": "2024-09-03T13:17:14.836Z"
   },
   {
    "duration": 0,
    "start_time": "2024-09-03T13:17:14.837Z"
   },
   {
    "duration": 0,
    "start_time": "2024-09-03T13:17:14.838Z"
   },
   {
    "duration": 0,
    "start_time": "2024-09-03T13:17:14.839Z"
   },
   {
    "duration": 0,
    "start_time": "2024-09-03T13:17:14.841Z"
   },
   {
    "duration": 0,
    "start_time": "2024-09-03T13:17:14.842Z"
   },
   {
    "duration": 0,
    "start_time": "2024-09-03T13:17:14.844Z"
   },
   {
    "duration": 0,
    "start_time": "2024-09-03T13:17:14.847Z"
   },
   {
    "duration": 0,
    "start_time": "2024-09-03T13:17:14.848Z"
   },
   {
    "duration": 0,
    "start_time": "2024-09-03T13:17:14.849Z"
   },
   {
    "duration": 0,
    "start_time": "2024-09-03T13:17:14.851Z"
   },
   {
    "duration": 0,
    "start_time": "2024-09-03T13:17:14.852Z"
   },
   {
    "duration": 0,
    "start_time": "2024-09-03T13:17:14.854Z"
   },
   {
    "duration": 0,
    "start_time": "2024-09-03T13:17:14.855Z"
   },
   {
    "duration": 0,
    "start_time": "2024-09-03T13:17:14.857Z"
   },
   {
    "duration": 0,
    "start_time": "2024-09-03T13:17:14.859Z"
   },
   {
    "duration": 0,
    "start_time": "2024-09-03T13:17:14.860Z"
   },
   {
    "duration": 0,
    "start_time": "2024-09-03T13:17:14.921Z"
   },
   {
    "duration": 5,
    "start_time": "2024-09-03T13:49:52.965Z"
   },
   {
    "duration": 4642,
    "start_time": "2024-09-03T13:49:54.235Z"
   },
   {
    "duration": 4,
    "start_time": "2024-09-03T13:50:09.436Z"
   },
   {
    "duration": 28652,
    "start_time": "2024-09-03T14:02:47.159Z"
   },
   {
    "duration": 2890,
    "start_time": "2024-09-03T14:03:15.813Z"
   },
   {
    "duration": 1089,
    "start_time": "2024-09-03T14:03:18.705Z"
   },
   {
    "duration": 356,
    "start_time": "2024-09-03T14:03:19.796Z"
   },
   {
    "duration": 559,
    "start_time": "2024-09-03T14:03:20.154Z"
   },
   {
    "duration": 4106,
    "start_time": "2024-09-03T14:03:20.715Z"
   },
   {
    "duration": 3,
    "start_time": "2024-09-03T14:03:24.824Z"
   },
   {
    "duration": 1461,
    "start_time": "2024-09-03T14:03:24.829Z"
   },
   {
    "duration": 4,
    "start_time": "2024-09-03T14:03:26.292Z"
   },
   {
    "duration": 9376,
    "start_time": "2024-09-03T14:03:26.299Z"
   },
   {
    "duration": 76,
    "start_time": "2024-09-03T14:03:35.677Z"
   },
   {
    "duration": 44,
    "start_time": "2024-09-03T14:03:35.754Z"
   },
   {
    "duration": 224,
    "start_time": "2024-09-03T14:03:35.800Z"
   },
   {
    "duration": 3,
    "start_time": "2024-09-03T14:03:36.028Z"
   },
   {
    "duration": 18,
    "start_time": "2024-09-03T14:03:36.033Z"
   },
   {
    "duration": 69,
    "start_time": "2024-09-03T14:03:36.053Z"
   },
   {
    "duration": 731,
    "start_time": "2024-09-03T14:03:36.125Z"
   },
   {
    "duration": 3,
    "start_time": "2024-09-03T14:03:36.857Z"
   },
   {
    "duration": 19,
    "start_time": "2024-09-03T14:03:36.861Z"
   },
   {
    "duration": 21,
    "start_time": "2024-09-03T14:03:36.882Z"
   },
   {
    "duration": 17,
    "start_time": "2024-09-03T14:03:36.905Z"
   },
   {
    "duration": 17,
    "start_time": "2024-09-03T14:03:36.924Z"
   },
   {
    "duration": 46,
    "start_time": "2024-09-03T14:03:36.943Z"
   },
   {
    "duration": 17,
    "start_time": "2024-09-03T14:03:36.991Z"
   },
   {
    "duration": 4,
    "start_time": "2024-09-03T14:03:37.009Z"
   },
   {
    "duration": 18,
    "start_time": "2024-09-03T14:03:37.014Z"
   },
   {
    "duration": 28,
    "start_time": "2024-09-03T14:03:37.033Z"
   },
   {
    "duration": 45,
    "start_time": "2024-09-03T14:03:37.065Z"
   },
   {
    "duration": 6,
    "start_time": "2024-09-03T14:03:37.111Z"
   },
   {
    "duration": 33858,
    "start_time": "2024-09-03T14:03:37.119Z"
   },
   {
    "duration": 3,
    "start_time": "2024-09-03T14:04:10.978Z"
   },
   {
    "duration": 42,
    "start_time": "2024-09-03T14:04:10.982Z"
   },
   {
    "duration": 244700,
    "start_time": "2024-09-03T14:04:11.026Z"
   },
   {
    "duration": 24,
    "start_time": "2024-09-03T14:08:15.728Z"
   },
   {
    "duration": 9,
    "start_time": "2024-09-03T14:08:15.753Z"
   },
   {
    "duration": 163201,
    "start_time": "2024-09-03T14:08:15.764Z"
   },
   {
    "duration": 36871,
    "start_time": "2024-09-03T14:10:58.967Z"
   },
   {
    "duration": 3,
    "start_time": "2024-09-03T14:11:35.839Z"
   },
   {
    "duration": 33,
    "start_time": "2024-09-03T14:11:35.843Z"
   },
   {
    "duration": 345,
    "start_time": "2024-09-03T14:11:35.877Z"
   },
   {
    "duration": 3362,
    "start_time": "2024-09-03T14:11:36.224Z"
   },
   {
    "duration": 109933,
    "start_time": "2024-09-03T14:11:39.588Z"
   },
   {
    "duration": 28428,
    "start_time": "2024-09-03T14:13:29.523Z"
   },
   {
    "duration": 3,
    "start_time": "2024-09-03T14:13:57.953Z"
   },
   {
    "duration": 23,
    "start_time": "2024-09-03T14:13:57.958Z"
   },
   {
    "duration": 13,
    "start_time": "2024-09-03T14:13:57.982Z"
   },
   {
    "duration": 4,
    "start_time": "2024-09-03T14:13:57.997Z"
   },
   {
    "duration": 17,
    "start_time": "2024-09-03T14:13:58.002Z"
   },
   {
    "duration": 6,
    "start_time": "2024-09-03T14:13:58.020Z"
   },
   {
    "duration": 178,
    "start_time": "2024-09-03T14:13:58.027Z"
   },
   {
    "duration": 4,
    "start_time": "2024-09-03T14:13:58.207Z"
   },
   {
    "duration": 13,
    "start_time": "2024-09-03T14:13:58.212Z"
   },
   {
    "duration": 4,
    "start_time": "2024-09-03T14:13:58.227Z"
   },
   {
    "duration": 6,
    "start_time": "2024-09-03T14:13:58.233Z"
   },
   {
    "duration": 6,
    "start_time": "2024-09-03T14:13:58.240Z"
   },
   {
    "duration": 9,
    "start_time": "2024-09-03T14:13:58.247Z"
   },
   {
    "duration": 11,
    "start_time": "2024-09-03T14:13:58.257Z"
   },
   {
    "duration": 13,
    "start_time": "2024-09-03T14:13:58.270Z"
   },
   {
    "duration": 1325321,
    "start_time": "2024-09-03T14:13:58.285Z"
   },
   {
    "duration": 4,
    "start_time": "2024-09-03T14:36:03.607Z"
   },
   {
    "duration": 11,
    "start_time": "2024-09-03T14:36:03.612Z"
   },
   {
    "duration": 18,
    "start_time": "2024-09-03T14:36:03.624Z"
   },
   {
    "duration": 6,
    "start_time": "2024-09-03T14:36:03.643Z"
   },
   {
    "duration": 38707,
    "start_time": "2024-09-03T14:36:03.651Z"
   },
   {
    "duration": 3,
    "start_time": "2024-09-03T14:36:42.360Z"
   },
   {
    "duration": 19,
    "start_time": "2024-09-03T14:36:42.364Z"
   },
   {
    "duration": 7,
    "start_time": "2024-09-03T14:36:42.385Z"
   },
   {
    "duration": 17,
    "start_time": "2024-09-03T14:36:42.394Z"
   },
   {
    "duration": 5,
    "start_time": "2024-09-03T14:36:42.413Z"
   },
   {
    "duration": 9,
    "start_time": "2024-09-03T14:36:42.420Z"
   },
   {
    "duration": 16,
    "start_time": "2024-09-03T14:36:42.430Z"
   },
   {
    "duration": 40,
    "start_time": "2024-09-03T14:36:42.447Z"
   },
   {
    "duration": 54,
    "start_time": "2024-09-03T14:36:42.488Z"
   },
   {
    "duration": 12,
    "start_time": "2024-09-03T14:36:42.544Z"
   },
   {
    "duration": 13,
    "start_time": "2024-09-03T14:36:42.557Z"
   },
   {
    "duration": 375,
    "start_time": "2024-09-03T14:36:42.571Z"
   },
   {
    "duration": 0,
    "start_time": "2024-09-03T14:36:42.948Z"
   },
   {
    "duration": 0,
    "start_time": "2024-09-03T14:36:42.949Z"
   },
   {
    "duration": 0,
    "start_time": "2024-09-03T14:36:42.951Z"
   },
   {
    "duration": 0,
    "start_time": "2024-09-03T14:36:42.952Z"
   },
   {
    "duration": 0,
    "start_time": "2024-09-03T14:36:42.953Z"
   },
   {
    "duration": 0,
    "start_time": "2024-09-03T14:36:42.954Z"
   },
   {
    "duration": 0,
    "start_time": "2024-09-03T14:36:42.955Z"
   },
   {
    "duration": 0,
    "start_time": "2024-09-03T14:36:42.956Z"
   },
   {
    "duration": 24,
    "start_time": "2024-09-03T14:58:21.313Z"
   },
   {
    "duration": 3,
    "start_time": "2024-09-03T14:59:23.140Z"
   },
   {
    "duration": 120,
    "start_time": "2024-09-03T14:59:27.579Z"
   },
   {
    "duration": 16,
    "start_time": "2024-09-03T14:59:28.340Z"
   },
   {
    "duration": 14,
    "start_time": "2024-09-03T14:59:28.876Z"
   },
   {
    "duration": 2,
    "start_time": "2024-09-03T14:59:31.897Z"
   },
   {
    "duration": 5,
    "start_time": "2024-09-03T14:59:32.282Z"
   },
   {
    "duration": 4,
    "start_time": "2024-09-03T14:59:33.498Z"
   },
   {
    "duration": 9,
    "start_time": "2024-09-03T14:59:34.074Z"
   },
   {
    "duration": 3,
    "start_time": "2024-09-03T14:59:38.816Z"
   },
   {
    "duration": 642,
    "start_time": "2024-09-03T14:59:39.053Z"
   },
   {
    "duration": 758,
    "start_time": "2024-09-03T14:59:50.341Z"
   },
   {
    "duration": 617,
    "start_time": "2024-09-03T15:00:05.652Z"
   },
   {
    "duration": 585,
    "start_time": "2024-09-03T15:00:14.725Z"
   },
   {
    "duration": 471,
    "start_time": "2024-09-03T15:00:25.236Z"
   },
   {
    "duration": 531,
    "start_time": "2024-09-03T15:00:30.923Z"
   },
   {
    "duration": 939,
    "start_time": "2024-09-03T15:00:40.855Z"
   },
   {
    "duration": 651,
    "start_time": "2024-09-03T15:00:52.792Z"
   },
   {
    "duration": 675,
    "start_time": "2024-09-03T15:01:06.429Z"
   },
   {
    "duration": 24833,
    "start_time": "2024-09-03T15:08:29.749Z"
   },
   {
    "duration": 1391,
    "start_time": "2024-09-03T15:08:54.584Z"
   },
   {
    "duration": 171,
    "start_time": "2024-09-03T15:08:55.977Z"
   },
   {
    "duration": 292,
    "start_time": "2024-09-03T15:08:56.150Z"
   },
   {
    "duration": 454,
    "start_time": "2024-09-03T15:08:56.444Z"
   },
   {
    "duration": 3672,
    "start_time": "2024-09-03T15:08:56.900Z"
   },
   {
    "duration": 4,
    "start_time": "2024-09-03T15:09:00.573Z"
   },
   {
    "duration": 925,
    "start_time": "2024-09-03T15:09:00.578Z"
   },
   {
    "duration": 3,
    "start_time": "2024-09-03T15:09:01.504Z"
   },
   {
    "duration": 7694,
    "start_time": "2024-09-03T15:09:01.510Z"
   },
   {
    "duration": 67,
    "start_time": "2024-09-03T15:09:09.205Z"
   },
   {
    "duration": 39,
    "start_time": "2024-09-03T15:09:09.274Z"
   },
   {
    "duration": 208,
    "start_time": "2024-09-03T15:09:09.315Z"
   },
   {
    "duration": 4,
    "start_time": "2024-09-03T15:09:09.526Z"
   },
   {
    "duration": 20,
    "start_time": "2024-09-03T15:09:09.531Z"
   },
   {
    "duration": 6,
    "start_time": "2024-09-03T15:09:09.552Z"
   },
   {
    "duration": 693,
    "start_time": "2024-09-03T15:09:09.559Z"
   },
   {
    "duration": 3,
    "start_time": "2024-09-03T15:09:10.254Z"
   },
   {
    "duration": 28,
    "start_time": "2024-09-03T15:09:10.259Z"
   },
   {
    "duration": 20,
    "start_time": "2024-09-03T15:09:10.289Z"
   },
   {
    "duration": 18,
    "start_time": "2024-09-03T15:09:10.311Z"
   },
   {
    "duration": 14,
    "start_time": "2024-09-03T15:09:10.331Z"
   },
   {
    "duration": 4,
    "start_time": "2024-09-03T15:09:10.347Z"
   },
   {
    "duration": 25,
    "start_time": "2024-09-03T15:09:10.353Z"
   },
   {
    "duration": 4,
    "start_time": "2024-09-03T15:09:10.380Z"
   },
   {
    "duration": 16,
    "start_time": "2024-09-03T15:09:10.385Z"
   },
   {
    "duration": 20,
    "start_time": "2024-09-03T15:09:10.402Z"
   },
   {
    "duration": 44,
    "start_time": "2024-09-03T15:09:10.427Z"
   },
   {
    "duration": 6,
    "start_time": "2024-09-03T15:09:10.473Z"
   },
   {
    "duration": 32330,
    "start_time": "2024-09-03T15:09:10.480Z"
   },
   {
    "duration": 2,
    "start_time": "2024-09-03T15:09:42.812Z"
   },
   {
    "duration": 14,
    "start_time": "2024-09-03T15:09:42.820Z"
   },
   {
    "duration": 249599,
    "start_time": "2024-09-03T15:09:42.835Z"
   },
   {
    "duration": 23,
    "start_time": "2024-09-03T15:13:52.436Z"
   },
   {
    "duration": 14,
    "start_time": "2024-09-03T15:13:52.460Z"
   },
   {
    "duration": 168169,
    "start_time": "2024-09-03T15:13:52.476Z"
   },
   {
    "duration": 37996,
    "start_time": "2024-09-03T15:16:40.647Z"
   },
   {
    "duration": 3,
    "start_time": "2024-09-03T15:17:18.644Z"
   },
   {
    "duration": 84,
    "start_time": "2024-09-03T15:17:18.649Z"
   },
   {
    "duration": 333,
    "start_time": "2024-09-03T15:17:18.735Z"
   },
   {
    "duration": 3564,
    "start_time": "2024-09-03T15:17:19.070Z"
   },
   {
    "duration": 110192,
    "start_time": "2024-09-03T15:17:22.636Z"
   },
   {
    "duration": 27924,
    "start_time": "2024-09-03T15:19:12.829Z"
   },
   {
    "duration": 3,
    "start_time": "2024-09-03T15:19:40.754Z"
   },
   {
    "duration": 17,
    "start_time": "2024-09-03T15:19:40.759Z"
   },
   {
    "duration": 10,
    "start_time": "2024-09-03T15:19:40.778Z"
   },
   {
    "duration": 15,
    "start_time": "2024-09-03T15:19:40.789Z"
   },
   {
    "duration": 17,
    "start_time": "2024-09-03T15:19:40.806Z"
   },
   {
    "duration": 20,
    "start_time": "2024-09-03T15:19:40.824Z"
   },
   {
    "duration": 226,
    "start_time": "2024-09-03T15:19:40.846Z"
   },
   {
    "duration": 30,
    "start_time": "2024-09-03T15:19:41.074Z"
   },
   {
    "duration": 68,
    "start_time": "2024-09-03T15:19:41.105Z"
   },
   {
    "duration": 57,
    "start_time": "2024-09-03T15:19:41.174Z"
   },
   {
    "duration": 56,
    "start_time": "2024-09-03T15:19:41.232Z"
   },
   {
    "duration": 65,
    "start_time": "2024-09-03T15:19:41.290Z"
   },
   {
    "duration": 28,
    "start_time": "2024-09-03T15:19:41.357Z"
   },
   {
    "duration": 17,
    "start_time": "2024-09-03T15:19:41.387Z"
   },
   {
    "duration": 7,
    "start_time": "2024-09-03T15:19:41.405Z"
   },
   {
    "duration": 1330622,
    "start_time": "2024-09-03T15:19:41.414Z"
   },
   {
    "duration": 2,
    "start_time": "2024-09-03T15:41:52.038Z"
   },
   {
    "duration": 7,
    "start_time": "2024-09-03T15:41:52.042Z"
   },
   {
    "duration": 16,
    "start_time": "2024-09-03T15:41:52.050Z"
   },
   {
    "duration": 9,
    "start_time": "2024-09-03T15:41:52.068Z"
   },
   {
    "duration": 4,
    "start_time": "2024-09-03T15:41:52.079Z"
   },
   {
    "duration": 35279,
    "start_time": "2024-09-03T15:41:52.084Z"
   },
   {
    "duration": 3,
    "start_time": "2024-09-03T15:42:27.364Z"
   },
   {
    "duration": 49,
    "start_time": "2024-09-03T15:42:27.369Z"
   },
   {
    "duration": 25,
    "start_time": "2024-09-03T15:42:27.420Z"
   },
   {
    "duration": 9,
    "start_time": "2024-09-03T15:42:27.447Z"
   },
   {
    "duration": 15,
    "start_time": "2024-09-03T15:42:27.458Z"
   },
   {
    "duration": 5,
    "start_time": "2024-09-03T15:42:27.475Z"
   },
   {
    "duration": 3,
    "start_time": "2024-09-03T15:42:27.481Z"
   },
   {
    "duration": 6,
    "start_time": "2024-09-03T15:42:27.486Z"
   },
   {
    "duration": 6,
    "start_time": "2024-09-03T15:42:27.493Z"
   },
   {
    "duration": 14,
    "start_time": "2024-09-03T15:42:27.501Z"
   },
   {
    "duration": 133,
    "start_time": "2024-09-03T15:42:27.517Z"
   },
   {
    "duration": 16,
    "start_time": "2024-09-03T15:42:27.651Z"
   },
   {
    "duration": 17,
    "start_time": "2024-09-03T15:42:27.669Z"
   },
   {
    "duration": 2,
    "start_time": "2024-09-03T15:42:27.687Z"
   },
   {
    "duration": 5,
    "start_time": "2024-09-03T15:42:27.691Z"
   },
   {
    "duration": 31,
    "start_time": "2024-09-03T15:42:27.697Z"
   },
   {
    "duration": 21,
    "start_time": "2024-09-03T15:42:27.733Z"
   },
   {
    "duration": 17,
    "start_time": "2024-09-03T15:42:27.756Z"
   },
   {
    "duration": 647,
    "start_time": "2024-09-03T15:42:27.774Z"
   },
   {
    "duration": 3,
    "start_time": "2024-09-03T16:13:49.321Z"
   },
   {
    "duration": 83212,
    "start_time": "2024-09-03T16:25:30.989Z"
   },
   {
    "duration": 1421,
    "start_time": "2024-09-03T16:26:54.203Z"
   },
   {
    "duration": 165,
    "start_time": "2024-09-03T16:26:55.626Z"
   },
   {
    "duration": 325,
    "start_time": "2024-09-03T16:26:55.794Z"
   },
   {
    "duration": 505,
    "start_time": "2024-09-03T16:26:56.121Z"
   },
   {
    "duration": 3792,
    "start_time": "2024-09-03T16:26:56.627Z"
   },
   {
    "duration": 3,
    "start_time": "2024-09-03T16:27:00.420Z"
   },
   {
    "duration": 1024,
    "start_time": "2024-09-03T16:27:00.425Z"
   },
   {
    "duration": 3,
    "start_time": "2024-09-03T16:27:01.451Z"
   },
   {
    "duration": 7877,
    "start_time": "2024-09-03T16:27:01.457Z"
   },
   {
    "duration": 70,
    "start_time": "2024-09-03T16:27:09.335Z"
   },
   {
    "duration": 40,
    "start_time": "2024-09-03T16:27:09.406Z"
   },
   {
    "duration": 176,
    "start_time": "2024-09-03T16:27:09.447Z"
   },
   {
    "duration": 3,
    "start_time": "2024-09-03T16:27:09.624Z"
   },
   {
    "duration": 14,
    "start_time": "2024-09-03T16:27:09.629Z"
   },
   {
    "duration": 92,
    "start_time": "2024-09-03T16:27:09.645Z"
   },
   {
    "duration": 694,
    "start_time": "2024-09-03T16:27:09.738Z"
   },
   {
    "duration": 3,
    "start_time": "2024-09-03T16:27:10.433Z"
   },
   {
    "duration": 31,
    "start_time": "2024-09-03T16:27:10.437Z"
   },
   {
    "duration": 52,
    "start_time": "2024-09-03T16:27:10.469Z"
   },
   {
    "duration": 11,
    "start_time": "2024-09-03T16:27:10.523Z"
   },
   {
    "duration": 15,
    "start_time": "2024-09-03T16:27:10.536Z"
   },
   {
    "duration": 3,
    "start_time": "2024-09-03T16:27:10.552Z"
   },
   {
    "duration": 22,
    "start_time": "2024-09-03T16:27:10.556Z"
   },
   {
    "duration": 27,
    "start_time": "2024-09-03T16:27:10.579Z"
   },
   {
    "duration": 19,
    "start_time": "2024-09-03T16:27:10.608Z"
   },
   {
    "duration": 11,
    "start_time": "2024-09-03T16:27:10.629Z"
   },
   {
    "duration": 105,
    "start_time": "2024-09-03T16:27:10.645Z"
   },
   {
    "duration": 6,
    "start_time": "2024-09-03T16:27:10.752Z"
   },
   {
    "duration": 33037,
    "start_time": "2024-09-03T16:27:10.760Z"
   },
   {
    "duration": 3,
    "start_time": "2024-09-03T16:27:43.799Z"
   },
   {
    "duration": 17,
    "start_time": "2024-09-03T16:27:43.805Z"
   },
   {
    "duration": 250516,
    "start_time": "2024-09-03T16:27:43.824Z"
   },
   {
    "duration": 25,
    "start_time": "2024-09-03T16:31:54.342Z"
   },
   {
    "duration": 9,
    "start_time": "2024-09-03T16:31:54.369Z"
   },
   {
    "duration": 170027,
    "start_time": "2024-09-03T16:31:54.380Z"
   },
   {
    "duration": 38348,
    "start_time": "2024-09-03T16:34:44.408Z"
   },
   {
    "duration": 2,
    "start_time": "2024-09-03T16:35:22.758Z"
   },
   {
    "duration": 45,
    "start_time": "2024-09-03T16:35:22.761Z"
   },
   {
    "duration": 317,
    "start_time": "2024-09-03T16:35:22.808Z"
   },
   {
    "duration": 3465,
    "start_time": "2024-09-03T16:35:23.126Z"
   },
   {
    "duration": 112418,
    "start_time": "2024-09-03T16:35:26.593Z"
   },
   {
    "duration": 28538,
    "start_time": "2024-09-03T16:37:19.013Z"
   },
   {
    "duration": 3,
    "start_time": "2024-09-03T16:37:47.553Z"
   },
   {
    "duration": 59,
    "start_time": "2024-09-03T16:37:47.557Z"
   },
   {
    "duration": 13,
    "start_time": "2024-09-03T16:37:47.617Z"
   },
   {
    "duration": 22,
    "start_time": "2024-09-03T16:37:47.631Z"
   },
   {
    "duration": 4,
    "start_time": "2024-09-03T16:37:47.656Z"
   },
   {
    "duration": 10,
    "start_time": "2024-09-03T16:37:47.661Z"
   },
   {
    "duration": 213,
    "start_time": "2024-09-03T16:37:47.674Z"
   },
   {
    "duration": 23,
    "start_time": "2024-09-03T16:37:47.889Z"
   },
   {
    "duration": 39,
    "start_time": "2024-09-03T16:37:47.914Z"
   },
   {
    "duration": 29,
    "start_time": "2024-09-03T16:37:47.955Z"
   },
   {
    "duration": 22,
    "start_time": "2024-09-03T16:37:47.986Z"
   },
   {
    "duration": 4,
    "start_time": "2024-09-03T16:37:48.009Z"
   },
   {
    "duration": 3,
    "start_time": "2024-09-03T16:37:48.015Z"
   },
   {
    "duration": 23,
    "start_time": "2024-09-03T16:37:48.020Z"
   },
   {
    "duration": 25,
    "start_time": "2024-09-03T16:37:48.045Z"
   },
   {
    "duration": 1362434,
    "start_time": "2024-09-03T16:37:48.071Z"
   },
   {
    "duration": 3,
    "start_time": "2024-09-03T17:00:30.507Z"
   },
   {
    "duration": 22,
    "start_time": "2024-09-03T17:00:30.512Z"
   },
   {
    "duration": 38,
    "start_time": "2024-09-03T17:00:30.536Z"
   },
   {
    "duration": 64,
    "start_time": "2024-09-03T17:00:30.576Z"
   },
   {
    "duration": 10,
    "start_time": "2024-09-03T17:00:30.642Z"
   },
   {
    "duration": 34203,
    "start_time": "2024-09-03T17:00:30.653Z"
   },
   {
    "duration": 3,
    "start_time": "2024-09-03T17:01:04.857Z"
   },
   {
    "duration": 28,
    "start_time": "2024-09-03T17:01:04.861Z"
   },
   {
    "duration": 36,
    "start_time": "2024-09-03T17:01:04.890Z"
   },
   {
    "duration": 55,
    "start_time": "2024-09-03T17:01:04.928Z"
   },
   {
    "duration": 12,
    "start_time": "2024-09-03T17:01:04.985Z"
   },
   {
    "duration": 479599,
    "start_time": "2024-09-03T17:01:04.998Z"
   },
   {
    "duration": 3,
    "start_time": "2024-09-03T17:09:04.599Z"
   },
   {
    "duration": 40,
    "start_time": "2024-09-03T17:09:04.603Z"
   },
   {
    "duration": 32,
    "start_time": "2024-09-03T17:09:04.644Z"
   },
   {
    "duration": 22,
    "start_time": "2024-09-03T17:09:04.677Z"
   },
   {
    "duration": 44,
    "start_time": "2024-09-03T17:09:04.700Z"
   },
   {
    "duration": 49,
    "start_time": "2024-09-03T17:09:04.746Z"
   },
   {
    "duration": 51,
    "start_time": "2024-09-03T17:09:04.797Z"
   },
   {
    "duration": 40,
    "start_time": "2024-09-03T17:09:04.850Z"
   },
   {
    "duration": 16,
    "start_time": "2024-09-03T17:09:04.892Z"
   },
   {
    "duration": 19,
    "start_time": "2024-09-03T17:09:04.910Z"
   },
   {
    "duration": 4515,
    "start_time": "2024-09-03T17:09:04.935Z"
   },
   {
    "duration": 16,
    "start_time": "2024-09-03T17:09:09.452Z"
   },
   {
    "duration": 28,
    "start_time": "2024-09-03T17:09:09.470Z"
   },
   {
    "duration": 3,
    "start_time": "2024-09-03T17:09:09.499Z"
   },
   {
    "duration": 26,
    "start_time": "2024-09-03T17:09:09.503Z"
   },
   {
    "duration": 21,
    "start_time": "2024-09-03T17:09:09.531Z"
   },
   {
    "duration": 33,
    "start_time": "2024-09-03T17:09:09.553Z"
   },
   {
    "duration": 39,
    "start_time": "2024-09-03T17:09:09.587Z"
   },
   {
    "duration": 703,
    "start_time": "2024-09-03T17:09:09.628Z"
   },
   {
    "duration": 66,
    "start_time": "2024-09-03T17:09:10.333Z"
   },
   {
    "duration": 0,
    "start_time": "2024-09-03T17:09:10.401Z"
   },
   {
    "duration": 55,
    "start_time": "2024-09-03T17:10:59.416Z"
   },
   {
    "duration": 4482,
    "start_time": "2024-09-03T17:18:37.781Z"
   },
   {
    "duration": 0,
    "start_time": "2024-09-03T17:18:42.264Z"
   },
   {
    "duration": 0,
    "start_time": "2024-09-03T17:18:42.266Z"
   },
   {
    "duration": 0,
    "start_time": "2024-09-03T17:18:42.267Z"
   },
   {
    "duration": 0,
    "start_time": "2024-09-03T17:18:42.268Z"
   },
   {
    "duration": 21,
    "start_time": "2024-09-03T17:18:42.297Z"
   },
   {
    "duration": 2,
    "start_time": "2024-09-03T17:19:23.789Z"
   },
   {
    "duration": 5,
    "start_time": "2024-09-03T17:19:24.360Z"
   },
   {
    "duration": 7,
    "start_time": "2024-09-03T17:19:24.916Z"
   },
   {
    "duration": 8335,
    "start_time": "2024-09-03T17:19:29.111Z"
   },
   {
    "duration": 2,
    "start_time": "2024-09-03T17:19:40.338Z"
   },
   {
    "duration": 4,
    "start_time": "2024-09-03T17:19:40.673Z"
   },
   {
    "duration": 5,
    "start_time": "2024-09-03T17:19:41.137Z"
   },
   {
    "duration": 4110,
    "start_time": "2024-09-03T17:19:47.877Z"
   },
   {
    "duration": 21,
    "start_time": "2024-09-03T17:19:51.989Z"
   },
   {
    "duration": 23,
    "start_time": "2024-09-03T17:19:52.021Z"
   },
   {
    "duration": 24,
    "start_time": "2024-09-03T17:19:52.046Z"
   },
   {
    "duration": 13,
    "start_time": "2024-09-03T17:19:52.071Z"
   },
   {
    "duration": 45,
    "start_time": "2024-09-03T17:19:52.086Z"
   },
   {
    "duration": 0,
    "start_time": "2024-09-03T17:19:52.132Z"
   },
   {
    "duration": 0,
    "start_time": "2024-09-03T17:19:52.133Z"
   },
   {
    "duration": 4189,
    "start_time": "2024-09-03T17:20:10.277Z"
   },
   {
    "duration": 21,
    "start_time": "2024-09-03T17:21:04.289Z"
   },
   {
    "duration": 20,
    "start_time": "2024-09-03T17:21:16.682Z"
   },
   {
    "duration": 16,
    "start_time": "2024-09-03T17:21:17.115Z"
   },
   {
    "duration": 6,
    "start_time": "2024-09-03T17:21:19.758Z"
   },
   {
    "duration": 4,
    "start_time": "2024-09-03T17:21:23.866Z"
   },
   {
    "duration": 10,
    "start_time": "2024-09-03T17:21:24.230Z"
   },
   {
    "duration": 3,
    "start_time": "2024-09-03T17:32:16.259Z"
   },
   {
    "duration": 663,
    "start_time": "2024-09-03T17:32:16.575Z"
   },
   {
    "duration": 6,
    "start_time": "2024-09-03T17:42:38.644Z"
   },
   {
    "duration": 3,
    "start_time": "2024-09-03T17:42:39.116Z"
   },
   {
    "duration": 11,
    "start_time": "2024-09-03T17:42:39.446Z"
   },
   {
    "duration": 3,
    "start_time": "2024-09-03T17:42:41.356Z"
   },
   {
    "duration": 355,
    "start_time": "2024-09-03T17:42:41.540Z"
   },
   {
    "duration": 722,
    "start_time": "2024-09-03T17:42:50.542Z"
   },
   {
    "duration": 652,
    "start_time": "2024-09-03T17:43:19.382Z"
   },
   {
    "duration": 24438,
    "start_time": "2024-09-03T18:00:52.038Z"
   },
   {
    "duration": 1389,
    "start_time": "2024-09-03T18:01:16.478Z"
   },
   {
    "duration": 179,
    "start_time": "2024-09-03T18:01:17.869Z"
   },
   {
    "duration": 299,
    "start_time": "2024-09-03T18:01:18.050Z"
   },
   {
    "duration": 514,
    "start_time": "2024-09-03T18:01:18.351Z"
   },
   {
    "duration": 6965,
    "start_time": "2024-09-03T18:01:18.867Z"
   },
   {
    "duration": 3,
    "start_time": "2024-09-03T18:01:25.833Z"
   },
   {
    "duration": 987,
    "start_time": "2024-09-03T18:01:25.838Z"
   },
   {
    "duration": 4,
    "start_time": "2024-09-03T18:01:26.827Z"
   },
   {
    "duration": 7882,
    "start_time": "2024-09-03T18:01:26.834Z"
   },
   {
    "duration": 73,
    "start_time": "2024-09-03T18:01:34.718Z"
   },
   {
    "duration": 59,
    "start_time": "2024-09-03T18:01:34.793Z"
   },
   {
    "duration": 107,
    "start_time": "2024-09-03T18:01:34.853Z"
   },
   {
    "duration": 3,
    "start_time": "2024-09-03T18:01:35.021Z"
   },
   {
    "duration": 97,
    "start_time": "2024-09-03T18:01:35.026Z"
   },
   {
    "duration": 4,
    "start_time": "2024-09-03T18:01:35.124Z"
   },
   {
    "duration": 658,
    "start_time": "2024-09-03T18:01:35.129Z"
   },
   {
    "duration": 3,
    "start_time": "2024-09-03T18:01:35.788Z"
   },
   {
    "duration": 23,
    "start_time": "2024-09-03T18:01:35.792Z"
   },
   {
    "duration": 49,
    "start_time": "2024-09-03T18:01:35.817Z"
   },
   {
    "duration": 11,
    "start_time": "2024-09-03T18:01:35.867Z"
   },
   {
    "duration": 13,
    "start_time": "2024-09-03T18:01:35.880Z"
   },
   {
    "duration": 15,
    "start_time": "2024-09-03T18:01:35.895Z"
   },
   {
    "duration": 61,
    "start_time": "2024-09-03T18:01:35.911Z"
   },
   {
    "duration": 29,
    "start_time": "2024-09-03T18:01:35.974Z"
   },
   {
    "duration": 25,
    "start_time": "2024-09-03T18:01:36.005Z"
   },
   {
    "duration": 72,
    "start_time": "2024-09-03T18:01:36.032Z"
   },
   {
    "duration": 53,
    "start_time": "2024-09-03T18:01:36.108Z"
   },
   {
    "duration": 6,
    "start_time": "2024-09-03T18:01:36.163Z"
   },
   {
    "duration": 32287,
    "start_time": "2024-09-03T18:01:36.171Z"
   },
   {
    "duration": 3,
    "start_time": "2024-09-03T18:02:08.459Z"
   },
   {
    "duration": 37,
    "start_time": "2024-09-03T18:02:08.464Z"
   },
   {
    "duration": 270752,
    "start_time": "2024-09-03T18:02:08.503Z"
   },
   {
    "duration": 25,
    "start_time": "2024-09-03T18:06:39.257Z"
   },
   {
    "duration": 9,
    "start_time": "2024-09-03T18:06:39.284Z"
   },
   {
    "duration": 181088,
    "start_time": "2024-09-03T18:06:39.294Z"
   },
   {
    "duration": 40750,
    "start_time": "2024-09-03T18:09:40.384Z"
   },
   {
    "duration": 3,
    "start_time": "2024-09-03T18:10:21.136Z"
   },
   {
    "duration": 56,
    "start_time": "2024-09-03T18:10:21.141Z"
   },
   {
    "duration": 365,
    "start_time": "2024-09-03T18:10:21.199Z"
   },
   {
    "duration": 3720,
    "start_time": "2024-09-03T18:10:21.565Z"
   },
   {
    "duration": 118226,
    "start_time": "2024-09-03T18:10:25.286Z"
   },
   {
    "duration": 30615,
    "start_time": "2024-09-03T18:12:23.520Z"
   },
   {
    "duration": 3,
    "start_time": "2024-09-03T18:12:54.137Z"
   },
   {
    "duration": 12,
    "start_time": "2024-09-03T18:12:54.141Z"
   },
   {
    "duration": 9,
    "start_time": "2024-09-03T18:12:54.154Z"
   },
   {
    "duration": 12,
    "start_time": "2024-09-03T18:12:54.164Z"
   },
   {
    "duration": 3,
    "start_time": "2024-09-03T18:12:54.178Z"
   },
   {
    "duration": 3,
    "start_time": "2024-09-03T18:12:54.183Z"
   },
   {
    "duration": 205,
    "start_time": "2024-09-03T18:12:54.188Z"
   },
   {
    "duration": 10,
    "start_time": "2024-09-03T18:12:54.395Z"
   },
   {
    "duration": 16,
    "start_time": "2024-09-03T18:12:54.406Z"
   },
   {
    "duration": 3,
    "start_time": "2024-09-03T18:12:54.425Z"
   },
   {
    "duration": 4,
    "start_time": "2024-09-03T18:12:54.431Z"
   },
   {
    "duration": 5,
    "start_time": "2024-09-03T18:12:54.437Z"
   },
   {
    "duration": 19,
    "start_time": "2024-09-03T18:12:54.443Z"
   },
   {
    "duration": 12,
    "start_time": "2024-09-03T18:12:54.463Z"
   },
   {
    "duration": 5,
    "start_time": "2024-09-03T18:12:54.477Z"
   },
   {
    "duration": 1456819,
    "start_time": "2024-09-03T18:12:54.484Z"
   },
   {
    "duration": 3,
    "start_time": "2024-09-03T18:37:11.305Z"
   },
   {
    "duration": 13,
    "start_time": "2024-09-03T18:37:11.309Z"
   },
   {
    "duration": 9,
    "start_time": "2024-09-03T18:37:11.324Z"
   },
   {
    "duration": 7,
    "start_time": "2024-09-03T18:37:11.335Z"
   },
   {
    "duration": 4,
    "start_time": "2024-09-03T18:37:11.344Z"
   },
   {
    "duration": 40475,
    "start_time": "2024-09-03T18:37:11.350Z"
   },
   {
    "duration": 3,
    "start_time": "2024-09-03T18:37:51.826Z"
   },
   {
    "duration": 13,
    "start_time": "2024-09-03T18:37:51.831Z"
   },
   {
    "duration": 7,
    "start_time": "2024-09-03T18:37:51.845Z"
   },
   {
    "duration": 8,
    "start_time": "2024-09-03T18:37:51.853Z"
   },
   {
    "duration": 7,
    "start_time": "2024-09-03T18:37:51.862Z"
   },
   {
    "duration": 490949,
    "start_time": "2024-09-03T18:37:51.870Z"
   },
   {
    "duration": 2,
    "start_time": "2024-09-03T18:46:02.821Z"
   },
   {
    "duration": 67,
    "start_time": "2024-09-03T18:46:02.825Z"
   },
   {
    "duration": 33,
    "start_time": "2024-09-03T18:46:02.893Z"
   },
   {
    "duration": 37,
    "start_time": "2024-09-03T18:46:02.927Z"
   },
   {
    "duration": 91,
    "start_time": "2024-09-03T18:46:02.966Z"
   },
   {
    "duration": 45,
    "start_time": "2024-09-03T18:46:03.059Z"
   },
   {
    "duration": 36,
    "start_time": "2024-09-03T18:46:03.106Z"
   },
   {
    "duration": 41,
    "start_time": "2024-09-03T18:46:03.144Z"
   },
   {
    "duration": 11,
    "start_time": "2024-09-03T18:46:03.187Z"
   },
   {
    "duration": 102,
    "start_time": "2024-09-03T18:46:03.200Z"
   },
   {
    "duration": 4344,
    "start_time": "2024-09-03T18:46:03.307Z"
   },
   {
    "duration": 15,
    "start_time": "2024-09-03T18:46:07.653Z"
   },
   {
    "duration": 35,
    "start_time": "2024-09-03T18:46:07.669Z"
   },
   {
    "duration": 17,
    "start_time": "2024-09-03T18:46:07.705Z"
   },
   {
    "duration": 2,
    "start_time": "2024-09-03T18:46:07.724Z"
   },
   {
    "duration": 10,
    "start_time": "2024-09-03T18:46:07.727Z"
   },
   {
    "duration": 7,
    "start_time": "2024-09-03T18:46:07.739Z"
   },
   {
    "duration": 54,
    "start_time": "2024-09-03T18:46:07.748Z"
   },
   {
    "duration": 75,
    "start_time": "2024-09-03T18:46:07.804Z"
   },
   {
    "duration": 746,
    "start_time": "2024-09-03T18:46:07.881Z"
   },
   {
    "duration": 24218,
    "start_time": "2024-09-03T21:52:34.870Z"
   },
   {
    "duration": 1469,
    "start_time": "2024-09-03T21:52:59.091Z"
   },
   {
    "duration": 158,
    "start_time": "2024-09-03T21:53:00.562Z"
   },
   {
    "duration": 310,
    "start_time": "2024-09-03T21:53:00.722Z"
   },
   {
    "duration": 460,
    "start_time": "2024-09-03T21:53:01.033Z"
   },
   {
    "duration": 4111,
    "start_time": "2024-09-03T21:53:01.495Z"
   },
   {
    "duration": 3,
    "start_time": "2024-09-03T21:53:05.608Z"
   },
   {
    "duration": 952,
    "start_time": "2024-09-03T21:53:05.613Z"
   },
   {
    "duration": 3,
    "start_time": "2024-09-03T21:53:06.566Z"
   },
   {
    "duration": 7696,
    "start_time": "2024-09-03T21:53:06.572Z"
   },
   {
    "duration": 82,
    "start_time": "2024-09-03T21:53:14.270Z"
   },
   {
    "duration": 39,
    "start_time": "2024-09-03T21:53:14.354Z"
   },
   {
    "duration": 145,
    "start_time": "2024-09-03T21:53:14.395Z"
   },
   {
    "duration": 3,
    "start_time": "2024-09-03T21:53:14.542Z"
   },
   {
    "duration": 82,
    "start_time": "2024-09-03T21:53:14.547Z"
   },
   {
    "duration": 95,
    "start_time": "2024-09-03T21:53:14.631Z"
   },
   {
    "duration": 657,
    "start_time": "2024-09-03T21:53:14.727Z"
   },
   {
    "duration": 3,
    "start_time": "2024-09-03T21:53:15.385Z"
   },
   {
    "duration": 23,
    "start_time": "2024-09-03T21:53:15.389Z"
   },
   {
    "duration": 20,
    "start_time": "2024-09-03T21:53:15.413Z"
   },
   {
    "duration": 15,
    "start_time": "2024-09-03T21:53:15.435Z"
   },
   {
    "duration": 21,
    "start_time": "2024-09-03T21:53:15.452Z"
   },
   {
    "duration": 3,
    "start_time": "2024-09-03T21:53:15.475Z"
   },
   {
    "duration": 26,
    "start_time": "2024-09-03T21:53:15.480Z"
   },
   {
    "duration": 35,
    "start_time": "2024-09-03T21:53:15.508Z"
   },
   {
    "duration": 33,
    "start_time": "2024-09-03T21:53:15.545Z"
   },
   {
    "duration": 7,
    "start_time": "2024-09-03T21:53:15.579Z"
   },
   {
    "duration": 39,
    "start_time": "2024-09-03T21:53:15.590Z"
   },
   {
    "duration": 6,
    "start_time": "2024-09-03T21:53:15.631Z"
   },
   {
    "duration": 31324,
    "start_time": "2024-09-03T21:53:15.639Z"
   },
   {
    "duration": 2,
    "start_time": "2024-09-03T21:53:46.965Z"
   },
   {
    "duration": 22,
    "start_time": "2024-09-03T21:53:46.969Z"
   },
   {
    "duration": 246751,
    "start_time": "2024-09-03T21:53:46.993Z"
   },
   {
    "duration": 25,
    "start_time": "2024-09-03T21:57:53.745Z"
   },
   {
    "duration": 9,
    "start_time": "2024-09-03T21:57:53.772Z"
   },
   {
    "duration": 168777,
    "start_time": "2024-09-03T21:57:53.783Z"
   },
   {
    "duration": 38180,
    "start_time": "2024-09-03T22:00:42.562Z"
   },
   {
    "duration": 2,
    "start_time": "2024-09-03T22:01:20.744Z"
   },
   {
    "duration": 43,
    "start_time": "2024-09-03T22:01:20.748Z"
   },
   {
    "duration": 347,
    "start_time": "2024-09-03T22:01:20.793Z"
   },
   {
    "duration": 3346,
    "start_time": "2024-09-03T22:01:21.141Z"
   },
   {
    "duration": 110750,
    "start_time": "2024-09-03T22:01:24.488Z"
   },
   {
    "duration": 28616,
    "start_time": "2024-09-03T22:03:15.239Z"
   },
   {
    "duration": 3,
    "start_time": "2024-09-03T22:03:43.857Z"
   },
   {
    "duration": 9,
    "start_time": "2024-09-03T22:03:43.862Z"
   },
   {
    "duration": 4,
    "start_time": "2024-09-03T22:03:43.873Z"
   },
   {
    "duration": 6,
    "start_time": "2024-09-03T22:03:43.879Z"
   },
   {
    "duration": 13,
    "start_time": "2024-09-03T22:03:43.887Z"
   },
   {
    "duration": 26,
    "start_time": "2024-09-03T22:03:43.902Z"
   },
   {
    "duration": 175,
    "start_time": "2024-09-03T22:03:43.929Z"
   },
   {
    "duration": 11,
    "start_time": "2024-09-03T22:03:44.106Z"
   },
   {
    "duration": 18,
    "start_time": "2024-09-03T22:03:44.118Z"
   },
   {
    "duration": 3,
    "start_time": "2024-09-03T22:03:44.138Z"
   },
   {
    "duration": 15,
    "start_time": "2024-09-03T22:03:44.142Z"
   },
   {
    "duration": 12,
    "start_time": "2024-09-03T22:03:44.158Z"
   },
   {
    "duration": 4,
    "start_time": "2024-09-03T22:03:44.171Z"
   },
   {
    "duration": 11,
    "start_time": "2024-09-03T22:03:44.177Z"
   },
   {
    "duration": 11,
    "start_time": "2024-09-03T22:03:44.190Z"
   },
   {
    "duration": 1320403,
    "start_time": "2024-09-03T22:03:44.202Z"
   },
   {
    "duration": 3,
    "start_time": "2024-09-03T22:25:44.607Z"
   },
   {
    "duration": 16,
    "start_time": "2024-09-03T22:25:44.611Z"
   },
   {
    "duration": 6,
    "start_time": "2024-09-03T22:25:44.629Z"
   },
   {
    "duration": 7,
    "start_time": "2024-09-03T22:25:44.637Z"
   },
   {
    "duration": 5,
    "start_time": "2024-09-03T22:25:44.646Z"
   },
   {
    "duration": 38526,
    "start_time": "2024-09-03T22:25:44.652Z"
   },
   {
    "duration": 3,
    "start_time": "2024-09-03T22:26:23.180Z"
   },
   {
    "duration": 10,
    "start_time": "2024-09-03T22:26:23.184Z"
   },
   {
    "duration": 13,
    "start_time": "2024-09-03T22:26:23.195Z"
   },
   {
    "duration": 17,
    "start_time": "2024-09-03T22:26:23.210Z"
   },
   {
    "duration": 8,
    "start_time": "2024-09-03T22:26:23.229Z"
   },
   {
    "duration": 473106,
    "start_time": "2024-09-03T22:26:23.239Z"
   },
   {
    "duration": 3,
    "start_time": "2024-09-03T22:34:16.347Z"
   },
   {
    "duration": 21,
    "start_time": "2024-09-03T22:34:16.352Z"
   },
   {
    "duration": 21,
    "start_time": "2024-09-03T22:34:16.375Z"
   },
   {
    "duration": 26,
    "start_time": "2024-09-03T22:34:16.397Z"
   },
   {
    "duration": 41,
    "start_time": "2024-09-03T22:34:16.424Z"
   },
   {
    "duration": 12,
    "start_time": "2024-09-03T22:34:16.466Z"
   },
   {
    "duration": 27,
    "start_time": "2024-09-03T22:34:16.480Z"
   },
   {
    "duration": 17,
    "start_time": "2024-09-03T22:34:16.509Z"
   },
   {
    "duration": 21,
    "start_time": "2024-09-03T22:34:16.528Z"
   },
   {
    "duration": 20,
    "start_time": "2024-09-03T22:34:16.550Z"
   },
   {
    "duration": 4357,
    "start_time": "2024-09-03T22:34:16.575Z"
   },
   {
    "duration": 15,
    "start_time": "2024-09-03T22:34:20.934Z"
   },
   {
    "duration": 52,
    "start_time": "2024-09-03T22:34:20.951Z"
   },
   {
    "duration": 47,
    "start_time": "2024-09-03T22:34:21.004Z"
   },
   {
    "duration": 3,
    "start_time": "2024-09-03T22:34:21.052Z"
   },
   {
    "duration": 7,
    "start_time": "2024-09-03T22:34:21.057Z"
   },
   {
    "duration": 10,
    "start_time": "2024-09-03T22:34:21.065Z"
   },
   {
    "duration": 14,
    "start_time": "2024-09-03T22:34:21.076Z"
   },
   {
    "duration": 4,
    "start_time": "2024-09-03T22:34:21.092Z"
   },
   {
    "duration": 660,
    "start_time": "2024-09-03T22:34:21.098Z"
   },
   {
    "duration": 1305,
    "start_time": "2024-09-04T08:54:08.220Z"
   },
   {
    "duration": 1873,
    "start_time": "2024-09-04T08:54:24.691Z"
   },
   {
    "duration": 723,
    "start_time": "2024-09-04T08:54:27.447Z"
   },
   {
    "duration": 481,
    "start_time": "2024-09-04T08:54:28.913Z"
   },
   {
    "duration": 14134,
    "start_time": "2024-09-04T08:54:35.166Z"
   },
   {
    "duration": 35821,
    "start_time": "2024-09-05T20:20:19.288Z"
   },
   {
    "duration": 1223,
    "start_time": "2024-09-05T20:20:55.111Z"
   },
   {
    "duration": 140,
    "start_time": "2024-09-05T20:21:00.466Z"
   },
   {
    "duration": 234,
    "start_time": "2024-09-05T20:21:01.092Z"
   },
   {
    "duration": 396,
    "start_time": "2024-09-05T20:21:01.646Z"
   },
   {
    "duration": 2855,
    "start_time": "2024-09-05T20:21:02.718Z"
   },
   {
    "duration": 3,
    "start_time": "2024-09-05T20:21:05.574Z"
   },
   {
    "duration": 3482,
    "start_time": "2024-09-05T20:21:05.683Z"
   },
   {
    "duration": 732,
    "start_time": "2024-09-05T20:21:16.457Z"
   },
   {
    "duration": 0,
    "start_time": "2024-09-05T20:21:17.194Z"
   },
   {
    "duration": 0,
    "start_time": "2024-09-05T20:21:17.251Z"
   },
   {
    "duration": 0,
    "start_time": "2024-09-05T20:21:17.253Z"
   },
   {
    "duration": 0,
    "start_time": "2024-09-05T20:21:17.254Z"
   },
   {
    "duration": 0,
    "start_time": "2024-09-05T20:21:17.256Z"
   },
   {
    "duration": 0,
    "start_time": "2024-09-05T20:21:17.257Z"
   },
   {
    "duration": 0,
    "start_time": "2024-09-05T20:21:17.258Z"
   },
   {
    "duration": 0,
    "start_time": "2024-09-05T20:21:17.260Z"
   },
   {
    "duration": 0,
    "start_time": "2024-09-05T20:21:17.261Z"
   },
   {
    "duration": 0,
    "start_time": "2024-09-05T20:21:17.262Z"
   },
   {
    "duration": 0,
    "start_time": "2024-09-05T20:21:17.263Z"
   },
   {
    "duration": 0,
    "start_time": "2024-09-05T20:21:17.264Z"
   },
   {
    "duration": 0,
    "start_time": "2024-09-05T20:21:17.266Z"
   },
   {
    "duration": 0,
    "start_time": "2024-09-05T20:21:17.267Z"
   },
   {
    "duration": 1,
    "start_time": "2024-09-05T20:21:17.268Z"
   },
   {
    "duration": 0,
    "start_time": "2024-09-05T20:21:17.270Z"
   },
   {
    "duration": 0,
    "start_time": "2024-09-05T20:21:17.271Z"
   },
   {
    "duration": 0,
    "start_time": "2024-09-05T20:21:17.272Z"
   },
   {
    "duration": 0,
    "start_time": "2024-09-05T20:21:17.273Z"
   },
   {
    "duration": 0,
    "start_time": "2024-09-05T20:21:17.275Z"
   },
   {
    "duration": 0,
    "start_time": "2024-09-05T20:21:17.276Z"
   },
   {
    "duration": 0,
    "start_time": "2024-09-05T20:21:17.277Z"
   },
   {
    "duration": 0,
    "start_time": "2024-09-05T20:21:17.278Z"
   },
   {
    "duration": 0,
    "start_time": "2024-09-05T20:21:17.279Z"
   },
   {
    "duration": 0,
    "start_time": "2024-09-05T20:21:17.351Z"
   },
   {
    "duration": 0,
    "start_time": "2024-09-05T20:21:17.351Z"
   },
   {
    "duration": 0,
    "start_time": "2024-09-05T20:21:17.353Z"
   },
   {
    "duration": 0,
    "start_time": "2024-09-05T20:21:17.353Z"
   },
   {
    "duration": 0,
    "start_time": "2024-09-05T20:21:17.354Z"
   },
   {
    "duration": 0,
    "start_time": "2024-09-05T20:21:17.355Z"
   },
   {
    "duration": 0,
    "start_time": "2024-09-05T20:21:17.356Z"
   },
   {
    "duration": 0,
    "start_time": "2024-09-05T20:21:17.357Z"
   },
   {
    "duration": 0,
    "start_time": "2024-09-05T20:21:17.357Z"
   },
   {
    "duration": 0,
    "start_time": "2024-09-05T20:21:17.358Z"
   },
   {
    "duration": 0,
    "start_time": "2024-09-05T20:21:17.359Z"
   },
   {
    "duration": 0,
    "start_time": "2024-09-05T20:21:17.360Z"
   },
   {
    "duration": 0,
    "start_time": "2024-09-05T20:21:17.360Z"
   },
   {
    "duration": 0,
    "start_time": "2024-09-05T20:21:17.361Z"
   },
   {
    "duration": 0,
    "start_time": "2024-09-05T20:21:17.362Z"
   },
   {
    "duration": 0,
    "start_time": "2024-09-05T20:21:17.363Z"
   },
   {
    "duration": 0,
    "start_time": "2024-09-05T20:21:17.363Z"
   },
   {
    "duration": 0,
    "start_time": "2024-09-05T20:21:17.365Z"
   },
   {
    "duration": 0,
    "start_time": "2024-09-05T20:21:17.366Z"
   },
   {
    "duration": 0,
    "start_time": "2024-09-05T20:21:17.367Z"
   },
   {
    "duration": 0,
    "start_time": "2024-09-05T20:21:17.368Z"
   },
   {
    "duration": 0,
    "start_time": "2024-09-05T20:21:17.369Z"
   },
   {
    "duration": 0,
    "start_time": "2024-09-05T20:21:17.371Z"
   },
   {
    "duration": 0,
    "start_time": "2024-09-05T20:21:17.372Z"
   },
   {
    "duration": 0,
    "start_time": "2024-09-05T20:21:17.373Z"
   },
   {
    "duration": 0,
    "start_time": "2024-09-05T20:21:17.374Z"
   },
   {
    "duration": 0,
    "start_time": "2024-09-05T20:21:17.375Z"
   },
   {
    "duration": 0,
    "start_time": "2024-09-05T20:21:17.376Z"
   },
   {
    "duration": 0,
    "start_time": "2024-09-05T20:21:17.377Z"
   },
   {
    "duration": 0,
    "start_time": "2024-09-05T20:21:17.451Z"
   },
   {
    "duration": 0,
    "start_time": "2024-09-05T20:21:17.453Z"
   },
   {
    "duration": 0,
    "start_time": "2024-09-05T20:21:17.453Z"
   },
   {
    "duration": 0,
    "start_time": "2024-09-05T20:21:17.455Z"
   },
   {
    "duration": 0,
    "start_time": "2024-09-05T20:21:17.456Z"
   },
   {
    "duration": 0,
    "start_time": "2024-09-05T20:21:17.457Z"
   },
   {
    "duration": 0,
    "start_time": "2024-09-05T20:21:17.458Z"
   },
   {
    "duration": 0,
    "start_time": "2024-09-05T20:21:17.459Z"
   },
   {
    "duration": 0,
    "start_time": "2024-09-05T20:21:17.460Z"
   },
   {
    "duration": 0,
    "start_time": "2024-09-05T20:21:17.462Z"
   },
   {
    "duration": 0,
    "start_time": "2024-09-05T20:21:17.463Z"
   },
   {
    "duration": 0,
    "start_time": "2024-09-05T20:21:17.464Z"
   },
   {
    "duration": 0,
    "start_time": "2024-09-05T20:21:17.465Z"
   },
   {
    "duration": 0,
    "start_time": "2024-09-05T20:21:17.466Z"
   },
   {
    "duration": 0,
    "start_time": "2024-09-05T20:21:17.467Z"
   },
   {
    "duration": 0,
    "start_time": "2024-09-05T20:21:17.468Z"
   },
   {
    "duration": 0,
    "start_time": "2024-09-05T20:21:17.470Z"
   },
   {
    "duration": 0,
    "start_time": "2024-09-05T20:21:17.471Z"
   },
   {
    "duration": 0,
    "start_time": "2024-09-05T20:21:17.472Z"
   },
   {
    "duration": 0,
    "start_time": "2024-09-05T20:21:17.473Z"
   },
   {
    "duration": 0,
    "start_time": "2024-09-05T20:21:17.474Z"
   },
   {
    "duration": 0,
    "start_time": "2024-09-05T20:21:17.475Z"
   },
   {
    "duration": 0,
    "start_time": "2024-09-05T20:21:17.476Z"
   },
   {
    "duration": 0,
    "start_time": "2024-09-05T20:21:17.477Z"
   },
   {
    "duration": 0,
    "start_time": "2024-09-05T20:21:17.551Z"
   },
   {
    "duration": 0,
    "start_time": "2024-09-05T20:21:17.552Z"
   },
   {
    "duration": 0,
    "start_time": "2024-09-05T20:21:17.553Z"
   },
   {
    "duration": 0,
    "start_time": "2024-09-05T20:21:17.554Z"
   },
   {
    "duration": 0,
    "start_time": "2024-09-05T20:21:17.556Z"
   },
   {
    "duration": 0,
    "start_time": "2024-09-05T20:21:17.557Z"
   },
   {
    "duration": 0,
    "start_time": "2024-09-05T20:21:17.558Z"
   },
   {
    "duration": 0,
    "start_time": "2024-09-05T20:21:17.559Z"
   },
   {
    "duration": 0,
    "start_time": "2024-09-05T20:21:17.560Z"
   },
   {
    "duration": 0,
    "start_time": "2024-09-05T20:21:17.561Z"
   },
   {
    "duration": 0,
    "start_time": "2024-09-05T20:21:17.562Z"
   },
   {
    "duration": 0,
    "start_time": "2024-09-05T20:21:17.563Z"
   },
   {
    "duration": 18410,
    "start_time": "2024-09-05T20:21:22.390Z"
   },
   {
    "duration": 1090,
    "start_time": "2024-09-05T20:21:40.802Z"
   },
   {
    "duration": 119,
    "start_time": "2024-09-05T20:21:41.894Z"
   },
   {
    "duration": 243,
    "start_time": "2024-09-05T20:21:42.014Z"
   },
   {
    "duration": 407,
    "start_time": "2024-09-05T20:21:42.258Z"
   },
   {
    "duration": 2842,
    "start_time": "2024-09-05T20:21:42.667Z"
   },
   {
    "duration": 2,
    "start_time": "2024-09-05T20:21:45.510Z"
   },
   {
    "duration": 747,
    "start_time": "2024-09-05T20:21:45.513Z"
   },
   {
    "duration": 523,
    "start_time": "2024-09-05T20:22:02.305Z"
   },
   {
    "duration": 3,
    "start_time": "2024-09-05T20:22:33.803Z"
   },
   {
    "duration": 5874,
    "start_time": "2024-09-05T20:22:34.096Z"
   },
   {
    "duration": 47,
    "start_time": "2024-09-05T20:22:39.972Z"
   },
   {
    "duration": 36,
    "start_time": "2024-09-05T20:22:40.021Z"
   },
   {
    "duration": 105,
    "start_time": "2024-09-05T20:22:40.058Z"
   },
   {
    "duration": 2,
    "start_time": "2024-09-05T20:22:44.099Z"
   },
   {
    "duration": 9,
    "start_time": "2024-09-05T20:22:47.783Z"
   },
   {
    "duration": 3,
    "start_time": "2024-09-05T20:23:03.636Z"
   },
   {
    "duration": 525,
    "start_time": "2024-09-05T20:23:03.849Z"
   },
   {
    "duration": 2,
    "start_time": "2024-09-05T20:23:04.376Z"
   },
   {
    "duration": 16,
    "start_time": "2024-09-05T20:23:04.379Z"
   },
   {
    "duration": 18,
    "start_time": "2024-09-05T20:23:04.465Z"
   },
   {
    "duration": 8,
    "start_time": "2024-09-05T20:23:05.003Z"
   },
   {
    "duration": 2,
    "start_time": "2024-09-05T20:23:08.641Z"
   },
   {
    "duration": 3,
    "start_time": "2024-09-05T20:23:08.869Z"
   },
   {
    "duration": 275,
    "start_time": "2024-09-05T20:25:26.835Z"
   },
   {
    "duration": 2,
    "start_time": "2024-09-05T20:25:32.751Z"
   },
   {
    "duration": 7,
    "start_time": "2024-09-05T20:25:33.010Z"
   },
   {
    "duration": 5,
    "start_time": "2024-09-05T20:25:33.204Z"
   },
   {
    "duration": 25,
    "start_time": "2024-09-05T20:25:33.821Z"
   },
   {
    "duration": 8,
    "start_time": "2024-09-05T20:25:34.435Z"
   },
   {
    "duration": 6,
    "start_time": "2024-09-05T20:25:53.910Z"
   },
   {
    "duration": 20118,
    "start_time": "2024-09-05T20:26:20.879Z"
   },
   {
    "duration": 124,
    "start_time": "2024-09-05T20:27:16.156Z"
   },
   {
    "duration": 21083,
    "start_time": "2024-09-05T20:27:44.322Z"
   },
   {
    "duration": 1104,
    "start_time": "2024-09-05T20:28:05.407Z"
   },
   {
    "duration": 123,
    "start_time": "2024-09-05T20:28:06.512Z"
   },
   {
    "duration": 244,
    "start_time": "2024-09-05T20:28:06.637Z"
   },
   {
    "duration": 420,
    "start_time": "2024-09-05T20:28:06.882Z"
   },
   {
    "duration": 2908,
    "start_time": "2024-09-05T20:28:07.304Z"
   },
   {
    "duration": 3,
    "start_time": "2024-09-05T20:28:10.213Z"
   },
   {
    "duration": 759,
    "start_time": "2024-09-05T20:28:10.217Z"
   },
   {
    "duration": 2,
    "start_time": "2024-09-05T20:28:10.978Z"
   },
   {
    "duration": 5926,
    "start_time": "2024-09-05T20:28:10.982Z"
   },
   {
    "duration": 67,
    "start_time": "2024-09-05T20:28:16.910Z"
   },
   {
    "duration": 21,
    "start_time": "2024-09-05T20:28:16.978Z"
   },
   {
    "duration": 93,
    "start_time": "2024-09-05T20:28:17.001Z"
   },
   {
    "duration": 55,
    "start_time": "2024-09-05T20:28:17.096Z"
   },
   {
    "duration": 10,
    "start_time": "2024-09-05T20:28:17.152Z"
   },
   {
    "duration": 5,
    "start_time": "2024-09-05T20:28:17.163Z"
   },
   {
    "duration": 565,
    "start_time": "2024-09-05T20:28:17.170Z"
   },
   {
    "duration": 2,
    "start_time": "2024-09-05T20:28:17.736Z"
   },
   {
    "duration": 13,
    "start_time": "2024-09-05T20:28:17.740Z"
   },
   {
    "duration": 14,
    "start_time": "2024-09-05T20:28:17.754Z"
   },
   {
    "duration": 9,
    "start_time": "2024-09-05T20:28:17.769Z"
   },
   {
    "duration": 12,
    "start_time": "2024-09-05T20:28:17.779Z"
   },
   {
    "duration": 6,
    "start_time": "2024-09-05T20:28:17.792Z"
   },
   {
    "duration": 7,
    "start_time": "2024-09-05T20:28:17.799Z"
   },
   {
    "duration": 8,
    "start_time": "2024-09-05T20:28:17.808Z"
   },
   {
    "duration": 5,
    "start_time": "2024-09-05T20:28:17.817Z"
   },
   {
    "duration": 41,
    "start_time": "2024-09-05T20:28:17.823Z"
   },
   {
    "duration": 6,
    "start_time": "2024-09-05T20:28:17.868Z"
   },
   {
    "duration": 6690,
    "start_time": "2024-09-05T20:28:17.875Z"
   },
   {
    "duration": 302,
    "start_time": "2024-09-05T20:28:24.566Z"
   },
   {
    "duration": 0,
    "start_time": "2024-09-05T20:28:24.870Z"
   },
   {
    "duration": 0,
    "start_time": "2024-09-05T20:28:24.871Z"
   },
   {
    "duration": 1,
    "start_time": "2024-09-05T20:28:24.871Z"
   },
   {
    "duration": 0,
    "start_time": "2024-09-05T20:28:24.872Z"
   },
   {
    "duration": 0,
    "start_time": "2024-09-05T20:28:24.873Z"
   },
   {
    "duration": 0,
    "start_time": "2024-09-05T20:28:24.874Z"
   },
   {
    "duration": 0,
    "start_time": "2024-09-05T20:28:24.875Z"
   },
   {
    "duration": 0,
    "start_time": "2024-09-05T20:28:24.876Z"
   },
   {
    "duration": 0,
    "start_time": "2024-09-05T20:28:24.876Z"
   },
   {
    "duration": 0,
    "start_time": "2024-09-05T20:28:24.877Z"
   },
   {
    "duration": 0,
    "start_time": "2024-09-05T20:28:24.878Z"
   },
   {
    "duration": 0,
    "start_time": "2024-09-05T20:28:24.879Z"
   },
   {
    "duration": 0,
    "start_time": "2024-09-05T20:28:24.879Z"
   },
   {
    "duration": 0,
    "start_time": "2024-09-05T20:28:24.880Z"
   },
   {
    "duration": 0,
    "start_time": "2024-09-05T20:28:24.881Z"
   },
   {
    "duration": 0,
    "start_time": "2024-09-05T20:28:24.882Z"
   },
   {
    "duration": 0,
    "start_time": "2024-09-05T20:28:24.882Z"
   },
   {
    "duration": 0,
    "start_time": "2024-09-05T20:28:24.883Z"
   },
   {
    "duration": 0,
    "start_time": "2024-09-05T20:28:24.884Z"
   },
   {
    "duration": 0,
    "start_time": "2024-09-05T20:28:24.885Z"
   },
   {
    "duration": 0,
    "start_time": "2024-09-05T20:28:24.885Z"
   },
   {
    "duration": 0,
    "start_time": "2024-09-05T20:28:24.886Z"
   },
   {
    "duration": 0,
    "start_time": "2024-09-05T20:28:24.887Z"
   },
   {
    "duration": 0,
    "start_time": "2024-09-05T20:28:24.888Z"
   },
   {
    "duration": 0,
    "start_time": "2024-09-05T20:28:24.888Z"
   },
   {
    "duration": 0,
    "start_time": "2024-09-05T20:28:24.889Z"
   },
   {
    "duration": 0,
    "start_time": "2024-09-05T20:28:24.890Z"
   },
   {
    "duration": 0,
    "start_time": "2024-09-05T20:28:24.891Z"
   },
   {
    "duration": 0,
    "start_time": "2024-09-05T20:28:24.891Z"
   },
   {
    "duration": 0,
    "start_time": "2024-09-05T20:28:24.892Z"
   },
   {
    "duration": 0,
    "start_time": "2024-09-05T20:28:24.893Z"
   },
   {
    "duration": 0,
    "start_time": "2024-09-05T20:28:24.893Z"
   },
   {
    "duration": 0,
    "start_time": "2024-09-05T20:28:24.895Z"
   },
   {
    "duration": 0,
    "start_time": "2024-09-05T20:28:24.895Z"
   },
   {
    "duration": 0,
    "start_time": "2024-09-05T20:28:24.896Z"
   },
   {
    "duration": 0,
    "start_time": "2024-09-05T20:28:24.897Z"
   },
   {
    "duration": 0,
    "start_time": "2024-09-05T20:28:24.897Z"
   },
   {
    "duration": 0,
    "start_time": "2024-09-05T20:28:24.898Z"
   },
   {
    "duration": 0,
    "start_time": "2024-09-05T20:28:24.899Z"
   },
   {
    "duration": 0,
    "start_time": "2024-09-05T20:28:24.950Z"
   },
   {
    "duration": 0,
    "start_time": "2024-09-05T20:28:24.951Z"
   },
   {
    "duration": 0,
    "start_time": "2024-09-05T20:28:24.953Z"
   },
   {
    "duration": 0,
    "start_time": "2024-09-05T20:28:24.953Z"
   },
   {
    "duration": 0,
    "start_time": "2024-09-05T20:28:24.954Z"
   },
   {
    "duration": 0,
    "start_time": "2024-09-05T20:28:24.955Z"
   },
   {
    "duration": 0,
    "start_time": "2024-09-05T20:28:24.956Z"
   },
   {
    "duration": 0,
    "start_time": "2024-09-05T20:28:24.957Z"
   },
   {
    "duration": 0,
    "start_time": "2024-09-05T20:28:24.958Z"
   },
   {
    "duration": 0,
    "start_time": "2024-09-05T20:28:24.959Z"
   },
   {
    "duration": 0,
    "start_time": "2024-09-05T20:28:24.960Z"
   },
   {
    "duration": 0,
    "start_time": "2024-09-05T20:28:24.961Z"
   },
   {
    "duration": 0,
    "start_time": "2024-09-05T20:28:24.962Z"
   },
   {
    "duration": 0,
    "start_time": "2024-09-05T20:28:24.963Z"
   },
   {
    "duration": 0,
    "start_time": "2024-09-05T20:28:24.964Z"
   },
   {
    "duration": 0,
    "start_time": "2024-09-05T20:28:24.965Z"
   },
   {
    "duration": 0,
    "start_time": "2024-09-05T20:28:24.965Z"
   },
   {
    "duration": 0,
    "start_time": "2024-09-05T20:28:24.967Z"
   },
   {
    "duration": 0,
    "start_time": "2024-09-05T20:28:24.967Z"
   },
   {
    "duration": 0,
    "start_time": "2024-09-05T20:28:24.968Z"
   },
   {
    "duration": 0,
    "start_time": "2024-09-05T20:28:24.969Z"
   },
   {
    "duration": 0,
    "start_time": "2024-09-05T20:28:24.970Z"
   },
   {
    "duration": 3,
    "start_time": "2024-09-05T20:28:33.087Z"
   },
   {
    "duration": 3,
    "start_time": "2024-09-05T20:28:34.814Z"
   },
   {
    "duration": 83712,
    "start_time": "2024-09-05T20:28:35.339Z"
   },
   {
    "duration": 13,
    "start_time": "2024-09-05T20:29:59.053Z"
   },
   {
    "duration": 5,
    "start_time": "2024-09-05T20:29:59.068Z"
   },
   {
    "duration": 69693,
    "start_time": "2024-09-05T20:29:59.075Z"
   },
   {
    "duration": 15385,
    "start_time": "2024-09-05T20:31:08.769Z"
   },
   {
    "duration": 2,
    "start_time": "2024-09-05T20:31:24.155Z"
   },
   {
    "duration": 13,
    "start_time": "2024-09-05T20:31:24.158Z"
   },
   {
    "duration": 249,
    "start_time": "2024-09-05T20:31:24.173Z"
   },
   {
    "duration": 1360,
    "start_time": "2024-09-05T20:31:24.424Z"
   },
   {
    "duration": 20675,
    "start_time": "2024-09-05T20:31:25.785Z"
   },
   {
    "duration": 4501,
    "start_time": "2024-09-05T20:31:46.462Z"
   },
   {
    "duration": 2,
    "start_time": "2024-09-05T20:31:50.964Z"
   },
   {
    "duration": 9,
    "start_time": "2024-09-06T13:01:01.394Z"
   },
   {
    "duration": 35713,
    "start_time": "2024-09-06T13:06:13.063Z"
   },
   {
    "duration": 1451,
    "start_time": "2024-09-06T13:06:48.778Z"
   },
   {
    "duration": 159,
    "start_time": "2024-09-06T13:06:50.233Z"
   },
   {
    "duration": 271,
    "start_time": "2024-09-06T13:06:50.394Z"
   },
   {
    "duration": 470,
    "start_time": "2024-09-06T13:06:50.667Z"
   },
   {
    "duration": 3453,
    "start_time": "2024-09-06T13:06:51.139Z"
   },
   {
    "duration": 3,
    "start_time": "2024-09-06T13:06:54.594Z"
   },
   {
    "duration": 3924,
    "start_time": "2024-09-06T13:06:54.598Z"
   },
   {
    "duration": 359,
    "start_time": "2024-09-06T13:07:37.348Z"
   },
   {
    "duration": 613,
    "start_time": "2024-09-06T13:08:42.463Z"
   },
   {
    "duration": 3,
    "start_time": "2024-09-06T13:20:08.406Z"
   },
   {
    "duration": 281471,
    "start_time": "2024-09-06T13:20:10.890Z"
   },
   {
    "duration": 8287,
    "start_time": "2024-09-06T13:24:54.927Z"
   },
   {
    "duration": 25066,
    "start_time": "2024-09-06T13:25:12.875Z"
   },
   {
    "duration": 19,
    "start_time": "2024-09-06T13:25:43.156Z"
   },
   {
    "duration": 457,
    "start_time": "2024-09-06T13:26:46.816Z"
   },
   {
    "duration": 3,
    "start_time": "2024-09-06T13:26:57.127Z"
   },
   {
    "duration": 431,
    "start_time": "2024-09-06T13:28:37.095Z"
   },
   {
    "duration": 2606949,
    "start_time": "2024-09-06T13:28:46.193Z"
   },
   {
    "duration": 34,
    "start_time": "2024-09-06T14:30:35.153Z"
   },
   {
    "duration": 3,
    "start_time": "2024-09-06T14:32:34.853Z"
   },
   {
    "duration": 843,
    "start_time": "2024-09-06T14:32:46.233Z"
   },
   {
    "duration": 4,
    "start_time": "2024-09-06T14:33:00.287Z"
   },
   {
    "duration": 3,
    "start_time": "2024-09-06T14:33:10.124Z"
   },
   {
    "duration": 25186,
    "start_time": "2024-09-06T14:33:10.682Z"
   },
   {
    "duration": 22,
    "start_time": "2024-09-06T14:34:01.821Z"
   },
   {
    "duration": 857,
    "start_time": "2024-09-06T14:34:07.633Z"
   },
   {
    "duration": 5,
    "start_time": "2024-09-06T14:34:08.492Z"
   },
   {
    "duration": 853,
    "start_time": "2024-09-06T14:34:12.222Z"
   },
   {
    "duration": 3,
    "start_time": "2024-09-06T14:34:13.077Z"
   },
   {
    "duration": 4,
    "start_time": "2024-09-06T14:34:14.223Z"
   },
   {
    "duration": 3,
    "start_time": "2024-09-06T14:34:14.816Z"
   },
   {
    "duration": 2644,
    "start_time": "2024-09-06T14:34:15.145Z"
   },
   {
    "duration": 22,
    "start_time": "2024-09-06T14:34:20.352Z"
   },
   {
    "duration": 3,
    "start_time": "2024-09-06T14:34:36.382Z"
   },
   {
    "duration": 310,
    "start_time": "2024-09-06T14:34:36.806Z"
   },
   {
    "duration": 3,
    "start_time": "2024-09-06T14:34:56.705Z"
   },
   {
    "duration": 2656,
    "start_time": "2024-09-06T14:34:57.062Z"
   },
   {
    "duration": 8,
    "start_time": "2024-09-06T14:35:01.177Z"
   },
   {
    "duration": 850,
    "start_time": "2024-09-06T14:35:22.635Z"
   },
   {
    "duration": 3,
    "start_time": "2024-09-06T14:35:23.489Z"
   },
   {
    "duration": 3,
    "start_time": "2024-09-06T14:35:24.965Z"
   },
   {
    "duration": 3,
    "start_time": "2024-09-06T14:35:25.178Z"
   },
   {
    "duration": 18,
    "start_time": "2024-09-06T14:35:25.385Z"
   },
   {
    "duration": 3,
    "start_time": "2024-09-06T14:35:38.391Z"
   },
   {
    "duration": 18,
    "start_time": "2024-09-06T14:35:39.572Z"
   },
   {
    "duration": 826,
    "start_time": "2024-09-06T14:35:45.954Z"
   },
   {
    "duration": 4,
    "start_time": "2024-09-06T14:35:53.936Z"
   },
   {
    "duration": 16,
    "start_time": "2024-09-06T14:35:54.426Z"
   },
   {
    "duration": 4,
    "start_time": "2024-09-06T14:36:13.949Z"
   },
   {
    "duration": 820,
    "start_time": "2024-09-06T14:36:22.202Z"
   },
   {
    "duration": 5,
    "start_time": "2024-09-06T14:36:23.023Z"
   },
   {
    "duration": 4,
    "start_time": "2024-09-06T14:36:33.941Z"
   },
   {
    "duration": 46,
    "start_time": "2024-09-06T14:36:34.212Z"
   },
   {
    "duration": 21,
    "start_time": "2024-09-06T14:36:38.589Z"
   },
   {
    "duration": 835,
    "start_time": "2024-09-06T14:36:52.599Z"
   },
   {
    "duration": 4,
    "start_time": "2024-09-06T14:36:53.435Z"
   },
   {
    "duration": 24,
    "start_time": "2024-09-06T14:37:00.068Z"
   },
   {
    "duration": 62,
    "start_time": "2024-09-06T14:37:06.658Z"
   },
   {
    "duration": 22,
    "start_time": "2024-09-06T14:37:09.944Z"
   },
   {
    "duration": 3,
    "start_time": "2024-09-06T14:37:26.447Z"
   },
   {
    "duration": 55,
    "start_time": "2024-09-06T14:37:26.802Z"
   },
   {
    "duration": 7,
    "start_time": "2024-09-06T14:37:30.041Z"
   },
   {
    "duration": 3,
    "start_time": "2024-09-06T14:37:47.403Z"
   },
   {
    "duration": 5,
    "start_time": "2024-09-06T14:37:51.515Z"
   },
   {
    "duration": 835,
    "start_time": "2024-09-06T14:38:17.635Z"
   },
   {
    "duration": 5,
    "start_time": "2024-09-06T14:38:18.472Z"
   },
   {
    "duration": 6,
    "start_time": "2024-09-06T14:38:26.344Z"
   },
   {
    "duration": 3,
    "start_time": "2024-09-06T14:38:32.269Z"
   },
   {
    "duration": 79591,
    "start_time": "2024-09-06T14:38:32.619Z"
   },
   {
    "duration": 7,
    "start_time": "2024-09-06T14:41:07.255Z"
   },
   {
    "duration": 5,
    "start_time": "2024-09-06T14:41:43.299Z"
   },
   {
    "duration": 4,
    "start_time": "2024-09-06T14:41:49.964Z"
   },
   {
    "duration": 4,
    "start_time": "2024-09-06T14:41:56.191Z"
   },
   {
    "duration": 6,
    "start_time": "2024-09-06T14:42:11.912Z"
   },
   {
    "duration": 2,
    "start_time": "2024-09-06T14:44:26.527Z"
   },
   {
    "duration": 828,
    "start_time": "2024-09-06T14:44:27.242Z"
   },
   {
    "duration": 3,
    "start_time": "2024-09-06T14:44:31.918Z"
   },
   {
    "duration": 80202,
    "start_time": "2024-09-06T14:44:32.244Z"
   },
   {
    "duration": 9,
    "start_time": "2024-09-06T15:00:45.415Z"
   },
   {
    "duration": 4,
    "start_time": "2024-09-06T15:00:45.794Z"
   },
   {
    "duration": 13,
    "start_time": "2024-09-06T15:00:46.940Z"
   },
   {
    "duration": 17,
    "start_time": "2024-09-06T15:00:47.279Z"
   },
   {
    "duration": 265,
    "start_time": "2024-09-06T15:00:52.426Z"
   },
   {
    "duration": 3,
    "start_time": "2024-09-06T15:00:56.667Z"
   },
   {
    "duration": 8,
    "start_time": "2024-09-06T15:00:57.021Z"
   },
   {
    "duration": 3,
    "start_time": "2024-09-06T15:02:07.627Z"
   },
   {
    "duration": 33,
    "start_time": "2024-09-06T15:02:07.994Z"
   },
   {
    "duration": 3,
    "start_time": "2024-09-06T15:02:08.408Z"
   },
   {
    "duration": 9,
    "start_time": "2024-09-06T15:02:08.785Z"
   },
   {
    "duration": 8,
    "start_time": "2024-09-06T15:02:09.012Z"
   },
   {
    "duration": 9,
    "start_time": "2024-09-06T15:02:09.211Z"
   },
   {
    "duration": 2,
    "start_time": "2024-09-06T15:02:09.439Z"
   },
   {
    "duration": 3,
    "start_time": "2024-09-06T15:02:10.173Z"
   },
   {
    "duration": 2,
    "start_time": "2024-09-06T15:02:35.946Z"
   },
   {
    "duration": 4,
    "start_time": "2024-09-06T15:02:36.359Z"
   },
   {
    "duration": 7,
    "start_time": "2024-09-06T15:02:36.740Z"
   },
   {
    "duration": 7,
    "start_time": "2024-09-06T15:02:37.642Z"
   },
   {
    "duration": 7,
    "start_time": "2024-09-06T15:02:38.372Z"
   },
   {
    "duration": 6,
    "start_time": "2024-09-06T15:02:52.362Z"
   },
   {
    "duration": 145,
    "start_time": "2024-09-06T15:09:48.599Z"
   },
   {
    "duration": 2,
    "start_time": "2024-09-06T15:13:34.634Z"
   },
   {
    "duration": 6,
    "start_time": "2024-09-06T15:13:35.038Z"
   },
   {
    "duration": 218,
    "start_time": "2024-09-06T15:13:35.778Z"
   },
   {
    "duration": 26,
    "start_time": "2024-09-06T15:13:55.151Z"
   },
   {
    "duration": 6,
    "start_time": "2024-09-06T15:13:57.566Z"
   },
   {
    "duration": 217,
    "start_time": "2024-09-06T15:13:57.931Z"
   },
   {
    "duration": 6,
    "start_time": "2024-09-06T15:15:55.928Z"
   },
   {
    "duration": 209,
    "start_time": "2024-09-06T15:15:56.256Z"
   },
   {
    "duration": 18,
    "start_time": "2024-09-06T15:23:56.525Z"
   },
   {
    "duration": 4,
    "start_time": "2024-09-06T15:23:59.631Z"
   },
   {
    "duration": 2584,
    "start_time": "2024-09-06T15:24:00.007Z"
   },
   {
    "duration": 2199,
    "start_time": "2024-09-06T15:24:13.192Z"
   },
   {
    "duration": 4,
    "start_time": "2024-09-06T15:25:18.012Z"
   },
   {
    "duration": 2356,
    "start_time": "2024-09-06T15:25:18.335Z"
   },
   {
    "duration": 5,
    "start_time": "2024-09-06T15:25:48.846Z"
   },
   {
    "duration": 2389,
    "start_time": "2024-09-06T15:25:49.207Z"
   },
   {
    "duration": 75,
    "start_time": "2024-09-06T15:26:16.408Z"
   },
   {
    "duration": 889,
    "start_time": "2024-09-06T15:26:21.309Z"
   },
   {
    "duration": 1033,
    "start_time": "2024-09-06T15:34:41.657Z"
   },
   {
    "duration": 18,
    "start_time": "2024-09-06T15:34:51.306Z"
   },
   {
    "duration": 2102,
    "start_time": "2024-09-06T15:35:01.588Z"
   },
   {
    "duration": 3,
    "start_time": "2024-09-06T15:35:08.238Z"
   },
   {
    "duration": 8,
    "start_time": "2024-09-06T15:35:09.481Z"
   },
   {
    "duration": 3,
    "start_time": "2024-09-06T15:40:05.742Z"
   },
   {
    "duration": 3,
    "start_time": "2024-09-06T15:43:17.942Z"
   },
   {
    "duration": 293,
    "start_time": "2024-09-06T15:43:18.462Z"
   },
   {
    "duration": 4,
    "start_time": "2024-09-06T15:43:36.287Z"
   },
   {
    "duration": 281,
    "start_time": "2024-09-06T15:43:36.755Z"
   },
   {
    "duration": 3,
    "start_time": "2024-09-06T15:43:46.403Z"
   },
   {
    "duration": 81726,
    "start_time": "2024-09-06T15:43:46.809Z"
   },
   {
    "duration": 3,
    "start_time": "2024-09-06T15:46:06.412Z"
   },
   {
    "duration": 79934,
    "start_time": "2024-09-06T15:46:06.793Z"
   },
   {
    "duration": 8,
    "start_time": "2024-09-06T15:47:31.708Z"
   },
   {
    "duration": 5,
    "start_time": "2024-09-06T15:47:32.130Z"
   },
   {
    "duration": 3,
    "start_time": "2024-09-06T15:49:43.969Z"
   },
   {
    "duration": 80498,
    "start_time": "2024-09-06T15:49:44.770Z"
   },
   {
    "duration": 8,
    "start_time": "2024-09-06T15:51:52.469Z"
   },
   {
    "duration": 5,
    "start_time": "2024-09-06T15:51:54.290Z"
   },
   {
    "duration": 5,
    "start_time": "2024-09-06T15:54:33.234Z"
   },
   {
    "duration": 1601,
    "start_time": "2024-09-06T15:54:33.503Z"
   },
   {
    "duration": 8,
    "start_time": "2024-09-06T15:54:40.032Z"
   },
   {
    "duration": 3,
    "start_time": "2024-09-06T15:54:57.542Z"
   },
   {
    "duration": 80940,
    "start_time": "2024-09-06T15:54:58.105Z"
   },
   {
    "duration": 8,
    "start_time": "2024-09-06T15:59:31.305Z"
   },
   {
    "duration": 4,
    "start_time": "2024-09-06T15:59:31.780Z"
   },
   {
    "duration": 11,
    "start_time": "2024-09-06T15:59:37.023Z"
   },
   {
    "duration": 13,
    "start_time": "2024-09-06T15:59:37.316Z"
   },
   {
    "duration": 101,
    "start_time": "2024-09-06T15:59:37.523Z"
   },
   {
    "duration": 2,
    "start_time": "2024-09-06T15:59:38.116Z"
   },
   {
    "duration": 8,
    "start_time": "2024-09-06T15:59:38.313Z"
   },
   {
    "duration": 4,
    "start_time": "2024-09-06T15:59:39.702Z"
   },
   {
    "duration": 35,
    "start_time": "2024-09-06T15:59:39.865Z"
   },
   {
    "duration": 3,
    "start_time": "2024-09-06T15:59:40.053Z"
   },
   {
    "duration": 11,
    "start_time": "2024-09-06T15:59:40.235Z"
   },
   {
    "duration": 8,
    "start_time": "2024-09-06T15:59:40.415Z"
   },
   {
    "duration": 7,
    "start_time": "2024-09-06T15:59:40.581Z"
   },
   {
    "duration": 3,
    "start_time": "2024-09-06T15:59:40.747Z"
   },
   {
    "duration": 3,
    "start_time": "2024-09-06T15:59:40.920Z"
   },
   {
    "duration": 3,
    "start_time": "2024-09-06T15:59:42.333Z"
   },
   {
    "duration": 6,
    "start_time": "2024-09-06T15:59:42.498Z"
   },
   {
    "duration": 7,
    "start_time": "2024-09-06T15:59:42.656Z"
   },
   {
    "duration": 7,
    "start_time": "2024-09-06T15:59:42.824Z"
   },
   {
    "duration": 9,
    "start_time": "2024-09-06T15:59:42.994Z"
   },
   {
    "duration": 5,
    "start_time": "2024-09-06T15:59:45.651Z"
   },
   {
    "duration": 2,
    "start_time": "2024-09-06T15:59:47.528Z"
   },
   {
    "duration": 5,
    "start_time": "2024-09-06T15:59:48.543Z"
   },
   {
    "duration": 212,
    "start_time": "2024-09-06T15:59:48.593Z"
   },
   {
    "duration": 4,
    "start_time": "2024-09-06T15:59:49.705Z"
   },
   {
    "duration": 1374,
    "start_time": "2024-09-06T15:59:50.015Z"
   },
   {
    "duration": 7,
    "start_time": "2024-09-06T15:59:54.567Z"
   },
   {
    "duration": 3,
    "start_time": "2024-09-06T15:59:54.976Z"
   },
   {
    "duration": 1777,
    "start_time": "2024-09-06T15:59:55.515Z"
   },
   {
    "duration": 3,
    "start_time": "2024-09-06T16:01:15.048Z"
   },
   {
    "duration": 8,
    "start_time": "2024-09-06T16:01:15.339Z"
   },
   {
    "duration": 2,
    "start_time": "2024-09-06T16:02:22.851Z"
   },
   {
    "duration": 4,
    "start_time": "2024-09-06T16:08:05.925Z"
   },
   {
    "duration": 5,
    "start_time": "2024-09-06T16:09:03.849Z"
   },
   {
    "duration": 3,
    "start_time": "2024-09-06T16:10:06.648Z"
   },
   {
    "duration": 3,
    "start_time": "2024-09-06T16:10:07.022Z"
   },
   {
    "duration": 3,
    "start_time": "2024-09-06T16:10:07.512Z"
   },
   {
    "duration": 3,
    "start_time": "2024-09-06T16:10:08.575Z"
   },
   {
    "duration": 3,
    "start_time": "2024-09-06T16:10:10.618Z"
   },
   {
    "duration": 211,
    "start_time": "2024-09-06T16:10:23.067Z"
   },
   {
    "duration": 3,
    "start_time": "2024-09-06T16:13:18.414Z"
   },
   {
    "duration": 3,
    "start_time": "2024-09-06T16:13:19.187Z"
   },
   {
    "duration": 3,
    "start_time": "2024-09-06T16:13:20.182Z"
   },
   {
    "duration": 147,
    "start_time": "2024-09-06T16:13:21.322Z"
   },
   {
    "duration": 2,
    "start_time": "2024-09-06T16:14:48.706Z"
   },
   {
    "duration": 3,
    "start_time": "2024-09-06T16:14:48.834Z"
   },
   {
    "duration": 3,
    "start_time": "2024-09-06T16:14:48.984Z"
   },
   {
    "duration": 3,
    "start_time": "2024-09-06T16:14:49.321Z"
   },
   {
    "duration": 2,
    "start_time": "2024-09-06T16:14:49.791Z"
   },
   {
    "duration": 143,
    "start_time": "2024-09-06T16:14:50.653Z"
   },
   {
    "duration": 232,
    "start_time": "2024-09-06T16:16:05.031Z"
   },
   {
    "duration": 2,
    "start_time": "2024-09-06T16:16:12.777Z"
   },
   {
    "duration": 2,
    "start_time": "2024-09-06T16:16:13.056Z"
   },
   {
    "duration": 2,
    "start_time": "2024-09-06T16:16:13.314Z"
   },
   {
    "duration": 3,
    "start_time": "2024-09-06T16:16:13.968Z"
   },
   {
    "duration": 3,
    "start_time": "2024-09-06T16:16:14.971Z"
   },
   {
    "duration": 145,
    "start_time": "2024-09-06T16:16:16.255Z"
   },
   {
    "duration": 2,
    "start_time": "2024-09-06T16:17:08.233Z"
   },
   {
    "duration": 3,
    "start_time": "2024-09-06T16:17:08.543Z"
   },
   {
    "duration": 3,
    "start_time": "2024-09-06T16:17:09.009Z"
   },
   {
    "duration": 58,
    "start_time": "2024-09-06T16:18:10.682Z"
   },
   {
    "duration": 4,
    "start_time": "2024-09-06T16:18:16.624Z"
   },
   {
    "duration": 3,
    "start_time": "2024-09-06T16:18:17.825Z"
   },
   {
    "duration": 3,
    "start_time": "2024-09-06T16:18:18.859Z"
   },
   {
    "duration": 3,
    "start_time": "2024-09-06T16:18:19.605Z"
   },
   {
    "duration": 3,
    "start_time": "2024-09-06T16:18:20.526Z"
   },
   {
    "duration": 143,
    "start_time": "2024-09-06T16:18:21.362Z"
   },
   {
    "duration": 3,
    "start_time": "2024-09-06T16:26:46.008Z"
   },
   {
    "duration": 2,
    "start_time": "2024-09-06T16:26:46.317Z"
   },
   {
    "duration": 3,
    "start_time": "2024-09-06T16:26:46.582Z"
   },
   {
    "duration": 3,
    "start_time": "2024-09-06T16:26:47.371Z"
   },
   {
    "duration": 3,
    "start_time": "2024-09-06T16:26:48.129Z"
   },
   {
    "duration": 243,
    "start_time": "2024-09-06T16:26:49.391Z"
   },
   {
    "duration": 4,
    "start_time": "2024-09-06T16:28:10.496Z"
   },
   {
    "duration": 6,
    "start_time": "2024-09-06T16:28:38.317Z"
   },
   {
    "duration": 4,
    "start_time": "2024-09-06T16:28:48.102Z"
   },
   {
    "duration": 4,
    "start_time": "2024-09-06T16:28:50.641Z"
   },
   {
    "duration": 3,
    "start_time": "2024-09-06T16:28:50.921Z"
   },
   {
    "duration": 2,
    "start_time": "2024-09-06T16:28:51.202Z"
   },
   {
    "duration": 3,
    "start_time": "2024-09-06T16:28:51.447Z"
   },
   {
    "duration": 3,
    "start_time": "2024-09-06T16:28:51.978Z"
   },
   {
    "duration": 3,
    "start_time": "2024-09-06T16:28:52.972Z"
   },
   {
    "duration": 47133,
    "start_time": "2024-09-06T16:28:53.677Z"
   },
   {
    "duration": 3,
    "start_time": "2024-09-06T16:30:28.165Z"
   },
   {
    "duration": 5,
    "start_time": "2024-09-06T16:30:28.472Z"
   },
   {
    "duration": 6,
    "start_time": "2024-09-06T16:30:29.317Z"
   },
   {
    "duration": 3,
    "start_time": "2024-09-06T16:30:53.253Z"
   },
   {
    "duration": 3,
    "start_time": "2024-09-06T16:30:55.443Z"
   },
   {
    "duration": 11310,
    "start_time": "2024-09-06T16:30:59.133Z"
   },
   {
    "duration": 2,
    "start_time": "2024-09-06T16:31:10.445Z"
   },
   {
    "duration": 11,
    "start_time": "2024-09-06T16:31:10.448Z"
   },
   {
    "duration": 5,
    "start_time": "2024-09-06T16:31:10.461Z"
   },
   {
    "duration": 3,
    "start_time": "2024-09-06T16:32:38.089Z"
   },
   {
    "duration": 5,
    "start_time": "2024-09-06T16:32:38.405Z"
   },
   {
    "duration": 4,
    "start_time": "2024-09-06T16:32:38.758Z"
   },
   {
    "duration": 2,
    "start_time": "2024-09-06T16:32:39.149Z"
   },
   {
    "duration": 3,
    "start_time": "2024-09-06T16:32:39.481Z"
   },
   {
    "duration": 2,
    "start_time": "2024-09-06T16:32:39.754Z"
   },
   {
    "duration": 2,
    "start_time": "2024-09-06T16:32:40.524Z"
   },
   {
    "duration": 3,
    "start_time": "2024-09-06T16:32:41.721Z"
   },
   {
    "duration": 262,
    "start_time": "2024-09-06T16:32:43.129Z"
   },
   {
    "duration": 3,
    "start_time": "2024-09-06T16:33:08.024Z"
   },
   {
    "duration": 3,
    "start_time": "2024-09-06T16:33:08.514Z"
   },
   {
    "duration": 2,
    "start_time": "2024-09-06T16:33:09.110Z"
   },
   {
    "duration": 2,
    "start_time": "2024-09-06T16:35:21.040Z"
   },
   {
    "duration": 19,
    "start_time": "2024-09-06T16:35:21.044Z"
   },
   {
    "duration": 20,
    "start_time": "2024-09-06T16:35:21.065Z"
   },
   {
    "duration": 10,
    "start_time": "2024-09-06T16:35:21.087Z"
   },
   {
    "duration": 18,
    "start_time": "2024-09-06T16:35:21.098Z"
   },
   {
    "duration": 20,
    "start_time": "2024-09-06T16:35:21.117Z"
   },
   {
    "duration": 18,
    "start_time": "2024-09-06T16:35:21.139Z"
   },
   {
    "duration": 11,
    "start_time": "2024-09-06T16:35:21.159Z"
   },
   {
    "duration": 47032,
    "start_time": "2024-09-06T16:35:21.172Z"
   },
   {
    "duration": 2,
    "start_time": "2024-09-06T16:36:08.206Z"
   },
   {
    "duration": 18,
    "start_time": "2024-09-06T16:36:08.210Z"
   },
   {
    "duration": 3,
    "start_time": "2024-09-06T16:38:41.393Z"
   },
   {
    "duration": 4,
    "start_time": "2024-09-06T16:38:41.610Z"
   },
   {
    "duration": 3,
    "start_time": "2024-09-06T16:38:41.800Z"
   },
   {
    "duration": 3,
    "start_time": "2024-09-06T16:38:41.992Z"
   },
   {
    "duration": 3,
    "start_time": "2024-09-06T16:38:42.198Z"
   },
   {
    "duration": 3,
    "start_time": "2024-09-06T16:38:42.427Z"
   },
   {
    "duration": 2,
    "start_time": "2024-09-06T16:39:17.565Z"
   },
   {
    "duration": 2,
    "start_time": "2024-09-06T16:39:17.762Z"
   },
   {
    "duration": 5,
    "start_time": "2024-09-06T16:39:17.916Z"
   },
   {
    "duration": 4,
    "start_time": "2024-09-06T16:39:18.071Z"
   },
   {
    "duration": 3,
    "start_time": "2024-09-06T16:39:18.229Z"
   },
   {
    "duration": 2,
    "start_time": "2024-09-06T16:39:18.394Z"
   },
   {
    "duration": 3,
    "start_time": "2024-09-06T16:39:18.560Z"
   },
   {
    "duration": 3,
    "start_time": "2024-09-06T16:39:18.895Z"
   },
   {
    "duration": 3,
    "start_time": "2024-09-06T16:39:20.674Z"
   },
   {
    "duration": 44823,
    "start_time": "2024-09-06T16:39:21.486Z"
   },
   {
    "duration": 2,
    "start_time": "2024-09-06T16:40:06.311Z"
   },
   {
    "duration": 49,
    "start_time": "2024-09-06T16:40:06.314Z"
   },
   {
    "duration": 16,
    "start_time": "2024-09-06T16:40:06.365Z"
   },
   {
    "duration": 4,
    "start_time": "2024-09-06T16:40:11.690Z"
   },
   {
    "duration": 3,
    "start_time": "2024-09-06T16:40:12.046Z"
   },
   {
    "duration": 10908,
    "start_time": "2024-09-06T16:40:14.575Z"
   },
   {
    "duration": 2,
    "start_time": "2024-09-06T16:40:25.489Z"
   },
   {
    "duration": 8,
    "start_time": "2024-09-06T16:40:25.492Z"
   },
   {
    "duration": 15,
    "start_time": "2024-09-06T16:40:25.501Z"
   },
   {
    "duration": 3,
    "start_time": "2024-09-06T16:40:39.331Z"
   },
   {
    "duration": 3,
    "start_time": "2024-09-06T16:40:39.717Z"
   },
   {
    "duration": 22963,
    "start_time": "2024-09-06T16:40:40.479Z"
   },
   {
    "duration": 2,
    "start_time": "2024-09-06T16:41:03.444Z"
   },
   {
    "duration": 9,
    "start_time": "2024-09-06T16:41:03.447Z"
   },
   {
    "duration": 11,
    "start_time": "2024-09-06T16:41:03.458Z"
   },
   {
    "duration": 3,
    "start_time": "2024-09-06T16:41:41.191Z"
   },
   {
    "duration": 3,
    "start_time": "2024-09-06T16:41:41.611Z"
   },
   {
    "duration": 24099,
    "start_time": "2024-09-06T16:41:42.095Z"
   },
   {
    "duration": 3,
    "start_time": "2024-09-06T16:45:40.145Z"
   },
   {
    "duration": 3,
    "start_time": "2024-09-06T16:45:40.689Z"
   },
   {
    "duration": 23789,
    "start_time": "2024-09-06T16:45:41.201Z"
   },
   {
    "duration": 4,
    "start_time": "2024-09-06T16:46:09.427Z"
   },
   {
    "duration": 3,
    "start_time": "2024-09-06T16:46:09.618Z"
   },
   {
    "duration": 25971,
    "start_time": "2024-09-06T16:46:10.248Z"
   },
   {
    "duration": 4,
    "start_time": "2024-09-06T16:46:58.649Z"
   },
   {
    "duration": 4,
    "start_time": "2024-09-06T16:46:59.024Z"
   },
   {
    "duration": 26310,
    "start_time": "2024-09-06T16:46:59.984Z"
   },
   {
    "duration": 4,
    "start_time": "2024-09-06T16:47:42.866Z"
   },
   {
    "duration": 3,
    "start_time": "2024-09-06T16:47:43.240Z"
   },
   {
    "duration": 26882,
    "start_time": "2024-09-06T16:47:43.842Z"
   },
   {
    "duration": 3,
    "start_time": "2024-09-06T16:48:22.262Z"
   },
   {
    "duration": 3,
    "start_time": "2024-09-06T16:48:22.567Z"
   },
   {
    "duration": 23753,
    "start_time": "2024-09-06T16:48:23.204Z"
   },
   {
    "duration": 3,
    "start_time": "2024-09-06T16:48:53.485Z"
   },
   {
    "duration": 2,
    "start_time": "2024-09-06T16:48:53.678Z"
   },
   {
    "duration": 23016,
    "start_time": "2024-09-06T16:48:54.018Z"
   },
   {
    "duration": 2,
    "start_time": "2024-09-06T16:49:27.842Z"
   },
   {
    "duration": 24020,
    "start_time": "2024-09-06T16:49:28.657Z"
   },
   {
    "duration": 18,
    "start_time": "2024-09-06T16:50:50.772Z"
   },
   {
    "duration": 17,
    "start_time": "2024-09-06T16:51:06.922Z"
   },
   {
    "duration": 18,
    "start_time": "2024-09-06T16:51:15.590Z"
   },
   {
    "duration": 3,
    "start_time": "2024-09-06T16:51:32.960Z"
   },
   {
    "duration": 3,
    "start_time": "2024-09-06T16:51:38.160Z"
   },
   {
    "duration": 24050,
    "start_time": "2024-09-06T16:51:41.663Z"
   },
   {
    "duration": 5,
    "start_time": "2024-09-06T16:55:51.809Z"
   },
   {
    "duration": 21867,
    "start_time": "2024-09-06T16:56:34.450Z"
   },
   {
    "duration": 1286,
    "start_time": "2024-09-06T16:56:56.319Z"
   },
   {
    "duration": 149,
    "start_time": "2024-09-06T16:56:57.609Z"
   },
   {
    "duration": 266,
    "start_time": "2024-09-06T16:56:57.759Z"
   },
   {
    "duration": 474,
    "start_time": "2024-09-06T16:56:58.026Z"
   },
   {
    "duration": 3504,
    "start_time": "2024-09-06T16:56:58.502Z"
   },
   {
    "duration": 3,
    "start_time": "2024-09-06T16:57:02.007Z"
   },
   {
    "duration": 18,
    "start_time": "2024-09-06T16:57:02.012Z"
   },
   {
    "duration": 922,
    "start_time": "2024-09-06T16:57:02.033Z"
   },
   {
    "duration": 3,
    "start_time": "2024-09-06T16:57:02.957Z"
   },
   {
    "duration": 85486,
    "start_time": "2024-09-06T16:57:02.961Z"
   },
   {
    "duration": 8,
    "start_time": "2024-09-06T16:58:28.449Z"
   },
   {
    "duration": 5,
    "start_time": "2024-09-06T16:58:28.459Z"
   },
   {
    "duration": 33,
    "start_time": "2024-09-06T16:58:28.466Z"
   },
   {
    "duration": 13,
    "start_time": "2024-09-06T16:58:28.501Z"
   },
   {
    "duration": 114,
    "start_time": "2024-09-06T16:58:28.516Z"
   },
   {
    "duration": 3,
    "start_time": "2024-09-06T16:58:28.690Z"
   },
   {
    "duration": 17,
    "start_time": "2024-09-06T16:58:28.695Z"
   },
   {
    "duration": 77,
    "start_time": "2024-09-06T16:58:28.714Z"
   },
   {
    "duration": 33,
    "start_time": "2024-09-06T16:58:28.792Z"
   },
   {
    "duration": 2,
    "start_time": "2024-09-06T16:58:28.827Z"
   },
   {
    "duration": 16,
    "start_time": "2024-09-06T16:58:28.831Z"
   },
   {
    "duration": 7,
    "start_time": "2024-09-06T16:58:28.849Z"
   },
   {
    "duration": 7,
    "start_time": "2024-09-06T16:58:28.858Z"
   },
   {
    "duration": 23,
    "start_time": "2024-09-06T16:58:28.866Z"
   },
   {
    "duration": 3,
    "start_time": "2024-09-06T16:58:28.891Z"
   },
   {
    "duration": 15,
    "start_time": "2024-09-06T16:58:28.899Z"
   },
   {
    "duration": 13,
    "start_time": "2024-09-06T16:58:28.915Z"
   },
   {
    "duration": 34,
    "start_time": "2024-09-06T16:58:28.929Z"
   },
   {
    "duration": 6,
    "start_time": "2024-09-06T16:58:28.965Z"
   },
   {
    "duration": 8,
    "start_time": "2024-09-06T16:58:28.973Z"
   },
   {
    "duration": 9,
    "start_time": "2024-09-06T16:58:28.982Z"
   },
   {
    "duration": 5,
    "start_time": "2024-09-06T16:58:28.993Z"
   },
   {
    "duration": 9,
    "start_time": "2024-09-06T16:58:28.999Z"
   },
   {
    "duration": 214,
    "start_time": "2024-09-06T16:58:29.010Z"
   },
   {
    "duration": 4,
    "start_time": "2024-09-06T16:58:29.225Z"
   },
   {
    "duration": 1160,
    "start_time": "2024-09-06T16:58:29.231Z"
   },
   {
    "duration": 98,
    "start_time": "2024-09-06T16:58:30.393Z"
   },
   {
    "duration": 19,
    "start_time": "2024-09-06T16:58:30.492Z"
   },
   {
    "duration": 1678,
    "start_time": "2024-09-06T16:58:30.513Z"
   },
   {
    "duration": 3,
    "start_time": "2024-09-06T16:58:32.193Z"
   },
   {
    "duration": 35,
    "start_time": "2024-09-06T16:58:32.198Z"
   },
   {
    "duration": 12,
    "start_time": "2024-09-06T16:58:32.235Z"
   },
   {
    "duration": 10,
    "start_time": "2024-09-06T16:58:32.249Z"
   },
   {
    "duration": 19,
    "start_time": "2024-09-06T16:58:32.261Z"
   },
   {
    "duration": 67,
    "start_time": "2024-09-06T16:58:32.282Z"
   },
   {
    "duration": 17,
    "start_time": "2024-09-06T16:58:32.350Z"
   },
   {
    "duration": 25,
    "start_time": "2024-09-06T16:58:32.369Z"
   },
   {
    "duration": 23,
    "start_time": "2024-09-06T16:58:32.396Z"
   },
   {
    "duration": 9,
    "start_time": "2024-09-06T16:58:32.421Z"
   },
   {
    "duration": 22,
    "start_time": "2024-09-06T16:58:32.432Z"
   },
   {
    "duration": 11,
    "start_time": "2024-09-06T16:58:32.455Z"
   },
   {
    "duration": 21844,
    "start_time": "2024-09-06T16:58:32.468Z"
   },
   {
    "duration": 2,
    "start_time": "2024-09-06T16:58:54.390Z"
   },
   {
    "duration": 12,
    "start_time": "2024-09-06T16:58:54.394Z"
   },
   {
    "duration": 6,
    "start_time": "2024-09-06T16:58:54.407Z"
   },
   {
    "duration": 4,
    "start_time": "2024-09-06T16:58:54.415Z"
   },
   {
    "duration": 5,
    "start_time": "2024-09-06T16:58:54.421Z"
   },
   {
    "duration": 11343,
    "start_time": "2024-09-06T16:58:54.427Z"
   },
   {
    "duration": 2,
    "start_time": "2024-09-06T16:59:05.772Z"
   },
   {
    "duration": 45,
    "start_time": "2024-09-06T16:59:05.776Z"
   },
   {
    "duration": 49,
    "start_time": "2024-09-06T16:59:05.822Z"
   },
   {
    "duration": 35,
    "start_time": "2024-09-06T16:59:05.873Z"
   },
   {
    "duration": 26,
    "start_time": "2024-09-06T16:59:05.909Z"
   },
   {
    "duration": 23469,
    "start_time": "2024-09-06T16:59:05.936Z"
   },
   {
    "duration": 3,
    "start_time": "2024-09-06T16:59:29.406Z"
   },
   {
    "duration": 11,
    "start_time": "2024-09-06T16:59:29.410Z"
   },
   {
    "duration": 7,
    "start_time": "2024-09-06T16:59:29.422Z"
   },
   {
    "duration": 13,
    "start_time": "2024-09-06T16:59:29.430Z"
   },
   {
    "duration": 10,
    "start_time": "2024-09-06T16:59:29.444Z"
   },
   {
    "duration": 13,
    "start_time": "2024-09-06T16:59:29.455Z"
   },
   {
    "duration": 6,
    "start_time": "2024-09-06T16:59:29.469Z"
   },
   {
    "duration": 7,
    "start_time": "2024-09-06T16:59:29.476Z"
   },
   {
    "duration": 4,
    "start_time": "2024-09-06T16:59:29.485Z"
   },
   {
    "duration": 3,
    "start_time": "2024-09-06T16:59:29.491Z"
   },
   {
    "duration": 13,
    "start_time": "2024-09-06T16:59:29.495Z"
   },
   {
    "duration": 349,
    "start_time": "2024-09-06T16:59:29.509Z"
   },
   {
    "duration": 0,
    "start_time": "2024-09-06T16:59:29.859Z"
   },
   {
    "duration": 0,
    "start_time": "2024-09-06T16:59:29.860Z"
   },
   {
    "duration": 0,
    "start_time": "2024-09-06T16:59:29.862Z"
   },
   {
    "duration": 0,
    "start_time": "2024-09-06T16:59:29.862Z"
   },
   {
    "duration": 0,
    "start_time": "2024-09-06T16:59:29.864Z"
   },
   {
    "duration": 0,
    "start_time": "2024-09-06T16:59:29.864Z"
   },
   {
    "duration": 0,
    "start_time": "2024-09-06T16:59:29.866Z"
   },
   {
    "duration": 0,
    "start_time": "2024-09-06T16:59:29.867Z"
   },
   {
    "duration": 3,
    "start_time": "2024-09-06T17:02:25.151Z"
   },
   {
    "duration": 4,
    "start_time": "2024-09-06T17:02:31.674Z"
   },
   {
    "duration": 3,
    "start_time": "2024-09-06T17:03:13.419Z"
   },
   {
    "duration": 92,
    "start_time": "2024-09-06T17:03:25.895Z"
   },
   {
    "duration": 5,
    "start_time": "2024-09-06T17:03:26.246Z"
   },
   {
    "duration": 6,
    "start_time": "2024-09-06T17:03:27.758Z"
   },
   {
    "duration": 6,
    "start_time": "2024-09-06T17:03:37.662Z"
   },
   {
    "duration": 6,
    "start_time": "2024-09-06T17:03:38.713Z"
   },
   {
    "duration": 6,
    "start_time": "2024-09-06T17:03:39.116Z"
   },
   {
    "duration": 2,
    "start_time": "2024-09-06T17:03:46.627Z"
   },
   {
    "duration": 6,
    "start_time": "2024-09-06T17:03:47.346Z"
   },
   {
    "duration": 4,
    "start_time": "2024-09-06T17:03:47.882Z"
   },
   {
    "duration": 9,
    "start_time": "2024-09-06T17:03:48.565Z"
   },
   {
    "duration": 3,
    "start_time": "2024-09-06T17:03:49.737Z"
   },
   {
    "duration": 599,
    "start_time": "2024-09-06T17:03:50.719Z"
   },
   {
    "duration": 22005,
    "start_time": "2024-09-06T17:05:19.336Z"
   },
   {
    "duration": 1241,
    "start_time": "2024-09-06T17:05:41.343Z"
   },
   {
    "duration": 135,
    "start_time": "2024-09-06T17:05:42.586Z"
   },
   {
    "duration": 268,
    "start_time": "2024-09-06T17:05:42.723Z"
   },
   {
    "duration": 7,
    "start_time": "2024-09-06T17:05:42.992Z"
   },
   {
    "duration": 3005,
    "start_time": "2024-09-06T17:05:43.000Z"
   },
   {
    "duration": 3,
    "start_time": "2024-09-06T17:05:46.006Z"
   },
   {
    "duration": 30,
    "start_time": "2024-09-06T17:05:46.011Z"
   },
   {
    "duration": 893,
    "start_time": "2024-09-06T17:05:46.043Z"
   },
   {
    "duration": 4,
    "start_time": "2024-09-06T17:05:46.938Z"
   },
   {
    "duration": 84077,
    "start_time": "2024-09-06T17:05:46.943Z"
   },
   {
    "duration": 8,
    "start_time": "2024-09-06T17:07:11.021Z"
   },
   {
    "duration": 29,
    "start_time": "2024-09-06T17:07:11.030Z"
   },
   {
    "duration": 13,
    "start_time": "2024-09-06T17:07:11.061Z"
   },
   {
    "duration": 15,
    "start_time": "2024-09-06T17:07:11.075Z"
   },
   {
    "duration": 118,
    "start_time": "2024-09-06T17:07:11.091Z"
   },
   {
    "duration": 3,
    "start_time": "2024-09-06T17:07:11.210Z"
   },
   {
    "duration": 80,
    "start_time": "2024-09-06T17:07:11.214Z"
   },
   {
    "duration": 2,
    "start_time": "2024-09-06T17:07:11.296Z"
   },
   {
    "duration": 34,
    "start_time": "2024-09-06T17:07:11.300Z"
   },
   {
    "duration": 2,
    "start_time": "2024-09-06T17:07:11.336Z"
   },
   {
    "duration": 50,
    "start_time": "2024-09-06T17:07:11.340Z"
   },
   {
    "duration": 19,
    "start_time": "2024-09-06T17:07:11.392Z"
   },
   {
    "duration": 60,
    "start_time": "2024-09-06T17:07:11.413Z"
   },
   {
    "duration": 6,
    "start_time": "2024-09-06T17:07:11.474Z"
   },
   {
    "duration": 15,
    "start_time": "2024-09-06T17:07:11.481Z"
   },
   {
    "duration": 7,
    "start_time": "2024-09-06T17:07:11.498Z"
   },
   {
    "duration": 9,
    "start_time": "2024-09-06T17:07:11.509Z"
   },
   {
    "duration": 8,
    "start_time": "2024-09-06T17:07:11.519Z"
   },
   {
    "duration": 7,
    "start_time": "2024-09-06T17:07:11.529Z"
   },
   {
    "duration": 8,
    "start_time": "2024-09-06T17:07:11.537Z"
   },
   {
    "duration": 327,
    "start_time": "2024-09-06T17:07:11.547Z"
   },
   {
    "duration": 0,
    "start_time": "2024-09-06T17:07:11.876Z"
   },
   {
    "duration": 0,
    "start_time": "2024-09-06T17:07:11.889Z"
   },
   {
    "duration": 0,
    "start_time": "2024-09-06T17:07:11.890Z"
   },
   {
    "duration": 0,
    "start_time": "2024-09-06T17:07:11.891Z"
   },
   {
    "duration": 0,
    "start_time": "2024-09-06T17:07:11.892Z"
   },
   {
    "duration": 0,
    "start_time": "2024-09-06T17:07:11.894Z"
   },
   {
    "duration": 0,
    "start_time": "2024-09-06T17:07:11.895Z"
   },
   {
    "duration": 0,
    "start_time": "2024-09-06T17:07:11.896Z"
   },
   {
    "duration": 0,
    "start_time": "2024-09-06T17:07:11.897Z"
   },
   {
    "duration": 0,
    "start_time": "2024-09-06T17:07:11.898Z"
   },
   {
    "duration": 0,
    "start_time": "2024-09-06T17:07:11.900Z"
   },
   {
    "duration": 0,
    "start_time": "2024-09-06T17:07:11.901Z"
   },
   {
    "duration": 0,
    "start_time": "2024-09-06T17:07:11.902Z"
   },
   {
    "duration": 0,
    "start_time": "2024-09-06T17:07:11.904Z"
   },
   {
    "duration": 0,
    "start_time": "2024-09-06T17:07:11.905Z"
   },
   {
    "duration": 0,
    "start_time": "2024-09-06T17:07:11.907Z"
   },
   {
    "duration": 0,
    "start_time": "2024-09-06T17:07:11.908Z"
   },
   {
    "duration": 0,
    "start_time": "2024-09-06T17:07:11.910Z"
   },
   {
    "duration": 0,
    "start_time": "2024-09-06T17:07:11.911Z"
   },
   {
    "duration": 0,
    "start_time": "2024-09-06T17:07:11.913Z"
   },
   {
    "duration": 0,
    "start_time": "2024-09-06T17:07:11.914Z"
   },
   {
    "duration": 0,
    "start_time": "2024-09-06T17:07:11.915Z"
   },
   {
    "duration": 0,
    "start_time": "2024-09-06T17:07:11.916Z"
   },
   {
    "duration": 0,
    "start_time": "2024-09-06T17:07:11.918Z"
   },
   {
    "duration": 0,
    "start_time": "2024-09-06T17:07:11.919Z"
   },
   {
    "duration": 1,
    "start_time": "2024-09-06T17:07:11.920Z"
   },
   {
    "duration": 0,
    "start_time": "2024-09-06T17:07:11.922Z"
   },
   {
    "duration": 0,
    "start_time": "2024-09-06T17:07:11.923Z"
   },
   {
    "duration": 0,
    "start_time": "2024-09-06T17:07:11.924Z"
   },
   {
    "duration": 0,
    "start_time": "2024-09-06T17:07:11.926Z"
   },
   {
    "duration": 0,
    "start_time": "2024-09-06T17:07:11.927Z"
   },
   {
    "duration": 0,
    "start_time": "2024-09-06T17:07:11.928Z"
   },
   {
    "duration": 0,
    "start_time": "2024-09-06T17:07:11.990Z"
   },
   {
    "duration": 0,
    "start_time": "2024-09-06T17:07:11.991Z"
   },
   {
    "duration": 0,
    "start_time": "2024-09-06T17:07:11.992Z"
   },
   {
    "duration": 0,
    "start_time": "2024-09-06T17:07:11.993Z"
   },
   {
    "duration": 0,
    "start_time": "2024-09-06T17:07:11.994Z"
   },
   {
    "duration": 0,
    "start_time": "2024-09-06T17:07:11.995Z"
   },
   {
    "duration": 0,
    "start_time": "2024-09-06T17:07:11.996Z"
   },
   {
    "duration": 0,
    "start_time": "2024-09-06T17:07:11.997Z"
   },
   {
    "duration": 0,
    "start_time": "2024-09-06T17:07:11.998Z"
   },
   {
    "duration": 0,
    "start_time": "2024-09-06T17:07:11.999Z"
   },
   {
    "duration": 0,
    "start_time": "2024-09-06T17:07:12.000Z"
   },
   {
    "duration": 0,
    "start_time": "2024-09-06T17:07:12.001Z"
   },
   {
    "duration": 0,
    "start_time": "2024-09-06T17:07:12.002Z"
   },
   {
    "duration": 0,
    "start_time": "2024-09-06T17:07:12.003Z"
   },
   {
    "duration": 0,
    "start_time": "2024-09-06T17:07:12.004Z"
   },
   {
    "duration": 0,
    "start_time": "2024-09-06T17:07:12.005Z"
   },
   {
    "duration": 0,
    "start_time": "2024-09-06T17:07:12.006Z"
   },
   {
    "duration": 0,
    "start_time": "2024-09-06T17:07:12.007Z"
   },
   {
    "duration": 0,
    "start_time": "2024-09-06T17:07:12.008Z"
   },
   {
    "duration": 0,
    "start_time": "2024-09-06T17:07:12.009Z"
   },
   {
    "duration": 0,
    "start_time": "2024-09-06T17:07:12.010Z"
   },
   {
    "duration": 2,
    "start_time": "2024-09-06T17:07:30.128Z"
   },
   {
    "duration": 3,
    "start_time": "2024-09-06T17:07:31.859Z"
   },
   {
    "duration": 2,
    "start_time": "2024-09-06T17:07:32.031Z"
   },
   {
    "duration": 6,
    "start_time": "2024-09-06T17:07:32.702Z"
   },
   {
    "duration": 410,
    "start_time": "2024-09-06T17:07:32.861Z"
   },
   {
    "duration": 22289,
    "start_time": "2024-09-06T17:07:41.081Z"
   },
   {
    "duration": 1319,
    "start_time": "2024-09-06T17:08:03.373Z"
   },
   {
    "duration": 143,
    "start_time": "2024-09-06T17:08:04.693Z"
   },
   {
    "duration": 274,
    "start_time": "2024-09-06T17:08:04.838Z"
   },
   {
    "duration": 7,
    "start_time": "2024-09-06T17:08:05.114Z"
   },
   {
    "duration": 3046,
    "start_time": "2024-09-06T17:08:05.123Z"
   },
   {
    "duration": 4,
    "start_time": "2024-09-06T17:08:08.170Z"
   },
   {
    "duration": 17,
    "start_time": "2024-09-06T17:08:08.175Z"
   },
   {
    "duration": 919,
    "start_time": "2024-09-06T17:08:08.193Z"
   },
   {
    "duration": 3,
    "start_time": "2024-09-06T17:08:09.114Z"
   },
   {
    "duration": 85101,
    "start_time": "2024-09-06T17:08:09.118Z"
   },
   {
    "duration": 7,
    "start_time": "2024-09-06T17:09:34.220Z"
   },
   {
    "duration": 24,
    "start_time": "2024-09-06T17:09:34.229Z"
   },
   {
    "duration": 21,
    "start_time": "2024-09-06T17:09:34.255Z"
   },
   {
    "duration": 26,
    "start_time": "2024-09-06T17:09:34.278Z"
   },
   {
    "duration": 117,
    "start_time": "2024-09-06T17:09:34.306Z"
   },
   {
    "duration": 65,
    "start_time": "2024-09-06T17:09:34.425Z"
   },
   {
    "duration": 28,
    "start_time": "2024-09-06T17:09:34.492Z"
   },
   {
    "duration": 3,
    "start_time": "2024-09-06T17:09:34.589Z"
   },
   {
    "duration": 42,
    "start_time": "2024-09-06T17:09:34.593Z"
   },
   {
    "duration": 17,
    "start_time": "2024-09-06T17:09:34.637Z"
   },
   {
    "duration": 20,
    "start_time": "2024-09-06T17:09:34.655Z"
   },
   {
    "duration": 25,
    "start_time": "2024-09-06T17:09:34.677Z"
   },
   {
    "duration": 15,
    "start_time": "2024-09-06T17:09:34.703Z"
   },
   {
    "duration": 5,
    "start_time": "2024-09-06T17:09:34.719Z"
   },
   {
    "duration": 15,
    "start_time": "2024-09-06T17:09:34.725Z"
   },
   {
    "duration": 13,
    "start_time": "2024-09-06T17:09:34.742Z"
   },
   {
    "duration": 7,
    "start_time": "2024-09-06T17:09:34.756Z"
   },
   {
    "duration": 20,
    "start_time": "2024-09-06T17:09:34.764Z"
   },
   {
    "duration": 32,
    "start_time": "2024-09-06T17:09:34.786Z"
   },
   {
    "duration": 24,
    "start_time": "2024-09-06T17:09:34.820Z"
   },
   {
    "duration": 14,
    "start_time": "2024-09-06T17:09:34.845Z"
   },
   {
    "duration": 5,
    "start_time": "2024-09-06T17:09:34.860Z"
   },
   {
    "duration": 5,
    "start_time": "2024-09-06T17:09:34.866Z"
   },
   {
    "duration": 12,
    "start_time": "2024-09-06T17:09:34.872Z"
   },
   {
    "duration": 228,
    "start_time": "2024-09-06T17:09:34.886Z"
   },
   {
    "duration": 5,
    "start_time": "2024-09-06T17:09:35.115Z"
   },
   {
    "duration": 2468,
    "start_time": "2024-09-06T17:09:35.122Z"
   },
   {
    "duration": 8,
    "start_time": "2024-09-06T17:09:37.592Z"
   },
   {
    "duration": 32,
    "start_time": "2024-09-06T17:09:37.602Z"
   },
   {
    "duration": 859,
    "start_time": "2024-09-06T17:09:37.639Z"
   },
   {
    "duration": 3,
    "start_time": "2024-09-06T17:09:38.591Z"
   },
   {
    "duration": 24,
    "start_time": "2024-09-06T17:09:38.595Z"
   },
   {
    "duration": 5,
    "start_time": "2024-09-06T17:09:38.620Z"
   },
   {
    "duration": 6,
    "start_time": "2024-09-06T17:09:38.626Z"
   },
   {
    "duration": 17,
    "start_time": "2024-09-06T17:09:38.633Z"
   },
   {
    "duration": 5,
    "start_time": "2024-09-06T17:09:38.652Z"
   },
   {
    "duration": 12,
    "start_time": "2024-09-06T17:09:38.658Z"
   },
   {
    "duration": 5,
    "start_time": "2024-09-06T17:09:38.671Z"
   },
   {
    "duration": 11,
    "start_time": "2024-09-06T17:09:38.677Z"
   },
   {
    "duration": 14,
    "start_time": "2024-09-06T17:09:38.690Z"
   },
   {
    "duration": 9,
    "start_time": "2024-09-06T17:09:38.705Z"
   },
   {
    "duration": 22393,
    "start_time": "2024-09-06T17:09:38.716Z"
   },
   {
    "duration": 2,
    "start_time": "2024-09-06T17:10:01.111Z"
   },
   {
    "duration": 25,
    "start_time": "2024-09-06T17:10:01.114Z"
   },
   {
    "duration": 5,
    "start_time": "2024-09-06T17:10:01.141Z"
   },
   {
    "duration": 12,
    "start_time": "2024-09-06T17:10:01.147Z"
   },
   {
    "duration": 13,
    "start_time": "2024-09-06T17:10:01.160Z"
   },
   {
    "duration": 11233,
    "start_time": "2024-09-06T17:10:01.175Z"
   },
   {
    "duration": 2,
    "start_time": "2024-09-06T17:10:12.410Z"
   },
   {
    "duration": 21,
    "start_time": "2024-09-06T17:10:12.413Z"
   },
   {
    "duration": 23,
    "start_time": "2024-09-06T17:10:12.436Z"
   },
   {
    "duration": 30,
    "start_time": "2024-09-06T17:10:12.460Z"
   },
   {
    "duration": 22,
    "start_time": "2024-09-06T17:10:12.492Z"
   },
   {
    "duration": 23429,
    "start_time": "2024-09-06T17:10:12.516Z"
   },
   {
    "duration": 3,
    "start_time": "2024-09-06T17:10:35.946Z"
   },
   {
    "duration": 44,
    "start_time": "2024-09-06T17:10:35.950Z"
   },
   {
    "duration": 6,
    "start_time": "2024-09-06T17:10:35.995Z"
   },
   {
    "duration": 21,
    "start_time": "2024-09-06T17:10:36.002Z"
   },
   {
    "duration": 25,
    "start_time": "2024-09-06T17:10:36.025Z"
   },
   {
    "duration": 9,
    "start_time": "2024-09-06T17:10:36.052Z"
   },
   {
    "duration": 6,
    "start_time": "2024-09-06T17:10:36.062Z"
   },
   {
    "duration": 23,
    "start_time": "2024-09-06T17:10:36.069Z"
   },
   {
    "duration": 26,
    "start_time": "2024-09-06T17:10:36.094Z"
   },
   {
    "duration": 11,
    "start_time": "2024-09-06T17:10:36.122Z"
   },
   {
    "duration": 94,
    "start_time": "2024-09-06T17:10:36.134Z"
   },
   {
    "duration": 5,
    "start_time": "2024-09-06T17:10:36.230Z"
   },
   {
    "duration": 12,
    "start_time": "2024-09-06T17:10:36.237Z"
   },
   {
    "duration": 6,
    "start_time": "2024-09-06T17:10:36.251Z"
   },
   {
    "duration": 2,
    "start_time": "2024-09-06T17:10:36.258Z"
   },
   {
    "duration": 12,
    "start_time": "2024-09-06T17:10:36.261Z"
   },
   {
    "duration": 34,
    "start_time": "2024-09-06T17:10:36.275Z"
   },
   {
    "duration": 15,
    "start_time": "2024-09-06T17:10:36.310Z"
   },
   {
    "duration": 12,
    "start_time": "2024-09-06T17:10:36.327Z"
   },
   {
    "duration": 713,
    "start_time": "2024-09-06T17:10:36.340Z"
   },
   {
    "duration": 62,
    "start_time": "2024-09-06T17:21:27.172Z"
   },
   {
    "duration": 63,
    "start_time": "2024-09-06T17:21:35.187Z"
   },
   {
    "duration": 56,
    "start_time": "2024-09-06T17:22:11.083Z"
   },
   {
    "duration": 54,
    "start_time": "2024-09-06T17:22:21.558Z"
   },
   {
    "duration": 312,
    "start_time": "2024-09-06T17:22:39.638Z"
   },
   {
    "duration": 0,
    "start_time": "2024-09-06T17:22:39.951Z"
   },
   {
    "duration": 59,
    "start_time": "2024-09-06T17:22:48.255Z"
   },
   {
    "duration": 4,
    "start_time": "2024-09-06T17:23:06.852Z"
   },
   {
    "duration": 3,
    "start_time": "2024-09-06T17:23:57.364Z"
   },
   {
    "duration": 3,
    "start_time": "2024-09-06T17:23:58.286Z"
   },
   {
    "duration": 4,
    "start_time": "2024-09-06T17:23:58.833Z"
   },
   {
    "duration": 4,
    "start_time": "2024-09-06T17:24:43.701Z"
   },
   {
    "duration": 3,
    "start_time": "2024-09-06T17:24:48.177Z"
   },
   {
    "duration": 3,
    "start_time": "2024-09-06T17:24:50.867Z"
   },
   {
    "duration": 3,
    "start_time": "2024-09-06T17:24:51.288Z"
   },
   {
    "duration": 3,
    "start_time": "2024-09-06T17:24:52.205Z"
   },
   {
    "duration": 4,
    "start_time": "2024-09-06T17:24:52.738Z"
   },
   {
    "duration": 3,
    "start_time": "2024-09-06T17:24:53.251Z"
   },
   {
    "duration": 10,
    "start_time": "2024-09-06T17:24:54.843Z"
   },
   {
    "duration": 3,
    "start_time": "2024-09-06T17:26:12.127Z"
   },
   {
    "duration": 3,
    "start_time": "2024-09-06T17:26:12.891Z"
   },
   {
    "duration": 3,
    "start_time": "2024-09-06T17:26:13.071Z"
   },
   {
    "duration": 2,
    "start_time": "2024-09-06T17:26:13.462Z"
   },
   {
    "duration": 4,
    "start_time": "2024-09-06T17:26:14.495Z"
   },
   {
    "duration": 3,
    "start_time": "2024-09-06T17:26:15.019Z"
   },
   {
    "duration": 9,
    "start_time": "2024-09-06T17:26:15.840Z"
   },
   {
    "duration": 23955,
    "start_time": "2024-09-06T17:27:05.628Z"
   },
   {
    "duration": 1331,
    "start_time": "2024-09-06T17:27:29.586Z"
   },
   {
    "duration": 146,
    "start_time": "2024-09-06T17:27:30.918Z"
   },
   {
    "duration": 285,
    "start_time": "2024-09-06T17:27:31.066Z"
   },
   {
    "duration": 7,
    "start_time": "2024-09-06T17:27:31.353Z"
   },
   {
    "duration": 3108,
    "start_time": "2024-09-06T17:27:31.361Z"
   },
   {
    "duration": 3,
    "start_time": "2024-09-06T17:27:34.470Z"
   },
   {
    "duration": 19,
    "start_time": "2024-09-06T17:27:34.475Z"
   },
   {
    "duration": 920,
    "start_time": "2024-09-06T17:27:34.495Z"
   },
   {
    "duration": 4,
    "start_time": "2024-09-06T17:27:35.417Z"
   },
   {
    "duration": 83115,
    "start_time": "2024-09-06T17:27:35.422Z"
   },
   {
    "duration": 6,
    "start_time": "2024-09-06T17:28:58.539Z"
   },
   {
    "duration": 5,
    "start_time": "2024-09-06T17:28:58.547Z"
   },
   {
    "duration": 16,
    "start_time": "2024-09-06T17:28:58.554Z"
   },
   {
    "duration": 28,
    "start_time": "2024-09-06T17:28:58.571Z"
   },
   {
    "duration": 109,
    "start_time": "2024-09-06T17:28:58.601Z"
   },
   {
    "duration": 3,
    "start_time": "2024-09-06T17:28:58.711Z"
   },
   {
    "duration": 81,
    "start_time": "2024-09-06T17:28:58.715Z"
   },
   {
    "duration": 19,
    "start_time": "2024-09-06T17:28:58.797Z"
   },
   {
    "duration": 45,
    "start_time": "2024-09-06T17:28:58.818Z"
   },
   {
    "duration": 2,
    "start_time": "2024-09-06T17:28:58.864Z"
   },
   {
    "duration": 25,
    "start_time": "2024-09-06T17:28:58.868Z"
   },
   {
    "duration": 47,
    "start_time": "2024-09-06T17:28:58.894Z"
   },
   {
    "duration": 18,
    "start_time": "2024-09-06T17:28:58.942Z"
   },
   {
    "duration": 8,
    "start_time": "2024-09-06T17:28:58.961Z"
   },
   {
    "duration": 4,
    "start_time": "2024-09-06T17:28:58.970Z"
   },
   {
    "duration": 6,
    "start_time": "2024-09-06T17:28:58.975Z"
   },
   {
    "duration": 4,
    "start_time": "2024-09-06T17:28:58.985Z"
   },
   {
    "duration": 13,
    "start_time": "2024-09-06T17:28:58.990Z"
   },
   {
    "duration": 6,
    "start_time": "2024-09-06T17:28:59.004Z"
   },
   {
    "duration": 7,
    "start_time": "2024-09-06T17:28:59.011Z"
   },
   {
    "duration": 2,
    "start_time": "2024-09-06T17:28:59.019Z"
   },
   {
    "duration": 4,
    "start_time": "2024-09-06T17:28:59.023Z"
   },
   {
    "duration": 3,
    "start_time": "2024-09-06T17:28:59.029Z"
   },
   {
    "duration": 6,
    "start_time": "2024-09-06T17:28:59.033Z"
   },
   {
    "duration": 407,
    "start_time": "2024-09-06T17:28:59.040Z"
   },
   {
    "duration": 4,
    "start_time": "2024-09-06T17:28:59.449Z"
   },
   {
    "duration": 1144,
    "start_time": "2024-09-06T17:28:59.455Z"
   },
   {
    "duration": 6,
    "start_time": "2024-09-06T17:29:00.691Z"
   },
   {
    "duration": 25,
    "start_time": "2024-09-06T17:29:00.699Z"
   },
   {
    "duration": 1565,
    "start_time": "2024-09-06T17:29:00.725Z"
   },
   {
    "duration": 3,
    "start_time": "2024-09-06T17:29:02.292Z"
   },
   {
    "duration": 38,
    "start_time": "2024-09-06T17:29:02.296Z"
   },
   {
    "duration": 4,
    "start_time": "2024-09-06T17:29:02.336Z"
   },
   {
    "duration": 12,
    "start_time": "2024-09-06T17:29:02.341Z"
   },
   {
    "duration": 22,
    "start_time": "2024-09-06T17:29:02.354Z"
   },
   {
    "duration": 4,
    "start_time": "2024-09-06T17:29:02.377Z"
   },
   {
    "duration": 37,
    "start_time": "2024-09-06T17:29:02.382Z"
   },
   {
    "duration": 12,
    "start_time": "2024-09-06T17:29:02.422Z"
   },
   {
    "duration": 6,
    "start_time": "2024-09-06T17:29:02.435Z"
   },
   {
    "duration": 8,
    "start_time": "2024-09-06T17:29:02.442Z"
   },
   {
    "duration": 6,
    "start_time": "2024-09-06T17:29:02.451Z"
   },
   {
    "duration": 22031,
    "start_time": "2024-09-06T17:29:02.459Z"
   },
   {
    "duration": 3,
    "start_time": "2024-09-06T17:29:24.491Z"
   },
   {
    "duration": 7,
    "start_time": "2024-09-06T17:29:24.495Z"
   },
   {
    "duration": 13,
    "start_time": "2024-09-06T17:29:24.503Z"
   },
   {
    "duration": 9,
    "start_time": "2024-09-06T17:29:24.518Z"
   },
   {
    "duration": 9,
    "start_time": "2024-09-06T17:29:24.528Z"
   },
   {
    "duration": 11115,
    "start_time": "2024-09-06T17:29:24.538Z"
   },
   {
    "duration": 3,
    "start_time": "2024-09-06T17:29:35.655Z"
   },
   {
    "duration": 6,
    "start_time": "2024-09-06T17:29:35.659Z"
   },
   {
    "duration": 9,
    "start_time": "2024-09-06T17:29:35.666Z"
   },
   {
    "duration": 17,
    "start_time": "2024-09-06T17:29:35.689Z"
   },
   {
    "duration": 4,
    "start_time": "2024-09-06T17:29:35.707Z"
   },
   {
    "duration": 23086,
    "start_time": "2024-09-06T17:29:35.713Z"
   },
   {
    "duration": 3,
    "start_time": "2024-09-06T17:29:58.800Z"
   },
   {
    "duration": 6,
    "start_time": "2024-09-06T17:29:58.804Z"
   },
   {
    "duration": 10,
    "start_time": "2024-09-06T17:29:58.811Z"
   },
   {
    "duration": 3,
    "start_time": "2024-09-06T17:29:58.822Z"
   },
   {
    "duration": 7,
    "start_time": "2024-09-06T17:29:58.827Z"
   },
   {
    "duration": 3,
    "start_time": "2024-09-06T17:29:58.836Z"
   },
   {
    "duration": 5,
    "start_time": "2024-09-06T17:29:58.840Z"
   },
   {
    "duration": 5,
    "start_time": "2024-09-06T17:29:58.846Z"
   },
   {
    "duration": 4,
    "start_time": "2024-09-06T17:29:58.852Z"
   },
   {
    "duration": 4,
    "start_time": "2024-09-06T17:29:58.857Z"
   },
   {
    "duration": 4,
    "start_time": "2024-09-06T17:29:58.889Z"
   },
   {
    "duration": 19,
    "start_time": "2024-09-06T17:29:58.894Z"
   },
   {
    "duration": 9,
    "start_time": "2024-09-06T17:29:58.914Z"
   },
   {
    "duration": 3,
    "start_time": "2024-09-06T17:29:58.924Z"
   },
   {
    "duration": 6,
    "start_time": "2024-09-06T17:29:58.929Z"
   },
   {
    "duration": 33,
    "start_time": "2024-09-06T17:29:58.936Z"
   },
   {
    "duration": 10,
    "start_time": "2024-09-06T17:29:58.974Z"
   },
   {
    "duration": 4,
    "start_time": "2024-09-06T17:29:58.985Z"
   },
   {
    "duration": 647,
    "start_time": "2024-09-06T17:29:58.990Z"
   },
   {
    "duration": 689,
    "start_time": "2024-09-06T17:31:05.453Z"
   },
   {
    "duration": 548,
    "start_time": "2024-09-06T17:31:19.631Z"
   },
   {
    "duration": 4,
    "start_time": "2024-09-06T17:34:31.456Z"
   },
   {
    "duration": 22892,
    "start_time": "2024-09-06T17:35:25.491Z"
   },
   {
    "duration": 1324,
    "start_time": "2024-09-06T17:35:48.385Z"
   },
   {
    "duration": 140,
    "start_time": "2024-09-06T17:35:49.711Z"
   },
   {
    "duration": 274,
    "start_time": "2024-09-06T17:35:49.853Z"
   },
   {
    "duration": 7,
    "start_time": "2024-09-06T17:35:50.128Z"
   },
   {
    "duration": 3049,
    "start_time": "2024-09-06T17:35:50.136Z"
   },
   {
    "duration": 3,
    "start_time": "2024-09-06T17:35:53.187Z"
   },
   {
    "duration": 12,
    "start_time": "2024-09-06T17:35:53.191Z"
   },
   {
    "duration": 891,
    "start_time": "2024-09-06T17:35:53.204Z"
   },
   {
    "duration": 3,
    "start_time": "2024-09-06T17:35:54.097Z"
   },
   {
    "duration": 2585175,
    "start_time": "2024-09-06T17:35:54.101Z"
   },
   {
    "duration": 16,
    "start_time": "2024-09-06T18:18:59.278Z"
   },
   {
    "duration": 11,
    "start_time": "2024-09-06T18:18:59.296Z"
   },
   {
    "duration": 61,
    "start_time": "2024-09-06T18:18:59.308Z"
   },
   {
    "duration": 31,
    "start_time": "2024-09-06T18:18:59.371Z"
   },
   {
    "duration": 190,
    "start_time": "2024-09-06T18:18:59.404Z"
   },
   {
    "duration": 3,
    "start_time": "2024-09-06T18:18:59.596Z"
   },
   {
    "duration": 19,
    "start_time": "2024-09-06T18:18:59.600Z"
   },
   {
    "duration": 40,
    "start_time": "2024-09-06T18:18:59.621Z"
   },
   {
    "duration": 605,
    "start_time": "2024-09-06T18:18:59.662Z"
   },
   {
    "duration": 2,
    "start_time": "2024-09-06T18:19:00.268Z"
   },
   {
    "duration": 32,
    "start_time": "2024-09-06T18:19:00.272Z"
   },
   {
    "duration": 51,
    "start_time": "2024-09-06T18:19:00.306Z"
   },
   {
    "duration": 40,
    "start_time": "2024-09-06T18:19:00.359Z"
   },
   {
    "duration": 28,
    "start_time": "2024-09-06T18:19:00.401Z"
   },
   {
    "duration": 37,
    "start_time": "2024-09-06T18:19:00.431Z"
   },
   {
    "duration": 24,
    "start_time": "2024-09-06T18:19:00.470Z"
   },
   {
    "duration": 41,
    "start_time": "2024-09-06T18:19:00.499Z"
   },
   {
    "duration": 32,
    "start_time": "2024-09-06T18:19:00.541Z"
   },
   {
    "duration": 40,
    "start_time": "2024-09-06T18:19:00.575Z"
   },
   {
    "duration": 7,
    "start_time": "2024-09-06T18:19:00.617Z"
   },
   {
    "duration": 17,
    "start_time": "2024-09-06T18:19:00.626Z"
   },
   {
    "duration": 20,
    "start_time": "2024-09-06T18:19:00.645Z"
   },
   {
    "duration": 31,
    "start_time": "2024-09-06T18:19:00.667Z"
   },
   {
    "duration": 43,
    "start_time": "2024-09-06T18:19:00.700Z"
   },
   {
    "duration": 6515,
    "start_time": "2024-09-06T18:19:00.745Z"
   },
   {
    "duration": 4,
    "start_time": "2024-09-06T18:19:07.262Z"
   },
   {
    "duration": 13774,
    "start_time": "2024-09-06T18:19:07.267Z"
   },
   {
    "duration": 63,
    "start_time": "2024-09-06T18:19:21.042Z"
   },
   {
    "duration": 8,
    "start_time": "2024-09-06T18:19:21.107Z"
   },
   {
    "duration": 14712,
    "start_time": "2024-09-06T18:19:21.117Z"
   },
   {
    "duration": 2,
    "start_time": "2024-09-06T18:19:35.831Z"
   },
   {
    "duration": 47,
    "start_time": "2024-09-06T18:19:35.835Z"
   },
   {
    "duration": 6,
    "start_time": "2024-09-06T18:19:35.884Z"
   },
   {
    "duration": 6,
    "start_time": "2024-09-06T18:19:35.892Z"
   },
   {
    "duration": 26,
    "start_time": "2024-09-06T18:19:35.899Z"
   },
   {
    "duration": 15,
    "start_time": "2024-09-06T18:19:35.926Z"
   },
   {
    "duration": 9,
    "start_time": "2024-09-06T18:19:35.942Z"
   },
   {
    "duration": 6,
    "start_time": "2024-09-06T18:19:35.953Z"
   },
   {
    "duration": 4,
    "start_time": "2024-09-06T18:19:35.961Z"
   },
   {
    "duration": 3,
    "start_time": "2024-09-06T18:19:35.967Z"
   },
   {
    "duration": 11,
    "start_time": "2024-09-06T18:19:35.972Z"
   },
   {
    "duration": 462332,
    "start_time": "2024-09-06T18:19:35.984Z"
   },
   {
    "duration": 3,
    "start_time": "2024-09-06T18:27:18.318Z"
   },
   {
    "duration": 16,
    "start_time": "2024-09-06T18:27:18.323Z"
   },
   {
    "duration": 5,
    "start_time": "2024-09-06T18:27:18.341Z"
   },
   {
    "duration": 4,
    "start_time": "2024-09-06T18:27:18.347Z"
   },
   {
    "duration": 3,
    "start_time": "2024-09-06T18:27:18.353Z"
   },
   {
    "duration": 340568,
    "start_time": "2024-09-06T18:27:18.358Z"
   },
   {
    "duration": 3,
    "start_time": "2024-09-06T18:32:58.928Z"
   },
   {
    "duration": 9,
    "start_time": "2024-09-06T18:32:58.932Z"
   },
   {
    "duration": 12,
    "start_time": "2024-09-06T18:32:58.943Z"
   },
   {
    "duration": 5,
    "start_time": "2024-09-06T18:32:58.956Z"
   },
   {
    "duration": 6,
    "start_time": "2024-09-06T18:32:58.962Z"
   },
   {
    "duration": 484488,
    "start_time": "2024-09-06T18:32:58.969Z"
   },
   {
    "duration": 2,
    "start_time": "2024-09-06T18:41:03.459Z"
   },
   {
    "duration": 23,
    "start_time": "2024-09-06T18:41:03.463Z"
   },
   {
    "duration": 26,
    "start_time": "2024-09-06T18:41:03.487Z"
   },
   {
    "duration": 17,
    "start_time": "2024-09-06T18:41:03.515Z"
   },
   {
    "duration": 5,
    "start_time": "2024-09-06T18:41:03.533Z"
   },
   {
    "duration": 21,
    "start_time": "2024-09-06T18:41:03.539Z"
   },
   {
    "duration": 5,
    "start_time": "2024-09-06T18:41:03.561Z"
   },
   {
    "duration": 24,
    "start_time": "2024-09-06T18:41:03.568Z"
   },
   {
    "duration": 16,
    "start_time": "2024-09-06T18:41:03.594Z"
   },
   {
    "duration": 25,
    "start_time": "2024-09-06T18:41:03.611Z"
   },
   {
    "duration": 23,
    "start_time": "2024-09-06T18:41:03.638Z"
   },
   {
    "duration": 11,
    "start_time": "2024-09-06T18:41:03.662Z"
   },
   {
    "duration": 8,
    "start_time": "2024-09-06T18:41:03.675Z"
   },
   {
    "duration": 64,
    "start_time": "2024-09-06T18:41:03.684Z"
   },
   {
    "duration": 8,
    "start_time": "2024-09-06T18:41:03.749Z"
   },
   {
    "duration": 33,
    "start_time": "2024-09-06T18:41:03.758Z"
   },
   {
    "duration": 10,
    "start_time": "2024-09-06T18:41:03.796Z"
   },
   {
    "duration": 18,
    "start_time": "2024-09-06T18:41:03.807Z"
   },
   {
    "duration": 650,
    "start_time": "2024-09-06T18:41:03.827Z"
   },
   {
    "duration": 321,
    "start_time": "2024-09-06T18:55:37.468Z"
   },
   {
    "duration": 17,
    "start_time": "2024-09-06T18:55:44.422Z"
   },
   {
    "duration": 8,
    "start_time": "2024-09-06T18:55:56.850Z"
   },
   {
    "duration": 759,
    "start_time": "2024-09-06T18:56:06.524Z"
   },
   {
    "duration": 736,
    "start_time": "2024-09-06T18:56:24.057Z"
   },
   {
    "duration": 10,
    "start_time": "2024-09-06T18:57:13.073Z"
   },
   {
    "duration": 8,
    "start_time": "2024-09-06T18:57:39.333Z"
   },
   {
    "duration": 5,
    "start_time": "2024-09-06T18:59:07.571Z"
   },
   {
    "duration": 4,
    "start_time": "2024-09-06T19:10:29.012Z"
   },
   {
    "duration": 15229,
    "start_time": "2024-09-06T19:10:37.806Z"
   },
   {
    "duration": 4,
    "start_time": "2024-09-06T19:12:06.343Z"
   },
   {
    "duration": 14599,
    "start_time": "2024-09-06T19:12:06.348Z"
   },
   {
    "duration": 16183,
    "start_time": "2024-09-06T19:12:20.949Z"
   },
   {
    "duration": 15790,
    "start_time": "2024-09-06T19:12:52.216Z"
   },
   {
    "duration": 1311,
    "start_time": "2024-09-06T19:13:08.009Z"
   },
   {
    "duration": 151,
    "start_time": "2024-09-06T19:13:09.321Z"
   },
   {
    "duration": 282,
    "start_time": "2024-09-06T19:13:09.474Z"
   },
   {
    "duration": 3155,
    "start_time": "2024-09-06T19:13:09.757Z"
   },
   {
    "duration": 3,
    "start_time": "2024-09-06T19:13:12.914Z"
   },
   {
    "duration": 22,
    "start_time": "2024-09-06T19:13:12.919Z"
   },
   {
    "duration": 6,
    "start_time": "2024-09-06T19:13:12.943Z"
   },
   {
    "duration": 950,
    "start_time": "2024-09-06T19:13:12.951Z"
   },
   {
    "duration": 3,
    "start_time": "2024-09-06T19:13:13.904Z"
   },
   {
    "duration": 2671147,
    "start_time": "2024-09-06T19:13:13.908Z"
   },
   {
    "duration": 8,
    "start_time": "2024-09-06T19:57:45.057Z"
   },
   {
    "duration": 40,
    "start_time": "2024-09-06T19:57:45.066Z"
   },
   {
    "duration": 97,
    "start_time": "2024-09-06T19:57:45.107Z"
   },
   {
    "duration": 40,
    "start_time": "2024-09-06T19:57:45.205Z"
   },
   {
    "duration": 160,
    "start_time": "2024-09-06T19:57:45.246Z"
   },
   {
    "duration": 3,
    "start_time": "2024-09-06T19:57:45.407Z"
   },
   {
    "duration": 86,
    "start_time": "2024-09-06T19:57:45.412Z"
   },
   {
    "duration": 32,
    "start_time": "2024-09-06T19:57:45.500Z"
   },
   {
    "duration": 612,
    "start_time": "2024-09-06T19:57:45.533Z"
   },
   {
    "duration": 3,
    "start_time": "2024-09-06T19:57:46.147Z"
   },
   {
    "duration": 15,
    "start_time": "2024-09-06T19:57:46.151Z"
   },
   {
    "duration": 38,
    "start_time": "2024-09-06T19:57:46.168Z"
   },
   {
    "duration": 14,
    "start_time": "2024-09-06T19:57:46.208Z"
   },
   {
    "duration": 2,
    "start_time": "2024-09-06T19:57:46.224Z"
   },
   {
    "duration": 5,
    "start_time": "2024-09-06T19:57:46.228Z"
   },
   {
    "duration": 4,
    "start_time": "2024-09-06T19:57:46.234Z"
   },
   {
    "duration": 14,
    "start_time": "2024-09-06T19:57:46.243Z"
   },
   {
    "duration": 34,
    "start_time": "2024-09-06T19:57:46.258Z"
   },
   {
    "duration": 39,
    "start_time": "2024-09-06T19:57:46.294Z"
   },
   {
    "duration": 6,
    "start_time": "2024-09-06T19:57:46.335Z"
   },
   {
    "duration": 3,
    "start_time": "2024-09-06T19:57:46.343Z"
   },
   {
    "duration": 25,
    "start_time": "2024-09-06T19:57:46.348Z"
   },
   {
    "duration": 17,
    "start_time": "2024-09-06T19:57:46.375Z"
   },
   {
    "duration": 53,
    "start_time": "2024-09-06T19:57:46.394Z"
   },
   {
    "duration": 6985,
    "start_time": "2024-09-06T19:57:46.449Z"
   },
   {
    "duration": 4,
    "start_time": "2024-09-06T19:57:53.436Z"
   },
   {
    "duration": 15102,
    "start_time": "2024-09-06T19:57:53.442Z"
   },
   {
    "duration": 68,
    "start_time": "2024-09-06T19:58:08.545Z"
   },
   {
    "duration": 10,
    "start_time": "2024-09-06T19:58:08.614Z"
   },
   {
    "duration": 16496,
    "start_time": "2024-09-06T19:58:08.626Z"
   },
   {
    "duration": 3,
    "start_time": "2024-09-06T19:58:25.124Z"
   },
   {
    "duration": 11,
    "start_time": "2024-09-06T19:58:25.128Z"
   },
   {
    "duration": 3,
    "start_time": "2024-09-06T19:58:25.141Z"
   },
   {
    "duration": 5,
    "start_time": "2024-09-06T19:58:25.146Z"
   },
   {
    "duration": 11,
    "start_time": "2024-09-06T19:58:25.153Z"
   },
   {
    "duration": 29,
    "start_time": "2024-09-06T19:58:25.166Z"
   },
   {
    "duration": 6,
    "start_time": "2024-09-06T19:58:25.197Z"
   },
   {
    "duration": 4,
    "start_time": "2024-09-06T19:58:25.205Z"
   },
   {
    "duration": 6,
    "start_time": "2024-09-06T19:58:25.210Z"
   },
   {
    "duration": 3,
    "start_time": "2024-09-06T19:58:25.218Z"
   },
   {
    "duration": 17,
    "start_time": "2024-09-06T19:58:25.223Z"
   },
   {
    "duration": 461569,
    "start_time": "2024-09-06T19:58:25.242Z"
   },
   {
    "duration": 3,
    "start_time": "2024-09-06T20:06:06.813Z"
   },
   {
    "duration": 23,
    "start_time": "2024-09-06T20:06:06.817Z"
   },
   {
    "duration": 11,
    "start_time": "2024-09-06T20:06:06.842Z"
   },
   {
    "duration": 6,
    "start_time": "2024-09-06T20:06:06.854Z"
   },
   {
    "duration": 8,
    "start_time": "2024-09-06T20:06:06.862Z"
   },
   {
    "duration": 338365,
    "start_time": "2024-09-06T20:06:06.871Z"
   },
   {
    "duration": 3,
    "start_time": "2024-09-06T20:11:45.237Z"
   },
   {
    "duration": 29,
    "start_time": "2024-09-06T20:11:45.241Z"
   },
   {
    "duration": 29,
    "start_time": "2024-09-06T20:11:45.272Z"
   },
   {
    "duration": 72,
    "start_time": "2024-09-06T20:11:45.303Z"
   },
   {
    "duration": 18,
    "start_time": "2024-09-06T20:11:45.376Z"
   },
   {
    "duration": 488245,
    "start_time": "2024-09-06T20:11:45.395Z"
   },
   {
    "duration": 3,
    "start_time": "2024-09-06T20:19:53.641Z"
   },
   {
    "duration": 23,
    "start_time": "2024-09-06T20:19:53.645Z"
   },
   {
    "duration": 15,
    "start_time": "2024-09-06T20:19:53.670Z"
   },
   {
    "duration": 82,
    "start_time": "2024-09-06T20:19:53.686Z"
   },
   {
    "duration": 0,
    "start_time": "2024-09-06T20:19:53.770Z"
   },
   {
    "duration": 0,
    "start_time": "2024-09-06T20:19:53.771Z"
   },
   {
    "duration": 0,
    "start_time": "2024-09-06T20:19:53.772Z"
   },
   {
    "duration": 0,
    "start_time": "2024-09-06T20:19:53.773Z"
   },
   {
    "duration": 0,
    "start_time": "2024-09-06T20:19:53.774Z"
   },
   {
    "duration": 0,
    "start_time": "2024-09-06T20:19:53.775Z"
   },
   {
    "duration": 0,
    "start_time": "2024-09-06T20:19:53.776Z"
   },
   {
    "duration": 0,
    "start_time": "2024-09-06T20:19:53.777Z"
   },
   {
    "duration": 0,
    "start_time": "2024-09-06T20:19:53.778Z"
   },
   {
    "duration": 0,
    "start_time": "2024-09-06T20:19:53.779Z"
   },
   {
    "duration": 0,
    "start_time": "2024-09-06T20:19:53.780Z"
   },
   {
    "duration": 0,
    "start_time": "2024-09-06T20:19:53.781Z"
   },
   {
    "duration": 0,
    "start_time": "2024-09-06T20:19:53.782Z"
   },
   {
    "duration": 0,
    "start_time": "2024-09-06T20:19:53.783Z"
   },
   {
    "duration": 0,
    "start_time": "2024-09-06T20:19:53.784Z"
   },
   {
    "duration": 0,
    "start_time": "2024-09-06T20:19:53.785Z"
   },
   {
    "duration": 0,
    "start_time": "2024-09-06T20:19:53.786Z"
   },
   {
    "duration": 0,
    "start_time": "2024-09-06T20:19:53.787Z"
   },
   {
    "duration": 3,
    "start_time": "2024-09-06T20:20:54.482Z"
   },
   {
    "duration": 3,
    "start_time": "2024-09-06T20:20:55.203Z"
   },
   {
    "duration": 3,
    "start_time": "2024-09-06T20:20:55.401Z"
   },
   {
    "duration": 2,
    "start_time": "2024-09-06T20:20:55.659Z"
   },
   {
    "duration": 5,
    "start_time": "2024-09-06T20:20:55.964Z"
   },
   {
    "duration": 3,
    "start_time": "2024-09-06T20:20:56.114Z"
   },
   {
    "duration": 10,
    "start_time": "2024-09-06T20:20:56.303Z"
   },
   {
    "duration": 3,
    "start_time": "2024-09-06T20:20:56.454Z"
   },
   {
    "duration": 621,
    "start_time": "2024-09-06T20:20:56.607Z"
   },
   {
    "duration": 733,
    "start_time": "2024-09-06T20:20:57.229Z"
   },
   {
    "duration": 11,
    "start_time": "2024-09-06T20:20:57.963Z"
   },
   {
    "duration": 14,
    "start_time": "2024-09-06T20:20:57.976Z"
   },
   {
    "duration": 2,
    "start_time": "2024-09-06T20:22:09.354Z"
   }
  ],
  "kernelspec": {
   "display_name": "Python 3 (ipykernel)",
   "language": "python",
   "name": "python3"
  },
  "language_info": {
   "codemirror_mode": {
    "name": "ipython",
    "version": 3
   },
   "file_extension": ".py",
   "mimetype": "text/x-python",
   "name": "python",
   "nbconvert_exporter": "python",
   "pygments_lexer": "ipython3",
   "version": "3.12.7"
  },
  "toc": {
   "base_numbering": 1,
   "nav_menu": {},
   "number_sections": true,
   "sideBar": true,
   "skip_h1_title": true,
   "title_cell": "Содержание",
   "title_sidebar": "Contents",
   "toc_cell": true,
   "toc_position": {
    "height": "calc(100% - 180px)",
    "left": "10px",
    "top": "150px",
    "width": "165px"
   },
   "toc_section_display": true,
   "toc_window_display": true
  }
 },
 "nbformat": 4,
 "nbformat_minor": 4
}
