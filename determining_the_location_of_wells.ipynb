{
 "cells": [
  {
   "cell_type": "markdown",
   "metadata": {},
   "source": [
    "# Выбор локации для скважины"
   ]
  },
  {
   "cell_type": "markdown",
   "metadata": {},
   "source": [
    "Допустим, вы работаете в добывающей компании «ГлавРосГосНефть». Нужно решить, где бурить новую скважину.\n",
    "\n",
    "Вам предоставлены пробы нефти в трёх регионах: в каждом 10 000 месторождений, где измерили качество нефти и объём её запасов. Постройте модель машинного обучения, которая поможет определить регион, где добыча принесёт наибольшую прибыль. Проанализируйте возможную прибыль и риски техникой *Bootstrap.*\n",
    "\n",
    "Шаги для выбора локации:\n",
    "\n",
    "- В избранном регионе ищут месторождения, для каждого определяют значения признаков;\n",
    "- Строят модель и оценивают объём запасов;\n",
    "- Выбирают месторождения с самым высокими оценками значений. Количество месторождений зависит от бюджета компании и стоимости разработки одной скважины;\n",
    "- Прибыль равна суммарной прибыли отобранных месторождений."
   ]
  },
  {
   "cell_type": "markdown",
   "metadata": {},
   "source": [
    "## Загрузка и подготовка данных"
   ]
  },
  {
   "cell_type": "markdown",
   "metadata": {},
   "source": [
    "Для начала необходимо обновить и импортировать библиотеки<br>\n",
    "Ячейки с библиотеками разбиты на ячейки соответственно их направлению использования для более удобной проверки импортируемых частей"
   ]
  },
  {
   "cell_type": "markdown",
   "metadata": {},
   "source": [
    "### Установка библиотек"
   ]
  },
  {
   "cell_type": "markdown",
   "metadata": {},
   "source": [
    "Моделирование"
   ]
  },
  {
   "cell_type": "code",
   "execution_count": 1,
   "metadata": {},
   "outputs": [
    {
     "name": "stdout",
     "output_type": "stream",
     "text": [
      "Requirement already satisfied: scikit-learn==1.4.0 in /opt/conda/lib/python3.9/site-packages (1.4.0)\n",
      "Requirement already satisfied: joblib>=1.2.0 in /opt/conda/lib/python3.9/site-packages (from scikit-learn==1.4.0) (1.4.2)\n",
      "Requirement already satisfied: threadpoolctl>=2.0.0 in /opt/conda/lib/python3.9/site-packages (from scikit-learn==1.4.0) (3.1.0)\n",
      "Requirement already satisfied: numpy<2.0,>=1.19.5 in /opt/conda/lib/python3.9/site-packages (from scikit-learn==1.4.0) (1.21.1)\n",
      "Requirement already satisfied: scipy>=1.6.0 in /opt/conda/lib/python3.9/site-packages (from scikit-learn==1.4.0) (1.9.1)\n"
     ]
    }
   ],
   "source": [
    "!pip install scikit-learn==1.4.0"
   ]
  },
  {
   "cell_type": "markdown",
   "metadata": {},
   "source": [
    "Визуализация"
   ]
  },
  {
   "cell_type": "code",
   "execution_count": 2,
   "metadata": {},
   "outputs": [
    {
     "name": "stdout",
     "output_type": "stream",
     "text": [
      "Requirement already satisfied: matplotlib==3.8.4 in /opt/conda/lib/python3.9/site-packages (3.8.4)\n",
      "Requirement already satisfied: packaging>=20.0 in /opt/conda/lib/python3.9/site-packages (from matplotlib==3.8.4) (21.3)\n",
      "Requirement already satisfied: pillow>=8 in /opt/conda/lib/python3.9/site-packages (from matplotlib==3.8.4) (8.4.0)\n",
      "Requirement already satisfied: contourpy>=1.0.1 in /opt/conda/lib/python3.9/site-packages (from matplotlib==3.8.4) (1.2.1)\n",
      "Requirement already satisfied: fonttools>=4.22.0 in /opt/conda/lib/python3.9/site-packages (from matplotlib==3.8.4) (4.53.0)\n",
      "Requirement already satisfied: kiwisolver>=1.3.1 in /opt/conda/lib/python3.9/site-packages (from matplotlib==3.8.4) (1.4.4)\n",
      "Requirement already satisfied: cycler>=0.10 in /opt/conda/lib/python3.9/site-packages (from matplotlib==3.8.4) (0.11.0)\n",
      "Requirement already satisfied: importlib-resources>=3.2.0 in /opt/conda/lib/python3.9/site-packages (from matplotlib==3.8.4) (6.4.0)\n",
      "Requirement already satisfied: python-dateutil>=2.7 in /opt/conda/lib/python3.9/site-packages (from matplotlib==3.8.4) (2.8.1)\n",
      "Requirement already satisfied: pyparsing>=2.3.1 in /opt/conda/lib/python3.9/site-packages (from matplotlib==3.8.4) (2.4.7)\n",
      "Requirement already satisfied: numpy>=1.21 in /opt/conda/lib/python3.9/site-packages (from matplotlib==3.8.4) (1.21.1)\n",
      "Requirement already satisfied: zipp>=3.1.0 in /opt/conda/lib/python3.9/site-packages (from importlib-resources>=3.2.0->matplotlib==3.8.4) (3.5.0)\n",
      "Requirement already satisfied: six>=1.5 in /opt/conda/lib/python3.9/site-packages (from python-dateutil>=2.7->matplotlib==3.8.4) (1.16.0)\n",
      "Requirement already satisfied: seaborn==0.13.2 in /opt/conda/lib/python3.9/site-packages (0.13.2)\n",
      "Requirement already satisfied: numpy!=1.24.0,>=1.20 in /opt/conda/lib/python3.9/site-packages (from seaborn==0.13.2) (1.21.1)\n",
      "Requirement already satisfied: matplotlib!=3.6.1,>=3.4 in /opt/conda/lib/python3.9/site-packages (from seaborn==0.13.2) (3.8.4)\n",
      "Requirement already satisfied: pandas>=1.2 in /opt/conda/lib/python3.9/site-packages (from seaborn==0.13.2) (1.2.4)\n",
      "Requirement already satisfied: fonttools>=4.22.0 in /opt/conda/lib/python3.9/site-packages (from matplotlib!=3.6.1,>=3.4->seaborn==0.13.2) (4.53.0)\n",
      "Requirement already satisfied: kiwisolver>=1.3.1 in /opt/conda/lib/python3.9/site-packages (from matplotlib!=3.6.1,>=3.4->seaborn==0.13.2) (1.4.4)\n",
      "Requirement already satisfied: python-dateutil>=2.7 in /opt/conda/lib/python3.9/site-packages (from matplotlib!=3.6.1,>=3.4->seaborn==0.13.2) (2.8.1)\n",
      "Requirement already satisfied: packaging>=20.0 in /opt/conda/lib/python3.9/site-packages (from matplotlib!=3.6.1,>=3.4->seaborn==0.13.2) (21.3)\n",
      "Requirement already satisfied: pillow>=8 in /opt/conda/lib/python3.9/site-packages (from matplotlib!=3.6.1,>=3.4->seaborn==0.13.2) (8.4.0)\n",
      "Requirement already satisfied: pyparsing>=2.3.1 in /opt/conda/lib/python3.9/site-packages (from matplotlib!=3.6.1,>=3.4->seaborn==0.13.2) (2.4.7)\n",
      "Requirement already satisfied: importlib-resources>=3.2.0 in /opt/conda/lib/python3.9/site-packages (from matplotlib!=3.6.1,>=3.4->seaborn==0.13.2) (6.4.0)\n",
      "Requirement already satisfied: contourpy>=1.0.1 in /opt/conda/lib/python3.9/site-packages (from matplotlib!=3.6.1,>=3.4->seaborn==0.13.2) (1.2.1)\n",
      "Requirement already satisfied: cycler>=0.10 in /opt/conda/lib/python3.9/site-packages (from matplotlib!=3.6.1,>=3.4->seaborn==0.13.2) (0.11.0)\n",
      "Requirement already satisfied: zipp>=3.1.0 in /opt/conda/lib/python3.9/site-packages (from importlib-resources>=3.2.0->matplotlib!=3.6.1,>=3.4->seaborn==0.13.2) (3.5.0)\n",
      "Requirement already satisfied: pytz>=2017.3 in /opt/conda/lib/python3.9/site-packages (from pandas>=1.2->seaborn==0.13.2) (2021.1)\n",
      "Requirement already satisfied: six>=1.5 in /opt/conda/lib/python3.9/site-packages (from python-dateutil>=2.7->matplotlib!=3.6.1,>=3.4->seaborn==0.13.2) (1.16.0)\n"
     ]
    }
   ],
   "source": [
    "!pip install matplotlib==3.8.4\n",
    "!pip install seaborn==0.13.2"
   ]
  },
  {
   "cell_type": "markdown",
   "metadata": {},
   "source": [
    "### Импорт библиотек"
   ]
  },
  {
   "cell_type": "markdown",
   "metadata": {},
   "source": [
    "<i>Работа с данными, визуализация<i>"
   ]
  },
  {
   "cell_type": "code",
   "execution_count": 3,
   "metadata": {},
   "outputs": [],
   "source": [
    "import pandas as pd\n",
    "import numpy as np\n",
    "import matplotlib.pyplot as plt\n",
    "import seaborn as sns"
   ]
  },
  {
   "cell_type": "markdown",
   "metadata": {},
   "source": [
    "Настройка pandas"
   ]
  },
  {
   "cell_type": "code",
   "execution_count": 4,
   "metadata": {},
   "outputs": [],
   "source": [
    "pd.option_context(\"display.max_rows\", None, \"display.max_columns\", None);"
   ]
  },
  {
   "cell_type": "markdown",
   "metadata": {},
   "source": [
    "<i>Библиотека sklearn<i>"
   ]
  },
  {
   "cell_type": "code",
   "execution_count": 5,
   "metadata": {},
   "outputs": [],
   "source": [
    "from sklearn.model_selection import train_test_split\n",
    "\n",
    "# загружаем класс pipeline\n",
    "from sklearn.pipeline import Pipeline, make_pipeline\n",
    "\n",
    "# загружаем классы для подготовки данных\n",
    "from sklearn.preprocessing import StandardScaler\n",
    "\n",
    "# загружаем функцию для работы с метриками\n",
    "from sklearn.metrics import mean_squared_error\n",
    "\n",
    "# загружаем нужные модели\n",
    "from sklearn.linear_model import LinearRegression"
   ]
  },
  {
   "cell_type": "markdown",
   "metadata": {},
   "source": [
    "Далее необходимо выгрузить данные и проверить их на корректность"
   ]
  },
  {
   "cell_type": "markdown",
   "metadata": {},
   "source": [
    "### Загрузка данных"
   ]
  },
  {
   "cell_type": "code",
   "execution_count": 6,
   "metadata": {},
   "outputs": [],
   "source": [
    "# Регион-1\n",
    "df_geo_0 = pd.read_csv('/datasets/geo_data_0.csv')\n",
    "# Регион-2\n",
    "df_geo_1 = pd.read_csv('/datasets/geo_data_1.csv')\n",
    "# Регион-3\n",
    "df_geo_2 = pd.read_csv('/datasets/geo_data_2.csv')"
   ]
  },
  {
   "cell_type": "markdown",
   "metadata": {},
   "source": [
    "### Исследование датафреймов на соответствие данных"
   ]
  },
  {
   "cell_type": "code",
   "execution_count": 7,
   "metadata": {},
   "outputs": [
    {
     "name": "stdout",
     "output_type": "stream",
     "text": [
      "<class 'pandas.core.frame.DataFrame'>\n",
      "RangeIndex: 100000 entries, 0 to 99999\n",
      "Data columns (total 5 columns):\n",
      " #   Column   Non-Null Count   Dtype  \n",
      "---  ------   --------------   -----  \n",
      " 0   id       100000 non-null  object \n",
      " 1   f0       100000 non-null  float64\n",
      " 2   f1       100000 non-null  float64\n",
      " 3   f2       100000 non-null  float64\n",
      " 4   product  100000 non-null  float64\n",
      "dtypes: float64(4), object(1)\n",
      "memory usage: 3.8+ MB\n"
     ]
    }
   ],
   "source": [
    "df_geo_0.info()"
   ]
  },
  {
   "cell_type": "markdown",
   "metadata": {},
   "source": [
    "Текстовых данных, кроме id нет."
   ]
  },
  {
   "cell_type": "markdown",
   "metadata": {},
   "source": [
    "Далее рассмотрим общее описание датафреймов"
   ]
  },
  {
   "cell_type": "code",
   "execution_count": 8,
   "metadata": {},
   "outputs": [],
   "source": [
    "def check_df(data):\n",
    "    display(data.head())\n",
    "    display(data.describe())\n",
    "    display(data.info())\n",
    "    data.hist(bins=20)"
   ]
  },
  {
   "cell_type": "markdown",
   "metadata": {},
   "source": [
    "df_geo_0"
   ]
  },
  {
   "cell_type": "code",
   "execution_count": 9,
   "metadata": {},
   "outputs": [
    {
     "data": {
      "text/html": [
       "<div>\n",
       "<style scoped>\n",
       "    .dataframe tbody tr th:only-of-type {\n",
       "        vertical-align: middle;\n",
       "    }\n",
       "\n",
       "    .dataframe tbody tr th {\n",
       "        vertical-align: top;\n",
       "    }\n",
       "\n",
       "    .dataframe thead th {\n",
       "        text-align: right;\n",
       "    }\n",
       "</style>\n",
       "<table border=\"1\" class=\"dataframe\">\n",
       "  <thead>\n",
       "    <tr style=\"text-align: right;\">\n",
       "      <th></th>\n",
       "      <th>id</th>\n",
       "      <th>f0</th>\n",
       "      <th>f1</th>\n",
       "      <th>f2</th>\n",
       "      <th>product</th>\n",
       "    </tr>\n",
       "  </thead>\n",
       "  <tbody>\n",
       "    <tr>\n",
       "      <th>0</th>\n",
       "      <td>txEyH</td>\n",
       "      <td>0.705745</td>\n",
       "      <td>-0.497823</td>\n",
       "      <td>1.221170</td>\n",
       "      <td>105.280062</td>\n",
       "    </tr>\n",
       "    <tr>\n",
       "      <th>1</th>\n",
       "      <td>2acmU</td>\n",
       "      <td>1.334711</td>\n",
       "      <td>-0.340164</td>\n",
       "      <td>4.365080</td>\n",
       "      <td>73.037750</td>\n",
       "    </tr>\n",
       "    <tr>\n",
       "      <th>2</th>\n",
       "      <td>409Wp</td>\n",
       "      <td>1.022732</td>\n",
       "      <td>0.151990</td>\n",
       "      <td>1.419926</td>\n",
       "      <td>85.265647</td>\n",
       "    </tr>\n",
       "    <tr>\n",
       "      <th>3</th>\n",
       "      <td>iJLyR</td>\n",
       "      <td>-0.032172</td>\n",
       "      <td>0.139033</td>\n",
       "      <td>2.978566</td>\n",
       "      <td>168.620776</td>\n",
       "    </tr>\n",
       "    <tr>\n",
       "      <th>4</th>\n",
       "      <td>Xdl7t</td>\n",
       "      <td>1.988431</td>\n",
       "      <td>0.155413</td>\n",
       "      <td>4.751769</td>\n",
       "      <td>154.036647</td>\n",
       "    </tr>\n",
       "  </tbody>\n",
       "</table>\n",
       "</div>"
      ],
      "text/plain": [
       "      id        f0        f1        f2     product\n",
       "0  txEyH  0.705745 -0.497823  1.221170  105.280062\n",
       "1  2acmU  1.334711 -0.340164  4.365080   73.037750\n",
       "2  409Wp  1.022732  0.151990  1.419926   85.265647\n",
       "3  iJLyR -0.032172  0.139033  2.978566  168.620776\n",
       "4  Xdl7t  1.988431  0.155413  4.751769  154.036647"
      ]
     },
     "metadata": {},
     "output_type": "display_data"
    },
    {
     "data": {
      "text/html": [
       "<div>\n",
       "<style scoped>\n",
       "    .dataframe tbody tr th:only-of-type {\n",
       "        vertical-align: middle;\n",
       "    }\n",
       "\n",
       "    .dataframe tbody tr th {\n",
       "        vertical-align: top;\n",
       "    }\n",
       "\n",
       "    .dataframe thead th {\n",
       "        text-align: right;\n",
       "    }\n",
       "</style>\n",
       "<table border=\"1\" class=\"dataframe\">\n",
       "  <thead>\n",
       "    <tr style=\"text-align: right;\">\n",
       "      <th></th>\n",
       "      <th>f0</th>\n",
       "      <th>f1</th>\n",
       "      <th>f2</th>\n",
       "      <th>product</th>\n",
       "    </tr>\n",
       "  </thead>\n",
       "  <tbody>\n",
       "    <tr>\n",
       "      <th>count</th>\n",
       "      <td>100000.000000</td>\n",
       "      <td>100000.000000</td>\n",
       "      <td>100000.000000</td>\n",
       "      <td>100000.000000</td>\n",
       "    </tr>\n",
       "    <tr>\n",
       "      <th>mean</th>\n",
       "      <td>0.500419</td>\n",
       "      <td>0.250143</td>\n",
       "      <td>2.502647</td>\n",
       "      <td>92.500000</td>\n",
       "    </tr>\n",
       "    <tr>\n",
       "      <th>std</th>\n",
       "      <td>0.871832</td>\n",
       "      <td>0.504433</td>\n",
       "      <td>3.248248</td>\n",
       "      <td>44.288691</td>\n",
       "    </tr>\n",
       "    <tr>\n",
       "      <th>min</th>\n",
       "      <td>-1.408605</td>\n",
       "      <td>-0.848218</td>\n",
       "      <td>-12.088328</td>\n",
       "      <td>0.000000</td>\n",
       "    </tr>\n",
       "    <tr>\n",
       "      <th>25%</th>\n",
       "      <td>-0.072580</td>\n",
       "      <td>-0.200881</td>\n",
       "      <td>0.287748</td>\n",
       "      <td>56.497507</td>\n",
       "    </tr>\n",
       "    <tr>\n",
       "      <th>50%</th>\n",
       "      <td>0.502360</td>\n",
       "      <td>0.250252</td>\n",
       "      <td>2.515969</td>\n",
       "      <td>91.849972</td>\n",
       "    </tr>\n",
       "    <tr>\n",
       "      <th>75%</th>\n",
       "      <td>1.073581</td>\n",
       "      <td>0.700646</td>\n",
       "      <td>4.715088</td>\n",
       "      <td>128.564089</td>\n",
       "    </tr>\n",
       "    <tr>\n",
       "      <th>max</th>\n",
       "      <td>2.362331</td>\n",
       "      <td>1.343769</td>\n",
       "      <td>16.003790</td>\n",
       "      <td>185.364347</td>\n",
       "    </tr>\n",
       "  </tbody>\n",
       "</table>\n",
       "</div>"
      ],
      "text/plain": [
       "                  f0             f1             f2        product\n",
       "count  100000.000000  100000.000000  100000.000000  100000.000000\n",
       "mean        0.500419       0.250143       2.502647      92.500000\n",
       "std         0.871832       0.504433       3.248248      44.288691\n",
       "min        -1.408605      -0.848218     -12.088328       0.000000\n",
       "25%        -0.072580      -0.200881       0.287748      56.497507\n",
       "50%         0.502360       0.250252       2.515969      91.849972\n",
       "75%         1.073581       0.700646       4.715088     128.564089\n",
       "max         2.362331       1.343769      16.003790     185.364347"
      ]
     },
     "metadata": {},
     "output_type": "display_data"
    },
    {
     "name": "stdout",
     "output_type": "stream",
     "text": [
      "<class 'pandas.core.frame.DataFrame'>\n",
      "RangeIndex: 100000 entries, 0 to 99999\n",
      "Data columns (total 5 columns):\n",
      " #   Column   Non-Null Count   Dtype  \n",
      "---  ------   --------------   -----  \n",
      " 0   id       100000 non-null  object \n",
      " 1   f0       100000 non-null  float64\n",
      " 2   f1       100000 non-null  float64\n",
      " 3   f2       100000 non-null  float64\n",
      " 4   product  100000 non-null  float64\n",
      "dtypes: float64(4), object(1)\n",
      "memory usage: 3.8+ MB\n"
     ]
    },
    {
     "data": {
      "text/plain": [
       "None"
      ]
     },
     "metadata": {},
     "output_type": "display_data"
    },
    {
     "data": {
      "text/plain": [
       "''"
      ]
     },
     "execution_count": 9,
     "metadata": {},
     "output_type": "execute_result"
    },
    {
     "data": {
      "image/png": "[encoded data removed]",
      "text/plain": [
       "<Figure size 432x288 with 4 Axes>"
      ]
     },
     "metadata": {
      "needs_background": "light"
     },
     "output_type": "display_data"
    }
   ],
   "source": [
    "check_df(df_geo_0)\n",
    ";"
   ]
  },
  {
   "cell_type": "markdown",
   "metadata": {},
   "source": [
    "Величины \"f2\", \"product\" похожи на нормальное распределение<br>\n",
    "\"f0\", f1\" похожи на нормальные распределения с 4 и 3 вершинами соотвественно<br>\n",
    "Выбивающихся значений не обнаружено"
   ]
  },
  {
   "cell_type": "markdown",
   "metadata": {},
   "source": [
    "df_geo_1"
   ]
  },
  {
   "cell_type": "code",
   "execution_count": 10,
   "metadata": {},
   "outputs": [
    {
     "data": {
      "text/html": [
       "<div>\n",
       "<style scoped>\n",
       "    .dataframe tbody tr th:only-of-type {\n",
       "        vertical-align: middle;\n",
       "    }\n",
       "\n",
       "    .dataframe tbody tr th {\n",
       "        vertical-align: top;\n",
       "    }\n",
       "\n",
       "    .dataframe thead th {\n",
       "        text-align: right;\n",
       "    }\n",
       "</style>\n",
       "<table border=\"1\" class=\"dataframe\">\n",
       "  <thead>\n",
       "    <tr style=\"text-align: right;\">\n",
       "      <th></th>\n",
       "      <th>id</th>\n",
       "      <th>f0</th>\n",
       "      <th>f1</th>\n",
       "      <th>f2</th>\n",
       "      <th>product</th>\n",
       "    </tr>\n",
       "  </thead>\n",
       "  <tbody>\n",
       "    <tr>\n",
       "      <th>0</th>\n",
       "      <td>kBEdx</td>\n",
       "      <td>-15.001348</td>\n",
       "      <td>-8.276000</td>\n",
       "      <td>-0.005876</td>\n",
       "      <td>3.179103</td>\n",
       "    </tr>\n",
       "    <tr>\n",
       "      <th>1</th>\n",
       "      <td>62mP7</td>\n",
       "      <td>14.272088</td>\n",
       "      <td>-3.475083</td>\n",
       "      <td>0.999183</td>\n",
       "      <td>26.953261</td>\n",
       "    </tr>\n",
       "    <tr>\n",
       "      <th>2</th>\n",
       "      <td>vyE1P</td>\n",
       "      <td>6.263187</td>\n",
       "      <td>-5.948386</td>\n",
       "      <td>5.001160</td>\n",
       "      <td>134.766305</td>\n",
       "    </tr>\n",
       "    <tr>\n",
       "      <th>3</th>\n",
       "      <td>KcrkZ</td>\n",
       "      <td>-13.081196</td>\n",
       "      <td>-11.506057</td>\n",
       "      <td>4.999415</td>\n",
       "      <td>137.945408</td>\n",
       "    </tr>\n",
       "    <tr>\n",
       "      <th>4</th>\n",
       "      <td>AHL4O</td>\n",
       "      <td>12.702195</td>\n",
       "      <td>-8.147433</td>\n",
       "      <td>5.004363</td>\n",
       "      <td>134.766305</td>\n",
       "    </tr>\n",
       "  </tbody>\n",
       "</table>\n",
       "</div>"
      ],
      "text/plain": [
       "      id         f0         f1        f2     product\n",
       "0  kBEdx -15.001348  -8.276000 -0.005876    3.179103\n",
       "1  62mP7  14.272088  -3.475083  0.999183   26.953261\n",
       "2  vyE1P   6.263187  -5.948386  5.001160  134.766305\n",
       "3  KcrkZ -13.081196 -11.506057  4.999415  137.945408\n",
       "4  AHL4O  12.702195  -8.147433  5.004363  134.766305"
      ]
     },
     "metadata": {},
     "output_type": "display_data"
    },
    {
     "data": {
      "text/html": [
       "<div>\n",
       "<style scoped>\n",
       "    .dataframe tbody tr th:only-of-type {\n",
       "        vertical-align: middle;\n",
       "    }\n",
       "\n",
       "    .dataframe tbody tr th {\n",
       "        vertical-align: top;\n",
       "    }\n",
       "\n",
       "    .dataframe thead th {\n",
       "        text-align: right;\n",
       "    }\n",
       "</style>\n",
       "<table border=\"1\" class=\"dataframe\">\n",
       "  <thead>\n",
       "    <tr style=\"text-align: right;\">\n",
       "      <th></th>\n",
       "      <th>f0</th>\n",
       "      <th>f1</th>\n",
       "      <th>f2</th>\n",
       "      <th>product</th>\n",
       "    </tr>\n",
       "  </thead>\n",
       "  <tbody>\n",
       "    <tr>\n",
       "      <th>count</th>\n",
       "      <td>100000.000000</td>\n",
       "      <td>100000.000000</td>\n",
       "      <td>100000.000000</td>\n",
       "      <td>100000.000000</td>\n",
       "    </tr>\n",
       "    <tr>\n",
       "      <th>mean</th>\n",
       "      <td>1.141296</td>\n",
       "      <td>-4.796579</td>\n",
       "      <td>2.494541</td>\n",
       "      <td>68.825000</td>\n",
       "    </tr>\n",
       "    <tr>\n",
       "      <th>std</th>\n",
       "      <td>8.965932</td>\n",
       "      <td>5.119872</td>\n",
       "      <td>1.703572</td>\n",
       "      <td>45.944423</td>\n",
       "    </tr>\n",
       "    <tr>\n",
       "      <th>min</th>\n",
       "      <td>-31.609576</td>\n",
       "      <td>-26.358598</td>\n",
       "      <td>-0.018144</td>\n",
       "      <td>0.000000</td>\n",
       "    </tr>\n",
       "    <tr>\n",
       "      <th>25%</th>\n",
       "      <td>-6.298551</td>\n",
       "      <td>-8.267985</td>\n",
       "      <td>1.000021</td>\n",
       "      <td>26.953261</td>\n",
       "    </tr>\n",
       "    <tr>\n",
       "      <th>50%</th>\n",
       "      <td>1.153055</td>\n",
       "      <td>-4.813172</td>\n",
       "      <td>2.011479</td>\n",
       "      <td>57.085625</td>\n",
       "    </tr>\n",
       "    <tr>\n",
       "      <th>75%</th>\n",
       "      <td>8.621015</td>\n",
       "      <td>-1.332816</td>\n",
       "      <td>3.999904</td>\n",
       "      <td>107.813044</td>\n",
       "    </tr>\n",
       "    <tr>\n",
       "      <th>max</th>\n",
       "      <td>29.421755</td>\n",
       "      <td>18.734063</td>\n",
       "      <td>5.019721</td>\n",
       "      <td>137.945408</td>\n",
       "    </tr>\n",
       "  </tbody>\n",
       "</table>\n",
       "</div>"
      ],
      "text/plain": [
       "                  f0             f1             f2        product\n",
       "count  100000.000000  100000.000000  100000.000000  100000.000000\n",
       "mean        1.141296      -4.796579       2.494541      68.825000\n",
       "std         8.965932       5.119872       1.703572      45.944423\n",
       "min       -31.609576     -26.358598      -0.018144       0.000000\n",
       "25%        -6.298551      -8.267985       1.000021      26.953261\n",
       "50%         1.153055      -4.813172       2.011479      57.085625\n",
       "75%         8.621015      -1.332816       3.999904     107.813044\n",
       "max        29.421755      18.734063       5.019721     137.945408"
      ]
     },
     "metadata": {},
     "output_type": "display_data"
    },
    {
     "name": "stdout",
     "output_type": "stream",
     "text": [
      "<class 'pandas.core.frame.DataFrame'>\n",
      "RangeIndex: 100000 entries, 0 to 99999\n",
      "Data columns (total 5 columns):\n",
      " #   Column   Non-Null Count   Dtype  \n",
      "---  ------   --------------   -----  \n",
      " 0   id       100000 non-null  object \n",
      " 1   f0       100000 non-null  float64\n",
      " 2   f1       100000 non-null  float64\n",
      " 3   f2       100000 non-null  float64\n",
      " 4   product  100000 non-null  float64\n",
      "dtypes: float64(4), object(1)\n",
      "memory usage: 3.8+ MB\n"
     ]
    },
    {
     "data": {
      "text/plain": [
       "None"
      ]
     },
     "metadata": {},
     "output_type": "display_data"
    },
    {
     "data": {
      "image/png": "[encoded data removed]",
      "text/plain": [
       "<Figure size 432x288 with 4 Axes>"
      ]
     },
     "metadata": {
      "needs_background": "light"
     },
     "output_type": "display_data"
    }
   ],
   "source": [
    "check_df(df_geo_1)"
   ]
  },
  {
   "cell_type": "markdown",
   "metadata": {},
   "source": [
    "Величина \"f1\" похожа на нормальное распределение<br>\n",
    "\"f0\" похожа на нормальные распределения с 2 вершинами<br>\n",
    "\"f2\", \"product\" похоже на бета распределение<br>\n",
    "Выбивающихся значений не обнаружено"
   ]
  },
  {
   "cell_type": "markdown",
   "metadata": {},
   "source": [
    "df_geo_2"
   ]
  },
  {
   "cell_type": "code",
   "execution_count": 11,
   "metadata": {},
   "outputs": [
    {
     "data": {
      "text/html": [
       "<div>\n",
       "<style scoped>\n",
       "    .dataframe tbody tr th:only-of-type {\n",
       "        vertical-align: middle;\n",
       "    }\n",
       "\n",
       "    .dataframe tbody tr th {\n",
       "        vertical-align: top;\n",
       "    }\n",
       "\n",
       "    .dataframe thead th {\n",
       "        text-align: right;\n",
       "    }\n",
       "</style>\n",
       "<table border=\"1\" class=\"dataframe\">\n",
       "  <thead>\n",
       "    <tr style=\"text-align: right;\">\n",
       "      <th></th>\n",
       "      <th>id</th>\n",
       "      <th>f0</th>\n",
       "      <th>f1</th>\n",
       "      <th>f2</th>\n",
       "      <th>product</th>\n",
       "    </tr>\n",
       "  </thead>\n",
       "  <tbody>\n",
       "    <tr>\n",
       "      <th>0</th>\n",
       "      <td>fwXo0</td>\n",
       "      <td>-1.146987</td>\n",
       "      <td>0.963328</td>\n",
       "      <td>-0.828965</td>\n",
       "      <td>27.758673</td>\n",
       "    </tr>\n",
       "    <tr>\n",
       "      <th>1</th>\n",
       "      <td>WJtFt</td>\n",
       "      <td>0.262778</td>\n",
       "      <td>0.269839</td>\n",
       "      <td>-2.530187</td>\n",
       "      <td>56.069697</td>\n",
       "    </tr>\n",
       "    <tr>\n",
       "      <th>2</th>\n",
       "      <td>ovLUW</td>\n",
       "      <td>0.194587</td>\n",
       "      <td>0.289035</td>\n",
       "      <td>-5.586433</td>\n",
       "      <td>62.871910</td>\n",
       "    </tr>\n",
       "    <tr>\n",
       "      <th>3</th>\n",
       "      <td>q6cA6</td>\n",
       "      <td>2.236060</td>\n",
       "      <td>-0.553760</td>\n",
       "      <td>0.930038</td>\n",
       "      <td>114.572842</td>\n",
       "    </tr>\n",
       "    <tr>\n",
       "      <th>4</th>\n",
       "      <td>WPMUX</td>\n",
       "      <td>-0.515993</td>\n",
       "      <td>1.716266</td>\n",
       "      <td>5.899011</td>\n",
       "      <td>149.600746</td>\n",
       "    </tr>\n",
       "  </tbody>\n",
       "</table>\n",
       "</div>"
      ],
      "text/plain": [
       "      id        f0        f1        f2     product\n",
       "0  fwXo0 -1.146987  0.963328 -0.828965   27.758673\n",
       "1  WJtFt  0.262778  0.269839 -2.530187   56.069697\n",
       "2  ovLUW  0.194587  0.289035 -5.586433   62.871910\n",
       "3  q6cA6  2.236060 -0.553760  0.930038  114.572842\n",
       "4  WPMUX -0.515993  1.716266  5.899011  149.600746"
      ]
     },
     "metadata": {},
     "output_type": "display_data"
    },
    {
     "data": {
      "text/html": [
       "<div>\n",
       "<style scoped>\n",
       "    .dataframe tbody tr th:only-of-type {\n",
       "        vertical-align: middle;\n",
       "    }\n",
       "\n",
       "    .dataframe tbody tr th {\n",
       "        vertical-align: top;\n",
       "    }\n",
       "\n",
       "    .dataframe thead th {\n",
       "        text-align: right;\n",
       "    }\n",
       "</style>\n",
       "<table border=\"1\" class=\"dataframe\">\n",
       "  <thead>\n",
       "    <tr style=\"text-align: right;\">\n",
       "      <th></th>\n",
       "      <th>f0</th>\n",
       "      <th>f1</th>\n",
       "      <th>f2</th>\n",
       "      <th>product</th>\n",
       "    </tr>\n",
       "  </thead>\n",
       "  <tbody>\n",
       "    <tr>\n",
       "      <th>count</th>\n",
       "      <td>100000.000000</td>\n",
       "      <td>100000.000000</td>\n",
       "      <td>100000.000000</td>\n",
       "      <td>100000.000000</td>\n",
       "    </tr>\n",
       "    <tr>\n",
       "      <th>mean</th>\n",
       "      <td>0.002023</td>\n",
       "      <td>-0.002081</td>\n",
       "      <td>2.495128</td>\n",
       "      <td>95.000000</td>\n",
       "    </tr>\n",
       "    <tr>\n",
       "      <th>std</th>\n",
       "      <td>1.732045</td>\n",
       "      <td>1.730417</td>\n",
       "      <td>3.473445</td>\n",
       "      <td>44.749921</td>\n",
       "    </tr>\n",
       "    <tr>\n",
       "      <th>min</th>\n",
       "      <td>-8.760004</td>\n",
       "      <td>-7.084020</td>\n",
       "      <td>-11.970335</td>\n",
       "      <td>0.000000</td>\n",
       "    </tr>\n",
       "    <tr>\n",
       "      <th>25%</th>\n",
       "      <td>-1.162288</td>\n",
       "      <td>-1.174820</td>\n",
       "      <td>0.130359</td>\n",
       "      <td>59.450441</td>\n",
       "    </tr>\n",
       "    <tr>\n",
       "      <th>50%</th>\n",
       "      <td>0.009424</td>\n",
       "      <td>-0.009482</td>\n",
       "      <td>2.484236</td>\n",
       "      <td>94.925613</td>\n",
       "    </tr>\n",
       "    <tr>\n",
       "      <th>75%</th>\n",
       "      <td>1.158535</td>\n",
       "      <td>1.163678</td>\n",
       "      <td>4.858794</td>\n",
       "      <td>130.595027</td>\n",
       "    </tr>\n",
       "    <tr>\n",
       "      <th>max</th>\n",
       "      <td>7.238262</td>\n",
       "      <td>7.844801</td>\n",
       "      <td>16.739402</td>\n",
       "      <td>190.029838</td>\n",
       "    </tr>\n",
       "  </tbody>\n",
       "</table>\n",
       "</div>"
      ],
      "text/plain": [
       "                  f0             f1             f2        product\n",
       "count  100000.000000  100000.000000  100000.000000  100000.000000\n",
       "mean        0.002023      -0.002081       2.495128      95.000000\n",
       "std         1.732045       1.730417       3.473445      44.749921\n",
       "min        -8.760004      -7.084020     -11.970335       0.000000\n",
       "25%        -1.162288      -1.174820       0.130359      59.450441\n",
       "50%         0.009424      -0.009482       2.484236      94.925613\n",
       "75%         1.158535       1.163678       4.858794     130.595027\n",
       "max         7.238262       7.844801      16.739402     190.029838"
      ]
     },
     "metadata": {},
     "output_type": "display_data"
    },
    {
     "name": "stdout",
     "output_type": "stream",
     "text": [
      "<class 'pandas.core.frame.DataFrame'>\n",
      "RangeIndex: 100000 entries, 0 to 99999\n",
      "Data columns (total 5 columns):\n",
      " #   Column   Non-Null Count   Dtype  \n",
      "---  ------   --------------   -----  \n",
      " 0   id       100000 non-null  object \n",
      " 1   f0       100000 non-null  float64\n",
      " 2   f1       100000 non-null  float64\n",
      " 3   f2       100000 non-null  float64\n",
      " 4   product  100000 non-null  float64\n",
      "dtypes: float64(4), object(1)\n",
      "memory usage: 3.8+ MB\n"
     ]
    },
    {
     "data": {
      "text/plain": [
       "None"
      ]
     },
     "metadata": {},
     "output_type": "display_data"
    },
    {
     "data": {
      "image/png": "[encoded data removed]",
      "text/plain": [
       "<Figure size 432x288 with 4 Axes>"
      ]
     },
     "metadata": {
      "needs_background": "light"
     },
     "output_type": "display_data"
    }
   ],
   "source": [
    "check_df(df_geo_2)"
   ]
  },
  {
   "cell_type": "markdown",
   "metadata": {},
   "source": [
    "Распределение всех величит похоже на нормальное.<br>\n",
    "Выбивающихся значений не обнаружено"
   ]
  },
  {
   "cell_type": "markdown",
   "metadata": {},
   "source": [
    "### Вывод"
   ]
  },
  {
   "cell_type": "markdown",
   "metadata": {},
   "source": [
    "- Данные загружены и проверены на соответствие заявленным<br>\n",
    "- Явно выделяющихся значений не обнаружено"
   ]
  },
  {
   "cell_type": "markdown",
   "metadata": {},
   "source": [
    "## Обучение и проверка модели"
   ]
  },
  {
   "cell_type": "markdown",
   "metadata": {},
   "source": [
    "### Подготовка переменных и констант"
   ]
  },
  {
   "cell_type": "markdown",
   "metadata": {},
   "source": [
    "Константы для моделей"
   ]
  },
  {
   "cell_type": "code",
   "execution_count": 12,
   "metadata": {},
   "outputs": [],
   "source": [
    "RANDOM_STATE = 42\n",
    "TEST_SIZE = 0.25"
   ]
  },
  {
   "cell_type": "markdown",
   "metadata": {},
   "source": [
    "Выделим целевой признак и уберем его из переменных с использумыми столбцами. В нашем случае числовыми."
   ]
  },
  {
   "cell_type": "markdown",
   "metadata": {},
   "source": [
    "Название столбца с целевым признаком"
   ]
  },
  {
   "cell_type": "code",
   "execution_count": 13,
   "metadata": {},
   "outputs": [],
   "source": [
    "target_column = 'product'"
   ]
  },
  {
   "cell_type": "markdown",
   "metadata": {},
   "source": [
    "Поскольку явно не указано значение параметров \"f*\", то обучим модель с маштабированием и без после чего выделим лучшую. Далее выделим переменную с названием столбцов для мастабирования без 'id' на примере Регион-1."
   ]
  },
  {
   "cell_type": "code",
   "execution_count": 14,
   "metadata": {},
   "outputs": [],
   "source": [
    "drop_column = 'id'"
   ]
  },
  {
   "cell_type": "code",
   "execution_count": 15,
   "metadata": {},
   "outputs": [
    {
     "data": {
      "text/html": [
       "<div>\n",
       "<style scoped>\n",
       "    .dataframe tbody tr th:only-of-type {\n",
       "        vertical-align: middle;\n",
       "    }\n",
       "\n",
       "    .dataframe tbody tr th {\n",
       "        vertical-align: top;\n",
       "    }\n",
       "\n",
       "    .dataframe thead th {\n",
       "        text-align: right;\n",
       "    }\n",
       "</style>\n",
       "<table border=\"1\" class=\"dataframe\">\n",
       "  <thead>\n",
       "    <tr style=\"text-align: right;\">\n",
       "      <th></th>\n",
       "      <th>id</th>\n",
       "      <th>f0</th>\n",
       "      <th>f1</th>\n",
       "      <th>f2</th>\n",
       "      <th>product</th>\n",
       "    </tr>\n",
       "  </thead>\n",
       "  <tbody>\n",
       "    <tr>\n",
       "      <th>0</th>\n",
       "      <td>txEyH</td>\n",
       "      <td>0.705745</td>\n",
       "      <td>-0.497823</td>\n",
       "      <td>1.22117</td>\n",
       "      <td>105.280062</td>\n",
       "    </tr>\n",
       "  </tbody>\n",
       "</table>\n",
       "</div>"
      ],
      "text/plain": [
       "      id        f0        f1       f2     product\n",
       "0  txEyH  0.705745 -0.497823  1.22117  105.280062"
      ]
     },
     "execution_count": 15,
     "metadata": {},
     "output_type": "execute_result"
    }
   ],
   "source": [
    "df_geo_0.head(1)"
   ]
  },
  {
   "cell_type": "code",
   "execution_count": 16,
   "metadata": {},
   "outputs": [
    {
     "data": {
      "text/plain": [
       "['f0', 'f1', 'f2', 'product']"
      ]
     },
     "execution_count": 16,
     "metadata": {},
     "output_type": "execute_result"
    }
   ],
   "source": [
    "num_columns = list(df_geo_0.select_dtypes(include='number').columns)\n",
    "num_columns"
   ]
  },
  {
   "cell_type": "code",
   "execution_count": 17,
   "metadata": {},
   "outputs": [
    {
     "data": {
      "text/plain": [
       "['f0', 'f1', 'f2']"
      ]
     },
     "execution_count": 17,
     "metadata": {},
     "output_type": "execute_result"
    }
   ],
   "source": [
    "num_columns = [x for x in num_columns if x != target_column]\n",
    "num_columns"
   ]
  },
  {
   "cell_type": "markdown",
   "metadata": {},
   "source": [
    "По ТЗ все признаки значимы, следовательно строить матрицу корреляции стоит только для проверки"
   ]
  },
  {
   "cell_type": "markdown",
   "metadata": {},
   "source": [
    "В предоставленных данных нет пропусков, поэтому для нашего случая SimpleImputer не нужен"
   ]
  },
  {
   "cell_type": "markdown",
   "metadata": {},
   "source": [
    "### Обучение модели"
   ]
  },
  {
   "cell_type": "code",
   "execution_count": 18,
   "metadata": {},
   "outputs": [],
   "source": [
    "# создаём объект для работы с моделью\n",
    "model_lr = LinearRegression()"
   ]
  },
  {
   "cell_type": "markdown",
   "metadata": {},
   "source": [
    "Далее обучим и выделим основные данные для работы по всем регионам"
   ]
  },
  {
   "cell_type": "markdown",
   "metadata": {},
   "source": [
    "Функция для обучения и предсказания выборки"
   ]
  },
  {
   "cell_type": "code",
   "execution_count": 19,
   "metadata": {},
   "outputs": [],
   "source": [
    "def model_lin_reg(data, target_name=target_column, to_drop=drop_column):\n",
    "    data = data.drop(to_drop, axis=1)\n",
    "    X_train, X_test, y_train, y_test = train_test_split(\n",
    "        data.drop(target_name, axis=1),\n",
    "        data[target_name],\n",
    "        test_size = TEST_SIZE, \n",
    "        random_state = RANDOM_STATE\n",
    "    )\n",
    "    model_out = model_lr.fit(X_train, y_train)\n",
    "    predicted = model_out.predict(X_test)\n",
    "    return X_train, X_test, y_train, y_test, model_out, predicted"
   ]
  },
  {
   "cell_type": "markdown",
   "metadata": {},
   "source": [
    "### Предсказание модели"
   ]
  },
  {
   "cell_type": "code",
   "execution_count": 20,
   "metadata": {},
   "outputs": [],
   "source": [
    "X_train_0, X_test_0, y_train_0, y_test_0, model_geo_0, predicted_0 = model_lin_reg(df_geo_0)"
   ]
  },
  {
   "cell_type": "code",
   "execution_count": 21,
   "metadata": {},
   "outputs": [],
   "source": [
    "X_train_1, X_test_1, y_train_1, y_test_1, model_geo_1, predicted_1 = model_lin_reg(df_geo_1)"
   ]
  },
  {
   "cell_type": "code",
   "execution_count": 22,
   "metadata": {},
   "outputs": [],
   "source": [
    "X_train_2, X_test_2, y_train_2, y_test_2, model_geo_2, predicted_2 = model_lin_reg(df_geo_2)"
   ]
  },
  {
   "cell_type": "markdown",
   "metadata": {},
   "source": [
    "### Средний предсказанный запас сырья и RMSE модели"
   ]
  },
  {
   "cell_type": "markdown",
   "metadata": {},
   "source": [
    "Далее исследуем RMSE и предсказанный запас сырья"
   ]
  },
  {
   "cell_type": "markdown",
   "metadata": {},
   "source": [
    "Средний запас сырья по регионам"
   ]
  },
  {
   "cell_type": "code",
   "execution_count": 23,
   "metadata": {},
   "outputs": [],
   "source": [
    "mean_predicted_0 = predicted_0.mean()\n",
    "mean_predicted_1 = predicted_1.mean()\n",
    "mean_predicted_2 = predicted_2.mean()"
   ]
  },
  {
   "cell_type": "markdown",
   "metadata": {},
   "source": [
    "RMSE по регионам"
   ]
  },
  {
   "cell_type": "code",
   "execution_count": 24,
   "metadata": {},
   "outputs": [
    {
     "name": "stderr",
     "output_type": "stream",
     "text": [
      "/opt/conda/lib/python3.9/site-packages/sklearn/metrics/_regression.py:483: FutureWarning: 'squared' is deprecated in version 1.4 and will be removed in 1.6. To calculate the root mean squared error, use the function'root_mean_squared_error'.\n",
      "  warnings.warn(\n",
      "/opt/conda/lib/python3.9/site-packages/sklearn/metrics/_regression.py:483: FutureWarning: 'squared' is deprecated in version 1.4 and will be removed in 1.6. To calculate the root mean squared error, use the function'root_mean_squared_error'.\n",
      "  warnings.warn(\n",
      "/opt/conda/lib/python3.9/site-packages/sklearn/metrics/_regression.py:483: FutureWarning: 'squared' is deprecated in version 1.4 and will be removed in 1.6. To calculate the root mean squared error, use the function'root_mean_squared_error'.\n",
      "  warnings.warn(\n"
     ]
    }
   ],
   "source": [
    "RMSE_0 = mean_squared_error(y_test_0, predicted_0, squared=False)\n",
    "RMSE_1 = mean_squared_error(y_test_1, predicted_1, squared=False)\n",
    "RMSE_2 = mean_squared_error(y_test_2, predicted_2, squared=False)"
   ]
  },
  {
   "cell_type": "code",
   "execution_count": 25,
   "metadata": {},
   "outputs": [
    {
     "data": {
      "text/plain": [
       "(37.75660035026169, 0.890280100102884, 40.145872311342174)"
      ]
     },
     "execution_count": 25,
     "metadata": {},
     "output_type": "execute_result"
    }
   ],
   "source": [
    "RMSE_0, RMSE_1, RMSE_2"
   ]
  },
  {
   "cell_type": "markdown",
   "metadata": {},
   "source": [
    "Далее выделим результат расчетов в датафрейм и проанализируем"
   ]
  },
  {
   "cell_type": "code",
   "execution_count": 26,
   "metadata": {},
   "outputs": [],
   "source": [
    "metrics_out = [[1, mean_predicted_0, RMSE_0],\n",
    "               [2, mean_predicted_1, RMSE_1],\n",
    "               [3, mean_predicted_2, RMSE_2]]\n",
    "\n",
    "columns_out = ['region', 'mean_product', 'RMSE']\n",
    "\n",
    "\n",
    "df_metrics_model = pd.DataFrame(metrics_out, columns=columns_out)"
   ]
  },
  {
   "cell_type": "code",
   "execution_count": 27,
   "metadata": {},
   "outputs": [
    {
     "data": {
      "text/html": [
       "<div>\n",
       "<style scoped>\n",
       "    .dataframe tbody tr th:only-of-type {\n",
       "        vertical-align: middle;\n",
       "    }\n",
       "\n",
       "    .dataframe tbody tr th {\n",
       "        vertical-align: top;\n",
       "    }\n",
       "\n",
       "    .dataframe thead th {\n",
       "        text-align: right;\n",
       "    }\n",
       "</style>\n",
       "<table border=\"1\" class=\"dataframe\">\n",
       "  <thead>\n",
       "    <tr style=\"text-align: right;\">\n",
       "      <th></th>\n",
       "      <th>region</th>\n",
       "      <th>mean_product</th>\n",
       "      <th>RMSE</th>\n",
       "    </tr>\n",
       "  </thead>\n",
       "  <tbody>\n",
       "    <tr>\n",
       "      <th>0</th>\n",
       "      <td>1</td>\n",
       "      <td>92.4</td>\n",
       "      <td>37.8</td>\n",
       "    </tr>\n",
       "    <tr>\n",
       "      <th>1</th>\n",
       "      <td>2</td>\n",
       "      <td>68.7</td>\n",
       "      <td>0.9</td>\n",
       "    </tr>\n",
       "    <tr>\n",
       "      <th>2</th>\n",
       "      <td>3</td>\n",
       "      <td>94.8</td>\n",
       "      <td>40.1</td>\n",
       "    </tr>\n",
       "  </tbody>\n",
       "</table>\n",
       "</div>"
      ],
      "text/plain": [
       "   region  mean_product  RMSE\n",
       "0       1          92.4  37.8\n",
       "1       2          68.7   0.9\n",
       "2       3          94.8  40.1"
      ]
     },
     "metadata": {},
     "output_type": "display_data"
    }
   ],
   "source": [
    "df_metrics_model_print = df_metrics_model\n",
    "df_metrics_model_print[['mean_product', 'RMSE']] = round(df_metrics_model_print[['mean_product', 'RMSE']], 1)\n",
    "display(df_metrics_model_print)"
   ]
  },
  {
   "cell_type": "code",
   "execution_count": 28,
   "metadata": {},
   "outputs": [
    {
     "data": {
      "text/plain": [
       "''"
      ]
     },
     "execution_count": 28,
     "metadata": {},
     "output_type": "execute_result"
    },
    {
     "data": {
      "image/png": "[encoded data removed]",
      "text/plain": [
       "<Figure size 864x216 with 2 Axes>"
      ]
     },
     "metadata": {
      "needs_background": "light"
     },
     "output_type": "display_data"
    }
   ],
   "source": [
    "plt.figure(figsize=(12, 3))\n",
    "    \n",
    "plt.subplot(1, 2, 1)\n",
    "ax = sns.barplot(\n",
    "        data=df_metrics_model_print.sort_values(by='mean_product', ascending=False),\n",
    "        y='mean_product',\n",
    "        hue='region'\n",
    ")\n",
    "for i in ax.containers:\n",
    "    ax.bar_label(i,)\n",
    "plt.title('сравнение средних предсказанных\\nзначений количества продукта')\n",
    "\n",
    "plt.subplot(1, 2, 2)\n",
    "ax = sns.barplot(\n",
    "        data=df_metrics_model_print.sort_values(by='RMSE', ascending=False),\n",
    "        y='RMSE',\n",
    "        hue='region'\n",
    ")\n",
    "for i in ax.containers:\n",
    "    ax.bar_label(i,)\n",
    "plt.title('сравнение RMSE предсказанных\\nзначений количества продукта')\n",
    ";"
   ]
  },
  {
   "cell_type": "markdown",
   "metadata": {},
   "source": [
    "### Вывод"
   ]
  },
  {
   "cell_type": "markdown",
   "metadata": {},
   "source": [
    "- RMSE для 1 и 3 моделей достаточно большое (около 40-45% от среднего значения), что является высоким отклонением, что говорит о не лучшей предсказательной способности для этих регионов.<br>\n",
    "- В свою очередь, для второго региона RMSE составляет около 1.5% от среднего, что позволяет говорит о удовлетворительной точности модели<br>\n",
    "- Получены модели линейной регрессии для каждого из регионов;\n",
    "- По модели наибольший средний запас сырья в Регион-1, Регион-3. По предсказаниям вероятнее всего лучше всего подойдут эти регионы, но это необходимо проверить далее, т.к. высокий RMSE"
   ]
  },
  {
   "cell_type": "markdown",
   "metadata": {},
   "source": [
    "## Подготовка к расчёту прибыли"
   ]
  },
  {
   "cell_type": "markdown",
   "metadata": {},
   "source": [
    "### Основные константы для разработки"
   ]
  },
  {
   "cell_type": "markdown",
   "metadata": {},
   "source": [
    "Для начала определим константы с данными из ТЗ"
   ]
  },
  {
   "cell_type": "code",
   "execution_count": 29,
   "metadata": {},
   "outputs": [],
   "source": [
    "TOTAL_BUDGET = 10**10\n",
    "REVENUE_UNIT = 4.5*10**5\n",
    "TOP_POINT = 200\n",
    "TOTAL_POINT = 500\n",
    "MAX_PART_LOSS = 0.025  #  Половина остаточного значения\n",
    "                       #  для доверительного интервала: (100 - 95) * 0.5"
   ]
  },
  {
   "cell_type": "markdown",
   "metadata": {},
   "source": [
    "### Расчет точки безубыточности"
   ]
  },
  {
   "cell_type": "markdown",
   "metadata": {},
   "source": [
    "Поскольку бюджет на 200 точек, то найдем количество добываемого ресурса необходимого с одной точки с учетом цены для выхода в \"0\""
   ]
  },
  {
   "cell_type": "code",
   "execution_count": 30,
   "metadata": {},
   "outputs": [
    {
     "data": {
      "text/plain": [
       "111.11111111111111"
      ]
     },
     "execution_count": 30,
     "metadata": {},
     "output_type": "execute_result"
    }
   ],
   "source": [
    "break_even_point = TOTAL_BUDGET / (REVENUE_UNIT * TOP_POINT)\n",
    "break_even_point"
   ]
  },
  {
   "cell_type": "markdown",
   "metadata": {},
   "source": [
    "Средний запас ссырья наибольший  в регионах 1 и 2,\n",
    "но стоит посмотреть детально точки всех регионов,\n",
    "т.к. во втором регионе с учетом отклонения значение ближе к предсказанным<br>\n",
    "Также, что ярко выражено - во всех регионах средний запас скважин меньше необходимого для точки безубыточности"
   ]
  },
  {
   "cell_type": "markdown",
   "metadata": {},
   "source": [
    "### Вывод"
   ]
  },
  {
   "cell_type": "markdown",
   "metadata": {},
   "source": [
    "- Определены основные константы для расчетов, в том числе точка безубыточности"
   ]
  },
  {
   "cell_type": "markdown",
   "metadata": {},
   "source": [
    "## Функция для расчета прибыли"
   ]
  },
  {
   "cell_type": "markdown",
   "metadata": {},
   "source": [
    "### Функция"
   ]
  },
  {
   "cell_type": "markdown",
   "metadata": {},
   "source": [
    "Далее напишем функцию для расчета прибыли по для регионов по предсказаниям модели для 200 лучших источников"
   ]
  },
  {
   "cell_type": "code",
   "execution_count": 31,
   "metadata": {},
   "outputs": [
    {
     "data": {
      "text/plain": [
       "['f0', 'f1', 'f2']"
      ]
     },
     "execution_count": 31,
     "metadata": {},
     "output_type": "execute_result"
    }
   ],
   "source": [
    "num_columns"
   ]
  },
  {
   "cell_type": "code",
   "execution_count": 32,
   "metadata": {},
   "outputs": [],
   "source": [
    "def check_top_200(data, model,\n",
    "                  model_columns=num_columns, check_point=break_even_point, print_check=True):\n",
    "    \n",
    "    divide = 10**9\n",
    "    \n",
    "    predicted = model.predict(data[num_columns])\n",
    "    data['predicted'] = predicted\n",
    "    data = data.sort_values(by='predicted', ascending=False)\n",
    "    top_ = data.head(TOP_POINT)\n",
    "    sum_top = top_['predicted'].sum()\n",
    "    avg_top = sum_top / TOP_POINT\n",
    "    revenue_top = sum_top * REVENUE_UNIT\n",
    "    revenue_itog = revenue_top - TOTAL_BUDGET\n",
    "    \n",
    "    if print_check:\n",
    "        if revenue_top >= TOTAL_BUDGET:\n",
    "            print(\"Больше точки безубыточности\")\n",
    "        else:\n",
    "            print(\"Меньше точки безубыточности\")\n",
    "            \n",
    "        print(f\"Среднее количетсво ресурсов топ-{TOP_POINT}: {round(avg_top, 1)}, т.б.\")\n",
    "        print(f\"Общее количетсво ресурсов топ-{TOP_POINT}: {round(sum_top, 1)}, т.б.\")\n",
    "        print(f\"Выручка топ-{TOP_POINT}: {round(revenue_top / divide, 1)}, млрд.ед\")\n",
    "        print(f\"Валовая прибыль топ-{TOP_POINT}.: {round(revenue_itog / divide, 1)}, млрд.ед\")\n",
    "        print(f\"Валовая прибыль топ-{TOP_POINT}: {(revenue_itog) / TOTAL_BUDGET:0.1%}\")\n",
    "        \n",
    "    return revenue_itog"
   ]
  },
  {
   "cell_type": "markdown",
   "metadata": {},
   "source": [
    "### Вывод"
   ]
  },
  {
   "cell_type": "markdown",
   "metadata": {},
   "source": [
    "- Написана функция для расчета прибыли модели"
   ]
  },
  {
   "cell_type": "markdown",
   "metadata": {},
   "source": [
    "## Расчет рисков и прибыли"
   ]
  },
  {
   "cell_type": "markdown",
   "metadata": {},
   "source": [
    "### Расчет прибыли по предсказаниям моделей"
   ]
  },
  {
   "cell_type": "markdown",
   "metadata": {},
   "source": [
    "Используем функцию из П.4.1. для исследования возможных прибыли и количества ресурсов регионов"
   ]
  },
  {
   "cell_type": "code",
   "execution_count": 33,
   "metadata": {},
   "outputs": [
    {
     "name": "stdout",
     "output_type": "stream",
     "text": [
      "Больше точки безубыточности\n",
      "Среднее количетсво ресурсов топ-200: 152.2, т.б.\n",
      "Общее количетсво ресурсов топ-200: 30438.1, т.б.\n",
      "Выручка топ-200: 13.7, млрд.ед\n",
      "Валовая прибыль топ-200.: 3.7, млрд.ед\n",
      "Валовая прибыль топ-200: 37.0%\n"
     ]
    }
   ],
   "source": [
    "revenue_0 = check_top_200(df_geo_0, model_geo_0)"
   ]
  },
  {
   "cell_type": "code",
   "execution_count": 34,
   "metadata": {},
   "outputs": [
    {
     "name": "stdout",
     "output_type": "stream",
     "text": [
      "Меньше точки безубыточности\n",
      "Среднее количетсво ресурсов топ-200: 110.9, т.б.\n",
      "Общее количетсво ресурсов топ-200: 22183.0, т.б.\n",
      "Выручка топ-200: 10.0, млрд.ед\n",
      "Валовая прибыль топ-200.: -0.0, млрд.ед\n",
      "Валовая прибыль топ-200: -0.2%\n"
     ]
    }
   ],
   "source": [
    "revenue_1 = check_top_200(df_geo_1, model_geo_1)"
   ]
  },
  {
   "cell_type": "code",
   "execution_count": 35,
   "metadata": {},
   "outputs": [
    {
     "name": "stdout",
     "output_type": "stream",
     "text": [
      "Больше точки безубыточности\n",
      "Среднее количетсво ресурсов топ-200: 156.6, т.б.\n",
      "Общее количетсво ресурсов топ-200: 31318.5, т.б.\n",
      "Выручка топ-200: 14.1, млрд.ед\n",
      "Валовая прибыль топ-200.: 4.1, млрд.ед\n",
      "Валовая прибыль топ-200: 40.9%\n"
     ]
    }
   ],
   "source": [
    "revenue_2 = check_top_200(df_geo_2, model_geo_2)"
   ]
  },
  {
   "cell_type": "markdown",
   "metadata": {},
   "source": [
    "По предсказаниям модели регионы 1 и 2 являются высокопотенциальными источниками дохода в отличие от 2го. Он является убыточным"
   ]
  },
  {
   "cell_type": "markdown",
   "metadata": {},
   "source": [
    "### Оценка рисков"
   ]
  },
  {
   "cell_type": "markdown",
   "metadata": {},
   "source": [
    "Далее используем \"Bootstrap\" для оценки рисков и прибыли по исходным даннным"
   ]
  },
  {
   "cell_type": "code",
   "execution_count": 36,
   "metadata": {},
   "outputs": [],
   "source": [
    "state = np.random.RandomState(12345)\n",
    "criteria_loss = break_even_point * REVENUE_UNIT"
   ]
  },
  {
   "cell_type": "markdown",
   "metadata": {},
   "source": [
    "Функция прибыли для набора скважин"
   ]
  },
  {
   "cell_type": "code",
   "execution_count": 37,
   "metadata": {},
   "outputs": [],
   "source": [
    "def revenue(target, probabilities, count=TOP_POINT):\n",
    "    predict_sorted = probabilities.sort_values(ascending=False)\n",
    "    selected = target[predict_sorted.index][:count]\n",
    "    return REVENUE_UNIT * selected.sum() - TOTAL_BUDGET"
   ]
  },
  {
   "cell_type": "markdown",
   "metadata": {},
   "source": [
    "Функция \"Bootstrap\" для исследования с учетом исходных данных"
   ]
  },
  {
   "cell_type": "code",
   "execution_count": 38,
   "metadata": {},
   "outputs": [],
   "source": [
    "def bootstrap(data):\n",
    "    values = []\n",
    "    state = np.random.RandomState(12345)\n",
    "    \n",
    "    for i in range(1000):\n",
    "        target_subsample = data['product'].sample(\n",
    "                                                    n=500,\n",
    "                                                    replace=True,\n",
    "                                                    random_state=state\n",
    "                                                        )\n",
    "        probs_subsample = data['predicted'][target_subsample.index]\n",
    "        prom = revenue(target_subsample, probs_subsample)\n",
    "        values.append(prom)\n",
    "\n",
    "    values = pd.Series(values)\n",
    "\n",
    "    divide = 10**9\n",
    "    \n",
    "    probability_of_loss = (values < 0).mean()\n",
    "    mean = values.mean() / divide\n",
    "    lower = values.quantile(MAX_PART_LOSS) / divide\n",
    "    upper = values.quantile(1 - MAX_PART_LOSS) / divide\n",
    "    \n",
    "    print(f\"Средняя выручка, млрд.ед.:\\n{mean:0.3}\")\n",
    "    print(f\"{MAX_PART_LOSS:0.1%}-квантиль, млрд.ед.:\\n{lower:0.3}\")\n",
    "    print(f\"{1 - MAX_PART_LOSS:0.1%}-квантиль, млрд.ед.:\\n{upper:0.3}\")\n",
    "    print(f\"Вероятность убытка:, %\\n{probability_of_loss:0.1%}\")"
   ]
  },
  {
   "cell_type": "markdown",
   "metadata": {},
   "source": [
    "Расчет рисков для всех региоов"
   ]
  },
  {
   "cell_type": "code",
   "execution_count": 39,
   "metadata": {},
   "outputs": [
    {
     "name": "stdout",
     "output_type": "stream",
     "text": [
      "Средняя выручка, млрд.ед.:\n",
      "0.288\n",
      "2.5%-квантиль, млрд.ед.:\n",
      "-0.251\n",
      "97.5%-квантиль, млрд.ед.:\n",
      "0.836\n",
      "Вероятность убытка:, %\n",
      "14.4%\n"
     ]
    }
   ],
   "source": [
    "bootstrap(df_geo_0)"
   ]
  },
  {
   "cell_type": "code",
   "execution_count": 40,
   "metadata": {},
   "outputs": [
    {
     "name": "stdout",
     "output_type": "stream",
     "text": [
      "Средняя выручка, млрд.ед.:\n",
      "0.463\n",
      "2.5%-квантиль, млрд.ед.:\n",
      "0.0574\n",
      "97.5%-квантиль, млрд.ед.:\n",
      "0.846\n",
      "Вероятность убытка:, %\n",
      "1.3%\n"
     ]
    }
   ],
   "source": [
    "bootstrap(df_geo_1)"
   ]
  },
  {
   "cell_type": "code",
   "execution_count": 41,
   "metadata": {},
   "outputs": [
    {
     "name": "stdout",
     "output_type": "stream",
     "text": [
      "Средняя выручка, млрд.ед.:\n",
      "0.381\n",
      "2.5%-квантиль, млрд.ед.:\n",
      "-0.167\n",
      "97.5%-квантиль, млрд.ед.:\n",
      "0.904\n",
      "Вероятность убытка:, %\n",
      "9.0%\n"
     ]
    }
   ],
   "source": [
    "bootstrap(df_geo_2)"
   ]
  },
  {
   "cell_type": "markdown",
   "metadata": {},
   "source": [
    "### Вывод"
   ]
  },
  {
   "cell_type": "markdown",
   "metadata": {},
   "source": [
    "- Расчитаны прибыль и риски для всех регионов<br>\n",
    "- По предсказаниям моделей наилучшим вариантом является Регион-3, но и Регион-1 тоже имеет высокую доходность<br>\n",
    "- По итогам расчета с \"bootstrap\" вероятность убычтка оказалась приемлемой только в Регион-2<br>"
   ]
  },
  {
   "cell_type": "markdown",
   "metadata": {},
   "source": [
    "## Общий вывод"
   ]
  },
  {
   "cell_type": "markdown",
   "metadata": {},
   "source": [
    "### Выбор региона"
   ]
  },
  {
   "cell_type": "markdown",
   "metadata": {},
   "source": [
    "Исходя из расчетов в качестве целевого региона стоит выбрать Регион-2.<br><br>\n",
    "Обоснование:\n",
    "1) Низкая вероятность убытка - 1.3%, что в ~2 раза меньше максимально уровня и значительно ниже по сравнению с другими регионами (в 6-11 раз);<br>\n",
    "2) Модель для этого региона имеет меньший RMSE, что указывает на предсказуемость региона"
   ]
  },
  {
   "cell_type": "markdown",
   "metadata": {},
   "source": [
    "### Результаты разработки модели"
   ]
  },
  {
   "cell_type": "markdown",
   "metadata": {},
   "source": [
    "- Данные проверены и подготовлены для моделирования;\n",
    "- Построены модели линейной регрессии для каждого региона;\n",
    "- Только модель для Регион-2 имеет приемлемый RMSE;\n",
    "- Расчитана прибыль по предсказаниям моделей для каждого региона. Регион-1, Регион-3 имеют привлекательные показатели, но сомнительны с учетом RMSE;\n",
    "- Расчитана вероятность убытка для каждого региона. Единственным приемлемым оказался Регион-2."
   ]
  },
  {
   "cell_type": "code",
   "execution_count": null,
   "metadata": {},
   "outputs": [],
   "source": []
  }
 ],
 "metadata": {
  "ExecuteTimeLog": [
   {
    "duration": 3,
    "start_time": "2024-06-13T13:57:17.266Z"
   },
   {
    "duration": 53,
    "start_time": "2024-06-13T13:57:32.316Z"
   },
   {
    "duration": 11304,
    "start_time": "2024-06-13T13:57:57.652Z"
   },
   {
    "duration": 18860,
    "start_time": "2024-06-13T13:58:23.624Z"
   },
   {
    "duration": 1597,
    "start_time": "2024-06-13T13:58:45.048Z"
   },
   {
    "duration": 3,
    "start_time": "2024-06-13T13:58:58.662Z"
   },
   {
    "duration": 5337,
    "start_time": "2024-06-13T13:59:24.605Z"
   },
   {
    "duration": 5368,
    "start_time": "2024-06-13T13:59:29.944Z"
   },
   {
    "duration": 1328,
    "start_time": "2024-06-13T13:59:35.314Z"
   },
   {
    "duration": 3,
    "start_time": "2024-06-13T13:59:36.644Z"
   },
   {
    "duration": 143,
    "start_time": "2024-06-13T13:59:36.649Z"
   },
   {
    "duration": 148,
    "start_time": "2024-06-13T13:59:36.793Z"
   },
   {
    "duration": 674,
    "start_time": "2024-06-13T14:02:16.230Z"
   },
   {
    "duration": 55,
    "start_time": "2024-06-13T14:02:16.906Z"
   },
   {
    "duration": 56,
    "start_time": "2024-06-13T14:02:34.805Z"
   },
   {
    "duration": 3,
    "start_time": "2024-06-13T14:02:59.373Z"
   },
   {
    "duration": 3,
    "start_time": "2024-06-13T14:03:37.583Z"
   },
   {
    "duration": 69,
    "start_time": "2024-06-13T14:03:38.020Z"
   },
   {
    "duration": 54,
    "start_time": "2024-06-13T14:03:38.633Z"
   },
   {
    "duration": 57,
    "start_time": "2024-06-13T14:03:39.121Z"
   },
   {
    "duration": 3,
    "start_time": "2024-06-13T14:04:02.896Z"
   },
   {
    "duration": 902,
    "start_time": "2024-06-13T14:04:03.332Z"
   },
   {
    "duration": 804,
    "start_time": "2024-06-13T14:04:04.236Z"
   },
   {
    "duration": 811,
    "start_time": "2024-06-13T14:04:05.042Z"
   },
   {
    "duration": 15,
    "start_time": "2024-06-13T14:06:04.904Z"
   },
   {
    "duration": 459,
    "start_time": "2024-06-13T14:07:54.808Z"
   },
   {
    "duration": 63,
    "start_time": "2024-06-13T14:10:42.081Z"
   },
   {
    "duration": 3,
    "start_time": "2024-06-13T14:13:01.979Z"
   },
   {
    "duration": 2,
    "start_time": "2024-06-13T14:13:02.838Z"
   },
   {
    "duration": 3,
    "start_time": "2024-06-13T14:14:47.366Z"
   },
   {
    "duration": 128,
    "start_time": "2024-06-13T14:14:47.699Z"
   },
   {
    "duration": 23,
    "start_time": "2024-06-13T14:15:48.551Z"
   },
   {
    "duration": 3,
    "start_time": "2024-06-13T14:15:55.629Z"
   },
   {
    "duration": 18,
    "start_time": "2024-06-13T14:15:56.063Z"
   },
   {
    "duration": 8,
    "start_time": "2024-06-13T14:16:19.225Z"
   },
   {
    "duration": 4,
    "start_time": "2024-06-13T14:16:52.098Z"
   },
   {
    "duration": 10,
    "start_time": "2024-06-13T14:17:01.200Z"
   },
   {
    "duration": 3,
    "start_time": "2024-06-13T14:17:13.910Z"
   },
   {
    "duration": 10,
    "start_time": "2024-06-13T14:20:29.634Z"
   },
   {
    "duration": 301,
    "start_time": "2024-06-13T14:20:40.732Z"
   },
   {
    "duration": 637,
    "start_time": "2024-06-13T14:20:41.452Z"
   },
   {
    "duration": 302,
    "start_time": "2024-06-13T14:21:11.533Z"
   },
   {
    "duration": 554,
    "start_time": "2024-06-13T14:21:11.906Z"
   },
   {
    "duration": 331,
    "start_time": "2024-06-13T14:21:29.124Z"
   },
   {
    "duration": 647,
    "start_time": "2024-06-13T14:21:29.458Z"
   },
   {
    "duration": 334,
    "start_time": "2024-06-13T14:22:00.465Z"
   },
   {
    "duration": 625,
    "start_time": "2024-06-13T14:22:00.801Z"
   },
   {
    "duration": 354,
    "start_time": "2024-06-13T14:22:07.696Z"
   },
   {
    "duration": 753,
    "start_time": "2024-06-13T14:22:08.052Z"
   },
   {
    "duration": 3,
    "start_time": "2024-06-13T14:38:55.641Z"
   },
   {
    "duration": 36,
    "start_time": "2024-06-13T14:38:55.973Z"
   },
   {
    "duration": 15,
    "start_time": "2024-06-13T14:39:32.785Z"
   },
   {
    "duration": 31,
    "start_time": "2024-06-13T14:39:38.469Z"
   },
   {
    "duration": 6,
    "start_time": "2024-06-13T14:41:27.017Z"
   },
   {
    "duration": 32,
    "start_time": "2024-06-13T14:41:29.587Z"
   },
   {
    "duration": 1141,
    "start_time": "2024-06-13T14:42:36.313Z"
   },
   {
    "duration": 0,
    "start_time": "2024-06-13T14:42:37.456Z"
   },
   {
    "duration": 1083,
    "start_time": "2024-06-13T14:42:46.185Z"
   },
   {
    "duration": 28,
    "start_time": "2024-06-13T14:42:55.632Z"
   },
   {
    "duration": 12,
    "start_time": "2024-06-13T14:43:19.355Z"
   },
   {
    "duration": 15,
    "start_time": "2024-06-13T14:43:41.941Z"
   },
   {
    "duration": 10,
    "start_time": "2024-06-13T14:43:49.859Z"
   },
   {
    "duration": 8,
    "start_time": "2024-06-13T14:44:05.512Z"
   },
   {
    "duration": 5367,
    "start_time": "2024-06-13T14:51:49.044Z"
   },
   {
    "duration": 5291,
    "start_time": "2024-06-13T14:51:54.415Z"
   },
   {
    "duration": 1416,
    "start_time": "2024-06-13T14:51:59.709Z"
   },
   {
    "duration": 3,
    "start_time": "2024-06-13T14:52:01.127Z"
   },
   {
    "duration": 194,
    "start_time": "2024-06-13T14:52:01.132Z"
   },
   {
    "duration": 142,
    "start_time": "2024-06-13T14:52:01.328Z"
   },
   {
    "duration": 456,
    "start_time": "2024-06-13T14:52:01.472Z"
   },
   {
    "duration": 19,
    "start_time": "2024-06-13T14:52:01.930Z"
   },
   {
    "duration": 9,
    "start_time": "2024-06-13T14:52:01.951Z"
   },
   {
    "duration": 960,
    "start_time": "2024-06-13T14:52:01.961Z"
   },
   {
    "duration": 825,
    "start_time": "2024-06-13T14:52:02.923Z"
   },
   {
    "duration": 780,
    "start_time": "2024-06-13T14:52:03.749Z"
   },
   {
    "duration": 2,
    "start_time": "2024-06-13T14:52:04.531Z"
   },
   {
    "duration": 7,
    "start_time": "2024-06-13T14:52:04.536Z"
   },
   {
    "duration": 9,
    "start_time": "2024-06-13T14:52:04.545Z"
   },
   {
    "duration": 11,
    "start_time": "2024-06-13T14:52:04.556Z"
   },
   {
    "duration": 18,
    "start_time": "2024-06-13T14:52:04.568Z"
   },
   {
    "duration": 6,
    "start_time": "2024-06-13T14:52:04.589Z"
   },
   {
    "duration": 6,
    "start_time": "2024-06-13T14:52:04.597Z"
   },
   {
    "duration": 6,
    "start_time": "2024-06-13T14:52:04.605Z"
   },
   {
    "duration": 31,
    "start_time": "2024-06-13T14:52:04.612Z"
   },
   {
    "duration": 37,
    "start_time": "2024-06-13T14:52:04.645Z"
   },
   {
    "duration": 153,
    "start_time": "2024-06-13T14:52:04.684Z"
   },
   {
    "duration": 0,
    "start_time": "2024-06-13T14:52:04.839Z"
   },
   {
    "duration": 20,
    "start_time": "2024-06-13T14:52:27.939Z"
   },
   {
    "duration": 246,
    "start_time": "2024-06-13T14:52:29.309Z"
   },
   {
    "duration": 443,
    "start_time": "2024-06-13T14:53:06.381Z"
   },
   {
    "duration": 592,
    "start_time": "2024-06-13T14:53:45.493Z"
   },
   {
    "duration": 3,
    "start_time": "2024-06-13T14:57:29.539Z"
   },
   {
    "duration": 16,
    "start_time": "2024-06-13T14:57:31.818Z"
   },
   {
    "duration": 42,
    "start_time": "2024-06-13T14:57:31.982Z"
   },
   {
    "duration": 450,
    "start_time": "2024-06-13T14:57:52.775Z"
   },
   {
    "duration": 4,
    "start_time": "2024-06-13T14:57:57.209Z"
   },
   {
    "duration": 460,
    "start_time": "2024-06-13T14:57:57.469Z"
   },
   {
    "duration": 588,
    "start_time": "2024-06-13T14:58:04.565Z"
   },
   {
    "duration": 658,
    "start_time": "2024-06-13T14:58:58.637Z"
   },
   {
    "duration": 662,
    "start_time": "2024-06-13T14:59:05.459Z"
   },
   {
    "duration": 4,
    "start_time": "2024-06-13T15:01:48.698Z"
   },
   {
    "duration": 6,
    "start_time": "2024-06-13T15:01:52.080Z"
   },
   {
    "duration": 4,
    "start_time": "2024-06-13T15:02:45.199Z"
   },
   {
    "duration": 442,
    "start_time": "2024-06-13T15:03:20.295Z"
   },
   {
    "duration": 666,
    "start_time": "2024-06-13T15:05:05.415Z"
   },
   {
    "duration": 528,
    "start_time": "2024-06-13T15:05:14.020Z"
   },
   {
    "duration": 404,
    "start_time": "2024-06-13T15:05:37.330Z"
   },
   {
    "duration": 354,
    "start_time": "2024-06-13T15:06:06.902Z"
   },
   {
    "duration": 420,
    "start_time": "2024-06-13T15:06:12.522Z"
   },
   {
    "duration": 399,
    "start_time": "2024-06-13T15:06:20.535Z"
   },
   {
    "duration": 504,
    "start_time": "2024-06-13T15:06:32.710Z"
   },
   {
    "duration": 385,
    "start_time": "2024-06-13T15:06:43.374Z"
   },
   {
    "duration": 356,
    "start_time": "2024-06-13T15:07:07.289Z"
   },
   {
    "duration": 574,
    "start_time": "2024-06-13T15:07:44.557Z"
   },
   {
    "duration": 11,
    "start_time": "2024-06-13T15:09:29.080Z"
   },
   {
    "duration": 18,
    "start_time": "2024-06-13T15:09:33.792Z"
   },
   {
    "duration": 6,
    "start_time": "2024-06-13T15:09:50.470Z"
   },
   {
    "duration": 9,
    "start_time": "2024-06-13T15:09:53.766Z"
   },
   {
    "duration": 7,
    "start_time": "2024-06-13T15:10:10.845Z"
   },
   {
    "duration": 6,
    "start_time": "2024-06-13T15:10:19.092Z"
   },
   {
    "duration": 8,
    "start_time": "2024-06-13T15:10:27.788Z"
   },
   {
    "duration": 10,
    "start_time": "2024-06-13T15:10:35.496Z"
   },
   {
    "duration": 6,
    "start_time": "2024-06-13T15:12:20.667Z"
   },
   {
    "duration": 9,
    "start_time": "2024-06-13T15:12:27.472Z"
   },
   {
    "duration": 6,
    "start_time": "2024-06-13T15:13:12.812Z"
   },
   {
    "duration": 16,
    "start_time": "2024-06-13T15:13:32.116Z"
   },
   {
    "duration": 9,
    "start_time": "2024-06-13T15:13:38.496Z"
   },
   {
    "duration": 9,
    "start_time": "2024-06-13T15:13:44.924Z"
   },
   {
    "duration": 1025,
    "start_time": "2024-06-13T15:14:27.279Z"
   },
   {
    "duration": 286,
    "start_time": "2024-06-13T15:15:26.681Z"
   },
   {
    "duration": 285,
    "start_time": "2024-06-13T15:15:29.247Z"
   },
   {
    "duration": 301,
    "start_time": "2024-06-13T15:15:42.374Z"
   },
   {
    "duration": 15,
    "start_time": "2024-06-13T15:16:02.862Z"
   },
   {
    "duration": 699,
    "start_time": "2024-06-13T15:16:46.053Z"
   },
   {
    "duration": 649,
    "start_time": "2024-06-13T15:17:47.637Z"
   },
   {
    "duration": 754,
    "start_time": "2024-06-13T15:18:27.846Z"
   },
   {
    "duration": 844,
    "start_time": "2024-06-13T15:18:42.978Z"
   },
   {
    "duration": 680,
    "start_time": "2024-06-13T15:19:09.214Z"
   },
   {
    "duration": 15,
    "start_time": "2024-06-13T15:20:32.022Z"
   },
   {
    "duration": 16,
    "start_time": "2024-06-13T15:21:09.460Z"
   },
   {
    "duration": 512,
    "start_time": "2024-06-13T15:22:12.665Z"
   },
   {
    "duration": 874,
    "start_time": "2024-06-13T15:22:19.326Z"
   },
   {
    "duration": 80,
    "start_time": "2024-06-13T15:23:02.482Z"
   },
   {
    "duration": 879,
    "start_time": "2024-06-13T15:23:06.839Z"
   },
   {
    "duration": 72,
    "start_time": "2024-06-13T15:24:53.056Z"
   },
   {
    "duration": 497,
    "start_time": "2024-06-13T15:25:10.650Z"
   },
   {
    "duration": 2799,
    "start_time": "2024-06-13T15:25:21.188Z"
   },
   {
    "duration": 4,
    "start_time": "2024-06-13T15:30:40.963Z"
   },
   {
    "duration": 58,
    "start_time": "2024-06-13T15:30:41.428Z"
   },
   {
    "duration": 4,
    "start_time": "2024-06-13T15:37:08.597Z"
   },
   {
    "duration": 28,
    "start_time": "2024-06-13T15:37:18.307Z"
   },
   {
    "duration": 29,
    "start_time": "2024-06-13T15:37:21.643Z"
   },
   {
    "duration": 30,
    "start_time": "2024-06-13T15:37:21.851Z"
   },
   {
    "duration": 4,
    "start_time": "2024-06-13T15:40:05.159Z"
   },
   {
    "duration": 27,
    "start_time": "2024-06-13T15:40:05.429Z"
   },
   {
    "duration": 23,
    "start_time": "2024-06-13T15:40:05.742Z"
   },
   {
    "duration": 23,
    "start_time": "2024-06-13T15:40:06.051Z"
   },
   {
    "duration": 4,
    "start_time": "2024-06-13T15:42:31.167Z"
   },
   {
    "duration": 39,
    "start_time": "2024-06-13T15:42:31.416Z"
   },
   {
    "duration": 22,
    "start_time": "2024-06-13T15:42:31.783Z"
   },
   {
    "duration": 25,
    "start_time": "2024-06-13T15:42:32.028Z"
   },
   {
    "duration": 4,
    "start_time": "2024-06-13T15:42:39.646Z"
   },
   {
    "duration": 22,
    "start_time": "2024-06-13T15:45:37.984Z"
   },
   {
    "duration": 23,
    "start_time": "2024-06-13T15:45:38.200Z"
   },
   {
    "duration": 30,
    "start_time": "2024-06-13T15:45:38.390Z"
   },
   {
    "duration": 12,
    "start_time": "2024-06-13T15:50:16.919Z"
   },
   {
    "duration": 5345,
    "start_time": "2024-06-13T15:50:23.051Z"
   },
   {
    "duration": 5397,
    "start_time": "2024-06-13T15:50:28.398Z"
   },
   {
    "duration": 1395,
    "start_time": "2024-06-13T15:50:33.797Z"
   },
   {
    "duration": 3,
    "start_time": "2024-06-13T15:50:35.194Z"
   },
   {
    "duration": 150,
    "start_time": "2024-06-13T15:50:35.199Z"
   },
   {
    "duration": 151,
    "start_time": "2024-06-13T15:50:35.350Z"
   },
   {
    "duration": 447,
    "start_time": "2024-06-13T15:50:35.503Z"
   },
   {
    "duration": 30,
    "start_time": "2024-06-13T15:50:35.952Z"
   },
   {
    "duration": 4,
    "start_time": "2024-06-13T15:50:35.989Z"
   },
   {
    "duration": 952,
    "start_time": "2024-06-13T15:50:35.995Z"
   },
   {
    "duration": 807,
    "start_time": "2024-06-13T15:50:36.949Z"
   },
   {
    "duration": 843,
    "start_time": "2024-06-13T15:50:37.758Z"
   },
   {
    "duration": 2,
    "start_time": "2024-06-13T15:50:38.603Z"
   },
   {
    "duration": 9,
    "start_time": "2024-06-13T15:50:38.609Z"
   },
   {
    "duration": 19,
    "start_time": "2024-06-13T15:50:38.620Z"
   },
   {
    "duration": 36,
    "start_time": "2024-06-13T15:50:38.641Z"
   },
   {
    "duration": 20,
    "start_time": "2024-06-13T15:50:38.679Z"
   },
   {
    "duration": 40,
    "start_time": "2024-06-13T15:50:38.701Z"
   },
   {
    "duration": 22,
    "start_time": "2024-06-13T15:50:38.743Z"
   },
   {
    "duration": 14,
    "start_time": "2024-06-13T15:50:38.766Z"
   },
   {
    "duration": 20,
    "start_time": "2024-06-13T15:50:38.782Z"
   },
   {
    "duration": 33,
    "start_time": "2024-06-13T15:50:38.804Z"
   },
   {
    "duration": 3,
    "start_time": "2024-06-13T15:50:38.839Z"
   },
   {
    "duration": 42,
    "start_time": "2024-06-13T15:50:38.843Z"
   },
   {
    "duration": 104,
    "start_time": "2024-06-13T15:50:38.888Z"
   },
   {
    "duration": 102,
    "start_time": "2024-06-13T15:50:39.081Z"
   },
   {
    "duration": 6,
    "start_time": "2024-06-13T15:50:39.185Z"
   },
   {
    "duration": 23,
    "start_time": "2024-06-13T15:50:39.192Z"
   },
   {
    "duration": 995,
    "start_time": "2024-06-13T15:50:39.217Z"
   },
   {
    "duration": 2385,
    "start_time": "2024-06-13T15:50:40.213Z"
   },
   {
    "duration": 4,
    "start_time": "2024-06-13T15:50:42.600Z"
   },
   {
    "duration": 91,
    "start_time": "2024-06-13T15:50:42.606Z"
   },
   {
    "duration": 210,
    "start_time": "2024-06-13T15:50:42.700Z"
   },
   {
    "duration": 181,
    "start_time": "2024-06-13T15:50:42.913Z"
   },
   {
    "duration": 94,
    "start_time": "2024-06-13T15:50:43.096Z"
   },
   {
    "duration": 4,
    "start_time": "2024-06-13T15:50:56.128Z"
   },
   {
    "duration": 131,
    "start_time": "2024-06-13T15:51:28.700Z"
   },
   {
    "duration": 8,
    "start_time": "2024-06-13T15:51:30.084Z"
   },
   {
    "duration": 4,
    "start_time": "2024-06-13T15:51:30.380Z"
   },
   {
    "duration": 3,
    "start_time": "2024-06-13T15:52:57.289Z"
   },
   {
    "duration": 3,
    "start_time": "2024-06-13T15:53:06.625Z"
   },
   {
    "duration": 13,
    "start_time": "2024-06-13T15:56:01.146Z"
   },
   {
    "duration": 4,
    "start_time": "2024-06-13T15:56:04.666Z"
   },
   {
    "duration": 12,
    "start_time": "2024-06-13T15:56:04.914Z"
   },
   {
    "duration": 12,
    "start_time": "2024-06-13T15:57:30.924Z"
   },
   {
    "duration": 9,
    "start_time": "2024-06-13T15:57:38.652Z"
   },
   {
    "duration": 443,
    "start_time": "2024-06-13T15:58:11.325Z"
   },
   {
    "duration": 542,
    "start_time": "2024-06-13T15:58:19.682Z"
   },
   {
    "duration": 351,
    "start_time": "2024-06-13T15:58:54.310Z"
   },
   {
    "duration": 329,
    "start_time": "2024-06-13T15:59:43.980Z"
   },
   {
    "duration": 363,
    "start_time": "2024-06-13T16:00:05.283Z"
   },
   {
    "duration": 288,
    "start_time": "2024-06-13T16:00:56.790Z"
   },
   {
    "duration": 4,
    "start_time": "2024-06-13T16:01:11.293Z"
   },
   {
    "duration": 4,
    "start_time": "2024-06-13T16:01:37.360Z"
   },
   {
    "duration": 18,
    "start_time": "2024-06-13T16:01:38.000Z"
   },
   {
    "duration": 9,
    "start_time": "2024-06-13T16:01:49.165Z"
   },
   {
    "duration": 16,
    "start_time": "2024-06-13T16:02:12.494Z"
   },
   {
    "duration": 399,
    "start_time": "2024-06-13T16:02:18.020Z"
   },
   {
    "duration": 9,
    "start_time": "2024-06-13T16:02:46.327Z"
   },
   {
    "duration": 361,
    "start_time": "2024-06-13T16:02:51.556Z"
   },
   {
    "duration": 356,
    "start_time": "2024-06-13T16:03:00.067Z"
   },
   {
    "duration": 359,
    "start_time": "2024-06-13T16:03:04.754Z"
   },
   {
    "duration": 16,
    "start_time": "2024-06-13T16:03:38.534Z"
   },
   {
    "duration": 6,
    "start_time": "2024-06-13T16:03:45.949Z"
   },
   {
    "duration": 380,
    "start_time": "2024-06-13T16:03:46.242Z"
   },
   {
    "duration": 399,
    "start_time": "2024-06-13T16:03:53.916Z"
   },
   {
    "duration": 379,
    "start_time": "2024-06-13T16:04:17.484Z"
   },
   {
    "duration": 606,
    "start_time": "2024-06-13T16:04:36.846Z"
   },
   {
    "duration": 616,
    "start_time": "2024-06-13T16:04:59.769Z"
   },
   {
    "duration": 616,
    "start_time": "2024-06-13T16:05:57.967Z"
   },
   {
    "duration": 676,
    "start_time": "2024-06-13T16:06:03.529Z"
   },
   {
    "duration": 816,
    "start_time": "2024-06-13T16:06:09.225Z"
   },
   {
    "duration": 668,
    "start_time": "2024-06-13T16:06:19.273Z"
   },
   {
    "duration": 626,
    "start_time": "2024-06-13T16:08:03.534Z"
   },
   {
    "duration": 649,
    "start_time": "2024-06-13T16:08:10.202Z"
   },
   {
    "duration": 663,
    "start_time": "2024-06-13T16:09:58.215Z"
   },
   {
    "duration": 634,
    "start_time": "2024-06-13T16:10:02.138Z"
   },
   {
    "duration": 622,
    "start_time": "2024-06-13T16:10:17.898Z"
   },
   {
    "duration": 639,
    "start_time": "2024-06-13T16:10:35.192Z"
   },
   {
    "duration": 680,
    "start_time": "2024-06-13T16:10:52.035Z"
   },
   {
    "duration": 65,
    "start_time": "2024-06-13T16:11:04.200Z"
   },
   {
    "duration": 654,
    "start_time": "2024-06-13T16:11:08.140Z"
   },
   {
    "duration": 807,
    "start_time": "2024-06-13T16:11:41.168Z"
   },
   {
    "duration": 636,
    "start_time": "2024-06-13T16:12:06.492Z"
   },
   {
    "duration": 6,
    "start_time": "2024-06-13T16:13:09.669Z"
   },
   {
    "duration": 640,
    "start_time": "2024-06-13T16:13:18.088Z"
   },
   {
    "duration": 10,
    "start_time": "2024-06-13T16:14:08.904Z"
   },
   {
    "duration": 6,
    "start_time": "2024-06-13T21:58:23.298Z"
   },
   {
    "duration": 7,
    "start_time": "2024-06-13T22:01:56.107Z"
   },
   {
    "duration": 3,
    "start_time": "2024-06-13T22:04:01.930Z"
   },
   {
    "duration": 44,
    "start_time": "2024-06-13T22:05:56.752Z"
   },
   {
    "duration": 42,
    "start_time": "2024-06-13T22:07:02.540Z"
   },
   {
    "duration": 9907,
    "start_time": "2024-06-13T22:07:09.559Z"
   },
   {
    "duration": 11795,
    "start_time": "2024-06-13T22:07:19.468Z"
   },
   {
    "duration": 1331,
    "start_time": "2024-06-13T22:07:31.265Z"
   },
   {
    "duration": 3,
    "start_time": "2024-06-13T22:07:32.597Z"
   },
   {
    "duration": 146,
    "start_time": "2024-06-13T22:07:32.602Z"
   },
   {
    "duration": 111,
    "start_time": "2024-06-13T22:07:32.750Z"
   },
   {
    "duration": 1596,
    "start_time": "2024-06-13T22:07:32.863Z"
   },
   {
    "duration": 13,
    "start_time": "2024-06-13T22:07:34.460Z"
   },
   {
    "duration": 7,
    "start_time": "2024-06-13T22:07:34.474Z"
   },
   {
    "duration": 738,
    "start_time": "2024-06-13T22:07:34.483Z"
   },
   {
    "duration": 603,
    "start_time": "2024-06-13T22:07:35.222Z"
   },
   {
    "duration": 598,
    "start_time": "2024-06-13T22:07:35.826Z"
   },
   {
    "duration": 2,
    "start_time": "2024-06-13T22:07:36.425Z"
   },
   {
    "duration": 3,
    "start_time": "2024-06-13T22:07:36.430Z"
   },
   {
    "duration": 3,
    "start_time": "2024-06-13T22:07:36.434Z"
   },
   {
    "duration": 11,
    "start_time": "2024-06-13T22:07:36.439Z"
   },
   {
    "duration": 11,
    "start_time": "2024-06-13T22:07:36.451Z"
   },
   {
    "duration": 11,
    "start_time": "2024-06-13T22:07:36.464Z"
   },
   {
    "duration": 3,
    "start_time": "2024-06-13T22:07:36.477Z"
   },
   {
    "duration": 10,
    "start_time": "2024-06-13T22:07:36.481Z"
   },
   {
    "duration": 27,
    "start_time": "2024-06-13T22:07:36.492Z"
   },
   {
    "duration": 15,
    "start_time": "2024-06-13T22:07:36.521Z"
   },
   {
    "duration": 15,
    "start_time": "2024-06-13T22:07:36.539Z"
   },
   {
    "duration": 17,
    "start_time": "2024-06-13T22:07:36.556Z"
   },
   {
    "duration": 145,
    "start_time": "2024-06-13T22:07:36.574Z"
   },
   {
    "duration": 8,
    "start_time": "2024-06-13T22:07:36.721Z"
   },
   {
    "duration": 92,
    "start_time": "2024-06-13T22:07:36.731Z"
   },
   {
    "duration": 12,
    "start_time": "2024-06-13T22:07:36.825Z"
   },
   {
    "duration": 690,
    "start_time": "2024-06-13T22:07:36.839Z"
   },
   {
    "duration": 1924,
    "start_time": "2024-06-13T22:07:37.531Z"
   },
   {
    "duration": 3,
    "start_time": "2024-06-13T22:07:39.457Z"
   },
   {
    "duration": 25,
    "start_time": "2024-06-13T22:07:39.461Z"
   },
   {
    "duration": 142,
    "start_time": "2024-06-13T22:07:39.488Z"
   },
   {
    "duration": 95,
    "start_time": "2024-06-13T22:07:39.631Z"
   },
   {
    "duration": 2,
    "start_time": "2024-06-13T22:07:39.727Z"
   },
   {
    "duration": 102,
    "start_time": "2024-06-13T22:07:39.821Z"
   },
   {
    "duration": 18,
    "start_time": "2024-06-13T22:07:39.925Z"
   },
   {
    "duration": 27,
    "start_time": "2024-06-13T22:07:39.944Z"
   },
   {
    "duration": 17,
    "start_time": "2024-06-13T22:07:39.972Z"
   },
   {
    "duration": 612,
    "start_time": "2024-06-13T22:07:39.991Z"
   },
   {
    "duration": 2,
    "start_time": "2024-06-13T22:07:40.608Z"
   },
   {
    "duration": 10,
    "start_time": "2024-06-13T22:07:40.611Z"
   },
   {
    "duration": 5,
    "start_time": "2024-06-13T22:07:40.622Z"
   },
   {
    "duration": 124,
    "start_time": "2024-06-13T22:07:40.628Z"
   },
   {
    "duration": 45,
    "start_time": "2024-06-13T22:08:08.779Z"
   },
   {
    "duration": 14,
    "start_time": "2024-06-13T22:08:28.151Z"
   },
   {
    "duration": 3,
    "start_time": "2024-06-13T22:08:28.409Z"
   },
   {
    "duration": 139,
    "start_time": "2024-06-13T22:09:08.990Z"
   },
   {
    "duration": 3,
    "start_time": "2024-06-13T22:09:09.361Z"
   },
   {
    "duration": 167,
    "start_time": "2024-06-13T22:09:14.762Z"
   },
   {
    "duration": 2,
    "start_time": "2024-06-13T22:09:15.095Z"
   },
   {
    "duration": 4,
    "start_time": "2024-06-13T22:09:16.662Z"
   },
   {
    "duration": 7,
    "start_time": "2024-06-13T22:09:20.778Z"
   },
   {
    "duration": 13,
    "start_time": "2024-06-13T22:09:28.416Z"
   },
   {
    "duration": 4,
    "start_time": "2024-06-13T22:09:28.951Z"
   },
   {
    "duration": 12,
    "start_time": "2024-06-13T22:10:04.216Z"
   },
   {
    "duration": 58,
    "start_time": "2024-06-13T22:10:08.608Z"
   },
   {
    "duration": 13,
    "start_time": "2024-06-13T22:10:13.363Z"
   },
   {
    "duration": 62,
    "start_time": "2024-06-13T22:11:10.362Z"
   },
   {
    "duration": 2,
    "start_time": "2024-06-13T22:11:10.647Z"
   },
   {
    "duration": 3,
    "start_time": "2024-06-13T22:11:17.859Z"
   },
   {
    "duration": 66,
    "start_time": "2024-06-13T22:11:23.274Z"
   },
   {
    "duration": 11,
    "start_time": "2024-06-13T22:11:25.512Z"
   },
   {
    "duration": 13,
    "start_time": "2024-06-13T22:11:25.807Z"
   },
   {
    "duration": 12,
    "start_time": "2024-06-13T22:11:38.701Z"
   },
   {
    "duration": 13,
    "start_time": "2024-06-13T22:11:54.327Z"
   },
   {
    "duration": 28,
    "start_time": "2024-06-13T22:12:26.147Z"
   },
   {
    "duration": 4,
    "start_time": "2024-06-13T22:12:29.025Z"
   },
   {
    "duration": 3,
    "start_time": "2024-06-13T22:12:36.781Z"
   },
   {
    "duration": 19,
    "start_time": "2024-06-13T22:16:48.910Z"
   },
   {
    "duration": 50,
    "start_time": "2024-06-13T22:26:52.798Z"
   },
   {
    "duration": 3,
    "start_time": "2024-06-13T22:27:02.383Z"
   },
   {
    "duration": 7,
    "start_time": "2024-06-13T22:27:14.324Z"
   },
   {
    "duration": 205,
    "start_time": "2024-06-13T22:27:22.826Z"
   },
   {
    "duration": 4,
    "start_time": "2024-06-13T22:32:23.316Z"
   },
   {
    "duration": 51,
    "start_time": "2024-06-13T22:32:24.781Z"
   },
   {
    "duration": 4,
    "start_time": "2024-06-13T22:32:49.508Z"
   },
   {
    "duration": 93,
    "start_time": "2024-06-13T22:32:50.034Z"
   },
   {
    "duration": 193,
    "start_time": "2024-06-13T22:32:50.129Z"
   },
   {
    "duration": 3,
    "start_time": "2024-06-13T22:33:00.024Z"
   },
   {
    "duration": 163,
    "start_time": "2024-06-13T22:33:00.358Z"
   },
   {
    "duration": 3,
    "start_time": "2024-06-13T22:33:06.584Z"
   },
   {
    "duration": 110,
    "start_time": "2024-06-13T22:33:06.914Z"
   },
   {
    "duration": 5,
    "start_time": "2024-06-13T22:33:11.148Z"
   },
   {
    "duration": 4,
    "start_time": "2024-06-13T22:33:15.392Z"
   },
   {
    "duration": 27,
    "start_time": "2024-06-13T22:33:15.705Z"
   },
   {
    "duration": 4,
    "start_time": "2024-06-13T22:33:30.638Z"
   },
   {
    "duration": 67,
    "start_time": "2024-06-13T22:33:31.163Z"
   },
   {
    "duration": 4,
    "start_time": "2024-06-13T22:33:47.144Z"
   },
   {
    "duration": 69,
    "start_time": "2024-06-13T22:33:47.461Z"
   },
   {
    "duration": 4,
    "start_time": "2024-06-13T22:33:59.175Z"
   },
   {
    "duration": 84,
    "start_time": "2024-06-13T22:33:59.940Z"
   },
   {
    "duration": 5,
    "start_time": "2024-06-13T22:34:09.884Z"
   },
   {
    "duration": 58,
    "start_time": "2024-06-13T22:34:10.175Z"
   },
   {
    "duration": 3,
    "start_time": "2024-06-13T22:34:14.429Z"
   },
   {
    "duration": 163,
    "start_time": "2024-06-13T22:34:14.765Z"
   },
   {
    "duration": 3,
    "start_time": "2024-06-13T22:34:17.181Z"
   },
   {
    "duration": 43,
    "start_time": "2024-06-13T22:34:17.483Z"
   },
   {
    "duration": 53,
    "start_time": "2024-06-13T22:34:32.374Z"
   },
   {
    "duration": 194,
    "start_time": "2024-06-13T22:34:39.829Z"
   },
   {
    "duration": 3,
    "start_time": "2024-06-13T22:35:43.791Z"
   },
   {
    "duration": 45,
    "start_time": "2024-06-13T22:35:44.081Z"
   },
   {
    "duration": 4,
    "start_time": "2024-06-13T22:36:11.547Z"
   },
   {
    "duration": 4,
    "start_time": "2024-06-13T22:36:19.727Z"
   },
   {
    "duration": 197,
    "start_time": "2024-06-13T22:36:20.028Z"
   },
   {
    "duration": 4,
    "start_time": "2024-06-13T22:36:33.126Z"
   },
   {
    "duration": 25,
    "start_time": "2024-06-13T22:36:33.402Z"
   },
   {
    "duration": 4,
    "start_time": "2024-06-13T22:36:39.991Z"
   },
   {
    "duration": 58,
    "start_time": "2024-06-13T22:36:40.270Z"
   },
   {
    "duration": 124,
    "start_time": "2024-06-13T22:36:41.496Z"
   },
   {
    "duration": 29,
    "start_time": "2024-06-13T22:36:41.795Z"
   },
   {
    "duration": 8,
    "start_time": "2024-06-13T22:36:52.157Z"
   },
   {
    "duration": 4,
    "start_time": "2024-06-13T22:38:23.336Z"
   },
   {
    "duration": 85,
    "start_time": "2024-06-13T22:38:23.638Z"
   },
   {
    "duration": 162,
    "start_time": "2024-06-13T22:38:23.959Z"
   },
   {
    "duration": 84,
    "start_time": "2024-06-13T22:38:24.341Z"
   },
   {
    "duration": 4,
    "start_time": "2024-06-13T22:46:25.345Z"
   },
   {
    "duration": 149,
    "start_time": "2024-06-13T22:46:25.673Z"
   },
   {
    "duration": 94,
    "start_time": "2024-06-13T22:46:29.630Z"
   },
   {
    "duration": 33,
    "start_time": "2024-06-13T22:46:30.194Z"
   },
   {
    "duration": 4,
    "start_time": "2024-06-13T22:51:28.097Z"
   },
   {
    "duration": 144,
    "start_time": "2024-06-13T22:51:28.683Z"
   },
   {
    "duration": 112,
    "start_time": "2024-06-13T22:51:32.218Z"
   },
   {
    "duration": 192,
    "start_time": "2024-06-13T22:51:32.728Z"
   },
   {
    "duration": 5,
    "start_time": "2024-06-13T22:52:34.367Z"
   },
   {
    "duration": 124,
    "start_time": "2024-06-13T22:52:34.998Z"
   },
   {
    "duration": 34,
    "start_time": "2024-06-13T22:52:35.694Z"
   },
   {
    "duration": 68,
    "start_time": "2024-06-13T22:52:35.962Z"
   },
   {
    "duration": 59,
    "start_time": "2024-06-13T22:52:46.269Z"
   },
   {
    "duration": 169,
    "start_time": "2024-06-13T22:52:53.351Z"
   },
   {
    "duration": 147,
    "start_time": "2024-06-13T22:52:53.575Z"
   },
   {
    "duration": 5051,
    "start_time": "2024-06-13T22:53:03.199Z"
   },
   {
    "duration": 5072,
    "start_time": "2024-06-13T22:53:08.252Z"
   },
   {
    "duration": 1137,
    "start_time": "2024-06-13T22:53:13.326Z"
   },
   {
    "duration": 3,
    "start_time": "2024-06-13T22:53:14.464Z"
   },
   {
    "duration": 106,
    "start_time": "2024-06-13T22:53:14.468Z"
   },
   {
    "duration": 106,
    "start_time": "2024-06-13T22:53:14.575Z"
   },
   {
    "duration": 317,
    "start_time": "2024-06-13T22:53:14.682Z"
   },
   {
    "duration": 13,
    "start_time": "2024-06-13T22:53:15.000Z"
   },
   {
    "duration": 3,
    "start_time": "2024-06-13T22:53:15.014Z"
   },
   {
    "duration": 726,
    "start_time": "2024-06-13T22:53:15.020Z"
   },
   {
    "duration": 587,
    "start_time": "2024-06-13T22:53:15.748Z"
   },
   {
    "duration": 588,
    "start_time": "2024-06-13T22:53:16.337Z"
   },
   {
    "duration": 2,
    "start_time": "2024-06-13T22:53:16.927Z"
   },
   {
    "duration": 6,
    "start_time": "2024-06-13T22:53:16.932Z"
   },
   {
    "duration": 10,
    "start_time": "2024-06-13T22:53:16.939Z"
   },
   {
    "duration": 21,
    "start_time": "2024-06-13T22:53:16.950Z"
   },
   {
    "duration": 6,
    "start_time": "2024-06-13T22:53:16.973Z"
   },
   {
    "duration": 6,
    "start_time": "2024-06-13T22:53:16.980Z"
   },
   {
    "duration": 7,
    "start_time": "2024-06-13T22:53:16.987Z"
   },
   {
    "duration": 4,
    "start_time": "2024-06-13T22:53:16.996Z"
   },
   {
    "duration": 29,
    "start_time": "2024-06-13T22:53:17.002Z"
   },
   {
    "duration": 12,
    "start_time": "2024-06-13T22:53:17.033Z"
   },
   {
    "duration": 22,
    "start_time": "2024-06-13T22:53:17.047Z"
   },
   {
    "duration": 27,
    "start_time": "2024-06-13T22:53:17.070Z"
   },
   {
    "duration": 125,
    "start_time": "2024-06-13T22:53:17.098Z"
   },
   {
    "duration": 96,
    "start_time": "2024-06-13T22:53:17.225Z"
   },
   {
    "duration": 100,
    "start_time": "2024-06-13T22:53:17.323Z"
   },
   {
    "duration": 21,
    "start_time": "2024-06-13T22:53:17.424Z"
   },
   {
    "duration": 685,
    "start_time": "2024-06-13T22:53:17.447Z"
   },
   {
    "duration": 2002,
    "start_time": "2024-06-13T22:53:18.133Z"
   },
   {
    "duration": 4,
    "start_time": "2024-06-13T22:53:20.136Z"
   },
   {
    "duration": 33,
    "start_time": "2024-06-13T22:53:20.141Z"
   },
   {
    "duration": 145,
    "start_time": "2024-06-13T22:53:20.178Z"
   },
   {
    "duration": 201,
    "start_time": "2024-06-13T22:53:20.324Z"
   },
   {
    "duration": 3,
    "start_time": "2024-06-13T22:53:20.526Z"
   },
   {
    "duration": 98,
    "start_time": "2024-06-13T22:53:20.531Z"
   },
   {
    "duration": 91,
    "start_time": "2024-06-13T22:53:20.631Z"
   },
   {
    "duration": 5,
    "start_time": "2024-06-13T22:53:20.724Z"
   },
   {
    "duration": 13,
    "start_time": "2024-06-13T22:53:20.730Z"
   },
   {
    "duration": 600,
    "start_time": "2024-06-13T22:53:20.744Z"
   },
   {
    "duration": 2,
    "start_time": "2024-06-13T22:53:21.347Z"
   },
   {
    "duration": 27,
    "start_time": "2024-06-13T22:53:21.350Z"
   },
   {
    "duration": 7,
    "start_time": "2024-06-13T22:53:21.378Z"
   },
   {
    "duration": 5,
    "start_time": "2024-06-13T22:53:21.386Z"
   },
   {
    "duration": 140,
    "start_time": "2024-06-13T22:53:21.392Z"
   },
   {
    "duration": 200,
    "start_time": "2024-06-13T22:53:21.533Z"
   },
   {
    "duration": 191,
    "start_time": "2024-06-13T22:53:21.734Z"
   },
   {
    "duration": 26,
    "start_time": "2024-06-13T22:53:31.399Z"
   },
   {
    "duration": 39,
    "start_time": "2024-06-13T22:53:31.783Z"
   },
   {
    "duration": 151,
    "start_time": "2024-06-13T22:53:32.170Z"
   },
   {
    "duration": 3,
    "start_time": "2024-06-13T23:03:29.301Z"
   },
   {
    "duration": 119,
    "start_time": "2024-06-13T23:03:29.682Z"
   },
   {
    "duration": 13,
    "start_time": "2024-06-13T23:04:51.678Z"
   },
   {
    "duration": 4,
    "start_time": "2024-06-13T23:05:44.871Z"
   },
   {
    "duration": 604,
    "start_time": "2024-06-13T23:05:45.307Z"
   },
   {
    "duration": 4,
    "start_time": "2024-06-13T23:05:56.763Z"
   },
   {
    "duration": 3,
    "start_time": "2024-06-13T23:06:42.769Z"
   },
   {
    "duration": 591,
    "start_time": "2024-06-13T23:07:37.151Z"
   },
   {
    "duration": 4,
    "start_time": "2024-06-13T23:07:37.795Z"
   },
   {
    "duration": 3,
    "start_time": "2024-06-13T23:07:38.774Z"
   },
   {
    "duration": 4,
    "start_time": "2024-06-13T23:08:29.587Z"
   },
   {
    "duration": 3,
    "start_time": "2024-06-13T23:08:45.708Z"
   },
   {
    "duration": 4,
    "start_time": "2024-06-13T23:08:49.537Z"
   },
   {
    "duration": 3,
    "start_time": "2024-06-13T23:09:10.504Z"
   },
   {
    "duration": 592,
    "start_time": "2024-06-13T23:10:12.680Z"
   },
   {
    "duration": 3,
    "start_time": "2024-06-13T23:10:13.274Z"
   },
   {
    "duration": 3,
    "start_time": "2024-06-13T23:10:13.369Z"
   },
   {
    "duration": 616,
    "start_time": "2024-06-13T23:12:29.687Z"
   },
   {
    "duration": 611,
    "start_time": "2024-06-13T23:12:35.788Z"
   },
   {
    "duration": 3,
    "start_time": "2024-06-13T23:12:36.672Z"
   },
   {
    "duration": 5,
    "start_time": "2024-06-13T23:12:46.220Z"
   },
   {
    "duration": 4,
    "start_time": "2024-06-13T23:12:56.930Z"
   },
   {
    "duration": 707,
    "start_time": "2024-06-13T23:13:51.490Z"
   },
   {
    "duration": 4,
    "start_time": "2024-06-13T23:13:52.198Z"
   },
   {
    "duration": 4,
    "start_time": "2024-06-13T23:13:52.767Z"
   },
   {
    "duration": 3,
    "start_time": "2024-06-13T23:15:15.496Z"
   },
   {
    "duration": 967,
    "start_time": "2024-06-13T23:15:15.860Z"
   },
   {
    "duration": 3,
    "start_time": "2024-06-13T23:15:16.829Z"
   },
   {
    "duration": 5,
    "start_time": "2024-06-13T23:15:16.851Z"
   },
   {
    "duration": 970,
    "start_time": "2024-06-13T23:15:48.202Z"
   },
   {
    "duration": 3,
    "start_time": "2024-06-13T23:15:49.173Z"
   },
   {
    "duration": 8,
    "start_time": "2024-06-13T23:15:49.177Z"
   },
   {
    "duration": 3,
    "start_time": "2024-06-13T23:17:47.077Z"
   },
   {
    "duration": 974,
    "start_time": "2024-06-13T23:17:47.483Z"
   },
   {
    "duration": 3,
    "start_time": "2024-06-13T23:17:55.467Z"
   },
   {
    "duration": 3,
    "start_time": "2024-06-13T23:18:04.596Z"
   },
   {
    "duration": 951,
    "start_time": "2024-06-13T23:18:04.901Z"
   },
   {
    "duration": 3,
    "start_time": "2024-06-13T23:18:05.854Z"
   },
   {
    "duration": 4,
    "start_time": "2024-06-13T23:18:06.013Z"
   },
   {
    "duration": 3,
    "start_time": "2024-06-13T23:23:53.304Z"
   },
   {
    "duration": 934,
    "start_time": "2024-06-13T23:25:33.706Z"
   },
   {
    "duration": 4,
    "start_time": "2024-06-13T23:25:34.641Z"
   },
   {
    "duration": 20,
    "start_time": "2024-06-13T23:25:34.646Z"
   },
   {
    "duration": 4,
    "start_time": "2024-06-13T23:25:34.729Z"
   },
   {
    "duration": 5063,
    "start_time": "2024-06-13T23:26:58.436Z"
   },
   {
    "duration": 5083,
    "start_time": "2024-06-13T23:27:03.501Z"
   },
   {
    "duration": 1101,
    "start_time": "2024-06-13T23:27:08.585Z"
   },
   {
    "duration": 2,
    "start_time": "2024-06-13T23:27:09.689Z"
   },
   {
    "duration": 114,
    "start_time": "2024-06-13T23:27:09.692Z"
   },
   {
    "duration": 112,
    "start_time": "2024-06-13T23:27:09.808Z"
   },
   {
    "duration": 334,
    "start_time": "2024-06-13T23:27:09.922Z"
   },
   {
    "duration": 14,
    "start_time": "2024-06-13T23:27:10.258Z"
   },
   {
    "duration": 4,
    "start_time": "2024-06-13T23:27:10.273Z"
   },
   {
    "duration": 730,
    "start_time": "2024-06-13T23:27:10.280Z"
   },
   {
    "duration": 632,
    "start_time": "2024-06-13T23:27:11.011Z"
   },
   {
    "duration": 624,
    "start_time": "2024-06-13T23:27:11.645Z"
   },
   {
    "duration": 3,
    "start_time": "2024-06-13T23:27:12.271Z"
   },
   {
    "duration": 6,
    "start_time": "2024-06-13T23:27:12.275Z"
   },
   {
    "duration": 4,
    "start_time": "2024-06-13T23:27:12.282Z"
   },
   {
    "duration": 15,
    "start_time": "2024-06-13T23:27:12.288Z"
   },
   {
    "duration": 8,
    "start_time": "2024-06-13T23:27:12.304Z"
   },
   {
    "duration": 13,
    "start_time": "2024-06-13T23:27:12.313Z"
   },
   {
    "duration": 5,
    "start_time": "2024-06-13T23:27:12.327Z"
   },
   {
    "duration": 26,
    "start_time": "2024-06-13T23:27:12.333Z"
   },
   {
    "duration": 33,
    "start_time": "2024-06-13T23:27:12.360Z"
   },
   {
    "duration": 14,
    "start_time": "2024-06-13T23:27:12.394Z"
   },
   {
    "duration": 24,
    "start_time": "2024-06-13T23:27:12.409Z"
   },
   {
    "duration": 16,
    "start_time": "2024-06-13T23:27:12.435Z"
   },
   {
    "duration": 74,
    "start_time": "2024-06-13T23:27:12.452Z"
   },
   {
    "duration": 99,
    "start_time": "2024-06-13T23:27:12.528Z"
   },
   {
    "duration": 94,
    "start_time": "2024-06-13T23:27:12.629Z"
   },
   {
    "duration": 7,
    "start_time": "2024-06-13T23:27:12.726Z"
   },
   {
    "duration": 688,
    "start_time": "2024-06-13T23:27:12.734Z"
   },
   {
    "duration": 1912,
    "start_time": "2024-06-13T23:27:13.423Z"
   },
   {
    "duration": 3,
    "start_time": "2024-06-13T23:27:15.336Z"
   },
   {
    "duration": 44,
    "start_time": "2024-06-13T23:27:15.341Z"
   },
   {
    "duration": 138,
    "start_time": "2024-06-13T23:27:15.386Z"
   },
   {
    "duration": 201,
    "start_time": "2024-06-13T23:27:15.525Z"
   },
   {
    "duration": 3,
    "start_time": "2024-06-13T23:27:15.727Z"
   },
   {
    "duration": 98,
    "start_time": "2024-06-13T23:27:15.731Z"
   },
   {
    "duration": 6,
    "start_time": "2024-06-13T23:27:15.920Z"
   },
   {
    "duration": 4,
    "start_time": "2024-06-13T23:27:15.927Z"
   },
   {
    "duration": 15,
    "start_time": "2024-06-13T23:27:15.933Z"
   },
   {
    "duration": 574,
    "start_time": "2024-06-13T23:27:15.950Z"
   },
   {
    "duration": 3,
    "start_time": "2024-06-13T23:27:16.525Z"
   },
   {
    "duration": 5,
    "start_time": "2024-06-13T23:27:16.530Z"
   },
   {
    "duration": 5,
    "start_time": "2024-06-13T23:27:16.536Z"
   },
   {
    "duration": 5,
    "start_time": "2024-06-13T23:27:16.542Z"
   },
   {
    "duration": 183,
    "start_time": "2024-06-13T23:27:16.548Z"
   },
   {
    "duration": 191,
    "start_time": "2024-06-13T23:27:16.732Z"
   },
   {
    "duration": 109,
    "start_time": "2024-06-13T23:27:16.924Z"
   },
   {
    "duration": 87,
    "start_time": "2024-06-13T23:27:17.034Z"
   },
   {
    "duration": 14,
    "start_time": "2024-06-13T23:27:17.122Z"
   },
   {
    "duration": 949,
    "start_time": "2024-06-13T23:27:17.137Z"
   },
   {
    "duration": 4,
    "start_time": "2024-06-13T23:27:18.087Z"
   },
   {
    "duration": 9,
    "start_time": "2024-06-13T23:27:18.092Z"
   },
   {
    "duration": 6,
    "start_time": "2024-06-13T23:27:18.102Z"
   },
   {
    "duration": 3,
    "start_time": "2024-06-13T23:29:14.979Z"
   },
   {
    "duration": 984,
    "start_time": "2024-06-13T23:29:15.265Z"
   },
   {
    "duration": 4,
    "start_time": "2024-06-13T23:29:16.250Z"
   },
   {
    "duration": 8,
    "start_time": "2024-06-13T23:29:16.255Z"
   },
   {
    "duration": 4,
    "start_time": "2024-06-13T23:29:17.097Z"
   },
   {
    "duration": 5,
    "start_time": "2024-06-13T23:30:59.926Z"
   },
   {
    "duration": 958,
    "start_time": "2024-06-13T23:31:00.219Z"
   },
   {
    "duration": 960,
    "start_time": "2024-06-13T23:31:12.566Z"
   },
   {
    "duration": 955,
    "start_time": "2024-06-13T23:31:13.528Z"
   },
   {
    "duration": 4,
    "start_time": "2024-06-13T23:33:34.351Z"
   },
   {
    "duration": 974,
    "start_time": "2024-06-13T23:33:34.721Z"
   },
   {
    "duration": 966,
    "start_time": "2024-06-13T23:33:39.751Z"
   },
   {
    "duration": 959,
    "start_time": "2024-06-13T23:33:42.479Z"
   },
   {
    "duration": 945,
    "start_time": "2024-06-13T23:33:43.439Z"
   },
   {
    "duration": 965,
    "start_time": "2024-06-13T23:33:44.386Z"
   },
   {
    "duration": 3,
    "start_time": "2024-06-13T23:39:26.785Z"
   },
   {
    "duration": 6,
    "start_time": "2024-06-13T23:40:16.518Z"
   },
   {
    "duration": 940,
    "start_time": "2024-06-13T23:40:16.917Z"
   },
   {
    "duration": 951,
    "start_time": "2024-06-13T23:40:19.470Z"
   },
   {
    "duration": 960,
    "start_time": "2024-06-13T23:40:23.512Z"
   },
   {
    "duration": 4,
    "start_time": "2024-06-13T23:45:34.649Z"
   },
   {
    "duration": 87,
    "start_time": "2024-06-13T23:45:35.835Z"
   },
   {
    "duration": 61,
    "start_time": "2024-06-13T23:45:36.163Z"
   },
   {
    "duration": 29,
    "start_time": "2024-06-13T23:45:39.203Z"
   },
   {
    "duration": 5,
    "start_time": "2024-06-14T00:05:42.806Z"
   },
   {
    "duration": 956,
    "start_time": "2024-06-14T00:05:43.086Z"
   },
   {
    "duration": 988,
    "start_time": "2024-06-14T00:05:44.044Z"
   },
   {
    "duration": 968,
    "start_time": "2024-06-14T00:05:45.034Z"
   },
   {
    "duration": 5,
    "start_time": "2024-06-14T00:07:11.077Z"
   },
   {
    "duration": 992,
    "start_time": "2024-06-14T00:07:11.338Z"
   },
   {
    "duration": 972,
    "start_time": "2024-06-14T00:07:12.331Z"
   },
   {
    "duration": 942,
    "start_time": "2024-06-14T00:07:13.305Z"
   },
   {
    "duration": 5,
    "start_time": "2024-06-14T00:08:18.361Z"
   },
   {
    "duration": 981,
    "start_time": "2024-06-14T00:08:18.490Z"
   },
   {
    "duration": 969,
    "start_time": "2024-06-14T00:08:19.473Z"
   },
   {
    "duration": 960,
    "start_time": "2024-06-14T00:08:20.444Z"
   },
   {
    "duration": 4,
    "start_time": "2024-06-14T00:08:59.642Z"
   },
   {
    "duration": 978,
    "start_time": "2024-06-14T00:08:59.918Z"
   },
   {
    "duration": 5,
    "start_time": "2024-06-14T00:09:05.901Z"
   },
   {
    "duration": 990,
    "start_time": "2024-06-14T00:09:07.360Z"
   },
   {
    "duration": 7,
    "start_time": "2024-06-14T00:09:16.042Z"
   },
   {
    "duration": 948,
    "start_time": "2024-06-14T00:09:16.321Z"
   },
   {
    "duration": 6,
    "start_time": "2024-06-14T00:09:21.012Z"
   },
   {
    "duration": 1004,
    "start_time": "2024-06-14T00:09:21.255Z"
   },
   {
    "duration": 5,
    "start_time": "2024-06-14T00:09:51.689Z"
   },
   {
    "duration": 987,
    "start_time": "2024-06-14T00:09:51.979Z"
   },
   {
    "duration": 5,
    "start_time": "2024-06-14T00:10:01.571Z"
   },
   {
    "duration": 986,
    "start_time": "2024-06-14T00:10:01.807Z"
   },
   {
    "duration": 958,
    "start_time": "2024-06-14T00:10:04.509Z"
   },
   {
    "duration": 974,
    "start_time": "2024-06-14T00:10:05.469Z"
   },
   {
    "duration": 4,
    "start_time": "2024-06-14T00:10:27.371Z"
   },
   {
    "duration": 961,
    "start_time": "2024-06-14T00:10:27.875Z"
   },
   {
    "duration": 964,
    "start_time": "2024-06-14T00:10:28.838Z"
   },
   {
    "duration": 961,
    "start_time": "2024-06-14T00:10:29.804Z"
   },
   {
    "duration": 5,
    "start_time": "2024-06-14T00:10:41.963Z"
   },
   {
    "duration": 988,
    "start_time": "2024-06-14T00:10:42.282Z"
   },
   {
    "duration": 955,
    "start_time": "2024-06-14T00:10:43.271Z"
   },
   {
    "duration": 940,
    "start_time": "2024-06-14T00:10:44.227Z"
   },
   {
    "duration": 4,
    "start_time": "2024-06-14T00:11:18.717Z"
   },
   {
    "duration": 925,
    "start_time": "2024-06-14T00:11:18.962Z"
   },
   {
    "duration": 957,
    "start_time": "2024-06-14T00:11:19.889Z"
   },
   {
    "duration": 929,
    "start_time": "2024-06-14T00:11:20.847Z"
   },
   {
    "duration": 5,
    "start_time": "2024-06-14T00:11:25.487Z"
   },
   {
    "duration": 947,
    "start_time": "2024-06-14T00:11:25.742Z"
   },
   {
    "duration": 917,
    "start_time": "2024-06-14T00:11:26.691Z"
   },
   {
    "duration": 943,
    "start_time": "2024-06-14T00:11:27.610Z"
   },
   {
    "duration": 4,
    "start_time": "2024-06-14T00:12:01.647Z"
   },
   {
    "duration": 1139,
    "start_time": "2024-06-14T00:12:01.949Z"
   },
   {
    "duration": 922,
    "start_time": "2024-06-14T00:12:04.006Z"
   },
   {
    "duration": 928,
    "start_time": "2024-06-14T00:12:06.636Z"
   },
   {
    "duration": 4,
    "start_time": "2024-06-14T00:14:53.481Z"
   },
   {
    "duration": 153,
    "start_time": "2024-06-14T00:14:54.168Z"
   },
   {
    "duration": 5,
    "start_time": "2024-06-14T00:15:15.325Z"
   },
   {
    "duration": 156,
    "start_time": "2024-06-14T00:15:15.864Z"
   },
   {
    "duration": 45,
    "start_time": "2024-06-14T00:15:20.886Z"
   },
   {
    "duration": 30,
    "start_time": "2024-06-14T00:15:21.192Z"
   },
   {
    "duration": 2,
    "start_time": "2024-06-14T00:15:21.688Z"
   },
   {
    "duration": 3,
    "start_time": "2024-06-14T00:15:22.439Z"
   },
   {
    "duration": 5,
    "start_time": "2024-06-14T00:15:22.703Z"
   },
   {
    "duration": 932,
    "start_time": "2024-06-14T00:15:23.088Z"
   },
   {
    "duration": 946,
    "start_time": "2024-06-14T00:15:24.022Z"
   },
   {
    "duration": 954,
    "start_time": "2024-06-14T00:15:24.969Z"
   },
   {
    "duration": 6,
    "start_time": "2024-06-14T00:15:41.630Z"
   },
   {
    "duration": 957,
    "start_time": "2024-06-14T00:15:41.905Z"
   },
   {
    "duration": 959,
    "start_time": "2024-06-14T00:15:42.863Z"
   },
   {
    "duration": 961,
    "start_time": "2024-06-14T00:15:43.823Z"
   },
   {
    "duration": 5035,
    "start_time": "2024-06-14T00:20:35.526Z"
   },
   {
    "duration": 5105,
    "start_time": "2024-06-14T00:20:40.563Z"
   },
   {
    "duration": 1110,
    "start_time": "2024-06-14T00:20:45.670Z"
   },
   {
    "duration": 3,
    "start_time": "2024-06-14T00:20:46.781Z"
   },
   {
    "duration": 116,
    "start_time": "2024-06-14T00:20:46.786Z"
   },
   {
    "duration": 109,
    "start_time": "2024-06-14T00:20:46.903Z"
   },
   {
    "duration": 346,
    "start_time": "2024-06-14T00:20:47.013Z"
   },
   {
    "duration": 13,
    "start_time": "2024-06-14T00:20:47.361Z"
   },
   {
    "duration": 11,
    "start_time": "2024-06-14T00:20:47.376Z"
   },
   {
    "duration": 650,
    "start_time": "2024-06-14T00:20:47.388Z"
   },
   {
    "duration": 631,
    "start_time": "2024-06-14T00:20:48.039Z"
   },
   {
    "duration": 624,
    "start_time": "2024-06-14T00:20:48.672Z"
   },
   {
    "duration": 2,
    "start_time": "2024-06-14T00:20:49.298Z"
   },
   {
    "duration": 4,
    "start_time": "2024-06-14T00:20:49.302Z"
   },
   {
    "duration": 5,
    "start_time": "2024-06-14T00:20:49.308Z"
   },
   {
    "duration": 7,
    "start_time": "2024-06-14T00:20:49.320Z"
   },
   {
    "duration": 9,
    "start_time": "2024-06-14T00:20:49.328Z"
   },
   {
    "duration": 4,
    "start_time": "2024-06-14T00:20:49.338Z"
   },
   {
    "duration": 4,
    "start_time": "2024-06-14T00:20:49.343Z"
   },
   {
    "duration": 5,
    "start_time": "2024-06-14T00:20:49.348Z"
   },
   {
    "duration": 13,
    "start_time": "2024-06-14T00:20:49.354Z"
   },
   {
    "duration": 27,
    "start_time": "2024-06-14T00:20:49.368Z"
   },
   {
    "duration": 2,
    "start_time": "2024-06-14T00:20:49.397Z"
   },
   {
    "duration": 43,
    "start_time": "2024-06-14T00:20:49.400Z"
   },
   {
    "duration": 77,
    "start_time": "2024-06-14T00:20:49.444Z"
   },
   {
    "duration": 100,
    "start_time": "2024-06-14T00:20:49.522Z"
   },
   {
    "duration": 7,
    "start_time": "2024-06-14T00:20:49.625Z"
   },
   {
    "duration": 94,
    "start_time": "2024-06-14T00:20:49.633Z"
   },
   {
    "duration": 697,
    "start_time": "2024-06-14T00:20:49.728Z"
   },
   {
    "duration": 2016,
    "start_time": "2024-06-14T00:20:50.427Z"
   },
   {
    "duration": 3,
    "start_time": "2024-06-14T00:20:52.445Z"
   },
   {
    "duration": 30,
    "start_time": "2024-06-14T00:20:52.449Z"
   },
   {
    "duration": 145,
    "start_time": "2024-06-14T00:20:52.480Z"
   },
   {
    "duration": 195,
    "start_time": "2024-06-14T00:20:52.626Z"
   },
   {
    "duration": 3,
    "start_time": "2024-06-14T00:20:52.822Z"
   },
   {
    "duration": 112,
    "start_time": "2024-06-14T00:20:52.826Z"
   },
   {
    "duration": 2,
    "start_time": "2024-06-14T00:20:52.940Z"
   },
   {
    "duration": 27,
    "start_time": "2024-06-14T00:20:52.943Z"
   },
   {
    "duration": 47,
    "start_time": "2024-06-14T00:20:52.971Z"
   },
   {
    "duration": 547,
    "start_time": "2024-06-14T00:20:53.019Z"
   },
   {
    "duration": 3,
    "start_time": "2024-06-14T00:20:53.569Z"
   },
   {
    "duration": 5,
    "start_time": "2024-06-14T00:20:53.573Z"
   },
   {
    "duration": 4,
    "start_time": "2024-06-14T00:20:53.579Z"
   },
   {
    "duration": 5,
    "start_time": "2024-06-14T00:20:53.584Z"
   },
   {
    "duration": 136,
    "start_time": "2024-06-14T00:20:53.590Z"
   },
   {
    "duration": 194,
    "start_time": "2024-06-14T00:20:53.727Z"
   },
   {
    "duration": 101,
    "start_time": "2024-06-14T00:20:53.923Z"
   },
   {
    "duration": 3,
    "start_time": "2024-06-14T00:20:54.026Z"
   },
   {
    "duration": 5,
    "start_time": "2024-06-14T00:20:54.031Z"
   },
   {
    "duration": 29,
    "start_time": "2024-06-14T00:20:54.121Z"
   },
   {
    "duration": 991,
    "start_time": "2024-06-14T00:20:54.152Z"
   },
   {
    "duration": 941,
    "start_time": "2024-06-14T00:20:55.145Z"
   },
   {
    "duration": 928,
    "start_time": "2024-06-14T00:20:56.088Z"
   },
   {
    "duration": 4,
    "start_time": "2024-06-14T00:28:03.317Z"
   },
   {
    "duration": 1032,
    "start_time": "2024-06-14T00:28:03.673Z"
   },
   {
    "duration": 1063,
    "start_time": "2024-06-14T00:28:04.707Z"
   },
   {
    "duration": 1055,
    "start_time": "2024-06-14T00:28:05.771Z"
   },
   {
    "duration": 5,
    "start_time": "2024-06-14T00:28:35.337Z"
   },
   {
    "duration": 100,
    "start_time": "2024-06-14T00:28:35.929Z"
   },
   {
    "duration": 165,
    "start_time": "2024-06-14T00:28:36.156Z"
   },
   {
    "duration": 65,
    "start_time": "2024-06-14T00:28:36.658Z"
   },
   {
    "duration": 2,
    "start_time": "2024-06-14T00:28:37.410Z"
   },
   {
    "duration": 2,
    "start_time": "2024-06-14T00:28:37.815Z"
   },
   {
    "duration": 5,
    "start_time": "2024-06-14T00:28:38.122Z"
   },
   {
    "duration": 963,
    "start_time": "2024-06-14T00:28:38.881Z"
   },
   {
    "duration": 949,
    "start_time": "2024-06-14T00:28:39.845Z"
   },
   {
    "duration": 945,
    "start_time": "2024-06-14T00:28:40.795Z"
   },
   {
    "duration": 5,
    "start_time": "2024-06-14T00:29:04.293Z"
   },
   {
    "duration": 110,
    "start_time": "2024-06-14T00:29:05.410Z"
   },
   {
    "duration": 4,
    "start_time": "2024-06-14T00:29:10.679Z"
   },
   {
    "duration": 38,
    "start_time": "2024-06-14T00:29:19.288Z"
   },
   {
    "duration": 5,
    "start_time": "2024-06-14T00:29:23.989Z"
   },
   {
    "duration": 38,
    "start_time": "2024-06-14T00:29:24.489Z"
   },
   {
    "duration": 127,
    "start_time": "2024-06-14T00:29:24.795Z"
   },
   {
    "duration": 28,
    "start_time": "2024-06-14T00:29:25.102Z"
   },
   {
    "duration": 3,
    "start_time": "2024-06-14T00:29:25.757Z"
   },
   {
    "duration": 3,
    "start_time": "2024-06-14T00:29:25.964Z"
   },
   {
    "duration": 4,
    "start_time": "2024-06-14T00:29:26.284Z"
   },
   {
    "duration": 978,
    "start_time": "2024-06-14T00:29:26.554Z"
   },
   {
    "duration": 968,
    "start_time": "2024-06-14T00:29:27.534Z"
   },
   {
    "duration": 997,
    "start_time": "2024-06-14T00:29:28.503Z"
   },
   {
    "duration": 4,
    "start_time": "2024-06-14T00:29:49.814Z"
   },
   {
    "duration": 105,
    "start_time": "2024-06-14T00:29:50.321Z"
   },
   {
    "duration": 100,
    "start_time": "2024-06-14T00:29:50.825Z"
   },
   {
    "duration": 201,
    "start_time": "2024-06-14T00:29:50.927Z"
   },
   {
    "duration": 92,
    "start_time": "2024-06-14T00:29:51.129Z"
   },
   {
    "duration": 2,
    "start_time": "2024-06-14T00:29:51.472Z"
   },
   {
    "duration": 5,
    "start_time": "2024-06-14T00:29:51.720Z"
   },
   {
    "duration": 989,
    "start_time": "2024-06-14T00:29:52.219Z"
   },
   {
    "duration": 969,
    "start_time": "2024-06-14T00:29:53.210Z"
   },
   {
    "duration": 976,
    "start_time": "2024-06-14T00:29:54.180Z"
   },
   {
    "duration": 5107,
    "start_time": "2024-06-14T00:31:07.548Z"
   },
   {
    "duration": 5069,
    "start_time": "2024-06-14T00:31:12.657Z"
   },
   {
    "duration": 1167,
    "start_time": "2024-06-14T00:31:17.727Z"
   },
   {
    "duration": 2,
    "start_time": "2024-06-14T00:31:18.896Z"
   },
   {
    "duration": 110,
    "start_time": "2024-06-14T00:31:18.900Z"
   },
   {
    "duration": 106,
    "start_time": "2024-06-14T00:31:19.011Z"
   },
   {
    "duration": 321,
    "start_time": "2024-06-14T00:31:19.118Z"
   },
   {
    "duration": 12,
    "start_time": "2024-06-14T00:31:19.440Z"
   },
   {
    "duration": 8,
    "start_time": "2024-06-14T00:31:19.453Z"
   },
   {
    "duration": 672,
    "start_time": "2024-06-14T00:31:19.463Z"
   },
   {
    "duration": 602,
    "start_time": "2024-06-14T00:31:20.137Z"
   },
   {
    "duration": 609,
    "start_time": "2024-06-14T00:31:20.741Z"
   },
   {
    "duration": 2,
    "start_time": "2024-06-14T00:31:21.351Z"
   },
   {
    "duration": 4,
    "start_time": "2024-06-14T00:31:21.355Z"
   },
   {
    "duration": 5,
    "start_time": "2024-06-14T00:31:21.360Z"
   },
   {
    "duration": 8,
    "start_time": "2024-06-14T00:31:21.366Z"
   },
   {
    "duration": 9,
    "start_time": "2024-06-14T00:31:21.375Z"
   },
   {
    "duration": 14,
    "start_time": "2024-06-14T00:31:21.385Z"
   },
   {
    "duration": 3,
    "start_time": "2024-06-14T00:31:21.400Z"
   },
   {
    "duration": 16,
    "start_time": "2024-06-14T00:31:21.404Z"
   },
   {
    "duration": 13,
    "start_time": "2024-06-14T00:31:21.422Z"
   },
   {
    "duration": 13,
    "start_time": "2024-06-14T00:31:21.436Z"
   },
   {
    "duration": 11,
    "start_time": "2024-06-14T00:31:21.450Z"
   },
   {
    "duration": 60,
    "start_time": "2024-06-14T00:31:21.462Z"
   },
   {
    "duration": 98,
    "start_time": "2024-06-14T00:31:21.523Z"
   },
   {
    "duration": 7,
    "start_time": "2024-06-14T00:31:21.623Z"
   },
   {
    "duration": 5,
    "start_time": "2024-06-14T00:31:21.721Z"
   },
   {
    "duration": 7,
    "start_time": "2024-06-14T00:31:21.729Z"
   },
   {
    "duration": 771,
    "start_time": "2024-06-14T00:31:21.737Z"
   },
   {
    "duration": 1938,
    "start_time": "2024-06-14T00:31:22.509Z"
   },
   {
    "duration": 3,
    "start_time": "2024-06-14T00:31:24.449Z"
   },
   {
    "duration": 33,
    "start_time": "2024-06-14T00:31:24.453Z"
   },
   {
    "duration": 137,
    "start_time": "2024-06-14T00:31:24.487Z"
   },
   {
    "duration": 99,
    "start_time": "2024-06-14T00:31:24.626Z"
   },
   {
    "duration": 3,
    "start_time": "2024-06-14T00:31:24.726Z"
   },
   {
    "duration": 8,
    "start_time": "2024-06-14T00:31:24.820Z"
   },
   {
    "duration": 93,
    "start_time": "2024-06-14T00:31:24.829Z"
   },
   {
    "duration": 16,
    "start_time": "2024-06-14T00:31:24.923Z"
   },
   {
    "duration": 24,
    "start_time": "2024-06-14T00:31:24.940Z"
   },
   {
    "duration": 615,
    "start_time": "2024-06-14T00:31:24.965Z"
   },
   {
    "duration": 3,
    "start_time": "2024-06-14T00:31:25.581Z"
   },
   {
    "duration": 18,
    "start_time": "2024-06-14T00:31:25.585Z"
   },
   {
    "duration": 5,
    "start_time": "2024-06-14T00:31:25.604Z"
   },
   {
    "duration": 28,
    "start_time": "2024-06-14T00:31:25.611Z"
   },
   {
    "duration": 184,
    "start_time": "2024-06-14T00:31:25.641Z"
   },
   {
    "duration": 104,
    "start_time": "2024-06-14T00:31:25.827Z"
   },
   {
    "duration": 108,
    "start_time": "2024-06-14T00:31:26.021Z"
   },
   {
    "duration": 3,
    "start_time": "2024-06-14T00:31:26.220Z"
   },
   {
    "duration": 8,
    "start_time": "2024-06-14T00:31:26.224Z"
   },
   {
    "duration": 18,
    "start_time": "2024-06-14T00:31:26.233Z"
   },
   {
    "duration": 946,
    "start_time": "2024-06-14T00:31:26.252Z"
   },
   {
    "duration": 937,
    "start_time": "2024-06-14T00:31:27.199Z"
   },
   {
    "duration": 937,
    "start_time": "2024-06-14T00:31:28.138Z"
   },
   {
    "duration": 1904,
    "start_time": "2024-06-14T00:33:03.666Z"
   },
   {
    "duration": 2147,
    "start_time": "2024-06-14T00:33:22.492Z"
   },
   {
    "duration": 9303,
    "start_time": "2024-06-14T20:55:33.117Z"
   },
   {
    "duration": 11160,
    "start_time": "2024-06-14T20:55:42.422Z"
   },
   {
    "duration": 1308,
    "start_time": "2024-06-14T20:55:53.584Z"
   },
   {
    "duration": 2,
    "start_time": "2024-06-14T20:55:54.894Z"
   },
   {
    "duration": 111,
    "start_time": "2024-06-14T20:55:54.897Z"
   },
   {
    "duration": 106,
    "start_time": "2024-06-14T20:55:55.010Z"
   },
   {
    "duration": 525,
    "start_time": "2024-06-14T20:55:55.117Z"
   },
   {
    "duration": 13,
    "start_time": "2024-06-14T20:55:55.643Z"
   },
   {
    "duration": 5,
    "start_time": "2024-06-14T20:55:55.657Z"
   },
   {
    "duration": 771,
    "start_time": "2024-06-14T20:55:55.665Z"
   },
   {
    "duration": 582,
    "start_time": "2024-06-14T20:55:56.437Z"
   },
   {
    "duration": 580,
    "start_time": "2024-06-14T20:55:57.020Z"
   },
   {
    "duration": 2,
    "start_time": "2024-06-14T20:55:57.602Z"
   },
   {
    "duration": 4,
    "start_time": "2024-06-14T20:55:57.605Z"
   },
   {
    "duration": 9,
    "start_time": "2024-06-14T20:55:57.610Z"
   },
   {
    "duration": 13,
    "start_time": "2024-06-14T20:55:57.620Z"
   },
   {
    "duration": 10,
    "start_time": "2024-06-14T20:55:57.634Z"
   },
   {
    "duration": 5,
    "start_time": "2024-06-14T20:55:57.645Z"
   },
   {
    "duration": 7,
    "start_time": "2024-06-14T20:55:57.651Z"
   },
   {
    "duration": 16,
    "start_time": "2024-06-14T20:55:57.659Z"
   },
   {
    "duration": 20,
    "start_time": "2024-06-14T20:55:57.676Z"
   },
   {
    "duration": 16,
    "start_time": "2024-06-14T20:55:57.697Z"
   },
   {
    "duration": 4,
    "start_time": "2024-06-14T20:55:57.714Z"
   },
   {
    "duration": 31,
    "start_time": "2024-06-14T20:55:57.719Z"
   },
   {
    "duration": 153,
    "start_time": "2024-06-14T20:55:57.752Z"
   },
   {
    "duration": 96,
    "start_time": "2024-06-14T20:55:57.906Z"
   },
   {
    "duration": 4,
    "start_time": "2024-06-14T20:55:58.004Z"
   },
   {
    "duration": 13,
    "start_time": "2024-06-14T20:55:58.011Z"
   },
   {
    "duration": 673,
    "start_time": "2024-06-14T20:55:58.025Z"
   },
   {
    "duration": 1903,
    "start_time": "2024-06-14T20:55:58.701Z"
   },
   {
    "duration": 6,
    "start_time": "2024-06-14T20:56:00.605Z"
   },
   {
    "duration": 83,
    "start_time": "2024-06-14T20:56:00.612Z"
   },
   {
    "duration": 205,
    "start_time": "2024-06-14T20:56:00.697Z"
   },
   {
    "duration": 204,
    "start_time": "2024-06-14T20:56:00.904Z"
   },
   {
    "duration": 193,
    "start_time": "2024-06-14T20:56:01.110Z"
   },
   {
    "duration": 81,
    "start_time": "2024-06-14T20:56:01.304Z"
   },
   {
    "duration": 32,
    "start_time": "2024-06-14T20:56:01.386Z"
   },
   {
    "duration": 49,
    "start_time": "2024-06-14T20:56:01.420Z"
   },
   {
    "duration": 44,
    "start_time": "2024-06-14T20:56:01.470Z"
   },
   {
    "duration": 647,
    "start_time": "2024-06-14T20:56:01.516Z"
   },
   {
    "duration": 2,
    "start_time": "2024-06-14T20:56:02.165Z"
   },
   {
    "duration": 19,
    "start_time": "2024-06-14T20:56:02.168Z"
   },
   {
    "duration": 16,
    "start_time": "2024-06-14T20:56:02.188Z"
   },
   {
    "duration": 7,
    "start_time": "2024-06-14T20:56:02.205Z"
   },
   {
    "duration": 189,
    "start_time": "2024-06-14T20:56:02.213Z"
   },
   {
    "duration": 198,
    "start_time": "2024-06-14T20:56:02.404Z"
   },
   {
    "duration": 200,
    "start_time": "2024-06-14T20:56:02.603Z"
   },
   {
    "duration": 3,
    "start_time": "2024-06-14T20:56:02.804Z"
   },
   {
    "duration": 6,
    "start_time": "2024-06-14T20:56:02.808Z"
   },
   {
    "duration": 9,
    "start_time": "2024-06-14T20:56:02.815Z"
   },
   {
    "duration": 921,
    "start_time": "2024-06-14T20:56:02.825Z"
   },
   {
    "duration": 916,
    "start_time": "2024-06-14T20:56:03.747Z"
   },
   {
    "duration": 932,
    "start_time": "2024-06-14T20:56:04.665Z"
   },
   {
    "duration": 6644,
    "start_time": "2024-06-14T23:31:37.471Z"
   },
   {
    "duration": 10707,
    "start_time": "2024-06-14T23:31:44.117Z"
   },
   {
    "duration": 1271,
    "start_time": "2024-06-14T23:31:54.825Z"
   },
   {
    "duration": 2,
    "start_time": "2024-06-14T23:31:56.098Z"
   },
   {
    "duration": 117,
    "start_time": "2024-06-14T23:31:56.102Z"
   },
   {
    "duration": 554,
    "start_time": "2024-06-14T23:31:56.220Z"
   },
   {
    "duration": 12,
    "start_time": "2024-06-14T23:31:56.775Z"
   },
   {
    "duration": 4,
    "start_time": "2024-06-14T23:31:56.788Z"
   },
   {
    "duration": 660,
    "start_time": "2024-06-14T23:31:56.793Z"
   },
   {
    "duration": 612,
    "start_time": "2024-06-14T23:31:57.456Z"
   },
   {
    "duration": 659,
    "start_time": "2024-06-14T23:31:58.070Z"
   },
   {
    "duration": 3,
    "start_time": "2024-06-14T23:31:58.730Z"
   },
   {
    "duration": 7,
    "start_time": "2024-06-14T23:31:58.734Z"
   },
   {
    "duration": 12,
    "start_time": "2024-06-14T23:31:58.742Z"
   },
   {
    "duration": 20,
    "start_time": "2024-06-14T23:31:58.755Z"
   },
   {
    "duration": 9,
    "start_time": "2024-06-14T23:31:58.776Z"
   },
   {
    "duration": 6,
    "start_time": "2024-06-14T23:31:58.786Z"
   },
   {
    "duration": 5,
    "start_time": "2024-06-14T23:31:58.793Z"
   },
   {
    "duration": 20,
    "start_time": "2024-06-14T23:31:58.799Z"
   },
   {
    "duration": 25,
    "start_time": "2024-06-14T23:31:58.821Z"
   },
   {
    "duration": 11,
    "start_time": "2024-06-14T23:31:58.847Z"
   },
   {
    "duration": 42,
    "start_time": "2024-06-14T23:31:58.859Z"
   },
   {
    "duration": 21,
    "start_time": "2024-06-14T23:31:58.903Z"
   },
   {
    "duration": 84,
    "start_time": "2024-06-14T23:31:58.926Z"
   },
   {
    "duration": 90,
    "start_time": "2024-06-14T23:31:59.012Z"
   },
   {
    "duration": 5,
    "start_time": "2024-06-14T23:31:59.104Z"
   },
   {
    "duration": 98,
    "start_time": "2024-06-14T23:31:59.111Z"
   },
   {
    "duration": 675,
    "start_time": "2024-06-14T23:31:59.213Z"
   },
   {
    "duration": 1886,
    "start_time": "2024-06-14T23:31:59.890Z"
   },
   {
    "duration": 3,
    "start_time": "2024-06-14T23:32:01.777Z"
   },
   {
    "duration": 34,
    "start_time": "2024-06-14T23:32:01.781Z"
   },
   {
    "duration": 204,
    "start_time": "2024-06-14T23:32:01.816Z"
   },
   {
    "duration": 181,
    "start_time": "2024-06-14T23:32:02.021Z"
   },
   {
    "duration": 3,
    "start_time": "2024-06-14T23:32:02.204Z"
   },
   {
    "duration": 97,
    "start_time": "2024-06-14T23:32:02.209Z"
   },
   {
    "duration": 3,
    "start_time": "2024-06-14T23:32:02.308Z"
   },
   {
    "duration": 4,
    "start_time": "2024-06-14T23:32:02.402Z"
   },
   {
    "duration": 16,
    "start_time": "2024-06-14T23:32:02.407Z"
   },
   {
    "duration": 472,
    "start_time": "2024-06-14T23:32:02.424Z"
   },
   {
    "duration": 4,
    "start_time": "2024-06-14T23:32:02.897Z"
   },
   {
    "duration": 50,
    "start_time": "2024-06-14T23:32:02.903Z"
   },
   {
    "duration": 4,
    "start_time": "2024-06-14T23:32:02.954Z"
   },
   {
    "duration": 7,
    "start_time": "2024-06-14T23:32:02.959Z"
   },
   {
    "duration": 136,
    "start_time": "2024-06-14T23:32:02.967Z"
   },
   {
    "duration": 201,
    "start_time": "2024-06-14T23:32:03.104Z"
   },
   {
    "duration": 202,
    "start_time": "2024-06-14T23:32:03.307Z"
   },
   {
    "duration": 3,
    "start_time": "2024-06-14T23:32:03.510Z"
   },
   {
    "duration": 4,
    "start_time": "2024-06-14T23:32:03.514Z"
   },
   {
    "duration": 11,
    "start_time": "2024-06-14T23:32:03.519Z"
   },
   {
    "duration": 928,
    "start_time": "2024-06-14T23:32:03.531Z"
   },
   {
    "duration": 916,
    "start_time": "2024-06-14T23:32:04.460Z"
   },
   {
    "duration": 899,
    "start_time": "2024-06-14T23:32:05.377Z"
   },
   {
    "duration": 697,
    "start_time": "2024-06-14T23:34:47.119Z"
   },
   {
    "duration": 65,
    "start_time": "2024-06-14T23:36:23.469Z"
   },
   {
    "duration": 65,
    "start_time": "2024-06-14T23:49:05.301Z"
   },
   {
    "duration": 75,
    "start_time": "2024-06-14T23:51:28.018Z"
   },
   {
    "duration": 5,
    "start_time": "2024-06-15T00:06:44.278Z"
   },
   {
    "duration": 2392,
    "start_time": "2024-06-15T00:06:56.718Z"
   },
   {
    "duration": 4833,
    "start_time": "2024-06-15T00:06:59.112Z"
   },
   {
    "duration": 1100,
    "start_time": "2024-06-15T00:07:03.947Z"
   },
   {
    "duration": 3,
    "start_time": "2024-06-15T00:07:05.048Z"
   },
   {
    "duration": 102,
    "start_time": "2024-06-15T00:07:05.052Z"
   },
   {
    "duration": 325,
    "start_time": "2024-06-15T00:07:05.156Z"
   },
   {
    "duration": 13,
    "start_time": "2024-06-15T00:07:05.482Z"
   },
   {
    "duration": 59,
    "start_time": "2024-06-15T00:07:05.496Z"
   },
   {
    "duration": 640,
    "start_time": "2024-06-15T00:07:05.557Z"
   },
   {
    "duration": 592,
    "start_time": "2024-06-15T00:07:06.201Z"
   },
   {
    "duration": 709,
    "start_time": "2024-06-15T00:07:06.794Z"
   },
   {
    "duration": 2,
    "start_time": "2024-06-15T00:07:07.504Z"
   },
   {
    "duration": 10,
    "start_time": "2024-06-15T00:07:07.507Z"
   },
   {
    "duration": 4,
    "start_time": "2024-06-15T00:07:07.518Z"
   },
   {
    "duration": 17,
    "start_time": "2024-06-15T00:07:07.523Z"
   },
   {
    "duration": 12,
    "start_time": "2024-06-15T00:07:07.541Z"
   },
   {
    "duration": 14,
    "start_time": "2024-06-15T00:07:07.554Z"
   },
   {
    "duration": 14,
    "start_time": "2024-06-15T00:07:07.570Z"
   },
   {
    "duration": 18,
    "start_time": "2024-06-15T00:07:07.585Z"
   },
   {
    "duration": 39,
    "start_time": "2024-06-15T00:07:07.604Z"
   },
   {
    "duration": 13,
    "start_time": "2024-06-15T00:07:07.644Z"
   },
   {
    "duration": 9,
    "start_time": "2024-06-15T00:07:07.658Z"
   },
   {
    "duration": 54,
    "start_time": "2024-06-15T00:07:07.668Z"
   },
   {
    "duration": 88,
    "start_time": "2024-06-15T00:07:07.723Z"
   },
   {
    "duration": 7,
    "start_time": "2024-06-15T00:07:07.901Z"
   },
   {
    "duration": 99,
    "start_time": "2024-06-15T00:07:07.910Z"
   },
   {
    "duration": 55,
    "start_time": "2024-06-15T00:07:08.010Z"
   },
   {
    "duration": 709,
    "start_time": "2024-06-15T00:07:08.068Z"
   },
   {
    "duration": 1906,
    "start_time": "2024-06-15T00:07:08.778Z"
   },
   {
    "duration": 3,
    "start_time": "2024-06-15T00:07:10.685Z"
   },
   {
    "duration": 41,
    "start_time": "2024-06-15T00:07:10.689Z"
   },
   {
    "duration": 165,
    "start_time": "2024-06-15T00:07:10.737Z"
   },
   {
    "duration": 198,
    "start_time": "2024-06-15T00:07:10.904Z"
   },
   {
    "duration": 100,
    "start_time": "2024-06-15T00:07:11.103Z"
   },
   {
    "duration": 100,
    "start_time": "2024-06-15T00:07:11.205Z"
   },
   {
    "duration": 3,
    "start_time": "2024-06-15T00:07:11.306Z"
   },
   {
    "duration": 23,
    "start_time": "2024-06-15T00:07:11.310Z"
   },
   {
    "duration": 61,
    "start_time": "2024-06-15T00:07:11.335Z"
   },
   {
    "duration": 557,
    "start_time": "2024-06-15T00:07:11.398Z"
   },
   {
    "duration": 3,
    "start_time": "2024-06-15T00:07:11.956Z"
   },
   {
    "duration": 66,
    "start_time": "2024-06-15T00:07:11.960Z"
   },
   {
    "duration": 47,
    "start_time": "2024-06-15T00:07:12.028Z"
   },
   {
    "duration": 34,
    "start_time": "2024-06-15T00:07:12.076Z"
   },
   {
    "duration": 191,
    "start_time": "2024-06-15T00:07:12.111Z"
   },
   {
    "duration": 106,
    "start_time": "2024-06-15T00:07:12.304Z"
   },
   {
    "duration": 291,
    "start_time": "2024-06-15T00:07:12.411Z"
   },
   {
    "duration": 3,
    "start_time": "2024-06-15T00:07:12.703Z"
   },
   {
    "duration": 5,
    "start_time": "2024-06-15T00:07:12.707Z"
   },
   {
    "duration": 42,
    "start_time": "2024-06-15T00:07:12.713Z"
   },
   {
    "duration": 980,
    "start_time": "2024-06-15T00:07:12.757Z"
   },
   {
    "duration": 892,
    "start_time": "2024-06-15T00:07:13.739Z"
   },
   {
    "duration": 954,
    "start_time": "2024-06-15T00:07:14.633Z"
   },
   {
    "duration": 2430,
    "start_time": "2024-06-15T00:34:46.282Z"
   },
   {
    "duration": 4956,
    "start_time": "2024-06-15T00:34:48.714Z"
   },
   {
    "duration": 1166,
    "start_time": "2024-06-15T00:34:53.672Z"
   },
   {
    "duration": 2,
    "start_time": "2024-06-15T00:34:54.840Z"
   },
   {
    "duration": 86,
    "start_time": "2024-06-15T00:34:54.843Z"
   },
   {
    "duration": 318,
    "start_time": "2024-06-15T00:34:54.931Z"
   },
   {
    "duration": 12,
    "start_time": "2024-06-15T00:34:55.250Z"
   },
   {
    "duration": 3,
    "start_time": "2024-06-15T00:34:55.264Z"
   },
   {
    "duration": 625,
    "start_time": "2024-06-15T00:34:55.268Z"
   },
   {
    "duration": 606,
    "start_time": "2024-06-15T00:34:55.901Z"
   },
   {
    "duration": 669,
    "start_time": "2024-06-15T00:34:56.508Z"
   },
   {
    "duration": 2,
    "start_time": "2024-06-15T00:34:57.178Z"
   },
   {
    "duration": 7,
    "start_time": "2024-06-15T00:34:57.182Z"
   },
   {
    "duration": 24,
    "start_time": "2024-06-15T00:34:57.191Z"
   },
   {
    "duration": 38,
    "start_time": "2024-06-15T00:34:57.216Z"
   },
   {
    "duration": 13,
    "start_time": "2024-06-15T00:34:57.255Z"
   },
   {
    "duration": 20,
    "start_time": "2024-06-15T00:34:57.269Z"
   },
   {
    "duration": 5,
    "start_time": "2024-06-15T00:34:57.290Z"
   },
   {
    "duration": 14,
    "start_time": "2024-06-15T00:34:57.296Z"
   },
   {
    "duration": 20,
    "start_time": "2024-06-15T00:34:57.312Z"
   },
   {
    "duration": 11,
    "start_time": "2024-06-15T00:34:57.333Z"
   },
   {
    "duration": 2,
    "start_time": "2024-06-15T00:34:57.345Z"
   },
   {
    "duration": 55,
    "start_time": "2024-06-15T00:34:57.349Z"
   },
   {
    "duration": 97,
    "start_time": "2024-06-15T00:34:57.405Z"
   },
   {
    "duration": 6,
    "start_time": "2024-06-15T00:34:57.504Z"
   },
   {
    "duration": 16,
    "start_time": "2024-06-15T00:34:57.601Z"
   },
   {
    "duration": 12,
    "start_time": "2024-06-15T00:34:57.618Z"
   },
   {
    "duration": 698,
    "start_time": "2024-06-15T00:34:57.634Z"
   },
   {
    "duration": 1803,
    "start_time": "2024-06-15T00:34:58.333Z"
   },
   {
    "duration": 4,
    "start_time": "2024-06-15T00:35:00.137Z"
   },
   {
    "duration": 78,
    "start_time": "2024-06-15T00:35:00.142Z"
   },
   {
    "duration": 207,
    "start_time": "2024-06-15T00:35:00.221Z"
   },
   {
    "duration": 181,
    "start_time": "2024-06-15T00:35:00.429Z"
   },
   {
    "duration": 89,
    "start_time": "2024-06-15T00:35:00.614Z"
   },
   {
    "duration": 101,
    "start_time": "2024-06-15T00:35:00.705Z"
   },
   {
    "duration": 46,
    "start_time": "2024-06-15T00:35:00.807Z"
   },
   {
    "duration": 61,
    "start_time": "2024-06-15T00:35:00.854Z"
   },
   {
    "duration": 39,
    "start_time": "2024-06-15T00:35:00.917Z"
   },
   {
    "duration": 533,
    "start_time": "2024-06-15T00:35:00.957Z"
   },
   {
    "duration": 3,
    "start_time": "2024-06-15T00:35:01.491Z"
   },
   {
    "duration": 35,
    "start_time": "2024-06-15T00:35:01.494Z"
   },
   {
    "duration": 118,
    "start_time": "2024-06-15T00:35:01.530Z"
   },
   {
    "duration": 40,
    "start_time": "2024-06-15T00:35:01.649Z"
   },
   {
    "duration": 211,
    "start_time": "2024-06-15T00:35:01.691Z"
   },
   {
    "duration": 198,
    "start_time": "2024-06-15T00:35:01.904Z"
   },
   {
    "duration": 201,
    "start_time": "2024-06-15T00:35:02.104Z"
   },
   {
    "duration": 2,
    "start_time": "2024-06-15T00:35:02.307Z"
   },
   {
    "duration": 14,
    "start_time": "2024-06-15T00:35:02.311Z"
   },
   {
    "duration": 11,
    "start_time": "2024-06-15T00:35:02.327Z"
   },
   {
    "duration": 939,
    "start_time": "2024-06-15T00:35:02.339Z"
   },
   {
    "duration": 904,
    "start_time": "2024-06-15T00:35:03.280Z"
   },
   {
    "duration": 928,
    "start_time": "2024-06-15T00:35:04.185Z"
   },
   {
    "duration": 2,
    "start_time": "2024-06-15T00:36:47.929Z"
   },
   {
    "duration": 2427,
    "start_time": "2024-06-15T00:37:53.093Z"
   },
   {
    "duration": 4773,
    "start_time": "2024-06-15T00:37:55.521Z"
   },
   {
    "duration": 1164,
    "start_time": "2024-06-15T00:38:00.296Z"
   },
   {
    "duration": 3,
    "start_time": "2024-06-15T00:38:01.461Z"
   },
   {
    "duration": 189,
    "start_time": "2024-06-15T00:38:01.465Z"
   },
   {
    "duration": 367,
    "start_time": "2024-06-15T00:38:01.655Z"
   },
   {
    "duration": 11,
    "start_time": "2024-06-15T00:38:02.024Z"
   },
   {
    "duration": 4,
    "start_time": "2024-06-15T00:38:02.037Z"
   },
   {
    "duration": 650,
    "start_time": "2024-06-15T00:38:02.042Z"
   },
   {
    "duration": 603,
    "start_time": "2024-06-15T00:38:02.694Z"
   },
   {
    "duration": 690,
    "start_time": "2024-06-15T00:38:03.298Z"
   },
   {
    "duration": 2,
    "start_time": "2024-06-15T00:38:03.990Z"
   },
   {
    "duration": 2,
    "start_time": "2024-06-15T00:38:04.001Z"
   },
   {
    "duration": 17,
    "start_time": "2024-06-15T00:38:04.004Z"
   },
   {
    "duration": 26,
    "start_time": "2024-06-15T00:38:04.022Z"
   },
   {
    "duration": 15,
    "start_time": "2024-06-15T00:38:04.049Z"
   },
   {
    "duration": 5,
    "start_time": "2024-06-15T00:38:04.065Z"
   },
   {
    "duration": 5,
    "start_time": "2024-06-15T00:38:04.071Z"
   },
   {
    "duration": 13,
    "start_time": "2024-06-15T00:38:04.077Z"
   },
   {
    "duration": 33,
    "start_time": "2024-06-15T00:38:04.091Z"
   },
   {
    "duration": 13,
    "start_time": "2024-06-15T00:38:04.125Z"
   },
   {
    "duration": 6,
    "start_time": "2024-06-15T00:38:04.139Z"
   },
   {
    "duration": 24,
    "start_time": "2024-06-15T00:38:04.147Z"
   },
   {
    "duration": 132,
    "start_time": "2024-06-15T00:38:04.172Z"
   },
   {
    "duration": 96,
    "start_time": "2024-06-15T00:38:04.306Z"
   },
   {
    "duration": 8,
    "start_time": "2024-06-15T00:38:04.403Z"
   },
   {
    "duration": 9,
    "start_time": "2024-06-15T00:38:04.502Z"
   },
   {
    "duration": 679,
    "start_time": "2024-06-15T00:38:04.514Z"
   },
   {
    "duration": 1978,
    "start_time": "2024-06-15T00:38:05.194Z"
   },
   {
    "duration": 4,
    "start_time": "2024-06-15T00:38:07.174Z"
   },
   {
    "duration": 25,
    "start_time": "2024-06-15T00:38:07.181Z"
   },
   {
    "duration": 96,
    "start_time": "2024-06-15T00:38:07.208Z"
   },
   {
    "duration": 105,
    "start_time": "2024-06-15T00:38:07.305Z"
   },
   {
    "duration": 90,
    "start_time": "2024-06-15T00:38:07.412Z"
   },
   {
    "duration": 101,
    "start_time": "2024-06-15T00:38:07.504Z"
   },
   {
    "duration": 20,
    "start_time": "2024-06-15T00:38:07.606Z"
   },
   {
    "duration": 7,
    "start_time": "2024-06-15T00:38:07.627Z"
   },
   {
    "duration": 11,
    "start_time": "2024-06-15T00:38:07.635Z"
   },
   {
    "duration": 499,
    "start_time": "2024-06-15T00:38:07.647Z"
   },
   {
    "duration": 2,
    "start_time": "2024-06-15T00:38:08.148Z"
   },
   {
    "duration": 9,
    "start_time": "2024-06-15T00:38:08.151Z"
   },
   {
    "duration": 8,
    "start_time": "2024-06-15T00:38:08.161Z"
   },
   {
    "duration": 6,
    "start_time": "2024-06-15T00:38:08.170Z"
   },
   {
    "duration": 225,
    "start_time": "2024-06-15T00:38:08.178Z"
   },
   {
    "duration": 103,
    "start_time": "2024-06-15T00:38:08.404Z"
   },
   {
    "duration": 193,
    "start_time": "2024-06-15T00:38:08.509Z"
   },
   {
    "duration": 3,
    "start_time": "2024-06-15T00:38:08.704Z"
   },
   {
    "duration": 7,
    "start_time": "2024-06-15T00:38:08.709Z"
   },
   {
    "duration": 10,
    "start_time": "2024-06-15T00:38:08.718Z"
   },
   {
    "duration": 959,
    "start_time": "2024-06-15T00:38:08.730Z"
   },
   {
    "duration": 960,
    "start_time": "2024-06-15T00:38:09.690Z"
   },
   {
    "duration": 896,
    "start_time": "2024-06-15T00:38:10.651Z"
   },
   {
    "duration": 7915,
    "start_time": "2024-06-15T03:48:05.672Z"
   },
   {
    "duration": 12307,
    "start_time": "2024-06-15T03:48:13.590Z"
   },
   {
    "duration": 1547,
    "start_time": "2024-06-15T03:48:25.899Z"
   },
   {
    "duration": 4,
    "start_time": "2024-06-15T03:48:27.448Z"
   },
   {
    "duration": 120,
    "start_time": "2024-06-15T03:48:27.460Z"
   },
   {
    "duration": 669,
    "start_time": "2024-06-15T03:48:27.582Z"
   },
   {
    "duration": 16,
    "start_time": "2024-06-15T03:48:28.253Z"
   },
   {
    "duration": 3,
    "start_time": "2024-06-15T03:48:28.270Z"
   },
   {
    "duration": 864,
    "start_time": "2024-06-15T03:48:28.274Z"
   },
   {
    "duration": 784,
    "start_time": "2024-06-15T03:48:29.140Z"
   },
   {
    "duration": 875,
    "start_time": "2024-06-15T03:48:29.926Z"
   },
   {
    "duration": 2,
    "start_time": "2024-06-15T03:48:30.803Z"
   },
   {
    "duration": 51,
    "start_time": "2024-06-15T03:48:30.807Z"
   },
   {
    "duration": 36,
    "start_time": "2024-06-15T03:48:30.862Z"
   },
   {
    "duration": 42,
    "start_time": "2024-06-15T03:48:30.900Z"
   },
   {
    "duration": 58,
    "start_time": "2024-06-15T03:48:30.944Z"
   },
   {
    "duration": 76,
    "start_time": "2024-06-15T03:48:31.004Z"
   },
   {
    "duration": 27,
    "start_time": "2024-06-15T03:48:31.082Z"
   },
   {
    "duration": 37,
    "start_time": "2024-06-15T03:48:31.111Z"
   },
   {
    "duration": 53,
    "start_time": "2024-06-15T03:48:31.149Z"
   },
   {
    "duration": 18,
    "start_time": "2024-06-15T03:48:31.204Z"
   },
   {
    "duration": 36,
    "start_time": "2024-06-15T03:48:31.224Z"
   },
   {
    "duration": 42,
    "start_time": "2024-06-15T03:48:31.262Z"
   },
   {
    "duration": 160,
    "start_time": "2024-06-15T03:48:31.311Z"
   },
   {
    "duration": 94,
    "start_time": "2024-06-15T03:48:31.473Z"
   },
   {
    "duration": 94,
    "start_time": "2024-06-15T03:48:31.569Z"
   },
   {
    "duration": 15,
    "start_time": "2024-06-15T03:48:31.664Z"
   },
   {
    "duration": 883,
    "start_time": "2024-06-15T03:48:31.681Z"
   },
   {
    "duration": 2276,
    "start_time": "2024-06-15T03:48:32.566Z"
   },
   {
    "duration": 4,
    "start_time": "2024-06-15T03:48:34.844Z"
   },
   {
    "duration": 32,
    "start_time": "2024-06-15T03:48:34.849Z"
   },
   {
    "duration": 196,
    "start_time": "2024-06-15T03:48:34.883Z"
   },
   {
    "duration": 191,
    "start_time": "2024-06-15T03:48:35.082Z"
   },
   {
    "duration": 3,
    "start_time": "2024-06-15T03:48:35.276Z"
   },
   {
    "duration": 99,
    "start_time": "2024-06-15T03:48:35.362Z"
   },
   {
    "duration": 4,
    "start_time": "2024-06-15T03:48:35.463Z"
   },
   {
    "duration": 5,
    "start_time": "2024-06-15T03:48:35.469Z"
   },
   {
    "duration": 11,
    "start_time": "2024-06-15T03:48:35.476Z"
   },
   {
    "duration": 682,
    "start_time": "2024-06-15T03:48:35.489Z"
   },
   {
    "duration": 4,
    "start_time": "2024-06-15T03:48:36.173Z"
   },
   {
    "duration": 5,
    "start_time": "2024-06-15T03:48:36.182Z"
   },
   {
    "duration": 14,
    "start_time": "2024-06-15T03:48:36.188Z"
   },
   {
    "duration": 8,
    "start_time": "2024-06-15T03:48:36.205Z"
   },
   {
    "duration": 162,
    "start_time": "2024-06-15T03:48:36.215Z"
   },
   {
    "duration": 192,
    "start_time": "2024-06-15T03:48:36.378Z"
   },
   {
    "duration": 194,
    "start_time": "2024-06-15T03:48:36.572Z"
   },
   {
    "duration": 4,
    "start_time": "2024-06-15T03:48:36.767Z"
   },
   {
    "duration": 5,
    "start_time": "2024-06-15T03:48:36.772Z"
   },
   {
    "duration": 7,
    "start_time": "2024-06-15T03:48:36.779Z"
   },
   {
    "duration": 1369,
    "start_time": "2024-06-15T03:48:36.787Z"
   },
   {
    "duration": 1235,
    "start_time": "2024-06-15T03:48:38.161Z"
   },
   {
    "duration": 1291,
    "start_time": "2024-06-15T03:48:39.398Z"
   },
   {
    "duration": 4,
    "start_time": "2024-06-15T04:04:19.960Z"
   },
   {
    "duration": 10,
    "start_time": "2024-06-15T04:04:20.258Z"
   },
   {
    "duration": 12,
    "start_time": "2024-06-15T04:04:21.297Z"
   },
   {
    "duration": 7,
    "start_time": "2024-06-15T04:04:22.128Z"
   },
   {
    "duration": 5,
    "start_time": "2024-06-15T04:04:22.860Z"
   },
   {
    "duration": 9,
    "start_time": "2024-06-15T04:04:23.556Z"
   },
   {
    "duration": 781,
    "start_time": "2024-06-15T04:04:24.321Z"
   },
   {
    "duration": 2,
    "start_time": "2024-06-15T04:05:26.108Z"
   },
   {
    "duration": 13,
    "start_time": "2024-06-15T04:05:26.293Z"
   },
   {
    "duration": 11,
    "start_time": "2024-06-15T04:05:26.729Z"
   },
   {
    "duration": 6,
    "start_time": "2024-06-15T04:05:27.217Z"
   },
   {
    "duration": 6,
    "start_time": "2024-06-15T04:05:27.476Z"
   },
   {
    "duration": 9,
    "start_time": "2024-06-15T04:05:27.971Z"
   },
   {
    "duration": 963,
    "start_time": "2024-06-15T04:05:28.516Z"
   },
   {
    "duration": 2433,
    "start_time": "2024-06-15T04:05:29.481Z"
   },
   {
    "duration": 7314,
    "start_time": "2024-06-16T21:24:46.535Z"
   },
   {
    "duration": 13927,
    "start_time": "2024-06-16T21:24:53.852Z"
   },
   {
    "duration": 1720,
    "start_time": "2024-06-16T21:25:07.781Z"
   },
   {
    "duration": 4,
    "start_time": "2024-06-16T21:25:09.503Z"
   },
   {
    "duration": 196,
    "start_time": "2024-06-16T21:25:09.509Z"
   },
   {
    "duration": 1800,
    "start_time": "2024-06-16T21:25:09.707Z"
   },
   {
    "duration": 17,
    "start_time": "2024-06-16T21:25:11.509Z"
   },
   {
    "duration": 3,
    "start_time": "2024-06-16T21:25:11.528Z"
   },
   {
    "duration": 1463,
    "start_time": "2024-06-16T21:25:11.533Z"
   },
   {
    "duration": 1203,
    "start_time": "2024-06-16T21:25:12.997Z"
   },
   {
    "duration": 900,
    "start_time": "2024-06-16T21:25:14.201Z"
   },
   {
    "duration": 3,
    "start_time": "2024-06-16T21:25:15.103Z"
   },
   {
    "duration": 15,
    "start_time": "2024-06-16T21:25:15.107Z"
   },
   {
    "duration": 16,
    "start_time": "2024-06-16T21:25:15.125Z"
   },
   {
    "duration": 17,
    "start_time": "2024-06-16T21:25:15.143Z"
   },
   {
    "duration": 27,
    "start_time": "2024-06-16T21:25:15.162Z"
   },
   {
    "duration": 13,
    "start_time": "2024-06-16T21:25:15.190Z"
   },
   {
    "duration": 29,
    "start_time": "2024-06-16T21:25:15.205Z"
   },
   {
    "duration": 17,
    "start_time": "2024-06-16T21:25:15.236Z"
   },
   {
    "duration": 100,
    "start_time": "2024-06-16T21:25:15.255Z"
   },
   {
    "duration": 201,
    "start_time": "2024-06-16T21:25:15.358Z"
   },
   {
    "duration": 208,
    "start_time": "2024-06-16T21:25:15.561Z"
   },
   {
    "duration": 4,
    "start_time": "2024-06-16T21:25:15.771Z"
   },
   {
    "duration": 88,
    "start_time": "2024-06-16T21:25:15.777Z"
   },
   {
    "duration": 10,
    "start_time": "2024-06-16T21:25:15.956Z"
   },
   {
    "duration": 19,
    "start_time": "2024-06-16T21:25:15.968Z"
   },
   {
    "duration": 11,
    "start_time": "2024-06-16T21:25:15.989Z"
   },
   {
    "duration": 631,
    "start_time": "2024-06-16T21:25:16.002Z"
   },
   {
    "duration": 3,
    "start_time": "2024-06-16T21:25:16.635Z"
   },
   {
    "duration": 21,
    "start_time": "2024-06-16T21:25:16.640Z"
   },
   {
    "duration": 5,
    "start_time": "2024-06-16T21:25:16.663Z"
   },
   {
    "duration": 12,
    "start_time": "2024-06-16T21:25:16.670Z"
   },
   {
    "duration": 187,
    "start_time": "2024-06-16T21:25:16.683Z"
   },
   {
    "duration": 196,
    "start_time": "2024-06-16T21:25:16.872Z"
   },
   {
    "duration": 194,
    "start_time": "2024-06-16T21:25:17.070Z"
   },
   {
    "duration": 4,
    "start_time": "2024-06-16T21:25:17.266Z"
   },
   {
    "duration": 4,
    "start_time": "2024-06-16T21:25:17.272Z"
   },
   {
    "duration": 7,
    "start_time": "2024-06-16T21:25:17.278Z"
   },
   {
    "duration": 1338,
    "start_time": "2024-06-16T21:25:17.287Z"
   },
   {
    "duration": 1331,
    "start_time": "2024-06-16T21:25:18.628Z"
   },
   {
    "duration": 1342,
    "start_time": "2024-06-16T21:25:19.963Z"
   },
   {
    "duration": 2681,
    "start_time": "2024-06-16T21:25:47.629Z"
   },
   {
    "duration": 5377,
    "start_time": "2024-06-16T21:25:50.313Z"
   },
   {
    "duration": 1349,
    "start_time": "2024-06-16T21:25:55.693Z"
   },
   {
    "duration": 11,
    "start_time": "2024-06-16T21:25:57.045Z"
   },
   {
    "duration": 125,
    "start_time": "2024-06-16T21:25:57.058Z"
   },
   {
    "duration": 429,
    "start_time": "2024-06-16T21:25:57.184Z"
   },
   {
    "duration": 16,
    "start_time": "2024-06-16T21:25:57.615Z"
   },
   {
    "duration": 4,
    "start_time": "2024-06-16T21:25:57.632Z"
   },
   {
    "duration": 892,
    "start_time": "2024-06-16T21:25:57.637Z"
   },
   {
    "duration": 828,
    "start_time": "2024-06-16T21:25:58.532Z"
   },
   {
    "duration": 930,
    "start_time": "2024-06-16T21:25:59.362Z"
   },
   {
    "duration": 3,
    "start_time": "2024-06-16T21:26:00.294Z"
   },
   {
    "duration": 216,
    "start_time": "2024-06-16T21:26:00.299Z"
   },
   {
    "duration": 52,
    "start_time": "2024-06-16T21:26:00.517Z"
   },
   {
    "duration": 70,
    "start_time": "2024-06-16T21:26:00.571Z"
   },
   {
    "duration": 87,
    "start_time": "2024-06-16T21:26:00.643Z"
   },
   {
    "duration": 37,
    "start_time": "2024-06-16T21:26:00.732Z"
   },
   {
    "duration": 64,
    "start_time": "2024-06-16T21:26:00.770Z"
   },
   {
    "duration": 70,
    "start_time": "2024-06-16T21:26:00.836Z"
   },
   {
    "duration": 157,
    "start_time": "2024-06-16T21:26:00.908Z"
   },
   {
    "duration": 243,
    "start_time": "2024-06-16T21:26:01.068Z"
   },
   {
    "duration": 218,
    "start_time": "2024-06-16T21:26:01.314Z"
   },
   {
    "duration": 35,
    "start_time": "2024-06-16T21:26:01.534Z"
   },
   {
    "duration": 243,
    "start_time": "2024-06-16T21:26:01.572Z"
   },
   {
    "duration": 102,
    "start_time": "2024-06-16T21:26:01.817Z"
   },
   {
    "duration": 166,
    "start_time": "2024-06-16T21:26:01.921Z"
   },
   {
    "duration": 32,
    "start_time": "2024-06-16T21:26:02.089Z"
   },
   {
    "duration": 622,
    "start_time": "2024-06-16T21:26:02.124Z"
   },
   {
    "duration": 3,
    "start_time": "2024-06-16T21:26:02.748Z"
   },
   {
    "duration": 27,
    "start_time": "2024-06-16T21:26:02.756Z"
   },
   {
    "duration": 33,
    "start_time": "2024-06-16T21:26:02.785Z"
   },
   {
    "duration": 22,
    "start_time": "2024-06-16T21:26:02.819Z"
   },
   {
    "duration": 222,
    "start_time": "2024-06-16T21:26:02.843Z"
   },
   {
    "duration": 193,
    "start_time": "2024-06-16T21:26:03.066Z"
   },
   {
    "duration": 211,
    "start_time": "2024-06-16T21:26:03.261Z"
   },
   {
    "duration": 4,
    "start_time": "2024-06-16T21:26:03.474Z"
   },
   {
    "duration": 16,
    "start_time": "2024-06-16T21:26:03.481Z"
   },
   {
    "duration": 28,
    "start_time": "2024-06-16T21:26:03.500Z"
   },
   {
    "duration": 1424,
    "start_time": "2024-06-16T21:26:03.530Z"
   },
   {
    "duration": 1371,
    "start_time": "2024-06-16T21:26:04.957Z"
   },
   {
    "duration": 1371,
    "start_time": "2024-06-16T21:26:06.330Z"
   }
  ],
  "kernelspec": {
   "display_name": "Python 3 (ipykernel)",
   "language": "python",
   "name": "python3"
  },
  "language_info": {
   "codemirror_mode": {
    "name": "ipython",
    "version": 3
   },
   "file_extension": ".py",
   "mimetype": "text/x-python",
   "name": "python",
   "nbconvert_exporter": "python",
   "pygments_lexer": "ipython3",
   "version": "3.12.7"
  },
  "toc": {
   "base_numbering": 1,
   "nav_menu": {},
   "number_sections": true,
   "sideBar": true,
   "skip_h1_title": true,
   "title_cell": "Table of Contents",
   "title_sidebar": "Contents",
   "toc_cell": false,
   "toc_position": {
    "height": "calc(100% - 180px)",
    "left": "10px",
    "top": "150px",
    "width": "165px"
   },
   "toc_section_display": true,
   "toc_window_display": true
  }
 },
 "nbformat": 4,
 "nbformat_minor": 4
}
